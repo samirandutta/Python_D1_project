{
 "cells": [
  {
   "cell_type": "code",
   "execution_count": 37,
   "id": "b1cf77bd-c89d-41f3-a3f2-d9b2e6a0c2ed",
   "metadata": {
    "tags": []
   },
   "outputs": [],
   "source": [
    "%matplotlib inline\n",
    "# Author: Samiran Dutta\n",
    "# Date: 28.02.25\n",
    "\n",
    "# This code replicates the model in 'Labor Market Power' by Berger et al. (2022)\n",
    "# ..with new model visualisations (not in the original paper) + simple OLS estimation of how wage markdown affects wages from model generated data\n",
    "# Research question: How do labor market imperfections affect wages? In particular, what are the origins and role of labor monopsony power in determining wages? "
   ]
  },
  {
   "cell_type": "markdown",
   "id": "c21f706d",
   "metadata": {},
   "source": [
    "## Packages"
   ]
  },
  {
   "cell_type": "code",
   "execution_count": 29,
   "id": "a1d8156c-9ea0-47ee-bd9b-1630a06b8b06",
   "metadata": {},
   "outputs": [
    {
     "name": "stdout",
     "output_type": "stream",
     "text": [
      "Imports completed.\n"
     ]
    }
   ],
   "source": [
    "import numpy as np\n",
    "from scipy.stats import pareto\n",
    "import math\n",
    "\n",
    "# Use JupyterDash for inline dashboards\n",
    "from jupyter_dash import JupyterDash\n",
    "from dash import dcc, html\n",
    "from dash.dependencies import Input, Output\n",
    "from plotly.subplots import make_subplots\n",
    "import plotly.graph_objects as go\n",
    "\n",
    "print(\"Imports completed.\")"
   ]
  },
  {
   "cell_type": "markdown",
   "id": "6d5c87aa",
   "metadata": {},
   "source": [
    "## Functions"
   ]
  },
  {
   "cell_type": "markdown",
   "id": "0fc323f3",
   "metadata": {},
   "source": [
    "### 1. Define Parameters"
   ]
  },
  {
   "cell_type": "code",
   "execution_count": 30,
   "id": "9b3d3a8b",
   "metadata": {},
   "outputs": [],
   "source": [
    "# ----------------------------------------------------------------------------------------------------------------------------------------------------------------------------------------------------------------------------------------------\n",
    "# Set parameters \n",
    "# ----------------------------------------------------------------------------------------------------------------------------------------------------------------------------------------------------------------------------------------------\n",
    "def set_par(phi=0.50, alpha=0.987, beta=1/1.04, delta=0.1, eta=3.74, theta=0.76,\n",
    "            J=1000, min_ij=1, max_ij=100, upsilon=0.20, gamma=0.818):\n",
    "    R = (1/beta) - 1 + delta  # equilibrium capital steady‐state condition\n",
    "    return {\"phi\": phi, \"alpha\": alpha, \"beta\": beta, \"delta\": delta,\n",
    "            \"eta\": eta, \"theta\": theta, \"R\": R, \"J\": J,\n",
    "            \"min_ij\": min_ij, \"max_ij\": max_ij, \"upsilon\": upsilon, \"gamma\": gamma}"
   ]
  },
  {
   "cell_type": "markdown",
   "id": "ee6f05d0",
   "metadata": {},
   "source": [
    "### 2. Generate Number of Firms (for all i in each j = 1,...,J)"
   ]
  },
  {
   "cell_type": "code",
   "execution_count": 31,
   "id": "d935b30f-f64f-4e38-b3aa-b657e9d2a5cf",
   "metadata": {},
   "outputs": [],
   "source": [
    "# ----------------------------------------------------------------------------------------------------------------------------------------------------------------------------------------------------------------------------------------------\n",
    "# Generate number of firms in each market \n",
    "# ----------------------------------------------------------------------------------------------------------------------------------------------------------------------------------------------------------------------------------------------\n",
    "def gen_firms(params):\n",
    "    J = params[\"J\"]\n",
    "    max_ij = params[\"max_ij\"]\n",
    "    Mj = np.zeros(J, dtype=int)\n",
    "    prob_1_firm = 0.15  # 15% of markets have exactly 1 firm\n",
    "    shape = 0.67\n",
    "    scale = 5.7\n",
    "    location = 2\n",
    "    for j in range(J):\n",
    "        if np.random.rand() < prob_1_firm:\n",
    "            Mj[j] = 1\n",
    "        else:\n",
    "            # draw from a Pareto and shift by location; then take ceiling\n",
    "            sample = math.ceil(pareto.rvs(shape, scale=scale) + location)\n",
    "            Mj[j] = int(min(max_ij, max(1, sample)))\n",
    "    Mj_max = Mj.max()\n",
    "    return Mj, Mj_max"
   ]
  },
  {
   "cell_type": "markdown",
   "id": "b8731a9e",
   "metadata": {},
   "source": [
    "### 3. Generate Firm-level Productivity; drawn from a Pareto Distribution"
   ]
  },
  {
   "cell_type": "code",
   "execution_count": 32,
   "id": "f9e3dfd5",
   "metadata": {},
   "outputs": [],
   "source": [
    "# ----------------------------------------------------------------------------------------------------------------------------------------------------------------------------------------------------------------------------------------------\n",
    "# Generate firm-level productivities \n",
    "# ----------------------------------------------------------------------------------------------------------------------------------------------------------------------------------------------------------------------------------------------\n",
    "def gen_productivity(params):\n",
    "    J = params[\"J\"]\n",
    "    gamma = params[\"gamma\"]\n",
    "    alpha = params[\"alpha\"]\n",
    "    R = params[\"R\"]\n",
    "    Mj, Mj_max = gen_firms(params)\n",
    "    \n",
    "    # Initialize arrays (shape: (Mj_max, J))\n",
    "    z_ij_notilde = np.zeros((Mj_max, J))\n",
    "    z_ij = np.zeros((Mj_max, J))\n",
    "    xi = 0.5  # standard deviation for the underlying normal\n",
    "\n",
    "    # Use np.random.lognormal (mean and sigma are for the underlying normal)\n",
    "    for j in range(J):\n",
    "        m = Mj[j]\n",
    "        if m > 0:\n",
    "            z_ij_notilde[:m, j] = np.random.lognormal(mean=1, sigma=xi, size=m)\n",
    "    \n",
    "    # Compute the scaling factor and adjust productivity draws\n",
    "    factor = (1 - (1 - gamma)*alpha) * ((alpha*(1-gamma))/R)**((alpha*(1-gamma))/(1 - alpha*(1-gamma)))\n",
    "    z_ij = factor * np.power(z_ij_notilde, 1/(1 - alpha*(1-gamma)))\n",
    "    \n",
    "    return {\"Mj\": Mj, \"Mj_max\": Mj_max, \"z_ij\": z_ij, \"z_ij_notilde\": z_ij_notilde}"
   ]
  },
  {
   "cell_type": "markdown",
   "id": "b9373981",
   "metadata": {},
   "source": [
    "### 4. Steady-State Model (Wage-Bill Share Convergence) "
   ]
  },
  {
   "cell_type": "code",
   "execution_count": 33,
   "id": "465297ea",
   "metadata": {},
   "outputs": [
    {
     "name": "stdout",
     "output_type": "stream",
     "text": [
      "Function definitions loaded.\n"
     ]
    }
   ],
   "source": [
    "# ----------------------------------------------------------------------------------------------------------------------------------------------------------------------------------------------------------------------------------------------\n",
    "# Solve the model \n",
    "# ----------------------------------------------------------------------------------------------------------------------------------------------------------------------------------------------------------------------------------------------\n",
    "def sect_eqlib(params):\n",
    "    alpha = params[\"alpha\"]\n",
    "    beta = params[\"beta\"]\n",
    "    R = params[\"R\"]\n",
    "    eta = params[\"eta\"]\n",
    "    theta = params[\"theta\"]\n",
    "    J = params[\"J\"]\n",
    "    upsilon = params[\"upsilon\"]\n",
    "    phi = params[\"phi\"]\n",
    "    gamma = params[\"gamma\"]\n",
    "    \n",
    "    prod = gen_productivity(params)\n",
    "    Mj = prod[\"Mj\"]\n",
    "    Mj_max = prod[\"Mj_max\"]\n",
    "    z_ij = prod[\"z_ij\"]\n",
    "    z_ij_notilde = prod[\"z_ij_notilde\"]\n",
    "    \n",
    "    # Initialize matrices for wages, markdown, shares, and labor elasticity.\n",
    "    what_ij = np.zeros((Mj_max, J))\n",
    "    mu_ij   = np.zeros((Mj_max, J))\n",
    "    s_ij    = np.zeros((Mj_max, J))\n",
    "    eps_ij  = np.zeros((Mj_max, J))\n",
    "    \n",
    "    max_iter = 1000\n",
    "    alpha_tilde = 0.984\n",
    "    \n",
    "    for j in range(J):\n",
    "        m = Mj[j]\n",
    "        if m == 0:\n",
    "            continue\n",
    "        z_i = z_ij[:m, j]\n",
    "        w_i = np.zeros(m)\n",
    "        mu_i = np.zeros(m)\n",
    "        eps_i = np.zeros(m)\n",
    "        # initial guess for shares: proportional to productivity\n",
    "        s_i = z_i / np.sum(z_i)\n",
    "        iter_count = 0\n",
    "        while iter_count <= max_iter:\n",
    "            iter_count += 1\n",
    "            eps_i = 1.0 / (s_i/theta + (1 - s_i)/eta)\n",
    "            mu_i = eps_i / (eps_i + 1)\n",
    "            a1 = 1.0 / (1 + (1 - alpha_tilde)*theta)\n",
    "            a2 = -(1 - alpha_tilde)*(eta - theta) / (eta + 1)\n",
    "            w_i = np.power(mu_i * alpha_tilde * z_i * np.power(s_i, a2), a1)\n",
    "            W_j = np.power(np.sum(np.power(w_i, eta+1)), 1/(eta+1))\n",
    "            s_i_new = np.power(w_i / W_j, eta+1)\n",
    "            dist_S = np.max(np.abs(s_i_new - s_i))\n",
    "            if dist_S < 1e-5:\n",
    "                print(f\"Market {j+1}: Shares converged in {iter_count} iterations! Max. difference = {dist_S:.2e}\")\n",
    "                break\n",
    "            s_i = upsilon * s_i_new + (1 - upsilon) * s_i\n",
    "            s_i = s_i / np.sum(s_i)\n",
    "        # Store market-specific results into the full matrices\n",
    "        what_ij[:m, j] = w_i\n",
    "        mu_ij[:m, j]   = mu_i\n",
    "        s_ij[:m, j]    = s_i\n",
    "        eps_ij[:m, j]  = eps_i\n",
    "\n",
    "    # Compute sectoral wage indices\n",
    "    what_j = np.array([np.power(np.sum(np.power(what_ij[:Mj[j], j], eta+1)), 1/(eta+1)) for j in range(J)])\n",
    "    What = np.power(np.sum(np.power(what_j, eta+1)), 1/(eta+1))\n",
    "    \n",
    "    # Compute nhat_ij with appropriate broadcasting\n",
    "    nhat_ij = np.power(what_ij / what_j[None, :], eta) * np.power(what_j / What, theta)[None, :] * (What**phi)\n",
    "    \n",
    "    AveFirmSizehat_model = np.sum(nhat_ij) / np.sum(Mj)\n",
    "    AveEarningshat_model = np.sum(what_ij * nhat_ij) / np.sum(nhat_ij)\n",
    "    \n",
    "    # Data targets\n",
    "    AveFirmSize_data = 10\n",
    "    AveEarnings_data = 65000\n",
    "    \n",
    "    phi_tilde = (AveFirmSize_data / AveFirmSizehat_model) / ((AveEarnings_data / AveEarningshat_model)**phi)\n",
    "    Z_tilde = (phi_tilde**(1 - alpha_tilde)) * ((AveEarnings_data / AveEarningshat_model)**(1 + (1 - alpha_tilde)*phi)) \\\n",
    "              * (What** (-(1 - alpha_tilde)*(theta - phi)))\n",
    "    \n",
    "    # Scale up objects\n",
    "    omega = Z_tilde / (phi_tilde**(1 - alpha))\n",
    "    W = np.power(omega, 1/(1+(1-alpha)*phi)) * np.power(What, (1+(1-alpha)*theta)/(1+(1-alpha)*phi))\n",
    "    w_ij = np.power(omega, 1/(1+(1-alpha)*theta)) * np.power(W, ((1-alpha)*(theta-phi))/(1+(1-alpha)*theta)) * what_ij\n",
    "    w_j = np.array([np.power(np.sum(np.power(w_ij[:Mj[j], j], eta+1)), 1/(eta+1)) for j in range(J)])\n",
    "    n_ij = phi_tilde * np.power(w_ij / w_j[None, :], eta) * np.power(w_j / W, theta)[None, :] * (W**phi)\n",
    "    n_j = np.array([np.power(np.sum(np.power(n_ij[:Mj[j], j], (eta+1)/eta)), eta/(eta+1)) for j in range(J)])\n",
    "    N = np.power(np.sum(np.power(n_j, (theta+1)/theta)), theta/(theta+1))\n",
    "    lshare_ij = alpha_tilde * mu_ij\n",
    "    Z_bar = Z_tilde**(1 - (1-gamma)*alpha)\n",
    "    k_ij = np.power(((1 - gamma) * alpha * z_ij * Z_bar / R), 1/(1 - (1-gamma)*alpha)) \\\n",
    "           * np.power(n_ij, (gamma * alpha)/(1 - (1-gamma)*alpha))\n",
    "    y_ij = Z_bar * z_ij_notilde * np.power(np.power(k_ij, 1-gamma) * np.power(n_ij, gamma), alpha)\n",
    "    pi_ij = y_ij - w_ij * n_ij - R * k_ij\n",
    "\n",
    "    AveFirmSizehat_model = np.sum(n_ij) / np.sum(Mj)\n",
    "    AveEarningshat_model = np.sum(w_ij * n_ij) / np.sum(n_ij)\n",
    "    print(f\"Equilibrium computation completed for all {J} markets!\")\n",
    "    \n",
    "    return {\"Z_bar\": Z_bar, \"pi_ij\": pi_ij, \"z_ij\": z_ij, \"y_ij\": y_ij, \"w_ij\": w_ij,\n",
    "            \"n_ij\": n_ij, \"k_ij\": k_ij, \"s_ij\": s_ij, \"mu_ij\": mu_ij, \"eps_ij\": eps_ij,\n",
    "            \"lshare_ij\": lshare_ij, \"Mj\": Mj, \"N\": N,\n",
    "            \"AveFirmSizehat_model\": AveFirmSizehat_model, \"AveEarningshat_model\": AveEarningshat_model}\n",
    "\n",
    "print(\"Function definitions loaded.\")"
   ]
  },
  {
   "cell_type": "markdown",
   "id": "89e30a85",
   "metadata": {},
   "source": [
    "## Run Simulation "
   ]
  },
  {
   "cell_type": "code",
   "execution_count": 34,
   "id": "2667308a-d728-4a45-8dd2-b0f35940e3a2",
   "metadata": {},
   "outputs": [
    {
     "name": "stdout",
     "output_type": "stream",
     "text": [
      "Market 1: Shares converged in 40 iterations! Max. difference = 8.85e-06\n",
      "Market 2: Shares converged in 38 iterations! Max. difference = 8.86e-06\n",
      "Market 3: Shares converged in 38 iterations! Max. difference = 9.87e-06\n",
      "Market 4: Shares converged in 37 iterations! Max. difference = 8.71e-06\n",
      "Market 5: Shares converged in 38 iterations! Max. difference = 8.99e-06\n",
      "Market 6: Shares converged in 36 iterations! Max. difference = 8.57e-06\n",
      "Market 7: Shares converged in 37 iterations! Max. difference = 8.65e-06\n",
      "Market 8: Shares converged in 1 iterations! Max. difference = 0.00e+00\n",
      "Market 9: Shares converged in 1 iterations! Max. difference = 0.00e+00\n",
      "Market 10: Shares converged in 37 iterations! Max. difference = 9.32e-06\n",
      "Market 11: Shares converged in 38 iterations! Max. difference = 8.09e-06\n",
      "Market 12: Shares converged in 36 iterations! Max. difference = 9.59e-06\n",
      "Market 13: Shares converged in 39 iterations! Max. difference = 9.17e-06\n",
      "Market 14: Shares converged in 37 iterations! Max. difference = 9.15e-06\n",
      "Market 15: Shares converged in 39 iterations! Max. difference = 8.14e-06\n",
      "Market 16: Shares converged in 39 iterations! Max. difference = 8.19e-06\n",
      "Market 17: Shares converged in 38 iterations! Max. difference = 8.29e-06\n",
      "Market 18: Shares converged in 37 iterations! Max. difference = 8.86e-06\n",
      "Market 19: Shares converged in 1 iterations! Max. difference = 0.00e+00\n",
      "Market 20: Shares converged in 37 iterations! Max. difference = 7.94e-06\n",
      "Market 21: Shares converged in 38 iterations! Max. difference = 8.02e-06\n",
      "Market 22: Shares converged in 39 iterations! Max. difference = 9.60e-06\n",
      "Market 23: Shares converged in 38 iterations! Max. difference = 8.60e-06\n",
      "Market 24: Shares converged in 1 iterations! Max. difference = 0.00e+00\n",
      "Market 25: Shares converged in 1 iterations! Max. difference = 0.00e+00\n",
      "Market 26: Shares converged in 36 iterations! Max. difference = 8.63e-06\n",
      "Market 27: Shares converged in 37 iterations! Max. difference = 7.84e-06\n",
      "Market 28: Shares converged in 38 iterations! Max. difference = 8.76e-06\n",
      "Market 29: Shares converged in 39 iterations! Max. difference = 7.92e-06\n",
      "Market 30: Shares converged in 40 iterations! Max. difference = 8.31e-06\n",
      "Market 31: Shares converged in 36 iterations! Max. difference = 9.22e-06\n",
      "Market 32: Shares converged in 38 iterations! Max. difference = 8.80e-06\n",
      "Market 33: Shares converged in 37 iterations! Max. difference = 7.99e-06\n",
      "Market 34: Shares converged in 39 iterations! Max. difference = 7.90e-06\n",
      "Market 35: Shares converged in 39 iterations! Max. difference = 8.15e-06\n",
      "Market 36: Shares converged in 37 iterations! Max. difference = 9.50e-06\n",
      "Market 37: Shares converged in 39 iterations! Max. difference = 8.25e-06\n",
      "Market 38: Shares converged in 38 iterations! Max. difference = 8.95e-06\n",
      "Market 39: Shares converged in 38 iterations! Max. difference = 9.26e-06\n",
      "Market 40: Shares converged in 37 iterations! Max. difference = 9.83e-06\n",
      "Market 41: Shares converged in 39 iterations! Max. difference = 8.66e-06\n",
      "Market 42: Shares converged in 39 iterations! Max. difference = 8.99e-06\n",
      "Market 43: Shares converged in 39 iterations! Max. difference = 8.88e-06\n",
      "Market 44: Shares converged in 36 iterations! Max. difference = 7.98e-06\n",
      "Market 45: Shares converged in 38 iterations! Max. difference = 9.47e-06\n",
      "Market 46: Shares converged in 1 iterations! Max. difference = 0.00e+00\n",
      "Market 47: Shares converged in 38 iterations! Max. difference = 8.70e-06\n",
      "Market 48: Shares converged in 38 iterations! Max. difference = 8.63e-06\n",
      "Market 49: Shares converged in 35 iterations! Max. difference = 9.03e-06\n",
      "Market 50: Shares converged in 35 iterations! Max. difference = 8.80e-06\n",
      "Market 51: Shares converged in 37 iterations! Max. difference = 9.77e-06\n",
      "Market 52: Shares converged in 39 iterations! Max. difference = 9.34e-06\n",
      "Market 53: Shares converged in 37 iterations! Max. difference = 8.71e-06\n",
      "Market 54: Shares converged in 39 iterations! Max. difference = 9.09e-06\n",
      "Market 55: Shares converged in 41 iterations! Max. difference = 9.57e-06\n",
      "Market 56: Shares converged in 37 iterations! Max. difference = 8.80e-06\n",
      "Market 57: Shares converged in 37 iterations! Max. difference = 8.39e-06\n",
      "Market 58: Shares converged in 35 iterations! Max. difference = 8.88e-06\n",
      "Market 59: Shares converged in 36 iterations! Max. difference = 9.66e-06\n",
      "Market 60: Shares converged in 39 iterations! Max. difference = 8.38e-06\n",
      "Market 61: Shares converged in 37 iterations! Max. difference = 8.05e-06\n",
      "Market 62: Shares converged in 36 iterations! Max. difference = 9.39e-06\n",
      "Market 63: Shares converged in 36 iterations! Max. difference = 9.81e-06\n",
      "Market 64: Shares converged in 38 iterations! Max. difference = 8.18e-06\n",
      "Market 65: Shares converged in 37 iterations! Max. difference = 8.06e-06\n",
      "Market 66: Shares converged in 36 iterations! Max. difference = 7.92e-06\n",
      "Market 67: Shares converged in 38 iterations! Max. difference = 9.56e-06\n",
      "Market 68: Shares converged in 37 iterations! Max. difference = 8.45e-06\n",
      "Market 69: Shares converged in 41 iterations! Max. difference = 7.96e-06\n",
      "Market 70: Shares converged in 42 iterations! Max. difference = 8.00e-06\n",
      "Market 71: Shares converged in 36 iterations! Max. difference = 8.39e-06\n",
      "Market 72: Shares converged in 1 iterations! Max. difference = 0.00e+00\n",
      "Market 73: Shares converged in 36 iterations! Max. difference = 1.00e-05\n",
      "Market 74: Shares converged in 37 iterations! Max. difference = 9.67e-06\n",
      "Market 75: Shares converged in 1 iterations! Max. difference = 0.00e+00\n",
      "Market 76: Shares converged in 38 iterations! Max. difference = 9.25e-06\n",
      "Market 77: Shares converged in 36 iterations! Max. difference = 9.78e-06\n",
      "Market 78: Shares converged in 37 iterations! Max. difference = 8.40e-06\n",
      "Market 79: Shares converged in 1 iterations! Max. difference = 0.00e+00\n",
      "Market 80: Shares converged in 1 iterations! Max. difference = 0.00e+00\n",
      "Market 81: Shares converged in 38 iterations! Max. difference = 8.93e-06\n",
      "Market 82: Shares converged in 36 iterations! Max. difference = 8.55e-06\n",
      "Market 83: Shares converged in 37 iterations! Max. difference = 7.93e-06\n",
      "Market 84: Shares converged in 37 iterations! Max. difference = 9.57e-06\n",
      "Market 85: Shares converged in 36 iterations! Max. difference = 8.44e-06\n",
      "Market 86: Shares converged in 37 iterations! Max. difference = 8.85e-06\n",
      "Market 87: Shares converged in 1 iterations! Max. difference = 1.11e-15\n",
      "Market 88: Shares converged in 37 iterations! Max. difference = 8.20e-06\n",
      "Market 89: Shares converged in 1 iterations! Max. difference = 0.00e+00\n",
      "Market 90: Shares converged in 39 iterations! Max. difference = 8.80e-06\n",
      "Market 91: Shares converged in 38 iterations! Max. difference = 8.33e-06\n",
      "Market 92: Shares converged in 39 iterations! Max. difference = 8.25e-06\n",
      "Market 93: Shares converged in 37 iterations! Max. difference = 8.68e-06\n",
      "Market 94: Shares converged in 40 iterations! Max. difference = 9.16e-06\n",
      "Market 95: Shares converged in 39 iterations! Max. difference = 9.45e-06\n",
      "Market 96: Shares converged in 1 iterations! Max. difference = 0.00e+00\n",
      "Market 97: Shares converged in 36 iterations! Max. difference = 9.69e-06\n",
      "Market 98: Shares converged in 38 iterations! Max. difference = 8.41e-06\n",
      "Market 99: Shares converged in 37 iterations! Max. difference = 9.38e-06\n",
      "Market 100: Shares converged in 35 iterations! Max. difference = 8.05e-06\n",
      "Market 101: Shares converged in 35 iterations! Max. difference = 8.37e-06\n",
      "Market 102: Shares converged in 38 iterations! Max. difference = 9.34e-06\n",
      "Market 103: Shares converged in 1 iterations! Max. difference = 0.00e+00\n",
      "Market 104: Shares converged in 39 iterations! Max. difference = 8.01e-06\n",
      "Market 105: Shares converged in 38 iterations! Max. difference = 8.37e-06\n",
      "Market 106: Shares converged in 38 iterations! Max. difference = 8.89e-06\n",
      "Market 107: Shares converged in 38 iterations! Max. difference = 8.81e-06\n",
      "Market 108: Shares converged in 37 iterations! Max. difference = 9.79e-06\n",
      "Market 109: Shares converged in 38 iterations! Max. difference = 9.63e-06\n",
      "Market 110: Shares converged in 1 iterations! Max. difference = 0.00e+00\n",
      "Market 111: Shares converged in 37 iterations! Max. difference = 7.88e-06\n",
      "Market 112: Shares converged in 1 iterations! Max. difference = 0.00e+00\n",
      "Market 113: Shares converged in 38 iterations! Max. difference = 8.21e-06\n",
      "Market 114: Shares converged in 41 iterations! Max. difference = 8.69e-06\n",
      "Market 115: Shares converged in 41 iterations! Max. difference = 9.71e-06\n",
      "Market 116: Shares converged in 36 iterations! Max. difference = 9.87e-06\n",
      "Market 117: Shares converged in 37 iterations! Max. difference = 8.22e-06\n",
      "Market 118: Shares converged in 38 iterations! Max. difference = 8.11e-06\n",
      "Market 119: Shares converged in 39 iterations! Max. difference = 8.16e-06\n",
      "Market 120: Shares converged in 34 iterations! Max. difference = 8.53e-06\n",
      "Market 121: Shares converged in 36 iterations! Max. difference = 8.46e-06\n",
      "Market 122: Shares converged in 39 iterations! Max. difference = 9.13e-06\n",
      "Market 123: Shares converged in 42 iterations! Max. difference = 9.96e-06\n",
      "Market 124: Shares converged in 36 iterations! Max. difference = 9.51e-06\n",
      "Market 125: Shares converged in 37 iterations! Max. difference = 9.02e-06\n",
      "Market 126: Shares converged in 43 iterations! Max. difference = 9.46e-06\n",
      "Market 127: Shares converged in 37 iterations! Max. difference = 8.98e-06\n",
      "Market 128: Shares converged in 38 iterations! Max. difference = 8.37e-06\n",
      "Market 129: Shares converged in 39 iterations! Max. difference = 7.92e-06\n",
      "Market 130: Shares converged in 38 iterations! Max. difference = 8.36e-06\n",
      "Market 131: Shares converged in 37 iterations! Max. difference = 9.26e-06\n",
      "Market 132: Shares converged in 35 iterations! Max. difference = 8.59e-06\n",
      "Market 133: Shares converged in 39 iterations! Max. difference = 9.54e-06\n",
      "Market 134: Shares converged in 37 iterations! Max. difference = 9.05e-06\n",
      "Market 135: Shares converged in 36 iterations! Max. difference = 7.86e-06\n",
      "Market 136: Shares converged in 38 iterations! Max. difference = 7.98e-06\n",
      "Market 137: Shares converged in 38 iterations! Max. difference = 8.67e-06\n",
      "Market 138: Shares converged in 39 iterations! Max. difference = 8.22e-06\n",
      "Market 139: Shares converged in 37 iterations! Max. difference = 9.11e-06\n",
      "Market 140: Shares converged in 38 iterations! Max. difference = 8.49e-06\n",
      "Market 141: Shares converged in 37 iterations! Max. difference = 8.60e-06\n",
      "Market 142: Shares converged in 36 iterations! Max. difference = 9.33e-06\n",
      "Market 143: Shares converged in 1 iterations! Max. difference = 0.00e+00\n",
      "Market 144: Shares converged in 1 iterations! Max. difference = 0.00e+00\n",
      "Market 145: Shares converged in 36 iterations! Max. difference = 7.74e-06\n",
      "Market 146: Shares converged in 40 iterations! Max. difference = 9.66e-06\n",
      "Market 147: Shares converged in 37 iterations! Max. difference = 9.32e-06\n",
      "Market 148: Shares converged in 34 iterations! Max. difference = 9.54e-06\n",
      "Market 149: Shares converged in 37 iterations! Max. difference = 9.27e-06\n",
      "Market 150: Shares converged in 39 iterations! Max. difference = 8.65e-06\n",
      "Market 151: Shares converged in 38 iterations! Max. difference = 9.28e-06\n",
      "Market 152: Shares converged in 38 iterations! Max. difference = 9.31e-06\n",
      "Market 153: Shares converged in 34 iterations! Max. difference = 9.41e-06\n",
      "Market 154: Shares converged in 1 iterations! Max. difference = 0.00e+00\n",
      "Market 155: Shares converged in 36 iterations! Max. difference = 9.54e-06\n",
      "Market 156: Shares converged in 38 iterations! Max. difference = 8.08e-06\n",
      "Market 157: Shares converged in 37 iterations! Max. difference = 8.00e-06\n",
      "Market 158: Shares converged in 37 iterations! Max. difference = 8.03e-06\n",
      "Market 159: Shares converged in 38 iterations! Max. difference = 7.87e-06\n",
      "Market 160: Shares converged in 37 iterations! Max. difference = 7.93e-06\n",
      "Market 161: Shares converged in 39 iterations! Max. difference = 7.95e-06\n",
      "Market 162: Shares converged in 1 iterations! Max. difference = 0.00e+00\n",
      "Market 163: Shares converged in 39 iterations! Max. difference = 9.24e-06\n",
      "Market 164: Shares converged in 38 iterations! Max. difference = 1.00e-05\n",
      "Market 165: Shares converged in 37 iterations! Max. difference = 9.76e-06\n",
      "Market 166: Shares converged in 37 iterations! Max. difference = 9.17e-06\n",
      "Market 167: Shares converged in 37 iterations! Max. difference = 8.51e-06\n",
      "Market 168: Shares converged in 38 iterations! Max. difference = 8.58e-06\n",
      "Market 169: Shares converged in 36 iterations! Max. difference = 7.92e-06\n",
      "Market 170: Shares converged in 1 iterations! Max. difference = 0.00e+00\n",
      "Market 171: Shares converged in 39 iterations! Max. difference = 7.83e-06\n",
      "Market 172: Shares converged in 36 iterations! Max. difference = 9.05e-06\n",
      "Market 173: Shares converged in 39 iterations! Max. difference = 8.19e-06\n",
      "Market 174: Shares converged in 38 iterations! Max. difference = 7.97e-06\n",
      "Market 175: Shares converged in 41 iterations! Max. difference = 8.45e-06\n",
      "Market 176: Shares converged in 37 iterations! Max. difference = 8.19e-06\n",
      "Market 177: Shares converged in 39 iterations! Max. difference = 9.26e-06\n",
      "Market 178: Shares converged in 36 iterations! Max. difference = 9.96e-06\n",
      "Market 179: Shares converged in 36 iterations! Max. difference = 8.62e-06\n",
      "Market 180: Shares converged in 39 iterations! Max. difference = 8.52e-06\n",
      "Market 181: Shares converged in 1 iterations! Max. difference = 0.00e+00\n",
      "Market 182: Shares converged in 40 iterations! Max. difference = 8.67e-06\n",
      "Market 183: Shares converged in 38 iterations! Max. difference = 9.32e-06\n",
      "Market 184: Shares converged in 36 iterations! Max. difference = 9.73e-06\n",
      "Market 185: Shares converged in 38 iterations! Max. difference = 8.23e-06\n",
      "Market 186: Shares converged in 35 iterations! Max. difference = 9.81e-06\n",
      "Market 187: Shares converged in 38 iterations! Max. difference = 9.52e-06\n",
      "Market 188: Shares converged in 37 iterations! Max. difference = 8.97e-06\n",
      "Market 189: Shares converged in 36 iterations! Max. difference = 8.41e-06\n",
      "Market 190: Shares converged in 35 iterations! Max. difference = 8.82e-06\n",
      "Market 191: Shares converged in 37 iterations! Max. difference = 8.65e-06\n",
      "Market 192: Shares converged in 38 iterations! Max. difference = 8.15e-06\n",
      "Market 193: Shares converged in 1 iterations! Max. difference = 0.00e+00\n",
      "Market 194: Shares converged in 37 iterations! Max. difference = 8.86e-06\n",
      "Market 195: Shares converged in 38 iterations! Max. difference = 8.63e-06\n",
      "Market 196: Shares converged in 38 iterations! Max. difference = 9.52e-06\n",
      "Market 197: Shares converged in 44 iterations! Max. difference = 8.83e-06\n",
      "Market 198: Shares converged in 1 iterations! Max. difference = 0.00e+00\n",
      "Market 199: Shares converged in 37 iterations! Max. difference = 8.94e-06\n",
      "Market 200: Shares converged in 38 iterations! Max. difference = 8.21e-06\n",
      "Market 201: Shares converged in 36 iterations! Max. difference = 8.84e-06\n",
      "Market 202: Shares converged in 36 iterations! Max. difference = 9.63e-06\n",
      "Market 203: Shares converged in 36 iterations! Max. difference = 7.88e-06\n",
      "Market 204: Shares converged in 1 iterations! Max. difference = 0.00e+00\n",
      "Market 205: Shares converged in 36 iterations! Max. difference = 8.83e-06\n",
      "Market 206: Shares converged in 39 iterations! Max. difference = 8.33e-06\n",
      "Market 207: Shares converged in 38 iterations! Max. difference = 9.59e-06\n",
      "Market 208: Shares converged in 37 iterations! Max. difference = 8.31e-06\n",
      "Market 209: Shares converged in 38 iterations! Max. difference = 8.08e-06\n",
      "Market 210: Shares converged in 36 iterations! Max. difference = 7.80e-06\n",
      "Market 211: Shares converged in 40 iterations! Max. difference = 8.27e-06\n",
      "Market 212: Shares converged in 37 iterations! Max. difference = 7.95e-06\n",
      "Market 213: Shares converged in 40 iterations! Max. difference = 8.26e-06\n",
      "Market 214: Shares converged in 38 iterations! Max. difference = 9.62e-06\n",
      "Market 215: Shares converged in 37 iterations! Max. difference = 9.57e-06\n",
      "Market 216: Shares converged in 37 iterations! Max. difference = 7.83e-06\n",
      "Market 217: Shares converged in 36 iterations! Max. difference = 9.92e-06\n",
      "Market 218: Shares converged in 38 iterations! Max. difference = 9.10e-06\n",
      "Market 219: Shares converged in 37 iterations! Max. difference = 8.86e-06\n",
      "Market 220: Shares converged in 38 iterations! Max. difference = 9.05e-06\n",
      "Market 221: Shares converged in 1 iterations! Max. difference = 0.00e+00\n",
      "Market 222: Shares converged in 36 iterations! Max. difference = 8.93e-06\n",
      "Market 223: Shares converged in 38 iterations! Max. difference = 7.98e-06\n",
      "Market 224: Shares converged in 1 iterations! Max. difference = 0.00e+00\n",
      "Market 225: Shares converged in 39 iterations! Max. difference = 7.79e-06\n",
      "Market 226: Shares converged in 37 iterations! Max. difference = 7.93e-06\n",
      "Market 227: Shares converged in 37 iterations! Max. difference = 9.36e-06\n",
      "Market 228: Shares converged in 38 iterations! Max. difference = 8.73e-06\n",
      "Market 229: Shares converged in 38 iterations! Max. difference = 7.86e-06\n",
      "Market 230: Shares converged in 38 iterations! Max. difference = 7.89e-06\n",
      "Market 231: Shares converged in 36 iterations! Max. difference = 9.06e-06\n",
      "Market 232: Shares converged in 1 iterations! Max. difference = 0.00e+00\n",
      "Market 233: Shares converged in 37 iterations! Max. difference = 8.64e-06\n",
      "Market 234: Shares converged in 1 iterations! Max. difference = 0.00e+00\n",
      "Market 235: Shares converged in 40 iterations! Max. difference = 9.58e-06\n",
      "Market 236: Shares converged in 39 iterations! Max. difference = 9.22e-06\n",
      "Market 237: Shares converged in 37 iterations! Max. difference = 8.21e-06\n",
      "Market 238: Shares converged in 36 iterations! Max. difference = 9.36e-06\n",
      "Market 239: Shares converged in 36 iterations! Max. difference = 9.37e-06\n",
      "Market 240: Shares converged in 37 iterations! Max. difference = 8.78e-06\n",
      "Market 241: Shares converged in 36 iterations! Max. difference = 9.26e-06\n",
      "Market 242: Shares converged in 39 iterations! Max. difference = 8.90e-06\n",
      "Market 243: Shares converged in 37 iterations! Max. difference = 8.43e-06\n",
      "Market 244: Shares converged in 1 iterations! Max. difference = 0.00e+00\n",
      "Market 245: Shares converged in 1 iterations! Max. difference = 0.00e+00\n",
      "Market 246: Shares converged in 38 iterations! Max. difference = 9.06e-06\n",
      "Market 247: Shares converged in 1 iterations! Max. difference = 0.00e+00\n",
      "Market 248: Shares converged in 1 iterations! Max. difference = 1.11e-15\n",
      "Market 249: Shares converged in 41 iterations! Max. difference = 8.59e-06\n",
      "Market 250: Shares converged in 35 iterations! Max. difference = 8.92e-06\n",
      "Market 251: Shares converged in 41 iterations! Max. difference = 8.06e-06\n",
      "Market 252: Shares converged in 1 iterations! Max. difference = 0.00e+00\n",
      "Market 253: Shares converged in 1 iterations! Max. difference = 0.00e+00\n",
      "Market 254: Shares converged in 37 iterations! Max. difference = 9.53e-06\n",
      "Market 255: Shares converged in 35 iterations! Max. difference = 9.31e-06\n",
      "Market 256: Shares converged in 38 iterations! Max. difference = 8.30e-06\n",
      "Market 257: Shares converged in 39 iterations! Max. difference = 8.59e-06\n",
      "Market 258: Shares converged in 38 iterations! Max. difference = 7.80e-06\n",
      "Market 259: Shares converged in 1 iterations! Max. difference = 0.00e+00\n",
      "Market 260: Shares converged in 35 iterations! Max. difference = 9.09e-06\n",
      "Market 261: Shares converged in 39 iterations! Max. difference = 8.94e-06\n",
      "Market 262: Shares converged in 1 iterations! Max. difference = 0.00e+00\n",
      "Market 263: Shares converged in 38 iterations! Max. difference = 8.35e-06\n",
      "Market 264: Shares converged in 37 iterations! Max. difference = 8.72e-06\n",
      "Market 265: Shares converged in 41 iterations! Max. difference = 9.86e-06\n",
      "Market 266: Shares converged in 40 iterations! Max. difference = 8.70e-06\n",
      "Market 267: Shares converged in 1 iterations! Max. difference = 0.00e+00\n",
      "Market 268: Shares converged in 37 iterations! Max. difference = 8.58e-06\n",
      "Market 269: Shares converged in 38 iterations! Max. difference = 8.23e-06\n",
      "Market 270: Shares converged in 37 iterations! Max. difference = 8.26e-06\n",
      "Market 271: Shares converged in 38 iterations! Max. difference = 9.17e-06\n",
      "Market 272: Shares converged in 37 iterations! Max. difference = 8.12e-06\n",
      "Market 273: Shares converged in 37 iterations! Max. difference = 9.08e-06\n",
      "Market 274: Shares converged in 37 iterations! Max. difference = 8.11e-06\n",
      "Market 275: Shares converged in 43 iterations! Max. difference = 8.79e-06\n",
      "Market 276: Shares converged in 36 iterations! Max. difference = 8.11e-06\n",
      "Market 277: Shares converged in 37 iterations! Max. difference = 8.99e-06\n",
      "Market 278: Shares converged in 39 iterations! Max. difference = 8.72e-06\n",
      "Market 279: Shares converged in 36 iterations! Max. difference = 8.16e-06\n",
      "Market 280: Shares converged in 37 iterations! Max. difference = 9.14e-06\n",
      "Market 281: Shares converged in 38 iterations! Max. difference = 9.82e-06\n",
      "Market 282: Shares converged in 39 iterations! Max. difference = 9.36e-06\n",
      "Market 283: Shares converged in 39 iterations! Max. difference = 9.19e-06\n",
      "Market 284: Shares converged in 40 iterations! Max. difference = 9.84e-06\n",
      "Market 285: Shares converged in 37 iterations! Max. difference = 9.03e-06\n",
      "Market 286: Shares converged in 1 iterations! Max. difference = 0.00e+00\n",
      "Market 287: Shares converged in 37 iterations! Max. difference = 8.88e-06\n",
      "Market 288: Shares converged in 33 iterations! Max. difference = 8.91e-06\n",
      "Market 289: Shares converged in 37 iterations! Max. difference = 8.03e-06\n",
      "Market 290: Shares converged in 38 iterations! Max. difference = 8.10e-06\n",
      "Market 291: Shares converged in 1 iterations! Max. difference = 0.00e+00\n",
      "Market 292: Shares converged in 36 iterations! Max. difference = 8.56e-06\n",
      "Market 293: Shares converged in 1 iterations! Max. difference = 0.00e+00\n",
      "Market 294: Shares converged in 36 iterations! Max. difference = 9.88e-06\n",
      "Market 295: Shares converged in 36 iterations! Max. difference = 9.27e-06\n",
      "Market 296: Shares converged in 39 iterations! Max. difference = 8.23e-06\n",
      "Market 297: Shares converged in 36 iterations! Max. difference = 9.76e-06\n",
      "Market 298: Shares converged in 38 iterations! Max. difference = 7.90e-06\n",
      "Market 299: Shares converged in 35 iterations! Max. difference = 9.99e-06\n",
      "Market 300: Shares converged in 32 iterations! Max. difference = 8.48e-06\n",
      "Market 301: Shares converged in 36 iterations! Max. difference = 8.57e-06\n",
      "Market 302: Shares converged in 37 iterations! Max. difference = 8.64e-06\n",
      "Market 303: Shares converged in 41 iterations! Max. difference = 7.88e-06\n",
      "Market 304: Shares converged in 1 iterations! Max. difference = 0.00e+00\n",
      "Market 305: Shares converged in 38 iterations! Max. difference = 8.42e-06\n",
      "Market 306: Shares converged in 37 iterations! Max. difference = 8.93e-06\n",
      "Market 307: Shares converged in 1 iterations! Max. difference = 0.00e+00\n",
      "Market 308: Shares converged in 37 iterations! Max. difference = 9.83e-06\n",
      "Market 309: Shares converged in 37 iterations! Max. difference = 7.82e-06\n",
      "Market 310: Shares converged in 37 iterations! Max. difference = 9.34e-06\n",
      "Market 311: Shares converged in 1 iterations! Max. difference = 0.00e+00\n",
      "Market 312: Shares converged in 37 iterations! Max. difference = 9.97e-06\n",
      "Market 313: Shares converged in 42 iterations! Max. difference = 7.77e-06\n",
      "Market 314: Shares converged in 37 iterations! Max. difference = 9.39e-06\n",
      "Market 315: Shares converged in 41 iterations! Max. difference = 9.15e-06\n",
      "Market 316: Shares converged in 40 iterations! Max. difference = 8.84e-06\n",
      "Market 317: Shares converged in 39 iterations! Max. difference = 9.15e-06\n",
      "Market 318: Shares converged in 38 iterations! Max. difference = 8.12e-06\n",
      "Market 319: Shares converged in 38 iterations! Max. difference = 8.07e-06\n",
      "Market 320: Shares converged in 36 iterations! Max. difference = 8.71e-06\n",
      "Market 321: Shares converged in 39 iterations! Max. difference = 9.19e-06\n",
      "Market 322: Shares converged in 37 iterations! Max. difference = 9.71e-06\n",
      "Market 323: Shares converged in 39 iterations! Max. difference = 8.73e-06\n",
      "Market 324: Shares converged in 38 iterations! Max. difference = 9.67e-06\n",
      "Market 325: Shares converged in 37 iterations! Max. difference = 9.61e-06\n",
      "Market 326: Shares converged in 38 iterations! Max. difference = 8.20e-06\n",
      "Market 327: Shares converged in 36 iterations! Max. difference = 9.25e-06\n",
      "Market 328: Shares converged in 36 iterations! Max. difference = 9.66e-06\n",
      "Market 329: Shares converged in 36 iterations! Max. difference = 9.79e-06\n",
      "Market 330: Shares converged in 35 iterations! Max. difference = 8.81e-06\n",
      "Market 331: Shares converged in 1 iterations! Max. difference = 0.00e+00\n",
      "Market 332: Shares converged in 34 iterations! Max. difference = 8.70e-06\n",
      "Market 333: Shares converged in 37 iterations! Max. difference = 7.81e-06\n",
      "Market 334: Shares converged in 37 iterations! Max. difference = 8.06e-06\n",
      "Market 335: Shares converged in 37 iterations! Max. difference = 7.76e-06\n",
      "Market 336: Shares converged in 38 iterations! Max. difference = 8.77e-06\n",
      "Market 337: Shares converged in 37 iterations! Max. difference = 9.63e-06\n",
      "Market 338: Shares converged in 1 iterations! Max. difference = 0.00e+00\n",
      "Market 339: Shares converged in 37 iterations! Max. difference = 9.15e-06\n",
      "Market 340: Shares converged in 41 iterations! Max. difference = 9.41e-06\n",
      "Market 341: Shares converged in 36 iterations! Max. difference = 9.87e-06\n",
      "Market 342: Shares converged in 38 iterations! Max. difference = 8.81e-06\n",
      "Market 343: Shares converged in 36 iterations! Max. difference = 9.20e-06\n",
      "Market 344: Shares converged in 38 iterations! Max. difference = 8.14e-06\n",
      "Market 345: Shares converged in 39 iterations! Max. difference = 8.22e-06\n",
      "Market 346: Shares converged in 37 iterations! Max. difference = 7.92e-06\n",
      "Market 347: Shares converged in 38 iterations! Max. difference = 8.53e-06\n",
      "Market 348: Shares converged in 41 iterations! Max. difference = 8.84e-06\n",
      "Market 349: Shares converged in 39 iterations! Max. difference = 8.25e-06\n",
      "Market 350: Shares converged in 36 iterations! Max. difference = 9.37e-06\n",
      "Market 351: Shares converged in 41 iterations! Max. difference = 9.53e-06\n",
      "Market 352: Shares converged in 1 iterations! Max. difference = 0.00e+00\n",
      "Market 353: Shares converged in 40 iterations! Max. difference = 9.46e-06\n",
      "Market 354: Shares converged in 38 iterations! Max. difference = 8.24e-06\n",
      "Market 355: Shares converged in 38 iterations! Max. difference = 9.81e-06\n",
      "Market 356: Shares converged in 37 iterations! Max. difference = 8.34e-06\n",
      "Market 357: Shares converged in 1 iterations! Max. difference = 0.00e+00\n",
      "Market 358: Shares converged in 40 iterations! Max. difference = 8.32e-06\n",
      "Market 359: Shares converged in 37 iterations! Max. difference = 8.18e-06\n",
      "Market 360: Shares converged in 38 iterations! Max. difference = 7.99e-06\n",
      "Market 361: Shares converged in 36 iterations! Max. difference = 8.71e-06\n",
      "Market 362: Shares converged in 38 iterations! Max. difference = 8.31e-06\n",
      "Market 363: Shares converged in 37 iterations! Max. difference = 8.72e-06\n",
      "Market 364: Shares converged in 39 iterations! Max. difference = 9.01e-06\n",
      "Market 365: Shares converged in 39 iterations! Max. difference = 8.48e-06\n",
      "Market 366: Shares converged in 36 iterations! Max. difference = 9.69e-06\n",
      "Market 367: Shares converged in 36 iterations! Max. difference = 8.87e-06\n",
      "Market 368: Shares converged in 38 iterations! Max. difference = 8.85e-06\n",
      "Market 369: Shares converged in 38 iterations! Max. difference = 8.44e-06\n",
      "Market 370: Shares converged in 37 iterations! Max. difference = 9.00e-06\n",
      "Market 371: Shares converged in 38 iterations! Max. difference = 8.17e-06\n",
      "Market 372: Shares converged in 36 iterations! Max. difference = 8.41e-06\n",
      "Market 373: Shares converged in 37 iterations! Max. difference = 8.67e-06\n",
      "Market 374: Shares converged in 1 iterations! Max. difference = 0.00e+00\n",
      "Market 375: Shares converged in 37 iterations! Max. difference = 7.89e-06\n",
      "Market 376: Shares converged in 40 iterations! Max. difference = 9.03e-06\n",
      "Market 377: Shares converged in 36 iterations! Max. difference = 8.99e-06\n",
      "Market 378: Shares converged in 38 iterations! Max. difference = 7.79e-06\n",
      "Market 379: Shares converged in 37 iterations! Max. difference = 9.20e-06\n",
      "Market 380: Shares converged in 36 iterations! Max. difference = 9.24e-06\n",
      "Market 381: Shares converged in 38 iterations! Max. difference = 9.40e-06\n",
      "Market 382: Shares converged in 37 iterations! Max. difference = 8.43e-06\n",
      "Market 383: Shares converged in 36 iterations! Max. difference = 9.97e-06\n",
      "Market 384: Shares converged in 1 iterations! Max. difference = 0.00e+00\n",
      "Market 385: Shares converged in 37 iterations! Max. difference = 8.94e-06\n",
      "Market 386: Shares converged in 37 iterations! Max. difference = 8.65e-06\n",
      "Market 387: Shares converged in 37 iterations! Max. difference = 8.62e-06\n",
      "Market 388: Shares converged in 39 iterations! Max. difference = 8.21e-06\n",
      "Market 389: Shares converged in 37 iterations! Max. difference = 9.83e-06\n",
      "Market 390: Shares converged in 37 iterations! Max. difference = 7.85e-06\n",
      "Market 391: Shares converged in 38 iterations! Max. difference = 9.37e-06\n",
      "Market 392: Shares converged in 42 iterations! Max. difference = 7.92e-06\n",
      "Market 393: Shares converged in 37 iterations! Max. difference = 8.55e-06\n",
      "Market 394: Shares converged in 37 iterations! Max. difference = 9.48e-06\n",
      "Market 395: Shares converged in 37 iterations! Max. difference = 8.13e-06\n",
      "Market 396: Shares converged in 38 iterations! Max. difference = 8.68e-06\n",
      "Market 397: Shares converged in 1 iterations! Max. difference = 0.00e+00\n",
      "Market 398: Shares converged in 41 iterations! Max. difference = 9.72e-06\n",
      "Market 399: Shares converged in 37 iterations! Max. difference = 9.04e-06\n",
      "Market 400: Shares converged in 37 iterations! Max. difference = 8.28e-06\n",
      "Market 401: Shares converged in 37 iterations! Max. difference = 8.68e-06\n",
      "Market 402: Shares converged in 40 iterations! Max. difference = 9.20e-06\n",
      "Market 403: Shares converged in 38 iterations! Max. difference = 8.43e-06\n",
      "Market 404: Shares converged in 39 iterations! Max. difference = 8.83e-06\n",
      "Market 405: Shares converged in 36 iterations! Max. difference = 8.47e-06\n",
      "Market 406: Shares converged in 37 iterations! Max. difference = 8.73e-06\n",
      "Market 407: Shares converged in 37 iterations! Max. difference = 8.07e-06\n",
      "Market 408: Shares converged in 38 iterations! Max. difference = 7.98e-06\n",
      "Market 409: Shares converged in 38 iterations! Max. difference = 8.88e-06\n",
      "Market 410: Shares converged in 41 iterations! Max. difference = 8.71e-06\n",
      "Market 411: Shares converged in 41 iterations! Max. difference = 9.59e-06\n",
      "Market 412: Shares converged in 37 iterations! Max. difference = 8.29e-06\n",
      "Market 413: Shares converged in 39 iterations! Max. difference = 9.99e-06\n",
      "Market 414: Shares converged in 38 iterations! Max. difference = 8.93e-06\n",
      "Market 415: Shares converged in 1 iterations! Max. difference = 0.00e+00\n",
      "Market 416: Shares converged in 42 iterations! Max. difference = 9.72e-06\n",
      "Market 417: Shares converged in 1 iterations! Max. difference = 0.00e+00\n",
      "Market 418: Shares converged in 37 iterations! Max. difference = 7.92e-06\n",
      "Market 419: Shares converged in 37 iterations! Max. difference = 8.92e-06\n",
      "Market 420: Shares converged in 1 iterations! Max. difference = 0.00e+00\n",
      "Market 421: Shares converged in 36 iterations! Max. difference = 8.34e-06\n",
      "Market 422: Shares converged in 36 iterations! Max. difference = 8.58e-06\n",
      "Market 423: Shares converged in 39 iterations! Max. difference = 9.10e-06\n",
      "Market 424: Shares converged in 38 iterations! Max. difference = 8.89e-06\n",
      "Market 425: Shares converged in 38 iterations! Max. difference = 9.02e-06\n",
      "Market 426: Shares converged in 1 iterations! Max. difference = 0.00e+00\n",
      "Market 427: Shares converged in 1 iterations! Max. difference = 1.11e-15\n",
      "Market 428: Shares converged in 39 iterations! Max. difference = 9.68e-06\n",
      "Market 429: Shares converged in 37 iterations! Max. difference = 8.40e-06\n",
      "Market 430: Shares converged in 36 iterations! Max. difference = 8.94e-06\n",
      "Market 431: Shares converged in 37 iterations! Max. difference = 8.00e-06\n",
      "Market 432: Shares converged in 1 iterations! Max. difference = 0.00e+00\n",
      "Market 433: Shares converged in 1 iterations! Max. difference = 1.11e-15\n",
      "Market 434: Shares converged in 38 iterations! Max. difference = 8.03e-06\n",
      "Market 435: Shares converged in 36 iterations! Max. difference = 9.59e-06\n",
      "Market 436: Shares converged in 39 iterations! Max. difference = 8.29e-06\n",
      "Market 437: Shares converged in 40 iterations! Max. difference = 9.51e-06\n",
      "Market 438: Shares converged in 38 iterations! Max. difference = 9.94e-06\n",
      "Market 439: Shares converged in 37 iterations! Max. difference = 8.64e-06\n",
      "Market 440: Shares converged in 37 iterations! Max. difference = 9.01e-06\n",
      "Market 441: Shares converged in 37 iterations! Max. difference = 8.02e-06\n",
      "Market 442: Shares converged in 37 iterations! Max. difference = 9.07e-06\n",
      "Market 443: Shares converged in 37 iterations! Max. difference = 8.43e-06\n",
      "Market 444: Shares converged in 36 iterations! Max. difference = 8.25e-06\n",
      "Market 445: Shares converged in 37 iterations! Max. difference = 8.87e-06\n",
      "Market 446: Shares converged in 1 iterations! Max. difference = 0.00e+00\n",
      "Market 447: Shares converged in 38 iterations! Max. difference = 7.80e-06\n",
      "Market 448: Shares converged in 37 iterations! Max. difference = 8.08e-06\n",
      "Market 449: Shares converged in 36 iterations! Max. difference = 9.09e-06\n",
      "Market 450: Shares converged in 39 iterations! Max. difference = 9.91e-06\n",
      "Market 451: Shares converged in 1 iterations! Max. difference = 0.00e+00\n",
      "Market 452: Shares converged in 41 iterations! Max. difference = 9.91e-06\n",
      "Market 453: Shares converged in 36 iterations! Max. difference = 7.88e-06\n",
      "Market 454: Shares converged in 41 iterations! Max. difference = 8.70e-06\n",
      "Market 455: Shares converged in 37 iterations! Max. difference = 9.71e-06\n",
      "Market 456: Shares converged in 1 iterations! Max. difference = 0.00e+00\n",
      "Market 457: Shares converged in 38 iterations! Max. difference = 7.89e-06\n",
      "Market 458: Shares converged in 39 iterations! Max. difference = 8.53e-06\n",
      "Market 459: Shares converged in 37 iterations! Max. difference = 7.84e-06\n",
      "Market 460: Shares converged in 37 iterations! Max. difference = 7.82e-06\n",
      "Market 461: Shares converged in 40 iterations! Max. difference = 8.28e-06\n",
      "Market 462: Shares converged in 34 iterations! Max. difference = 9.63e-06\n",
      "Market 463: Shares converged in 41 iterations! Max. difference = 9.35e-06\n",
      "Market 464: Shares converged in 40 iterations! Max. difference = 8.05e-06\n",
      "Market 465: Shares converged in 41 iterations! Max. difference = 9.44e-06\n",
      "Market 466: Shares converged in 39 iterations! Max. difference = 8.23e-06\n",
      "Market 467: Shares converged in 1 iterations! Max. difference = 0.00e+00\n",
      "Market 468: Shares converged in 1 iterations! Max. difference = 0.00e+00\n",
      "Market 469: Shares converged in 1 iterations! Max. difference = 0.00e+00\n",
      "Market 470: Shares converged in 38 iterations! Max. difference = 8.28e-06\n",
      "Market 471: Shares converged in 36 iterations! Max. difference = 9.16e-06\n",
      "Market 472: Shares converged in 39 iterations! Max. difference = 8.59e-06\n",
      "Market 473: Shares converged in 38 iterations! Max. difference = 9.44e-06\n",
      "Market 474: Shares converged in 37 iterations! Max. difference = 9.73e-06\n",
      "Market 475: Shares converged in 37 iterations! Max. difference = 8.92e-06\n",
      "Market 476: Shares converged in 38 iterations! Max. difference = 8.97e-06\n",
      "Market 477: Shares converged in 37 iterations! Max. difference = 9.01e-06\n",
      "Market 478: Shares converged in 37 iterations! Max. difference = 8.25e-06\n",
      "Market 479: Shares converged in 39 iterations! Max. difference = 9.56e-06\n",
      "Market 480: Shares converged in 1 iterations! Max. difference = 0.00e+00\n",
      "Market 481: Shares converged in 37 iterations! Max. difference = 8.83e-06\n",
      "Market 482: Shares converged in 37 iterations! Max. difference = 8.79e-06\n",
      "Market 483: Shares converged in 1 iterations! Max. difference = 0.00e+00\n",
      "Market 484: Shares converged in 40 iterations! Max. difference = 9.94e-06\n",
      "Market 485: Shares converged in 37 iterations! Max. difference = 9.65e-06\n",
      "Market 486: Shares converged in 38 iterations! Max. difference = 9.98e-06\n",
      "Market 487: Shares converged in 37 iterations! Max. difference = 9.08e-06\n",
      "Market 488: Shares converged in 1 iterations! Max. difference = 0.00e+00\n",
      "Market 489: Shares converged in 1 iterations! Max. difference = 0.00e+00\n",
      "Market 490: Shares converged in 35 iterations! Max. difference = 9.26e-06\n",
      "Market 491: Shares converged in 40 iterations! Max. difference = 9.33e-06\n",
      "Market 492: Shares converged in 37 iterations! Max. difference = 9.59e-06\n",
      "Market 493: Shares converged in 37 iterations! Max. difference = 9.65e-06\n",
      "Market 494: Shares converged in 42 iterations! Max. difference = 9.86e-06\n",
      "Market 495: Shares converged in 42 iterations! Max. difference = 9.96e-06\n",
      "Market 496: Shares converged in 38 iterations! Max. difference = 8.43e-06\n",
      "Market 497: Shares converged in 1 iterations! Max. difference = 0.00e+00\n",
      "Market 498: Shares converged in 36 iterations! Max. difference = 8.11e-06\n",
      "Market 499: Shares converged in 37 iterations! Max. difference = 9.03e-06\n",
      "Market 500: Shares converged in 35 iterations! Max. difference = 8.68e-06\n",
      "Market 501: Shares converged in 1 iterations! Max. difference = 0.00e+00\n",
      "Market 502: Shares converged in 37 iterations! Max. difference = 9.92e-06\n",
      "Market 503: Shares converged in 39 iterations! Max. difference = 7.88e-06\n",
      "Market 504: Shares converged in 36 iterations! Max. difference = 8.02e-06\n",
      "Market 505: Shares converged in 1 iterations! Max. difference = 0.00e+00\n",
      "Market 506: Shares converged in 1 iterations! Max. difference = 1.11e-15\n",
      "Market 507: Shares converged in 38 iterations! Max. difference = 8.13e-06\n",
      "Market 508: Shares converged in 35 iterations! Max. difference = 8.94e-06\n",
      "Market 509: Shares converged in 38 iterations! Max. difference = 9.34e-06\n",
      "Market 510: Shares converged in 37 iterations! Max. difference = 9.81e-06\n",
      "Market 511: Shares converged in 38 iterations! Max. difference = 8.99e-06\n",
      "Market 512: Shares converged in 37 iterations! Max. difference = 8.70e-06\n",
      "Market 513: Shares converged in 42 iterations! Max. difference = 7.88e-06\n",
      "Market 514: Shares converged in 37 iterations! Max. difference = 9.76e-06\n",
      "Market 515: Shares converged in 37 iterations! Max. difference = 8.98e-06\n",
      "Market 516: Shares converged in 40 iterations! Max. difference = 9.10e-06\n",
      "Market 517: Shares converged in 38 iterations! Max. difference = 8.16e-06\n",
      "Market 518: Shares converged in 1 iterations! Max. difference = 0.00e+00\n",
      "Market 519: Shares converged in 37 iterations! Max. difference = 7.94e-06\n",
      "Market 520: Shares converged in 38 iterations! Max. difference = 8.79e-06\n",
      "Market 521: Shares converged in 37 iterations! Max. difference = 9.94e-06\n",
      "Market 522: Shares converged in 1 iterations! Max. difference = 1.11e-15\n",
      "Market 523: Shares converged in 39 iterations! Max. difference = 9.44e-06\n",
      "Market 524: Shares converged in 36 iterations! Max. difference = 9.99e-06\n",
      "Market 525: Shares converged in 37 iterations! Max. difference = 9.69e-06\n",
      "Market 526: Shares converged in 36 iterations! Max. difference = 9.23e-06\n",
      "Market 527: Shares converged in 36 iterations! Max. difference = 8.93e-06\n",
      "Market 528: Shares converged in 1 iterations! Max. difference = 0.00e+00\n",
      "Market 529: Shares converged in 38 iterations! Max. difference = 8.77e-06\n",
      "Market 530: Shares converged in 37 iterations! Max. difference = 7.78e-06\n",
      "Market 531: Shares converged in 39 iterations! Max. difference = 9.29e-06\n",
      "Market 532: Shares converged in 36 iterations! Max. difference = 8.58e-06\n",
      "Market 533: Shares converged in 38 iterations! Max. difference = 9.22e-06\n",
      "Market 534: Shares converged in 37 iterations! Max. difference = 8.76e-06\n",
      "Market 535: Shares converged in 1 iterations! Max. difference = 0.00e+00\n",
      "Market 536: Shares converged in 36 iterations! Max. difference = 8.86e-06\n",
      "Market 537: Shares converged in 38 iterations! Max. difference = 7.80e-06\n",
      "Market 538: Shares converged in 35 iterations! Max. difference = 9.42e-06\n",
      "Market 539: Shares converged in 37 iterations! Max. difference = 9.26e-06\n",
      "Market 540: Shares converged in 39 iterations! Max. difference = 8.63e-06\n",
      "Market 541: Shares converged in 38 iterations! Max. difference = 9.15e-06\n",
      "Market 542: Shares converged in 1 iterations! Max. difference = 0.00e+00\n",
      "Market 543: Shares converged in 37 iterations! Max. difference = 7.87e-06\n",
      "Market 544: Shares converged in 43 iterations! Max. difference = 8.56e-06\n",
      "Market 545: Shares converged in 37 iterations! Max. difference = 9.60e-06\n",
      "Market 546: Shares converged in 37 iterations! Max. difference = 9.34e-06\n",
      "Market 547: Shares converged in 37 iterations! Max. difference = 8.99e-06\n",
      "Market 548: Shares converged in 1 iterations! Max. difference = 0.00e+00\n",
      "Market 549: Shares converged in 1 iterations! Max. difference = 0.00e+00\n",
      "Market 550: Shares converged in 37 iterations! Max. difference = 8.44e-06\n",
      "Market 551: Shares converged in 35 iterations! Max. difference = 9.40e-06\n",
      "Market 552: Shares converged in 37 iterations! Max. difference = 9.46e-06\n",
      "Market 553: Shares converged in 38 iterations! Max. difference = 8.23e-06\n",
      "Market 554: Shares converged in 38 iterations! Max. difference = 8.75e-06\n",
      "Market 555: Shares converged in 37 iterations! Max. difference = 9.33e-06\n",
      "Market 556: Shares converged in 1 iterations! Max. difference = 1.11e-15\n",
      "Market 557: Shares converged in 1 iterations! Max. difference = 0.00e+00\n",
      "Market 558: Shares converged in 38 iterations! Max. difference = 8.84e-06\n",
      "Market 559: Shares converged in 39 iterations! Max. difference = 9.69e-06\n",
      "Market 560: Shares converged in 37 iterations! Max. difference = 8.76e-06\n",
      "Market 561: Shares converged in 35 iterations! Max. difference = 9.98e-06\n",
      "Market 562: Shares converged in 38 iterations! Max. difference = 9.39e-06\n",
      "Market 563: Shares converged in 39 iterations! Max. difference = 8.17e-06\n",
      "Market 564: Shares converged in 38 iterations! Max. difference = 8.23e-06\n",
      "Market 565: Shares converged in 38 iterations! Max. difference = 9.61e-06\n",
      "Market 566: Shares converged in 38 iterations! Max. difference = 7.88e-06\n",
      "Market 567: Shares converged in 37 iterations! Max. difference = 9.82e-06\n",
      "Market 568: Shares converged in 36 iterations! Max. difference = 8.95e-06\n",
      "Market 569: Shares converged in 36 iterations! Max. difference = 7.77e-06\n",
      "Market 570: Shares converged in 38 iterations! Max. difference = 8.25e-06\n",
      "Market 571: Shares converged in 39 iterations! Max. difference = 9.85e-06\n",
      "Market 572: Shares converged in 39 iterations! Max. difference = 8.50e-06\n",
      "Market 573: Shares converged in 37 iterations! Max. difference = 8.15e-06\n",
      "Market 574: Shares converged in 42 iterations! Max. difference = 9.43e-06\n",
      "Market 575: Shares converged in 36 iterations! Max. difference = 9.26e-06\n",
      "Market 576: Shares converged in 43 iterations! Max. difference = 9.28e-06\n",
      "Market 577: Shares converged in 38 iterations! Max. difference = 9.00e-06\n",
      "Market 578: Shares converged in 37 iterations! Max. difference = 7.93e-06\n",
      "Market 579: Shares converged in 38 iterations! Max. difference = 9.51e-06\n",
      "Market 580: Shares converged in 40 iterations! Max. difference = 8.01e-06\n",
      "Market 581: Shares converged in 38 iterations! Max. difference = 9.09e-06\n",
      "Market 582: Shares converged in 38 iterations! Max. difference = 8.46e-06\n",
      "Market 583: Shares converged in 38 iterations! Max. difference = 8.58e-06\n",
      "Market 584: Shares converged in 37 iterations! Max. difference = 9.86e-06\n",
      "Market 585: Shares converged in 37 iterations! Max. difference = 8.72e-06\n",
      "Market 586: Shares converged in 1 iterations! Max. difference = 0.00e+00\n",
      "Market 587: Shares converged in 37 iterations! Max. difference = 8.85e-06\n",
      "Market 588: Shares converged in 40 iterations! Max. difference = 8.59e-06\n",
      "Market 589: Shares converged in 1 iterations! Max. difference = 0.00e+00\n",
      "Market 590: Shares converged in 35 iterations! Max. difference = 9.22e-06\n",
      "Market 591: Shares converged in 38 iterations! Max. difference = 8.05e-06\n",
      "Market 592: Shares converged in 38 iterations! Max. difference = 8.45e-06\n",
      "Market 593: Shares converged in 38 iterations! Max. difference = 7.96e-06\n",
      "Market 594: Shares converged in 38 iterations! Max. difference = 8.29e-06\n",
      "Market 595: Shares converged in 37 iterations! Max. difference = 8.09e-06\n",
      "Market 596: Shares converged in 39 iterations! Max. difference = 8.69e-06\n",
      "Market 597: Shares converged in 40 iterations! Max. difference = 8.11e-06\n",
      "Market 598: Shares converged in 36 iterations! Max. difference = 9.30e-06\n",
      "Market 599: Shares converged in 37 iterations! Max. difference = 8.82e-06\n",
      "Market 600: Shares converged in 1 iterations! Max. difference = 0.00e+00\n",
      "Market 601: Shares converged in 35 iterations! Max. difference = 7.97e-06\n",
      "Market 602: Shares converged in 37 iterations! Max. difference = 7.79e-06\n",
      "Market 603: Shares converged in 38 iterations! Max. difference = 8.04e-06\n",
      "Market 604: Shares converged in 39 iterations! Max. difference = 9.60e-06\n",
      "Market 605: Shares converged in 41 iterations! Max. difference = 8.56e-06\n",
      "Market 606: Shares converged in 38 iterations! Max. difference = 7.96e-06\n",
      "Market 607: Shares converged in 36 iterations! Max. difference = 9.42e-06\n",
      "Market 608: Shares converged in 38 iterations! Max. difference = 8.45e-06\n",
      "Market 609: Shares converged in 1 iterations! Max. difference = 0.00e+00\n",
      "Market 610: Shares converged in 37 iterations! Max. difference = 8.59e-06\n",
      "Market 611: Shares converged in 42 iterations! Max. difference = 9.05e-06\n",
      "Market 612: Shares converged in 42 iterations! Max. difference = 8.82e-06\n",
      "Market 613: Shares converged in 44 iterations! Max. difference = 9.62e-06\n",
      "Market 614: Shares converged in 36 iterations! Max. difference = 9.79e-06\n",
      "Market 615: Shares converged in 37 iterations! Max. difference = 9.39e-06\n",
      "Market 616: Shares converged in 35 iterations! Max. difference = 8.66e-06\n",
      "Market 617: Shares converged in 36 iterations! Max. difference = 9.74e-06\n",
      "Market 618: Shares converged in 37 iterations! Max. difference = 9.02e-06\n",
      "Market 619: Shares converged in 37 iterations! Max. difference = 9.82e-06\n",
      "Market 620: Shares converged in 1 iterations! Max. difference = 0.00e+00\n",
      "Market 621: Shares converged in 38 iterations! Max. difference = 9.07e-06\n",
      "Market 622: Shares converged in 37 iterations! Max. difference = 8.46e-06\n",
      "Market 623: Shares converged in 37 iterations! Max. difference = 9.74e-06\n",
      "Market 624: Shares converged in 1 iterations! Max. difference = 0.00e+00\n",
      "Market 625: Shares converged in 36 iterations! Max. difference = 8.44e-06\n",
      "Market 626: Shares converged in 37 iterations! Max. difference = 7.87e-06\n",
      "Market 627: Shares converged in 37 iterations! Max. difference = 9.19e-06\n",
      "Market 628: Shares converged in 39 iterations! Max. difference = 9.48e-06\n",
      "Market 629: Shares converged in 38 iterations! Max. difference = 8.50e-06\n",
      "Market 630: Shares converged in 1 iterations! Max. difference = 0.00e+00\n",
      "Market 631: Shares converged in 37 iterations! Max. difference = 8.59e-06\n",
      "Market 632: Shares converged in 39 iterations! Max. difference = 8.14e-06\n",
      "Market 633: Shares converged in 38 iterations! Max. difference = 8.93e-06\n",
      "Market 634: Shares converged in 36 iterations! Max. difference = 8.80e-06\n",
      "Market 635: Shares converged in 1 iterations! Max. difference = 0.00e+00\n",
      "Market 636: Shares converged in 37 iterations! Max. difference = 9.13e-06\n",
      "Market 637: Shares converged in 1 iterations! Max. difference = 0.00e+00\n",
      "Market 638: Shares converged in 36 iterations! Max. difference = 8.46e-06\n",
      "Market 639: Shares converged in 36 iterations! Max. difference = 9.68e-06\n",
      "Market 640: Shares converged in 39 iterations! Max. difference = 8.86e-06\n",
      "Market 641: Shares converged in 1 iterations! Max. difference = 0.00e+00\n",
      "Market 642: Shares converged in 37 iterations! Max. difference = 9.20e-06\n",
      "Market 643: Shares converged in 1 iterations! Max. difference = 0.00e+00\n",
      "Market 644: Shares converged in 38 iterations! Max. difference = 9.40e-06\n",
      "Market 645: Shares converged in 36 iterations! Max. difference = 9.46e-06\n",
      "Market 646: Shares converged in 1 iterations! Max. difference = 0.00e+00\n",
      "Market 647: Shares converged in 44 iterations! Max. difference = 9.44e-06\n",
      "Market 648: Shares converged in 36 iterations! Max. difference = 8.52e-06\n",
      "Market 649: Shares converged in 37 iterations! Max. difference = 8.52e-06\n",
      "Market 650: Shares converged in 1 iterations! Max. difference = 0.00e+00\n",
      "Market 651: Shares converged in 1 iterations! Max. difference = 0.00e+00\n",
      "Market 652: Shares converged in 36 iterations! Max. difference = 7.86e-06\n",
      "Market 653: Shares converged in 37 iterations! Max. difference = 8.46e-06\n",
      "Market 654: Shares converged in 36 iterations! Max. difference = 8.52e-06\n",
      "Market 655: Shares converged in 36 iterations! Max. difference = 8.32e-06\n",
      "Market 656: Shares converged in 38 iterations! Max. difference = 9.79e-06\n",
      "Market 657: Shares converged in 36 iterations! Max. difference = 9.80e-06\n",
      "Market 658: Shares converged in 37 iterations! Max. difference = 9.10e-06\n",
      "Market 659: Shares converged in 40 iterations! Max. difference = 9.51e-06\n",
      "Market 660: Shares converged in 36 iterations! Max. difference = 9.42e-06\n",
      "Market 661: Shares converged in 38 iterations! Max. difference = 8.60e-06\n",
      "Market 662: Shares converged in 40 iterations! Max. difference = 8.26e-06\n",
      "Market 663: Shares converged in 38 iterations! Max. difference = 8.09e-06\n",
      "Market 664: Shares converged in 1 iterations! Max. difference = 0.00e+00\n",
      "Market 665: Shares converged in 39 iterations! Max. difference = 8.07e-06\n",
      "Market 666: Shares converged in 40 iterations! Max. difference = 8.40e-06\n",
      "Market 667: Shares converged in 38 iterations! Max. difference = 8.69e-06\n",
      "Market 668: Shares converged in 39 iterations! Max. difference = 8.60e-06\n",
      "Market 669: Shares converged in 34 iterations! Max. difference = 9.33e-06\n",
      "Market 670: Shares converged in 1 iterations! Max. difference = 1.11e-15\n",
      "Market 671: Shares converged in 37 iterations! Max. difference = 8.37e-06\n",
      "Market 672: Shares converged in 36 iterations! Max. difference = 7.76e-06\n",
      "Market 673: Shares converged in 37 iterations! Max. difference = 9.82e-06\n",
      "Market 674: Shares converged in 1 iterations! Max. difference = 0.00e+00\n",
      "Market 675: Shares converged in 39 iterations! Max. difference = 8.58e-06\n",
      "Market 676: Shares converged in 37 iterations! Max. difference = 7.85e-06\n",
      "Market 677: Shares converged in 1 iterations! Max. difference = 0.00e+00\n",
      "Market 678: Shares converged in 39 iterations! Max. difference = 9.35e-06\n",
      "Market 679: Shares converged in 41 iterations! Max. difference = 7.99e-06\n",
      "Market 680: Shares converged in 1 iterations! Max. difference = 0.00e+00\n",
      "Market 681: Shares converged in 36 iterations! Max. difference = 9.32e-06\n",
      "Market 682: Shares converged in 38 iterations! Max. difference = 9.05e-06\n",
      "Market 683: Shares converged in 36 iterations! Max. difference = 9.92e-06\n",
      "Market 684: Shares converged in 1 iterations! Max. difference = 0.00e+00\n",
      "Market 685: Shares converged in 42 iterations! Max. difference = 8.25e-06\n",
      "Market 686: Shares converged in 39 iterations! Max. difference = 8.01e-06\n",
      "Market 687: Shares converged in 40 iterations! Max. difference = 8.81e-06\n",
      "Market 688: Shares converged in 36 iterations! Max. difference = 9.68e-06\n",
      "Market 689: Shares converged in 37 iterations! Max. difference = 8.73e-06\n",
      "Market 690: Shares converged in 38 iterations! Max. difference = 7.83e-06\n",
      "Market 691: Shares converged in 40 iterations! Max. difference = 9.61e-06\n",
      "Market 692: Shares converged in 36 iterations! Max. difference = 9.25e-06\n",
      "Market 693: Shares converged in 44 iterations! Max. difference = 8.91e-06\n",
      "Market 694: Shares converged in 1 iterations! Max. difference = 0.00e+00\n",
      "Market 695: Shares converged in 39 iterations! Max. difference = 9.11e-06\n",
      "Market 696: Shares converged in 37 iterations! Max. difference = 9.42e-06\n",
      "Market 697: Shares converged in 39 iterations! Max. difference = 8.20e-06\n",
      "Market 698: Shares converged in 35 iterations! Max. difference = 9.99e-06\n",
      "Market 699: Shares converged in 38 iterations! Max. difference = 8.05e-06\n",
      "Market 700: Shares converged in 36 iterations! Max. difference = 9.46e-06\n",
      "Market 701: Shares converged in 1 iterations! Max. difference = 0.00e+00\n",
      "Market 702: Shares converged in 36 iterations! Max. difference = 9.15e-06\n",
      "Market 703: Shares converged in 37 iterations! Max. difference = 8.74e-06\n",
      "Market 704: Shares converged in 39 iterations! Max. difference = 8.48e-06\n",
      "Market 705: Shares converged in 36 iterations! Max. difference = 8.30e-06\n",
      "Market 706: Shares converged in 38 iterations! Max. difference = 9.94e-06\n",
      "Market 707: Shares converged in 38 iterations! Max. difference = 9.16e-06\n",
      "Market 708: Shares converged in 37 iterations! Max. difference = 8.34e-06\n",
      "Market 709: Shares converged in 37 iterations! Max. difference = 8.77e-06\n",
      "Market 710: Shares converged in 1 iterations! Max. difference = 0.00e+00\n",
      "Market 711: Shares converged in 1 iterations! Max. difference = 0.00e+00\n",
      "Market 712: Shares converged in 38 iterations! Max. difference = 8.45e-06\n",
      "Market 713: Shares converged in 38 iterations! Max. difference = 9.76e-06\n",
      "Market 714: Shares converged in 39 iterations! Max. difference = 8.97e-06\n",
      "Market 715: Shares converged in 40 iterations! Max. difference = 9.05e-06\n",
      "Market 716: Shares converged in 37 iterations! Max. difference = 9.02e-06\n",
      "Market 717: Shares converged in 37 iterations! Max. difference = 9.02e-06\n",
      "Market 718: Shares converged in 40 iterations! Max. difference = 7.85e-06\n",
      "Market 719: Shares converged in 38 iterations! Max. difference = 9.04e-06\n",
      "Market 720: Shares converged in 1 iterations! Max. difference = 0.00e+00\n",
      "Market 721: Shares converged in 38 iterations! Max. difference = 8.93e-06\n",
      "Market 722: Shares converged in 42 iterations! Max. difference = 8.27e-06\n",
      "Market 723: Shares converged in 37 iterations! Max. difference = 8.20e-06\n",
      "Market 724: Shares converged in 37 iterations! Max. difference = 9.25e-06\n",
      "Market 725: Shares converged in 1 iterations! Max. difference = 0.00e+00\n",
      "Market 726: Shares converged in 37 iterations! Max. difference = 8.91e-06\n",
      "Market 727: Shares converged in 37 iterations! Max. difference = 8.54e-06\n",
      "Market 728: Shares converged in 38 iterations! Max. difference = 8.27e-06\n",
      "Market 729: Shares converged in 1 iterations! Max. difference = 0.00e+00\n",
      "Market 730: Shares converged in 37 iterations! Max. difference = 9.43e-06\n",
      "Market 731: Shares converged in 1 iterations! Max. difference = 0.00e+00\n",
      "Market 732: Shares converged in 38 iterations! Max. difference = 8.55e-06\n",
      "Market 733: Shares converged in 37 iterations! Max. difference = 7.85e-06\n",
      "Market 734: Shares converged in 36 iterations! Max. difference = 9.28e-06\n",
      "Market 735: Shares converged in 37 iterations! Max. difference = 9.94e-06\n",
      "Market 736: Shares converged in 38 iterations! Max. difference = 8.38e-06\n",
      "Market 737: Shares converged in 36 iterations! Max. difference = 9.61e-06\n",
      "Market 738: Shares converged in 39 iterations! Max. difference = 8.89e-06\n",
      "Market 739: Shares converged in 41 iterations! Max. difference = 8.75e-06\n",
      "Market 740: Shares converged in 37 iterations! Max. difference = 9.91e-06\n",
      "Market 741: Shares converged in 37 iterations! Max. difference = 9.44e-06\n",
      "Market 742: Shares converged in 37 iterations! Max. difference = 9.15e-06\n",
      "Market 743: Shares converged in 37 iterations! Max. difference = 9.93e-06\n",
      "Market 744: Shares converged in 40 iterations! Max. difference = 8.55e-06\n",
      "Market 745: Shares converged in 38 iterations! Max. difference = 9.29e-06\n",
      "Market 746: Shares converged in 36 iterations! Max. difference = 8.84e-06\n",
      "Market 747: Shares converged in 38 iterations! Max. difference = 9.12e-06\n",
      "Market 748: Shares converged in 37 iterations! Max. difference = 8.67e-06\n",
      "Market 749: Shares converged in 37 iterations! Max. difference = 8.85e-06\n",
      "Market 750: Shares converged in 38 iterations! Max. difference = 8.71e-06\n",
      "Market 751: Shares converged in 42 iterations! Max. difference = 9.62e-06\n",
      "Market 752: Shares converged in 37 iterations! Max. difference = 8.96e-06\n",
      "Market 753: Shares converged in 38 iterations! Max. difference = 8.98e-06\n",
      "Market 754: Shares converged in 37 iterations! Max. difference = 8.20e-06\n",
      "Market 755: Shares converged in 38 iterations! Max. difference = 9.96e-06\n",
      "Market 756: Shares converged in 1 iterations! Max. difference = 0.00e+00\n",
      "Market 757: Shares converged in 1 iterations! Max. difference = 0.00e+00\n",
      "Market 758: Shares converged in 40 iterations! Max. difference = 9.02e-06\n",
      "Market 759: Shares converged in 41 iterations! Max. difference = 8.91e-06\n",
      "Market 760: Shares converged in 38 iterations! Max. difference = 9.51e-06\n",
      "Market 761: Shares converged in 37 iterations! Max. difference = 9.82e-06\n",
      "Market 762: Shares converged in 1 iterations! Max. difference = 0.00e+00\n",
      "Market 763: Shares converged in 1 iterations! Max. difference = 0.00e+00\n",
      "Market 764: Shares converged in 1 iterations! Max. difference = 0.00e+00\n",
      "Market 765: Shares converged in 38 iterations! Max. difference = 8.38e-06\n",
      "Market 766: Shares converged in 39 iterations! Max. difference = 8.81e-06\n",
      "Market 767: Shares converged in 38 iterations! Max. difference = 8.02e-06\n",
      "Market 768: Shares converged in 37 iterations! Max. difference = 8.08e-06\n",
      "Market 769: Shares converged in 36 iterations! Max. difference = 9.58e-06\n",
      "Market 770: Shares converged in 37 iterations! Max. difference = 7.81e-06\n",
      "Market 771: Shares converged in 36 iterations! Max. difference = 7.99e-06\n",
      "Market 772: Shares converged in 38 iterations! Max. difference = 8.43e-06\n",
      "Market 773: Shares converged in 1 iterations! Max. difference = 0.00e+00\n",
      "Market 774: Shares converged in 38 iterations! Max. difference = 9.89e-06\n",
      "Market 775: Shares converged in 36 iterations! Max. difference = 9.18e-06\n",
      "Market 776: Shares converged in 37 iterations! Max. difference = 8.43e-06\n",
      "Market 777: Shares converged in 40 iterations! Max. difference = 8.39e-06\n",
      "Market 778: Shares converged in 43 iterations! Max. difference = 9.68e-06\n",
      "Market 779: Shares converged in 36 iterations! Max. difference = 7.88e-06\n",
      "Market 780: Shares converged in 38 iterations! Max. difference = 8.96e-06\n",
      "Market 781: Shares converged in 42 iterations! Max. difference = 8.54e-06\n",
      "Market 782: Shares converged in 36 iterations! Max. difference = 8.00e-06\n",
      "Market 783: Shares converged in 36 iterations! Max. difference = 9.50e-06\n",
      "Market 784: Shares converged in 37 iterations! Max. difference = 9.51e-06\n",
      "Market 785: Shares converged in 35 iterations! Max. difference = 8.27e-06\n",
      "Market 786: Shares converged in 35 iterations! Max. difference = 9.47e-06\n",
      "Market 787: Shares converged in 40 iterations! Max. difference = 8.83e-06\n",
      "Market 788: Shares converged in 39 iterations! Max. difference = 9.68e-06\n",
      "Market 789: Shares converged in 36 iterations! Max. difference = 9.39e-06\n",
      "Market 790: Shares converged in 39 iterations! Max. difference = 8.33e-06\n",
      "Market 791: Shares converged in 1 iterations! Max. difference = 0.00e+00\n",
      "Market 792: Shares converged in 37 iterations! Max. difference = 8.18e-06\n",
      "Market 793: Shares converged in 37 iterations! Max. difference = 1.00e-05\n",
      "Market 794: Shares converged in 36 iterations! Max. difference = 8.64e-06\n",
      "Market 795: Shares converged in 39 iterations! Max. difference = 8.58e-06\n",
      "Market 796: Shares converged in 40 iterations! Max. difference = 8.55e-06\n",
      "Market 797: Shares converged in 37 iterations! Max. difference = 9.34e-06\n",
      "Market 798: Shares converged in 36 iterations! Max. difference = 8.90e-06\n",
      "Market 799: Shares converged in 37 iterations! Max. difference = 7.92e-06\n",
      "Market 800: Shares converged in 37 iterations! Max. difference = 9.95e-06\n",
      "Market 801: Shares converged in 37 iterations! Max. difference = 8.18e-06\n",
      "Market 802: Shares converged in 36 iterations! Max. difference = 9.49e-06\n",
      "Market 803: Shares converged in 37 iterations! Max. difference = 9.27e-06\n",
      "Market 804: Shares converged in 37 iterations! Max. difference = 9.51e-06\n",
      "Market 805: Shares converged in 39 iterations! Max. difference = 9.92e-06\n",
      "Market 806: Shares converged in 37 iterations! Max. difference = 7.96e-06\n",
      "Market 807: Shares converged in 1 iterations! Max. difference = 0.00e+00\n",
      "Market 808: Shares converged in 39 iterations! Max. difference = 8.66e-06\n",
      "Market 809: Shares converged in 40 iterations! Max. difference = 8.30e-06\n",
      "Market 810: Shares converged in 1 iterations! Max. difference = 0.00e+00\n",
      "Market 811: Shares converged in 37 iterations! Max. difference = 8.88e-06\n",
      "Market 812: Shares converged in 1 iterations! Max. difference = 0.00e+00\n",
      "Market 813: Shares converged in 1 iterations! Max. difference = 0.00e+00\n",
      "Market 814: Shares converged in 38 iterations! Max. difference = 9.03e-06\n",
      "Market 815: Shares converged in 1 iterations! Max. difference = 0.00e+00\n",
      "Market 816: Shares converged in 1 iterations! Max. difference = 0.00e+00\n",
      "Market 817: Shares converged in 38 iterations! Max. difference = 8.40e-06\n",
      "Market 818: Shares converged in 38 iterations! Max. difference = 7.86e-06\n",
      "Market 819: Shares converged in 37 iterations! Max. difference = 9.04e-06\n",
      "Market 820: Shares converged in 37 iterations! Max. difference = 9.57e-06\n",
      "Market 821: Shares converged in 37 iterations! Max. difference = 9.65e-06\n",
      "Market 822: Shares converged in 45 iterations! Max. difference = 8.41e-06\n",
      "Market 823: Shares converged in 36 iterations! Max. difference = 8.12e-06\n",
      "Market 824: Shares converged in 36 iterations! Max. difference = 9.42e-06\n",
      "Market 825: Shares converged in 37 iterations! Max. difference = 8.92e-06\n",
      "Market 826: Shares converged in 35 iterations! Max. difference = 9.21e-06\n",
      "Market 827: Shares converged in 37 iterations! Max. difference = 8.60e-06\n",
      "Market 828: Shares converged in 38 iterations! Max. difference = 8.80e-06\n",
      "Market 829: Shares converged in 35 iterations! Max. difference = 9.85e-06\n",
      "Market 830: Shares converged in 38 iterations! Max. difference = 9.39e-06\n",
      "Market 831: Shares converged in 1 iterations! Max. difference = 0.00e+00\n",
      "Market 832: Shares converged in 36 iterations! Max. difference = 8.84e-06\n",
      "Market 833: Shares converged in 1 iterations! Max. difference = 0.00e+00\n",
      "Market 834: Shares converged in 39 iterations! Max. difference = 7.86e-06\n",
      "Market 835: Shares converged in 37 iterations! Max. difference = 9.60e-06\n",
      "Market 836: Shares converged in 37 iterations! Max. difference = 8.13e-06\n",
      "Market 837: Shares converged in 39 iterations! Max. difference = 9.90e-06\n",
      "Market 838: Shares converged in 41 iterations! Max. difference = 9.99e-06\n",
      "Market 839: Shares converged in 38 iterations! Max. difference = 8.22e-06\n",
      "Market 840: Shares converged in 38 iterations! Max. difference = 7.77e-06\n",
      "Market 841: Shares converged in 36 iterations! Max. difference = 8.93e-06\n",
      "Market 842: Shares converged in 1 iterations! Max. difference = 0.00e+00\n",
      "Market 843: Shares converged in 35 iterations! Max. difference = 9.53e-06\n",
      "Market 844: Shares converged in 38 iterations! Max. difference = 7.94e-06\n",
      "Market 845: Shares converged in 39 iterations! Max. difference = 9.47e-06\n",
      "Market 846: Shares converged in 39 iterations! Max. difference = 9.80e-06\n",
      "Market 847: Shares converged in 36 iterations! Max. difference = 9.26e-06\n",
      "Market 848: Shares converged in 1 iterations! Max. difference = 0.00e+00\n",
      "Market 849: Shares converged in 36 iterations! Max. difference = 7.95e-06\n",
      "Market 850: Shares converged in 39 iterations! Max. difference = 8.83e-06\n",
      "Market 851: Shares converged in 37 iterations! Max. difference = 9.58e-06\n",
      "Market 852: Shares converged in 38 iterations! Max. difference = 8.40e-06\n",
      "Market 853: Shares converged in 39 iterations! Max. difference = 9.55e-06\n",
      "Market 854: Shares converged in 37 iterations! Max. difference = 8.75e-06\n",
      "Market 855: Shares converged in 35 iterations! Max. difference = 8.87e-06\n",
      "Market 856: Shares converged in 1 iterations! Max. difference = 0.00e+00\n",
      "Market 857: Shares converged in 39 iterations! Max. difference = 9.41e-06\n",
      "Market 858: Shares converged in 37 iterations! Max. difference = 9.33e-06\n",
      "Market 859: Shares converged in 38 iterations! Max. difference = 8.75e-06\n",
      "Market 860: Shares converged in 36 iterations! Max. difference = 8.77e-06\n",
      "Market 861: Shares converged in 37 iterations! Max. difference = 9.79e-06\n",
      "Market 862: Shares converged in 36 iterations! Max. difference = 8.16e-06\n",
      "Market 863: Shares converged in 39 iterations! Max. difference = 9.34e-06\n",
      "Market 864: Shares converged in 1 iterations! Max. difference = 0.00e+00\n",
      "Market 865: Shares converged in 37 iterations! Max. difference = 8.17e-06\n",
      "Market 866: Shares converged in 37 iterations! Max. difference = 9.78e-06\n",
      "Market 867: Shares converged in 41 iterations! Max. difference = 8.98e-06\n",
      "Market 868: Shares converged in 37 iterations! Max. difference = 8.09e-06\n",
      "Market 869: Shares converged in 37 iterations! Max. difference = 8.94e-06\n",
      "Market 870: Shares converged in 36 iterations! Max. difference = 8.60e-06\n",
      "Market 871: Shares converged in 37 iterations! Max. difference = 7.86e-06\n",
      "Market 872: Shares converged in 38 iterations! Max. difference = 8.14e-06\n",
      "Market 873: Shares converged in 37 iterations! Max. difference = 8.75e-06\n",
      "Market 874: Shares converged in 1 iterations! Max. difference = 0.00e+00\n",
      "Market 875: Shares converged in 40 iterations! Max. difference = 9.27e-06\n",
      "Market 876: Shares converged in 39 iterations! Max. difference = 7.87e-06\n",
      "Market 877: Shares converged in 1 iterations! Max. difference = 5.55e-16\n",
      "Market 878: Shares converged in 1 iterations! Max. difference = 0.00e+00\n",
      "Market 879: Shares converged in 37 iterations! Max. difference = 9.76e-06\n",
      "Market 880: Shares converged in 38 iterations! Max. difference = 9.50e-06\n",
      "Market 881: Shares converged in 37 iterations! Max. difference = 7.93e-06\n",
      "Market 882: Shares converged in 38 iterations! Max. difference = 9.57e-06\n",
      "Market 883: Shares converged in 36 iterations! Max. difference = 8.71e-06\n",
      "Market 884: Shares converged in 37 iterations! Max. difference = 8.65e-06\n",
      "Market 885: Shares converged in 1 iterations! Max. difference = 0.00e+00\n",
      "Market 886: Shares converged in 36 iterations! Max. difference = 7.81e-06\n",
      "Market 887: Shares converged in 38 iterations! Max. difference = 8.78e-06\n",
      "Market 888: Shares converged in 1 iterations! Max. difference = 0.00e+00\n",
      "Market 889: Shares converged in 39 iterations! Max. difference = 7.93e-06\n",
      "Market 890: Shares converged in 1 iterations! Max. difference = 0.00e+00\n",
      "Market 891: Shares converged in 39 iterations! Max. difference = 8.04e-06\n",
      "Market 892: Shares converged in 36 iterations! Max. difference = 9.16e-06\n",
      "Market 893: Shares converged in 37 iterations! Max. difference = 9.56e-06\n",
      "Market 894: Shares converged in 38 iterations! Max. difference = 9.97e-06\n",
      "Market 895: Shares converged in 41 iterations! Max. difference = 8.36e-06\n",
      "Market 896: Shares converged in 37 iterations! Max. difference = 8.64e-06\n",
      "Market 897: Shares converged in 36 iterations! Max. difference = 8.19e-06\n",
      "Market 898: Shares converged in 39 iterations! Max. difference = 9.33e-06\n",
      "Market 899: Shares converged in 37 iterations! Max. difference = 9.44e-06\n",
      "Market 900: Shares converged in 40 iterations! Max. difference = 7.94e-06\n",
      "Market 901: Shares converged in 39 iterations! Max. difference = 8.64e-06\n",
      "Market 902: Shares converged in 37 iterations! Max. difference = 8.76e-06\n",
      "Market 903: Shares converged in 36 iterations! Max. difference = 9.71e-06\n",
      "Market 904: Shares converged in 1 iterations! Max. difference = 0.00e+00\n",
      "Market 905: Shares converged in 38 iterations! Max. difference = 8.13e-06\n",
      "Market 906: Shares converged in 1 iterations! Max. difference = 0.00e+00\n",
      "Market 907: Shares converged in 37 iterations! Max. difference = 7.86e-06\n",
      "Market 908: Shares converged in 39 iterations! Max. difference = 8.20e-06\n",
      "Market 909: Shares converged in 38 iterations! Max. difference = 8.82e-06\n",
      "Market 910: Shares converged in 42 iterations! Max. difference = 9.13e-06\n",
      "Market 911: Shares converged in 38 iterations! Max. difference = 7.80e-06\n",
      "Market 912: Shares converged in 36 iterations! Max. difference = 8.96e-06\n",
      "Market 913: Shares converged in 36 iterations! Max. difference = 8.96e-06\n",
      "Market 914: Shares converged in 36 iterations! Max. difference = 9.27e-06\n",
      "Market 915: Shares converged in 39 iterations! Max. difference = 9.67e-06\n",
      "Market 916: Shares converged in 1 iterations! Max. difference = 0.00e+00\n",
      "Market 917: Shares converged in 39 iterations! Max. difference = 8.93e-06\n",
      "Market 918: Shares converged in 35 iterations! Max. difference = 9.69e-06\n",
      "Market 919: Shares converged in 38 iterations! Max. difference = 8.26e-06\n",
      "Market 920: Shares converged in 1 iterations! Max. difference = 0.00e+00\n",
      "Market 921: Shares converged in 37 iterations! Max. difference = 9.02e-06\n",
      "Market 922: Shares converged in 38 iterations! Max. difference = 7.99e-06\n",
      "Market 923: Shares converged in 38 iterations! Max. difference = 8.40e-06\n",
      "Market 924: Shares converged in 35 iterations! Max. difference = 9.06e-06\n",
      "Market 925: Shares converged in 37 iterations! Max. difference = 8.39e-06\n",
      "Market 926: Shares converged in 37 iterations! Max. difference = 8.39e-06\n",
      "Market 927: Shares converged in 37 iterations! Max. difference = 8.08e-06\n",
      "Market 928: Shares converged in 37 iterations! Max. difference = 9.25e-06\n",
      "Market 929: Shares converged in 37 iterations! Max. difference = 9.72e-06\n",
      "Market 930: Shares converged in 36 iterations! Max. difference = 9.56e-06\n",
      "Market 931: Shares converged in 36 iterations! Max. difference = 9.00e-06\n",
      "Market 932: Shares converged in 37 iterations! Max. difference = 9.93e-06\n",
      "Market 933: Shares converged in 36 iterations! Max. difference = 8.38e-06\n",
      "Market 934: Shares converged in 37 iterations! Max. difference = 7.96e-06\n",
      "Market 935: Shares converged in 38 iterations! Max. difference = 9.80e-06\n",
      "Market 936: Shares converged in 37 iterations! Max. difference = 7.97e-06\n",
      "Market 937: Shares converged in 36 iterations! Max. difference = 8.15e-06\n",
      "Market 938: Shares converged in 37 iterations! Max. difference = 8.03e-06\n",
      "Market 939: Shares converged in 40 iterations! Max. difference = 7.93e-06\n",
      "Market 940: Shares converged in 37 iterations! Max. difference = 9.97e-06\n",
      "Market 941: Shares converged in 37 iterations! Max. difference = 7.80e-06\n",
      "Market 942: Shares converged in 39 iterations! Max. difference = 8.16e-06\n",
      "Market 943: Shares converged in 38 iterations! Max. difference = 8.06e-06\n",
      "Market 944: Shares converged in 39 iterations! Max. difference = 7.98e-06\n",
      "Market 945: Shares converged in 37 iterations! Max. difference = 7.76e-06\n",
      "Market 946: Shares converged in 37 iterations! Max. difference = 8.65e-06\n",
      "Market 947: Shares converged in 38 iterations! Max. difference = 9.03e-06\n",
      "Market 948: Shares converged in 35 iterations! Max. difference = 9.17e-06\n",
      "Market 949: Shares converged in 41 iterations! Max. difference = 9.27e-06\n",
      "Market 950: Shares converged in 38 iterations! Max. difference = 9.67e-06\n",
      "Market 951: Shares converged in 1 iterations! Max. difference = 0.00e+00\n",
      "Market 952: Shares converged in 36 iterations! Max. difference = 8.15e-06\n",
      "Market 953: Shares converged in 38 iterations! Max. difference = 8.09e-06\n",
      "Market 954: Shares converged in 39 iterations! Max. difference = 9.85e-06\n",
      "Market 955: Shares converged in 37 iterations! Max. difference = 8.67e-06\n",
      "Market 956: Shares converged in 36 iterations! Max. difference = 8.61e-06\n",
      "Market 957: Shares converged in 38 iterations! Max. difference = 8.06e-06\n",
      "Market 958: Shares converged in 36 iterations! Max. difference = 9.68e-06\n",
      "Market 959: Shares converged in 36 iterations! Max. difference = 9.60e-06\n",
      "Market 960: Shares converged in 36 iterations! Max. difference = 9.95e-06\n",
      "Market 961: Shares converged in 35 iterations! Max. difference = 9.11e-06\n",
      "Market 962: Shares converged in 37 iterations! Max. difference = 9.39e-06\n",
      "Market 963: Shares converged in 37 iterations! Max. difference = 8.08e-06\n",
      "Market 964: Shares converged in 37 iterations! Max. difference = 9.47e-06\n",
      "Market 965: Shares converged in 37 iterations! Max. difference = 9.00e-06\n",
      "Market 966: Shares converged in 39 iterations! Max. difference = 8.22e-06\n",
      "Market 967: Shares converged in 1 iterations! Max. difference = 0.00e+00\n",
      "Market 968: Shares converged in 36 iterations! Max. difference = 9.93e-06\n",
      "Market 969: Shares converged in 37 iterations! Max. difference = 9.24e-06\n",
      "Market 970: Shares converged in 37 iterations! Max. difference = 9.34e-06\n",
      "Market 971: Shares converged in 40 iterations! Max. difference = 9.04e-06\n",
      "Market 972: Shares converged in 35 iterations! Max. difference = 9.28e-06\n",
      "Market 973: Shares converged in 37 iterations! Max. difference = 7.94e-06\n",
      "Market 974: Shares converged in 41 iterations! Max. difference = 9.63e-06\n",
      "Market 975: Shares converged in 41 iterations! Max. difference = 9.73e-06\n",
      "Market 976: Shares converged in 41 iterations! Max. difference = 8.58e-06\n",
      "Market 977: Shares converged in 37 iterations! Max. difference = 9.10e-06\n",
      "Market 978: Shares converged in 38 iterations! Max. difference = 8.35e-06\n",
      "Market 979: Shares converged in 1 iterations! Max. difference = 0.00e+00\n",
      "Market 980: Shares converged in 38 iterations! Max. difference = 8.02e-06\n",
      "Market 981: Shares converged in 1 iterations! Max. difference = 0.00e+00\n",
      "Market 982: Shares converged in 39 iterations! Max. difference = 7.79e-06\n",
      "Market 983: Shares converged in 37 iterations! Max. difference = 8.89e-06\n",
      "Market 984: Shares converged in 38 iterations! Max. difference = 8.09e-06\n",
      "Market 985: Shares converged in 36 iterations! Max. difference = 8.27e-06\n",
      "Market 986: Shares converged in 41 iterations! Max. difference = 8.38e-06\n",
      "Market 987: Shares converged in 38 iterations! Max. difference = 8.20e-06\n",
      "Market 988: Shares converged in 38 iterations! Max. difference = 8.32e-06\n",
      "Market 989: Shares converged in 1 iterations! Max. difference = 0.00e+00\n",
      "Market 990: Shares converged in 44 iterations! Max. difference = 7.96e-06\n",
      "Market 991: Shares converged in 38 iterations! Max. difference = 9.20e-06\n",
      "Market 992: Shares converged in 37 iterations! Max. difference = 9.94e-06\n",
      "Market 993: Shares converged in 39 iterations! Max. difference = 8.80e-06\n",
      "Market 994: Shares converged in 38 iterations! Max. difference = 9.70e-06\n",
      "Market 995: Shares converged in 37 iterations! Max. difference = 8.65e-06\n",
      "Market 996: Shares converged in 37 iterations! Max. difference = 8.95e-06\n",
      "Market 997: Shares converged in 36 iterations! Max. difference = 9.81e-06\n",
      "Market 998: Shares converged in 36 iterations! Max. difference = 9.72e-06\n",
      "Market 999: Shares converged in 1 iterations! Max. difference = 0.00e+00\n",
      "Market 1000: Shares converged in 37 iterations! Max. difference = 8.29e-06\n",
      "Equilibrium computation completed for all 1000 markets!\n",
      "Simulation completed.\n"
     ]
    }
   ],
   "source": [
    "# ----------------------------------------------------------------------------------------------------------------------------------------------------------------------------------------------------------------------------------------------\n",
    "# Run the simulation \n",
    "# ----------------------------------------------------------------------------------------------------------------------------------------------------------------------------------------------------------------------------------------------\n",
    "params = set_par()\n",
    "model = sect_eqlib(params)\n",
    "z_ij = model[\"z_ij\"]\n",
    "Mj = model[\"Mj\"]\n",
    "w_ij = model[\"w_ij\"]\n",
    "s_ij = model[\"s_ij\"]\n",
    "eps_ij = model[\"eps_ij\"]\n",
    "mu_ij = model[\"mu_ij\"]\n",
    "n_ij = model[\"n_ij\"]\n",
    "k_ij = model[\"k_ij\"]\n",
    "y_ij = model[\"y_ij\"]\n",
    "\n",
    "print(\"Simulation completed.\")"
   ]
  },
  {
   "cell_type": "markdown",
   "id": "ddc4f379",
   "metadata": {},
   "source": [
    "## Plot Steady-State Objects"
   ]
  },
  {
   "cell_type": "markdown",
   "id": "dada8cf1",
   "metadata": {},
   "source": [
    "#### 1. Wages ($w_{ij}$), Wage-Bill Share ($s_{ij}$), Labor Supply Elasticity ($\\epsilon_{ij}$) and Wage Markdown ($\\mu_{ij}$) against percentiles of productivity ($z_{ij}$)"
   ]
  },
  {
   "cell_type": "code",
   "execution_count": 39,
   "id": "5998d4c7-0d65-4f4e-8dc2-7a5a4d63e73e",
   "metadata": {},
   "outputs": [
    {
     "name": "stdout",
     "output_type": "stream",
     "text": [
      "Plotting data prepared.\n"
     ]
    },
    {
     "data": {
      "application/vnd.plotly.v1+json": {
       "config": {
        "plotlyServerURL": "https://plot.ly"
       },
       "data": [
        {
         "marker": {
          "color": "blue"
         },
         "mode": "lines+markers",
         "name": "Single-firm market",
         "showlegend": true,
         "type": "scatter",
         "x": [
          1
         ],
         "xaxis": "x",
         "y": [
          31026.663761804863
         ],
         "yaxis": "y"
        },
        {
         "marker": {
          "color": "blue"
         },
         "mode": "lines+markers",
         "name": "Single-firm market",
         "showlegend": false,
         "type": "scatter",
         "x": [
          1
         ],
         "xaxis": "x2",
         "y": [
          1
         ],
         "yaxis": "y2"
        },
        {
         "marker": {
          "color": "blue"
         },
         "mode": "lines+markers",
         "name": "Single-firm market",
         "showlegend": false,
         "type": "scatter",
         "x": [
          1
         ],
         "xaxis": "x3",
         "y": [
          0.7599999999999999
         ],
         "yaxis": "y3"
        },
        {
         "marker": {
          "color": "blue"
         },
         "mode": "lines+markers",
         "name": "Single-firm market",
         "showlegend": false,
         "type": "scatter",
         "x": [
          1
         ],
         "xaxis": "x4",
         "y": [
          0.4318181818181818
         ],
         "yaxis": "y4"
        },
        {
         "marker": {
          "color": "red"
         },
         "mode": "lines+markers",
         "name": "Multi-firm market",
         "showlegend": false,
         "type": "scatter",
         "x": {
          "bdata": "AQIDBAU=",
          "dtype": "i1"
         },
         "xaxis": "x",
         "y": {
          "bdata": "FmrMJNL30UDRInEGrifSQKzc6U2fn9hANrJVcsXP3UCWWNl11kreQA==",
          "dtype": "f8"
         },
         "yaxis": "y"
        },
        {
         "marker": {
          "color": "red"
         },
         "mode": "lines+markers",
         "name": "Multi-firm market",
         "showlegend": false,
         "type": "scatter",
         "x": {
          "bdata": "AQIDBAU=",
          "dtype": "i1"
         },
         "xaxis": "x2",
         "y": {
          "bdata": "PrzSQZfxkD+GOBkRicuRP52W5Gey2rI/jCsDd1ZVxz/3GID35CvJPw==",
          "dtype": "f8"
         },
         "yaxis": "y2"
        },
        {
         "marker": {
          "color": "red"
         },
         "mode": "lines+markers",
         "name": "Multi-firm market",
         "showlegend": false,
         "type": "scatter",
         "x": {
          "bdata": "AQIDBAU=",
          "dtype": "i1"
         },
         "xaxis": "x3",
         "y": {
          "bdata": "YR9L99gYDEAeu5Mo5QIMQELPCz43NwdA5lYiyMZyAUC0pekixOQAQA==",
          "dtype": "f8"
         },
         "yaxis": "y3"
        },
        {
         "marker": {
          "color": "red"
         },
         "mode": "lines+markers",
         "name": "Multi-firm market",
         "showlegend": false,
         "type": "scatter",
         "x": {
          "bdata": "AQIDBAU=",
          "dtype": "i1"
         },
         "xaxis": "x4",
         "y": {
          "bdata": "H5quVHPo6D+76fKTIOToPz4lEvGKzOc/x1dWg77w5T/qciN7W7flPw==",
          "dtype": "f8"
         },
         "yaxis": "y4"
        }
       ],
       "layout": {
        "annotations": [
         {
          "font": {
           "size": 16
          },
          "showarrow": false,
          "text": "Wages (w_ij)",
          "x": 0.225,
          "xanchor": "center",
          "xref": "paper",
          "y": 1,
          "yanchor": "bottom",
          "yref": "paper"
         },
         {
          "font": {
           "size": 16
          },
          "showarrow": false,
          "text": "Wage-Bill Share (s_ij)",
          "x": 0.775,
          "xanchor": "center",
          "xref": "paper",
          "y": 1,
          "yanchor": "bottom",
          "yref": "paper"
         },
         {
          "font": {
           "size": 16
          },
          "showarrow": false,
          "text": "Labor Elasticity (eps_ij)",
          "x": 0.225,
          "xanchor": "center",
          "xref": "paper",
          "y": 0.375,
          "yanchor": "bottom",
          "yref": "paper"
         },
         {
          "font": {
           "size": 16
          },
          "showarrow": false,
          "text": "Markdown (mu_ij)",
          "x": 0.775,
          "xanchor": "center",
          "xref": "paper",
          "y": 0.375,
          "yanchor": "bottom",
          "yref": "paper"
         },
         {
          "showarrow": false,
          "text": "η/(η+1)",
          "x": 0,
          "xanchor": "left",
          "xref": "x4 domain",
          "y": 0.7890295358649789,
          "yanchor": "top",
          "yref": "y4"
         },
         {
          "showarrow": false,
          "text": "θ/(θ+1)",
          "x": 1,
          "xanchor": "right",
          "xref": "x4 domain",
          "y": 0.4318181818181818,
          "yanchor": "top",
          "yref": "y4"
         }
        ],
        "height": 800,
        "shapes": [
         {
          "line": {
           "color": "black",
           "dash": "dash"
          },
          "type": "line",
          "x0": 0,
          "x1": 1,
          "xref": "x4 domain",
          "y0": 0.7890295358649789,
          "y1": 0.7890295358649789,
          "yref": "y4"
         },
         {
          "line": {
           "color": "gray",
           "dash": "dash"
          },
          "type": "line",
          "x0": 0,
          "x1": 1,
          "xref": "x4 domain",
          "y0": 0.4318181818181818,
          "y1": 0.4318181818181818,
          "yref": "y4"
         }
        ],
        "template": {
         "data": {
          "bar": [
           {
            "error_x": {
             "color": "#2a3f5f"
            },
            "error_y": {
             "color": "#2a3f5f"
            },
            "marker": {
             "line": {
              "color": "#E5ECF6",
              "width": 0.5
             },
             "pattern": {
              "fillmode": "overlay",
              "size": 10,
              "solidity": 0.2
             }
            },
            "type": "bar"
           }
          ],
          "barpolar": [
           {
            "marker": {
             "line": {
              "color": "#E5ECF6",
              "width": 0.5
             },
             "pattern": {
              "fillmode": "overlay",
              "size": 10,
              "solidity": 0.2
             }
            },
            "type": "barpolar"
           }
          ],
          "carpet": [
           {
            "aaxis": {
             "endlinecolor": "#2a3f5f",
             "gridcolor": "white",
             "linecolor": "white",
             "minorgridcolor": "white",
             "startlinecolor": "#2a3f5f"
            },
            "baxis": {
             "endlinecolor": "#2a3f5f",
             "gridcolor": "white",
             "linecolor": "white",
             "minorgridcolor": "white",
             "startlinecolor": "#2a3f5f"
            },
            "type": "carpet"
           }
          ],
          "choropleth": [
           {
            "colorbar": {
             "outlinewidth": 0,
             "ticks": ""
            },
            "type": "choropleth"
           }
          ],
          "contour": [
           {
            "colorbar": {
             "outlinewidth": 0,
             "ticks": ""
            },
            "colorscale": [
             [
              0,
              "#0d0887"
             ],
             [
              0.1111111111111111,
              "#46039f"
             ],
             [
              0.2222222222222222,
              "#7201a8"
             ],
             [
              0.3333333333333333,
              "#9c179e"
             ],
             [
              0.4444444444444444,
              "#bd3786"
             ],
             [
              0.5555555555555556,
              "#d8576b"
             ],
             [
              0.6666666666666666,
              "#ed7953"
             ],
             [
              0.7777777777777778,
              "#fb9f3a"
             ],
             [
              0.8888888888888888,
              "#fdca26"
             ],
             [
              1,
              "#f0f921"
             ]
            ],
            "type": "contour"
           }
          ],
          "contourcarpet": [
           {
            "colorbar": {
             "outlinewidth": 0,
             "ticks": ""
            },
            "type": "contourcarpet"
           }
          ],
          "heatmap": [
           {
            "colorbar": {
             "outlinewidth": 0,
             "ticks": ""
            },
            "colorscale": [
             [
              0,
              "#0d0887"
             ],
             [
              0.1111111111111111,
              "#46039f"
             ],
             [
              0.2222222222222222,
              "#7201a8"
             ],
             [
              0.3333333333333333,
              "#9c179e"
             ],
             [
              0.4444444444444444,
              "#bd3786"
             ],
             [
              0.5555555555555556,
              "#d8576b"
             ],
             [
              0.6666666666666666,
              "#ed7953"
             ],
             [
              0.7777777777777778,
              "#fb9f3a"
             ],
             [
              0.8888888888888888,
              "#fdca26"
             ],
             [
              1,
              "#f0f921"
             ]
            ],
            "type": "heatmap"
           }
          ],
          "histogram": [
           {
            "marker": {
             "pattern": {
              "fillmode": "overlay",
              "size": 10,
              "solidity": 0.2
             }
            },
            "type": "histogram"
           }
          ],
          "histogram2d": [
           {
            "colorbar": {
             "outlinewidth": 0,
             "ticks": ""
            },
            "colorscale": [
             [
              0,
              "#0d0887"
             ],
             [
              0.1111111111111111,
              "#46039f"
             ],
             [
              0.2222222222222222,
              "#7201a8"
             ],
             [
              0.3333333333333333,
              "#9c179e"
             ],
             [
              0.4444444444444444,
              "#bd3786"
             ],
             [
              0.5555555555555556,
              "#d8576b"
             ],
             [
              0.6666666666666666,
              "#ed7953"
             ],
             [
              0.7777777777777778,
              "#fb9f3a"
             ],
             [
              0.8888888888888888,
              "#fdca26"
             ],
             [
              1,
              "#f0f921"
             ]
            ],
            "type": "histogram2d"
           }
          ],
          "histogram2dcontour": [
           {
            "colorbar": {
             "outlinewidth": 0,
             "ticks": ""
            },
            "colorscale": [
             [
              0,
              "#0d0887"
             ],
             [
              0.1111111111111111,
              "#46039f"
             ],
             [
              0.2222222222222222,
              "#7201a8"
             ],
             [
              0.3333333333333333,
              "#9c179e"
             ],
             [
              0.4444444444444444,
              "#bd3786"
             ],
             [
              0.5555555555555556,
              "#d8576b"
             ],
             [
              0.6666666666666666,
              "#ed7953"
             ],
             [
              0.7777777777777778,
              "#fb9f3a"
             ],
             [
              0.8888888888888888,
              "#fdca26"
             ],
             [
              1,
              "#f0f921"
             ]
            ],
            "type": "histogram2dcontour"
           }
          ],
          "mesh3d": [
           {
            "colorbar": {
             "outlinewidth": 0,
             "ticks": ""
            },
            "type": "mesh3d"
           }
          ],
          "parcoords": [
           {
            "line": {
             "colorbar": {
              "outlinewidth": 0,
              "ticks": ""
             }
            },
            "type": "parcoords"
           }
          ],
          "pie": [
           {
            "automargin": true,
            "type": "pie"
           }
          ],
          "scatter": [
           {
            "fillpattern": {
             "fillmode": "overlay",
             "size": 10,
             "solidity": 0.2
            },
            "type": "scatter"
           }
          ],
          "scatter3d": [
           {
            "line": {
             "colorbar": {
              "outlinewidth": 0,
              "ticks": ""
             }
            },
            "marker": {
             "colorbar": {
              "outlinewidth": 0,
              "ticks": ""
             }
            },
            "type": "scatter3d"
           }
          ],
          "scattercarpet": [
           {
            "marker": {
             "colorbar": {
              "outlinewidth": 0,
              "ticks": ""
             }
            },
            "type": "scattercarpet"
           }
          ],
          "scattergeo": [
           {
            "marker": {
             "colorbar": {
              "outlinewidth": 0,
              "ticks": ""
             }
            },
            "type": "scattergeo"
           }
          ],
          "scattergl": [
           {
            "marker": {
             "colorbar": {
              "outlinewidth": 0,
              "ticks": ""
             }
            },
            "type": "scattergl"
           }
          ],
          "scattermap": [
           {
            "marker": {
             "colorbar": {
              "outlinewidth": 0,
              "ticks": ""
             }
            },
            "type": "scattermap"
           }
          ],
          "scattermapbox": [
           {
            "marker": {
             "colorbar": {
              "outlinewidth": 0,
              "ticks": ""
             }
            },
            "type": "scattermapbox"
           }
          ],
          "scatterpolar": [
           {
            "marker": {
             "colorbar": {
              "outlinewidth": 0,
              "ticks": ""
             }
            },
            "type": "scatterpolar"
           }
          ],
          "scatterpolargl": [
           {
            "marker": {
             "colorbar": {
              "outlinewidth": 0,
              "ticks": ""
             }
            },
            "type": "scatterpolargl"
           }
          ],
          "scatterternary": [
           {
            "marker": {
             "colorbar": {
              "outlinewidth": 0,
              "ticks": ""
             }
            },
            "type": "scatterternary"
           }
          ],
          "surface": [
           {
            "colorbar": {
             "outlinewidth": 0,
             "ticks": ""
            },
            "colorscale": [
             [
              0,
              "#0d0887"
             ],
             [
              0.1111111111111111,
              "#46039f"
             ],
             [
              0.2222222222222222,
              "#7201a8"
             ],
             [
              0.3333333333333333,
              "#9c179e"
             ],
             [
              0.4444444444444444,
              "#bd3786"
             ],
             [
              0.5555555555555556,
              "#d8576b"
             ],
             [
              0.6666666666666666,
              "#ed7953"
             ],
             [
              0.7777777777777778,
              "#fb9f3a"
             ],
             [
              0.8888888888888888,
              "#fdca26"
             ],
             [
              1,
              "#f0f921"
             ]
            ],
            "type": "surface"
           }
          ],
          "table": [
           {
            "cells": {
             "fill": {
              "color": "#EBF0F8"
             },
             "line": {
              "color": "white"
             }
            },
            "header": {
             "fill": {
              "color": "#C8D4E3"
             },
             "line": {
              "color": "white"
             }
            },
            "type": "table"
           }
          ]
         },
         "layout": {
          "annotationdefaults": {
           "arrowcolor": "#2a3f5f",
           "arrowhead": 0,
           "arrowwidth": 1
          },
          "autotypenumbers": "strict",
          "coloraxis": {
           "colorbar": {
            "outlinewidth": 0,
            "ticks": ""
           }
          },
          "colorscale": {
           "diverging": [
            [
             0,
             "#8e0152"
            ],
            [
             0.1,
             "#c51b7d"
            ],
            [
             0.2,
             "#de77ae"
            ],
            [
             0.3,
             "#f1b6da"
            ],
            [
             0.4,
             "#fde0ef"
            ],
            [
             0.5,
             "#f7f7f7"
            ],
            [
             0.6,
             "#e6f5d0"
            ],
            [
             0.7,
             "#b8e186"
            ],
            [
             0.8,
             "#7fbc41"
            ],
            [
             0.9,
             "#4d9221"
            ],
            [
             1,
             "#276419"
            ]
           ],
           "sequential": [
            [
             0,
             "#0d0887"
            ],
            [
             0.1111111111111111,
             "#46039f"
            ],
            [
             0.2222222222222222,
             "#7201a8"
            ],
            [
             0.3333333333333333,
             "#9c179e"
            ],
            [
             0.4444444444444444,
             "#bd3786"
            ],
            [
             0.5555555555555556,
             "#d8576b"
            ],
            [
             0.6666666666666666,
             "#ed7953"
            ],
            [
             0.7777777777777778,
             "#fb9f3a"
            ],
            [
             0.8888888888888888,
             "#fdca26"
            ],
            [
             1,
             "#f0f921"
            ]
           ],
           "sequentialminus": [
            [
             0,
             "#0d0887"
            ],
            [
             0.1111111111111111,
             "#46039f"
            ],
            [
             0.2222222222222222,
             "#7201a8"
            ],
            [
             0.3333333333333333,
             "#9c179e"
            ],
            [
             0.4444444444444444,
             "#bd3786"
            ],
            [
             0.5555555555555556,
             "#d8576b"
            ],
            [
             0.6666666666666666,
             "#ed7953"
            ],
            [
             0.7777777777777778,
             "#fb9f3a"
            ],
            [
             0.8888888888888888,
             "#fdca26"
            ],
            [
             1,
             "#f0f921"
            ]
           ]
          },
          "colorway": [
           "#636efa",
           "#EF553B",
           "#00cc96",
           "#ab63fa",
           "#FFA15A",
           "#19d3f3",
           "#FF6692",
           "#B6E880",
           "#FF97FF",
           "#FECB52"
          ],
          "font": {
           "color": "#2a3f5f"
          },
          "geo": {
           "bgcolor": "white",
           "lakecolor": "white",
           "landcolor": "#E5ECF6",
           "showlakes": true,
           "showland": true,
           "subunitcolor": "white"
          },
          "hoverlabel": {
           "align": "left"
          },
          "hovermode": "closest",
          "mapbox": {
           "style": "light"
          },
          "paper_bgcolor": "white",
          "plot_bgcolor": "#E5ECF6",
          "polar": {
           "angularaxis": {
            "gridcolor": "white",
            "linecolor": "white",
            "ticks": ""
           },
           "bgcolor": "#E5ECF6",
           "radialaxis": {
            "gridcolor": "white",
            "linecolor": "white",
            "ticks": ""
           }
          },
          "scene": {
           "xaxis": {
            "backgroundcolor": "#E5ECF6",
            "gridcolor": "white",
            "gridwidth": 2,
            "linecolor": "white",
            "showbackground": true,
            "ticks": "",
            "zerolinecolor": "white"
           },
           "yaxis": {
            "backgroundcolor": "#E5ECF6",
            "gridcolor": "white",
            "gridwidth": 2,
            "linecolor": "white",
            "showbackground": true,
            "ticks": "",
            "zerolinecolor": "white"
           },
           "zaxis": {
            "backgroundcolor": "#E5ECF6",
            "gridcolor": "white",
            "gridwidth": 2,
            "linecolor": "white",
            "showbackground": true,
            "ticks": "",
            "zerolinecolor": "white"
           }
          },
          "shapedefaults": {
           "line": {
            "color": "#2a3f5f"
           }
          },
          "ternary": {
           "aaxis": {
            "gridcolor": "white",
            "linecolor": "white",
            "ticks": ""
           },
           "baxis": {
            "gridcolor": "white",
            "linecolor": "white",
            "ticks": ""
           },
           "bgcolor": "#E5ECF6",
           "caxis": {
            "gridcolor": "white",
            "linecolor": "white",
            "ticks": ""
           }
          },
          "title": {
           "x": 0.05
          },
          "xaxis": {
           "automargin": true,
           "gridcolor": "white",
           "linecolor": "white",
           "ticks": "",
           "title": {
            "standoff": 15
           },
           "zerolinecolor": "white",
           "zerolinewidth": 2
          },
          "yaxis": {
           "automargin": true,
           "gridcolor": "white",
           "linecolor": "white",
           "ticks": "",
           "title": {
            "standoff": 15
           },
           "zerolinecolor": "white",
           "zerolinewidth": 2
          }
         }
        },
        "title": {
         "text": "Sectoral Equilibrium Metrics by Productivity Percentile"
        },
        "width": 1000,
        "xaxis": {
         "anchor": "y",
         "domain": [
          0,
          0.45
         ],
         "ticktext": [
          "10th",
          "25th",
          "50th",
          "75th",
          "90th"
         ],
         "tickvals": [
          1,
          2,
          3,
          4,
          5
         ],
         "title": {
          "text": "Productivity Percentiles"
         }
        },
        "xaxis2": {
         "anchor": "y2",
         "domain": [
          0.55,
          1
         ],
         "ticktext": [
          "10th",
          "25th",
          "50th",
          "75th",
          "90th"
         ],
         "tickvals": [
          1,
          2,
          3,
          4,
          5
         ],
         "title": {
          "text": "Productivity Percentiles"
         }
        },
        "xaxis3": {
         "anchor": "y3",
         "domain": [
          0,
          0.45
         ],
         "ticktext": [
          "10th",
          "25th",
          "50th",
          "75th",
          "90th"
         ],
         "tickvals": [
          1,
          2,
          3,
          4,
          5
         ],
         "title": {
          "text": "Productivity Percentiles"
         }
        },
        "xaxis4": {
         "anchor": "y4",
         "domain": [
          0.55,
          1
         ],
         "ticktext": [
          "10th",
          "25th",
          "50th",
          "75th",
          "90th"
         ],
         "tickvals": [
          1,
          2,
          3,
          4,
          5
         ],
         "title": {
          "text": "Productivity Percentiles"
         }
        },
        "yaxis": {
         "anchor": "x",
         "domain": [
          0.625,
          1
         ],
         "title": {
          "text": "Wages"
         }
        },
        "yaxis2": {
         "anchor": "x2",
         "domain": [
          0.625,
          1
         ],
         "title": {
          "text": "Wage-Bill Share"
         }
        },
        "yaxis3": {
         "anchor": "x3",
         "domain": [
          0,
          0.375
         ],
         "title": {
          "text": "Labor Elasticity"
         }
        },
        "yaxis4": {
         "anchor": "x4",
         "domain": [
          0,
          0.375
         ],
         "title": {
          "text": "Markdown"
         }
        }
       }
      }
     },
     "metadata": {},
     "output_type": "display_data"
    }
   ],
   "source": [
    "# ----------------------------------------------------------------------------------------------------------------------------------------------------------------------------------------------------------------------------------------------\n",
    "# Prepare data for plotting\n",
    "# ----------------------------------------------------------------------------------------------------------------------------------------------------------------------------------------------------------------------------------------------\n",
    "eta = params[\"eta\"]\n",
    "theta = params[\"theta\"]\n",
    "mu_eta_ref = eta / (eta + 1)\n",
    "mu_theta_ref = theta / (theta + 1)\n",
    "\n",
    "J = params[\"J\"]\n",
    "\n",
    "# Find a market with exactly one firm and one with 10 active firms.\n",
    "market_with_one_firm = next((j for j in range(J) if np.count_nonzero(z_ij[:, j] > 0) == 1), None)\n",
    "market_with_multiple_firms = next((j for j in range(J) if np.count_nonzero(z_ij[:, j] > 0) == 10), None)\n",
    "\n",
    "if market_with_one_firm is None or market_with_multiple_firms is None:\n",
    "    raise ValueError(\"Required markets (one with exactly 1 firm and one with 10 firms) not found.\")\n",
    "\n",
    "selected_markets = [market_with_one_firm, market_with_multiple_firms]\n",
    "market_labels = [\"Single-firm market\", \"Multi-firm market\"]\n",
    "colors = [\"blue\", \"red\"]\n",
    "\n",
    "percentile_labels = [\"10th\", \"25th\", \"50th\", \"75th\", \"90th\"]\n",
    "x_positions = np.arange(1, len(percentile_labels)+1)\n",
    "\n",
    "def compute_percentiles(z_values, y_values):\n",
    "    # Compute quantile thresholds (10th, 25th, 50th, 75th, 90th)\n",
    "    qs = np.percentile(z_values, [10, 25, 50, 75, 90])\n",
    "    # For each quantile, find the index where z_value is closest to the quantile threshold\n",
    "    indices = [np.argmin(np.abs(z_values - q)) for q in qs]\n",
    "    y_percentiles = y_values[indices]\n",
    "    return y_percentiles\n",
    "\n",
    "print(\"Plotting data prepared.\")\n",
    "\n",
    "# -----------------------------\n",
    "# Create a 2x2 subplot figure using Plotly\n",
    "# -----------------------------\n",
    "fig = make_subplots(rows=2, cols=2,\n",
    "                    subplot_titles=(\"Wages (w_ij)\", \"Wage-Bill Share (s_ij)\",\n",
    "                                    \"Labor Elasticity (eps_ij)\", \"Markdown (mu_ij)\"))\n",
    "\n",
    "for idx, j in enumerate(selected_markets):\n",
    "    m = Mj[j]\n",
    "    if m == 1:\n",
    "        xs = [x_positions[0]]\n",
    "        s_vals = [s_ij[0, j]]\n",
    "        w_vals = [w_ij[0, j]]\n",
    "        eps_vals = [eps_ij[0, j]]\n",
    "        mu_vals = [mu_ij[0, j]]\n",
    "    else:\n",
    "        z_values = z_ij[:m, j]\n",
    "        xs = x_positions\n",
    "        s_vals = compute_percentiles(z_values, s_ij[:m, j])\n",
    "        w_vals = compute_percentiles(z_values, w_ij[:m, j])\n",
    "        eps_vals = compute_percentiles(z_values, eps_ij[:m, j])\n",
    "        mu_vals = compute_percentiles(z_values, mu_ij[:m, j])\n",
    "    \n",
    "    fig.add_trace(go.Scatter(x=xs, y=w_vals, mode='lines+markers',\n",
    "                             name=market_labels[idx], marker_color=colors[idx],\n",
    "                             showlegend=(idx==0)), row=1, col=1)\n",
    "    fig.add_trace(go.Scatter(x=xs, y=s_vals, mode='lines+markers',\n",
    "                             name=market_labels[idx], marker_color=colors[idx],\n",
    "                             showlegend=False), row=1, col=2)\n",
    "    fig.add_trace(go.Scatter(x=xs, y=eps_vals, mode='lines+markers',\n",
    "                             name=market_labels[idx], marker_color=colors[idx],\n",
    "                             showlegend=False), row=2, col=1)\n",
    "    fig.add_trace(go.Scatter(x=xs, y=mu_vals, mode='lines+markers',\n",
    "                             name=market_labels[idx], marker_color=colors[idx],\n",
    "                             showlegend=False), row=2, col=2)\n",
    "\n",
    "# Add horizontal dashed lines to the markdown subplot.\n",
    "fig.add_hline(y=mu_eta_ref, line=dict(dash=\"dash\", color=\"black\"),\n",
    "              row=2, col=2, annotation_text=\"η/(η+1)\", annotation_position=\"bottom left\")\n",
    "fig.add_hline(y=mu_theta_ref, line=dict(dash=\"dash\", color=\"gray\"),\n",
    "              row=2, col=2, annotation_text=\"θ/(θ+1)\", annotation_position=\"bottom right\")\n",
    "\n",
    "fig.update_xaxes(title_text=\"Productivity Percentiles\", tickvals=list(x_positions),\n",
    "                 ticktext=percentile_labels)\n",
    "fig.update_yaxes(title_text=\"Wages\", row=1, col=1)\n",
    "fig.update_yaxes(title_text=\"Wage-Bill Share\", row=1, col=2)\n",
    "fig.update_yaxes(title_text=\"Labor Elasticity\", row=2, col=1)\n",
    "fig.update_yaxes(title_text=\"Markdown\", row=2, col=2)\n",
    "\n",
    "fig.update_layout(height=800, width=1000, title_text=\"Sectoral Equilibrium Metrics by Productivity Percentile\")\n",
    "\n",
    "fig.show()"
   ]
  },
  {
   "cell_type": "markdown",
   "id": "e46074b2",
   "metadata": {},
   "source": [
    "#### Relationship Between Productivity, Wages, and Labor Market Power\n",
    "\n",
    "- More productive firms pay higher wages and capture a larger share of wage bills in their markets.\n",
    "- A larger wage-bill share reduces labor supply elasticity to the firm, increasing its market presence.\n",
    "- Lower labor supply elasticity enhances monopsony power, leading to lower markdowns i.e., higher labor market power since $w_{ij} = \\mu_{ij} MRPL_{ij}$\n",
    "\n",
    "- Firms operating in single-market environments exhibit the highest monopsony power, consistent with classic models.\n"
   ]
  },
  {
   "cell_type": "markdown",
   "id": "addab20d",
   "metadata": {},
   "source": [
    "#### 2. Firm-Size Distribution "
   ]
  },
  {
   "cell_type": "code",
   "execution_count": 38,
   "id": "8a1e5f9d-5348-4d38-84ef-77696d6b1d7c",
   "metadata": {},
   "outputs": [
    {
     "data": {
      "application/vnd.plotly.v1+json": {
       "config": {
        "plotlyServerURL": "https://plot.ly"
       },
       "data": [
        {
         "nbinsx": 100,
         "type": "histogram",
         "x": {
          "bdata": "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",
          "dtype": "f8"
         }
        }
       ],
       "layout": {
        "template": {
         "data": {
          "bar": [
           {
            "error_x": {
             "color": "#2a3f5f"
            },
            "error_y": {
             "color": "#2a3f5f"
            },
            "marker": {
             "line": {
              "color": "#E5ECF6",
              "width": 0.5
             },
             "pattern": {
              "fillmode": "overlay",
              "size": 10,
              "solidity": 0.2
             }
            },
            "type": "bar"
           }
          ],
          "barpolar": [
           {
            "marker": {
             "line": {
              "color": "#E5ECF6",
              "width": 0.5
             },
             "pattern": {
              "fillmode": "overlay",
              "size": 10,
              "solidity": 0.2
             }
            },
            "type": "barpolar"
           }
          ],
          "carpet": [
           {
            "aaxis": {
             "endlinecolor": "#2a3f5f",
             "gridcolor": "white",
             "linecolor": "white",
             "minorgridcolor": "white",
             "startlinecolor": "#2a3f5f"
            },
            "baxis": {
             "endlinecolor": "#2a3f5f",
             "gridcolor": "white",
             "linecolor": "white",
             "minorgridcolor": "white",
             "startlinecolor": "#2a3f5f"
            },
            "type": "carpet"
           }
          ],
          "choropleth": [
           {
            "colorbar": {
             "outlinewidth": 0,
             "ticks": ""
            },
            "type": "choropleth"
           }
          ],
          "contour": [
           {
            "colorbar": {
             "outlinewidth": 0,
             "ticks": ""
            },
            "colorscale": [
             [
              0,
              "#0d0887"
             ],
             [
              0.1111111111111111,
              "#46039f"
             ],
             [
              0.2222222222222222,
              "#7201a8"
             ],
             [
              0.3333333333333333,
              "#9c179e"
             ],
             [
              0.4444444444444444,
              "#bd3786"
             ],
             [
              0.5555555555555556,
              "#d8576b"
             ],
             [
              0.6666666666666666,
              "#ed7953"
             ],
             [
              0.7777777777777778,
              "#fb9f3a"
             ],
             [
              0.8888888888888888,
              "#fdca26"
             ],
             [
              1,
              "#f0f921"
             ]
            ],
            "type": "contour"
           }
          ],
          "contourcarpet": [
           {
            "colorbar": {
             "outlinewidth": 0,
             "ticks": ""
            },
            "type": "contourcarpet"
           }
          ],
          "heatmap": [
           {
            "colorbar": {
             "outlinewidth": 0,
             "ticks": ""
            },
            "colorscale": [
             [
              0,
              "#0d0887"
             ],
             [
              0.1111111111111111,
              "#46039f"
             ],
             [
              0.2222222222222222,
              "#7201a8"
             ],
             [
              0.3333333333333333,
              "#9c179e"
             ],
             [
              0.4444444444444444,
              "#bd3786"
             ],
             [
              0.5555555555555556,
              "#d8576b"
             ],
             [
              0.6666666666666666,
              "#ed7953"
             ],
             [
              0.7777777777777778,
              "#fb9f3a"
             ],
             [
              0.8888888888888888,
              "#fdca26"
             ],
             [
              1,
              "#f0f921"
             ]
            ],
            "type": "heatmap"
           }
          ],
          "histogram": [
           {
            "marker": {
             "pattern": {
              "fillmode": "overlay",
              "size": 10,
              "solidity": 0.2
             }
            },
            "type": "histogram"
           }
          ],
          "histogram2d": [
           {
            "colorbar": {
             "outlinewidth": 0,
             "ticks": ""
            },
            "colorscale": [
             [
              0,
              "#0d0887"
             ],
             [
              0.1111111111111111,
              "#46039f"
             ],
             [
              0.2222222222222222,
              "#7201a8"
             ],
             [
              0.3333333333333333,
              "#9c179e"
             ],
             [
              0.4444444444444444,
              "#bd3786"
             ],
             [
              0.5555555555555556,
              "#d8576b"
             ],
             [
              0.6666666666666666,
              "#ed7953"
             ],
             [
              0.7777777777777778,
              "#fb9f3a"
             ],
             [
              0.8888888888888888,
              "#fdca26"
             ],
             [
              1,
              "#f0f921"
             ]
            ],
            "type": "histogram2d"
           }
          ],
          "histogram2dcontour": [
           {
            "colorbar": {
             "outlinewidth": 0,
             "ticks": ""
            },
            "colorscale": [
             [
              0,
              "#0d0887"
             ],
             [
              0.1111111111111111,
              "#46039f"
             ],
             [
              0.2222222222222222,
              "#7201a8"
             ],
             [
              0.3333333333333333,
              "#9c179e"
             ],
             [
              0.4444444444444444,
              "#bd3786"
             ],
             [
              0.5555555555555556,
              "#d8576b"
             ],
             [
              0.6666666666666666,
              "#ed7953"
             ],
             [
              0.7777777777777778,
              "#fb9f3a"
             ],
             [
              0.8888888888888888,
              "#fdca26"
             ],
             [
              1,
              "#f0f921"
             ]
            ],
            "type": "histogram2dcontour"
           }
          ],
          "mesh3d": [
           {
            "colorbar": {
             "outlinewidth": 0,
             "ticks": ""
            },
            "type": "mesh3d"
           }
          ],
          "parcoords": [
           {
            "line": {
             "colorbar": {
              "outlinewidth": 0,
              "ticks": ""
             }
            },
            "type": "parcoords"
           }
          ],
          "pie": [
           {
            "automargin": true,
            "type": "pie"
           }
          ],
          "scatter": [
           {
            "fillpattern": {
             "fillmode": "overlay",
             "size": 10,
             "solidity": 0.2
            },
            "type": "scatter"
           }
          ],
          "scatter3d": [
           {
            "line": {
             "colorbar": {
              "outlinewidth": 0,
              "ticks": ""
             }
            },
            "marker": {
             "colorbar": {
              "outlinewidth": 0,
              "ticks": ""
             }
            },
            "type": "scatter3d"
           }
          ],
          "scattercarpet": [
           {
            "marker": {
             "colorbar": {
              "outlinewidth": 0,
              "ticks": ""
             }
            },
            "type": "scattercarpet"
           }
          ],
          "scattergeo": [
           {
            "marker": {
             "colorbar": {
              "outlinewidth": 0,
              "ticks": ""
             }
            },
            "type": "scattergeo"
           }
          ],
          "scattergl": [
           {
            "marker": {
             "colorbar": {
              "outlinewidth": 0,
              "ticks": ""
             }
            },
            "type": "scattergl"
           }
          ],
          "scattermap": [
           {
            "marker": {
             "colorbar": {
              "outlinewidth": 0,
              "ticks": ""
             }
            },
            "type": "scattermap"
           }
          ],
          "scattermapbox": [
           {
            "marker": {
             "colorbar": {
              "outlinewidth": 0,
              "ticks": ""
             }
            },
            "type": "scattermapbox"
           }
          ],
          "scatterpolar": [
           {
            "marker": {
             "colorbar": {
              "outlinewidth": 0,
              "ticks": ""
             }
            },
            "type": "scatterpolar"
           }
          ],
          "scatterpolargl": [
           {
            "marker": {
             "colorbar": {
              "outlinewidth": 0,
              "ticks": ""
             }
            },
            "type": "scatterpolargl"
           }
          ],
          "scatterternary": [
           {
            "marker": {
             "colorbar": {
              "outlinewidth": 0,
              "ticks": ""
             }
            },
            "type": "scatterternary"
           }
          ],
          "surface": [
           {
            "colorbar": {
             "outlinewidth": 0,
             "ticks": ""
            },
            "colorscale": [
             [
              0,
              "#0d0887"
             ],
             [
              0.1111111111111111,
              "#46039f"
             ],
             [
              0.2222222222222222,
              "#7201a8"
             ],
             [
              0.3333333333333333,
              "#9c179e"
             ],
             [
              0.4444444444444444,
              "#bd3786"
             ],
             [
              0.5555555555555556,
              "#d8576b"
             ],
             [
              0.6666666666666666,
              "#ed7953"
             ],
             [
              0.7777777777777778,
              "#fb9f3a"
             ],
             [
              0.8888888888888888,
              "#fdca26"
             ],
             [
              1,
              "#f0f921"
             ]
            ],
            "type": "surface"
           }
          ],
          "table": [
           {
            "cells": {
             "fill": {
              "color": "#EBF0F8"
             },
             "line": {
              "color": "white"
             }
            },
            "header": {
             "fill": {
              "color": "#C8D4E3"
             },
             "line": {
              "color": "white"
             }
            },
            "type": "table"
           }
          ]
         },
         "layout": {
          "annotationdefaults": {
           "arrowcolor": "#2a3f5f",
           "arrowhead": 0,
           "arrowwidth": 1
          },
          "autotypenumbers": "strict",
          "coloraxis": {
           "colorbar": {
            "outlinewidth": 0,
            "ticks": ""
           }
          },
          "colorscale": {
           "diverging": [
            [
             0,
             "#8e0152"
            ],
            [
             0.1,
             "#c51b7d"
            ],
            [
             0.2,
             "#de77ae"
            ],
            [
             0.3,
             "#f1b6da"
            ],
            [
             0.4,
             "#fde0ef"
            ],
            [
             0.5,
             "#f7f7f7"
            ],
            [
             0.6,
             "#e6f5d0"
            ],
            [
             0.7,
             "#b8e186"
            ],
            [
             0.8,
             "#7fbc41"
            ],
            [
             0.9,
             "#4d9221"
            ],
            [
             1,
             "#276419"
            ]
           ],
           "sequential": [
            [
             0,
             "#0d0887"
            ],
            [
             0.1111111111111111,
             "#46039f"
            ],
            [
             0.2222222222222222,
             "#7201a8"
            ],
            [
             0.3333333333333333,
             "#9c179e"
            ],
            [
             0.4444444444444444,
             "#bd3786"
            ],
            [
             0.5555555555555556,
             "#d8576b"
            ],
            [
             0.6666666666666666,
             "#ed7953"
            ],
            [
             0.7777777777777778,
             "#fb9f3a"
            ],
            [
             0.8888888888888888,
             "#fdca26"
            ],
            [
             1,
             "#f0f921"
            ]
           ],
           "sequentialminus": [
            [
             0,
             "#0d0887"
            ],
            [
             0.1111111111111111,
             "#46039f"
            ],
            [
             0.2222222222222222,
             "#7201a8"
            ],
            [
             0.3333333333333333,
             "#9c179e"
            ],
            [
             0.4444444444444444,
             "#bd3786"
            ],
            [
             0.5555555555555556,
             "#d8576b"
            ],
            [
             0.6666666666666666,
             "#ed7953"
            ],
            [
             0.7777777777777778,
             "#fb9f3a"
            ],
            [
             0.8888888888888888,
             "#fdca26"
            ],
            [
             1,
             "#f0f921"
            ]
           ]
          },
          "colorway": [
           "#636efa",
           "#EF553B",
           "#00cc96",
           "#ab63fa",
           "#FFA15A",
           "#19d3f3",
           "#FF6692",
           "#B6E880",
           "#FF97FF",
           "#FECB52"
          ],
          "font": {
           "color": "#2a3f5f"
          },
          "geo": {
           "bgcolor": "white",
           "lakecolor": "white",
           "landcolor": "#E5ECF6",
           "showlakes": true,
           "showland": true,
           "subunitcolor": "white"
          },
          "hoverlabel": {
           "align": "left"
          },
          "hovermode": "closest",
          "mapbox": {
           "style": "light"
          },
          "paper_bgcolor": "white",
          "plot_bgcolor": "#E5ECF6",
          "polar": {
           "angularaxis": {
            "gridcolor": "white",
            "linecolor": "white",
            "ticks": ""
           },
           "bgcolor": "#E5ECF6",
           "radialaxis": {
            "gridcolor": "white",
            "linecolor": "white",
            "ticks": ""
           }
          },
          "scene": {
           "xaxis": {
            "backgroundcolor": "#E5ECF6",
            "gridcolor": "white",
            "gridwidth": 2,
            "linecolor": "white",
            "showbackground": true,
            "ticks": "",
            "zerolinecolor": "white"
           },
           "yaxis": {
            "backgroundcolor": "#E5ECF6",
            "gridcolor": "white",
            "gridwidth": 2,
            "linecolor": "white",
            "showbackground": true,
            "ticks": "",
            "zerolinecolor": "white"
           },
           "zaxis": {
            "backgroundcolor": "#E5ECF6",
            "gridcolor": "white",
            "gridwidth": 2,
            "linecolor": "white",
            "showbackground": true,
            "ticks": "",
            "zerolinecolor": "white"
           }
          },
          "shapedefaults": {
           "line": {
            "color": "#2a3f5f"
           }
          },
          "ternary": {
           "aaxis": {
            "gridcolor": "white",
            "linecolor": "white",
            "ticks": ""
           },
           "baxis": {
            "gridcolor": "white",
            "linecolor": "white",
            "ticks": ""
           },
           "bgcolor": "#E5ECF6",
           "caxis": {
            "gridcolor": "white",
            "linecolor": "white",
            "ticks": ""
           }
          },
          "title": {
           "x": 0.05
          },
          "xaxis": {
           "automargin": true,
           "gridcolor": "white",
           "linecolor": "white",
           "ticks": "",
           "title": {
            "standoff": 15
           },
           "zerolinecolor": "white",
           "zerolinewidth": 2
          },
          "yaxis": {
           "automargin": true,
           "gridcolor": "white",
           "linecolor": "white",
           "ticks": "",
           "title": {
            "standoff": 15
           },
           "zerolinecolor": "white",
           "zerolinewidth": 2
          }
         }
        },
        "title": {
         "text": "Firm-Size Distribution"
        },
        "xaxis": {
         "title": {
          "text": "Employment (n_ij)"
         }
        },
        "yaxis": {
         "title": {
          "text": "Frequency"
         }
        }
       }
      }
     },
     "metadata": {},
     "output_type": "display_data"
    }
   ],
   "source": [
    "# -----------------------------\n",
    "# Create histogram of employment (n_ij)\n",
    "# -----------------------------\n",
    "active_n_ij = n_ij[n_ij > 0].flatten()\n",
    "hist_fig = go.Figure(data=[go.Histogram(x=active_n_ij, nbinsx=100)])\n",
    "hist_fig.update_layout(title_text=\"Firm-Size Distribution\",\n",
    "                         xaxis_title=\"Employment (n_ij)\",\n",
    "                         yaxis_title=\"Frequency\")\n",
    "hist_fig.show()"
   ]
  },
  {
   "cell_type": "markdown",
   "id": "bd46ca67",
   "metadata": {},
   "source": [
    "The model also generates a realistic firm-size distribution, where the average firm-size can be tweaked to match the data."
   ]
  },
  {
   "cell_type": "markdown",
   "id": "73f6498c",
   "metadata": {},
   "source": [
    "## Regression"
   ]
  },
  {
   "cell_type": "markdown",
   "id": "cf3d8696",
   "metadata": {},
   "source": [
    "#### A simple OLS regression: $w_{ij} = \\beta_0 + \\beta_1 \\mu_{ij} + \\epsilon_{ij}$"
   ]
  },
  {
   "cell_type": "code",
   "execution_count": 26,
   "id": "c6734df1",
   "metadata": {},
   "outputs": [
    {
     "name": "stdout",
     "output_type": "stream",
     "text": [
      "                            OLS Regression Results                            \n",
      "==============================================================================\n",
      "Dep. Variable:                      y   R-squared:                       0.656\n",
      "Model:                            OLS   Adj. R-squared:                  0.656\n",
      "Method:                 Least Squares   F-statistic:                 1.911e+05\n",
      "Date:                Fri, 28 Feb 2025   Prob (F-statistic):               0.00\n",
      "Time:                        12:29:53   Log-Likelihood:            -1.0780e+06\n",
      "No. Observations:              100000   AIC:                         2.156e+06\n",
      "Df Residuals:                   99998   BIC:                         2.156e+06\n",
      "Df Model:                           1                                         \n",
      "Covariance Type:            nonrobust                                         \n",
      "==============================================================================\n",
      "                 coef    std err          t      P>|t|      [0.025      0.975]\n",
      "------------------------------------------------------------------------------\n",
      "const        284.3778     43.896      6.478      0.000     198.342     370.414\n",
      "x1          4.542e+04    103.915    437.113      0.000    4.52e+04    4.56e+04\n",
      "==============================================================================\n",
      "Omnibus:                    65842.946   Durbin-Watson:                   2.011\n",
      "Prob(Omnibus):                  0.000   Jarque-Bera (JB):          1531437.557\n",
      "Skew:                           2.824   Prob(JB):                         0.00\n",
      "Kurtosis:                      21.321   Cond. No.                         3.00\n",
      "==============================================================================\n",
      "\n",
      "Notes:\n",
      "[1] Standard Errors assume that the covariance matrix of the errors is correctly specified.\n"
     ]
    }
   ],
   "source": [
    "\n",
    "import numpy as np\n",
    "import statsmodels.api as sm\n",
    "\n",
    "# Extract w_ij and mu_ij from the model dictionary\n",
    "w_ij = model[\"w_ij\"].flatten()  # Flatten to 1D array\n",
    "mu_ij = model[\"mu_ij\"].flatten()  # Flatten to 1D array\n",
    "\n",
    "# Remove NaN or infinite values if any\n",
    "valid_indices = np.isfinite(w_ij) & np.isfinite(mu_ij)\n",
    "w_ij_clean = w_ij[valid_indices]\n",
    "mu_ij_clean = mu_ij[valid_indices]\n",
    "\n",
    "# Add a constant term for the regression (intercept)\n",
    "mu_ij_clean = sm.add_constant(mu_ij_clean)\n",
    "\n",
    "# Run the regression\n",
    "regression_model = sm.OLS(w_ij_clean, mu_ij_clean).fit()\n",
    "\n",
    "# Display the regression results\n",
    "print(regression_model.summary())\n"
   ]
  },
  {
   "cell_type": "markdown",
   "id": "6a2a8bd0",
   "metadata": {},
   "source": [
    "This reveals a positive correlation, as expected. Thus, labor monopsony power (inverse of $\\mu_{ij}$) originating from higher productivity (structually from the model) leads to a decline in wages."
   ]
  }
 ],
 "metadata": {
  "kernelspec": {
   "display_name": "Python 3",
   "language": "python",
   "name": "python3"
  },
  "language_info": {
   "codemirror_mode": {
    "name": "ipython",
    "version": 3
   },
   "file_extension": ".py",
   "mimetype": "text/x-python",
   "name": "python",
   "nbconvert_exporter": "python",
   "pygments_lexer": "ipython3",
   "version": "3.12.8"
  }
 },
 "nbformat": 4,
 "nbformat_minor": 5
}
