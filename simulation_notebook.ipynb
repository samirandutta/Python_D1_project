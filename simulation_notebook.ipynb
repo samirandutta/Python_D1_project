{
 "cells": [
  {
   "cell_type": "code",
   "execution_count": 1,
   "id": "b1cf77bd-c89d-41f3-a3f2-d9b2e6a0c2ed",
   "metadata": {
    "tags": []
   },
   "outputs": [],
   "source": [
    "%matplotlib inline\n",
    "# Author: Samiran Dutta\n",
    "# Date: 28.02.25\n",
    "\n",
    "# This code replicates the model in 'Labor Market Power' by Berger et al. (2022)\n",
    "# ..with new model visualisations (not in the original paper) + simple OLS estimation of how wage markdown affects wages from model generated data\n",
    "# Research question: How do labor market imperfections affect wages? In particular, what are the origins and role of labor monopsony power in determining wages? "
   ]
  },
  {
   "cell_type": "markdown",
   "id": "c21f706d",
   "metadata": {},
   "source": [
    "## Packages"
   ]
  },
  {
   "cell_type": "code",
   "execution_count": 2,
   "id": "a1d8156c-9ea0-47ee-bd9b-1630a06b8b06",
   "metadata": {},
   "outputs": [
    {
     "name": "stdout",
     "output_type": "stream",
     "text": [
      "Imports completed.\n"
     ]
    }
   ],
   "source": [
    "import numpy as np\n",
    "from scipy.stats import pareto\n",
    "import math\n",
    "\n",
    "# Use JupyterDash for inline dashboards\n",
    "from jupyter_dash import JupyterDash\n",
    "from dash import dcc, html\n",
    "from dash.dependencies import Input, Output\n",
    "from plotly.subplots import make_subplots\n",
    "import plotly.graph_objects as go\n",
    "\n",
    "print(\"Imports completed.\")"
   ]
  },
  {
   "cell_type": "markdown",
   "id": "6d5c87aa",
   "metadata": {},
   "source": [
    "## Functions"
   ]
  },
  {
   "cell_type": "markdown",
   "id": "0fc323f3",
   "metadata": {},
   "source": [
    "### 1. Define Parameters"
   ]
  },
  {
   "cell_type": "code",
   "execution_count": 3,
   "id": "9b3d3a8b",
   "metadata": {},
   "outputs": [],
   "source": [
    "# ----------------------------------------------------------------------------------------------------------------------------------------------------------------------------------------------------------------------------------------------\n",
    "# Set parameters \n",
    "# ----------------------------------------------------------------------------------------------------------------------------------------------------------------------------------------------------------------------------------------------\n",
    "def set_par(phi=0.50, alpha=0.987, beta=1/1.04, delta=0.1, eta=3.74, theta=0.76,\n",
    "            J=1000, min_ij=1, max_ij=100, upsilon=0.20, gamma=0.818):\n",
    "    R = (1/beta) - 1 + delta  # equilibrium capital steady‐state condition\n",
    "    return {\"phi\": phi, \"alpha\": alpha, \"beta\": beta, \"delta\": delta,\n",
    "            \"eta\": eta, \"theta\": theta, \"R\": R, \"J\": J,\n",
    "            \"min_ij\": min_ij, \"max_ij\": max_ij, \"upsilon\": upsilon, \"gamma\": gamma}"
   ]
  },
  {
   "cell_type": "markdown",
   "id": "ee6f05d0",
   "metadata": {},
   "source": [
    "### 2. Generate Number of Firms (for all i in each j = 1,...,J)"
   ]
  },
  {
   "cell_type": "code",
   "execution_count": 4,
   "id": "d935b30f-f64f-4e38-b3aa-b657e9d2a5cf",
   "metadata": {},
   "outputs": [],
   "source": [
    "# ----------------------------------------------------------------------------------------------------------------------------------------------------------------------------------------------------------------------------------------------\n",
    "# Generate number of firms in each market \n",
    "# ----------------------------------------------------------------------------------------------------------------------------------------------------------------------------------------------------------------------------------------------\n",
    "def gen_firms(params):\n",
    "    J = params[\"J\"]\n",
    "    max_ij = params[\"max_ij\"]\n",
    "    Mj = np.zeros(J, dtype=int)\n",
    "    prob_1_firm = 0.15  # 15% of markets have exactly 1 firm\n",
    "    shape = 0.67\n",
    "    scale = 5.7\n",
    "    location = 2\n",
    "    for j in range(J):\n",
    "        if np.random.rand() < prob_1_firm:\n",
    "            Mj[j] = 1\n",
    "        else:\n",
    "            # draw from a Pareto and shift by location; then take ceiling\n",
    "            sample = math.ceil(pareto.rvs(shape, scale=scale) + location)\n",
    "            Mj[j] = int(min(max_ij, max(1, sample)))\n",
    "    Mj_max = Mj.max()\n",
    "    return Mj, Mj_max"
   ]
  },
  {
   "cell_type": "markdown",
   "id": "b8731a9e",
   "metadata": {},
   "source": [
    "### 3. Generate Firm-level Productivity; drawn from a Pareto Distribution"
   ]
  },
  {
   "cell_type": "code",
   "execution_count": 5,
   "id": "f9e3dfd5",
   "metadata": {},
   "outputs": [],
   "source": [
    "# ----------------------------------------------------------------------------------------------------------------------------------------------------------------------------------------------------------------------------------------------\n",
    "# Generate firm-level productivities \n",
    "# ----------------------------------------------------------------------------------------------------------------------------------------------------------------------------------------------------------------------------------------------\n",
    "def gen_productivity(params):\n",
    "    J = params[\"J\"]\n",
    "    gamma = params[\"gamma\"]\n",
    "    alpha = params[\"alpha\"]\n",
    "    R = params[\"R\"]\n",
    "    Mj, Mj_max = gen_firms(params)\n",
    "    \n",
    "    # Initialize arrays (shape: (Mj_max, J))\n",
    "    z_ij_notilde = np.zeros((Mj_max, J))\n",
    "    z_ij = np.zeros((Mj_max, J))\n",
    "    xi = 0.5  # standard deviation for the underlying normal\n",
    "\n",
    "    # Use np.random.lognormal (mean and sigma are for the underlying normal)\n",
    "    for j in range(J):\n",
    "        m = Mj[j]\n",
    "        if m > 0:\n",
    "            z_ij_notilde[:m, j] = np.random.lognormal(mean=1, sigma=xi, size=m)\n",
    "    \n",
    "    # Compute the scaling factor and adjust productivity draws\n",
    "    factor = (1 - (1 - gamma)*alpha) * ((alpha*(1-gamma))/R)**((alpha*(1-gamma))/(1 - alpha*(1-gamma)))\n",
    "    z_ij = factor * np.power(z_ij_notilde, 1/(1 - alpha*(1-gamma)))\n",
    "    \n",
    "    return {\"Mj\": Mj, \"Mj_max\": Mj_max, \"z_ij\": z_ij, \"z_ij_notilde\": z_ij_notilde}"
   ]
  },
  {
   "cell_type": "markdown",
   "id": "b9373981",
   "metadata": {},
   "source": [
    "### 4. Steady-State Model (Wage-Bill Share Convergence) "
   ]
  },
  {
   "cell_type": "code",
   "execution_count": 6,
   "id": "465297ea",
   "metadata": {},
   "outputs": [
    {
     "name": "stdout",
     "output_type": "stream",
     "text": [
      "Function definitions loaded.\n"
     ]
    }
   ],
   "source": [
    "# ----------------------------------------------------------------------------------------------------------------------------------------------------------------------------------------------------------------------------------------------\n",
    "# Solve the model \n",
    "# ----------------------------------------------------------------------------------------------------------------------------------------------------------------------------------------------------------------------------------------------\n",
    "def sect_eqlib(params):\n",
    "    alpha = params[\"alpha\"]\n",
    "    beta = params[\"beta\"]\n",
    "    R = params[\"R\"]\n",
    "    eta = params[\"eta\"]\n",
    "    theta = params[\"theta\"]\n",
    "    J = params[\"J\"]\n",
    "    upsilon = params[\"upsilon\"]\n",
    "    phi = params[\"phi\"]\n",
    "    gamma = params[\"gamma\"]\n",
    "    \n",
    "    prod = gen_productivity(params)\n",
    "    Mj = prod[\"Mj\"]\n",
    "    Mj_max = prod[\"Mj_max\"]\n",
    "    z_ij = prod[\"z_ij\"]\n",
    "    z_ij_notilde = prod[\"z_ij_notilde\"]\n",
    "    \n",
    "    # Initialize matrices for wages, markdown, shares, and labor elasticity.\n",
    "    what_ij = np.zeros((Mj_max, J))\n",
    "    mu_ij   = np.zeros((Mj_max, J))\n",
    "    s_ij    = np.zeros((Mj_max, J))\n",
    "    eps_ij  = np.zeros((Mj_max, J))\n",
    "    \n",
    "    max_iter = 1000\n",
    "    alpha_tilde = 0.984\n",
    "    \n",
    "    for j in range(J):\n",
    "        m = Mj[j]\n",
    "        if m == 0:\n",
    "            continue\n",
    "        z_i = z_ij[:m, j]\n",
    "        w_i = np.zeros(m)\n",
    "        mu_i = np.zeros(m)\n",
    "        eps_i = np.zeros(m)\n",
    "        # initial guess for shares: proportional to productivity\n",
    "        s_i = z_i / np.sum(z_i)\n",
    "        iter_count = 0\n",
    "        while iter_count <= max_iter:\n",
    "            iter_count += 1\n",
    "            eps_i = 1.0 / (s_i/theta + (1 - s_i)/eta)\n",
    "            mu_i = eps_i / (eps_i + 1)\n",
    "            a1 = 1.0 / (1 + (1 - alpha_tilde)*theta)\n",
    "            a2 = -(1 - alpha_tilde)*(eta - theta) / (eta + 1)\n",
    "            w_i = np.power(mu_i * alpha_tilde * z_i * np.power(s_i, a2), a1)\n",
    "            W_j = np.power(np.sum(np.power(w_i, eta+1)), 1/(eta+1))\n",
    "            s_i_new = np.power(w_i / W_j, eta+1)\n",
    "            dist_S = np.max(np.abs(s_i_new - s_i))\n",
    "            if dist_S < 1e-5:\n",
    "                print(f\"Market {j+1}: Shares converged in {iter_count} iterations! Max. difference = {dist_S:.2e}\")\n",
    "                break\n",
    "            s_i = upsilon * s_i_new + (1 - upsilon) * s_i\n",
    "            s_i = s_i / np.sum(s_i)\n",
    "        # Store market-specific results into the full matrices\n",
    "        what_ij[:m, j] = w_i\n",
    "        mu_ij[:m, j]   = mu_i\n",
    "        s_ij[:m, j]    = s_i\n",
    "        eps_ij[:m, j]  = eps_i\n",
    "\n",
    "    # Compute sectoral wage indices\n",
    "    what_j = np.array([np.power(np.sum(np.power(what_ij[:Mj[j], j], eta+1)), 1/(eta+1)) for j in range(J)])\n",
    "    What = np.power(np.sum(np.power(what_j, eta+1)), 1/(eta+1))\n",
    "    \n",
    "    # Compute nhat_ij with appropriate broadcasting\n",
    "    nhat_ij = np.power(what_ij / what_j[None, :], eta) * np.power(what_j / What, theta)[None, :] * (What**phi)\n",
    "    \n",
    "    AveFirmSizehat_model = np.sum(nhat_ij) / np.sum(Mj)\n",
    "    AveEarningshat_model = np.sum(what_ij * nhat_ij) / np.sum(nhat_ij)\n",
    "    \n",
    "    # Data targets\n",
    "    AveFirmSize_data = 10\n",
    "    AveEarnings_data = 65000\n",
    "    \n",
    "    phi_tilde = (AveFirmSize_data / AveFirmSizehat_model) / ((AveEarnings_data / AveEarningshat_model)**phi)\n",
    "    Z_tilde = (phi_tilde**(1 - alpha_tilde)) * ((AveEarnings_data / AveEarningshat_model)**(1 + (1 - alpha_tilde)*phi)) \\\n",
    "              * (What** (-(1 - alpha_tilde)*(theta - phi)))\n",
    "    \n",
    "    # Scale up objects\n",
    "    omega = Z_tilde / (phi_tilde**(1 - alpha))\n",
    "    W = np.power(omega, 1/(1+(1-alpha)*phi)) * np.power(What, (1+(1-alpha)*theta)/(1+(1-alpha)*phi))\n",
    "    w_ij = np.power(omega, 1/(1+(1-alpha)*theta)) * np.power(W, ((1-alpha)*(theta-phi))/(1+(1-alpha)*theta)) * what_ij\n",
    "    w_j = np.array([np.power(np.sum(np.power(w_ij[:Mj[j], j], eta+1)), 1/(eta+1)) for j in range(J)])\n",
    "    n_ij = phi_tilde * np.power(w_ij / w_j[None, :], eta) * np.power(w_j / W, theta)[None, :] * (W**phi)\n",
    "    n_j = np.array([np.power(np.sum(np.power(n_ij[:Mj[j], j], (eta+1)/eta)), eta/(eta+1)) for j in range(J)])\n",
    "    N = np.power(np.sum(np.power(n_j, (theta+1)/theta)), theta/(theta+1))\n",
    "    lshare_ij = alpha_tilde * mu_ij\n",
    "    Z_bar = Z_tilde**(1 - (1-gamma)*alpha)\n",
    "    k_ij = np.power(((1 - gamma) * alpha * z_ij * Z_bar / R), 1/(1 - (1-gamma)*alpha)) \\\n",
    "           * np.power(n_ij, (gamma * alpha)/(1 - (1-gamma)*alpha))\n",
    "    y_ij = Z_bar * z_ij_notilde * np.power(np.power(k_ij, 1-gamma) * np.power(n_ij, gamma), alpha)\n",
    "    pi_ij = y_ij - w_ij * n_ij - R * k_ij\n",
    "\n",
    "    AveFirmSizehat_model = np.sum(n_ij) / np.sum(Mj)\n",
    "    AveEarningshat_model = np.sum(w_ij * n_ij) / np.sum(n_ij)\n",
    "    print(f\"Equilibrium computation completed for all {J} markets!\")\n",
    "    \n",
    "    return {\"Z_bar\": Z_bar, \"pi_ij\": pi_ij, \"z_ij\": z_ij, \"y_ij\": y_ij, \"w_ij\": w_ij,\n",
    "            \"n_ij\": n_ij, \"k_ij\": k_ij, \"s_ij\": s_ij, \"mu_ij\": mu_ij, \"eps_ij\": eps_ij,\n",
    "            \"lshare_ij\": lshare_ij, \"Mj\": Mj, \"N\": N,\n",
    "            \"AveFirmSizehat_model\": AveFirmSizehat_model, \"AveEarningshat_model\": AveEarningshat_model}\n",
    "\n",
    "print(\"Function definitions loaded.\")"
   ]
  },
  {
   "cell_type": "markdown",
   "id": "89e30a85",
   "metadata": {},
   "source": [
    "## Run Simulation "
   ]
  },
  {
   "cell_type": "code",
   "execution_count": 7,
   "id": "2667308a-d728-4a45-8dd2-b0f35940e3a2",
   "metadata": {},
   "outputs": [
    {
     "name": "stdout",
     "output_type": "stream",
     "text": [
      "Market 1: Shares converged in 36 iterations! Max. difference = 9.25e-06\n",
      "Market 2: Shares converged in 43 iterations! Max. difference = 7.81e-06\n",
      "Market 3: Shares converged in 1 iterations! Max. difference = 0.00e+00\n",
      "Market 4: Shares converged in 38 iterations! Max. difference = 8.76e-06\n",
      "Market 5: Shares converged in 37 iterations! Max. difference = 8.86e-06\n",
      "Market 6: Shares converged in 1 iterations! Max. difference = 0.00e+00\n",
      "Market 7: Shares converged in 37 iterations! Max. difference = 8.69e-06\n",
      "Market 8: Shares converged in 35 iterations! Max. difference = 9.96e-06\n",
      "Market 9: Shares converged in 37 iterations! Max. difference = 8.70e-06\n",
      "Market 10: Shares converged in 37 iterations! Max. difference = 7.94e-06\n",
      "Market 11: Shares converged in 38 iterations! Max. difference = 9.67e-06\n",
      "Market 12: Shares converged in 37 iterations! Max. difference = 9.70e-06\n",
      "Market 13: Shares converged in 38 iterations! Max. difference = 8.67e-06\n",
      "Market 14: Shares converged in 39 iterations! Max. difference = 9.16e-06\n",
      "Market 15: Shares converged in 36 iterations! Max. difference = 9.00e-06\n",
      "Market 16: Shares converged in 1 iterations! Max. difference = 0.00e+00\n",
      "Market 17: Shares converged in 38 iterations! Max. difference = 7.93e-06\n",
      "Market 18: Shares converged in 37 iterations! Max. difference = 7.89e-06\n",
      "Market 19: Shares converged in 37 iterations! Max. difference = 8.49e-06\n",
      "Market 20: Shares converged in 37 iterations! Max. difference = 8.64e-06\n",
      "Market 21: Shares converged in 38 iterations! Max. difference = 8.43e-06\n",
      "Market 22: Shares converged in 37 iterations! Max. difference = 7.87e-06\n",
      "Market 23: Shares converged in 38 iterations! Max. difference = 9.10e-06\n",
      "Market 24: Shares converged in 37 iterations! Max. difference = 8.97e-06\n",
      "Market 25: Shares converged in 37 iterations! Max. difference = 9.04e-06\n",
      "Market 26: Shares converged in 37 iterations! Max. difference = 9.85e-06\n",
      "Market 27: Shares converged in 36 iterations! Max. difference = 8.87e-06\n",
      "Market 28: Shares converged in 39 iterations! Max. difference = 8.02e-06\n",
      "Market 29: Shares converged in 38 iterations! Max. difference = 8.46e-06\n",
      "Market 30: Shares converged in 37 iterations! Max. difference = 8.68e-06\n",
      "Market 31: Shares converged in 36 iterations! Max. difference = 8.83e-06\n",
      "Market 32: Shares converged in 39 iterations! Max. difference = 9.73e-06\n",
      "Market 33: Shares converged in 1 iterations! Max. difference = 0.00e+00\n",
      "Market 34: Shares converged in 37 iterations! Max. difference = 9.30e-06\n",
      "Market 35: Shares converged in 37 iterations! Max. difference = 9.52e-06\n",
      "Market 36: Shares converged in 38 iterations! Max. difference = 9.09e-06\n",
      "Market 37: Shares converged in 36 iterations! Max. difference = 7.85e-06\n",
      "Market 38: Shares converged in 37 iterations! Max. difference = 7.82e-06\n",
      "Market 39: Shares converged in 36 iterations! Max. difference = 9.11e-06\n",
      "Market 40: Shares converged in 36 iterations! Max. difference = 9.18e-06\n",
      "Market 41: Shares converged in 37 iterations! Max. difference = 9.95e-06\n",
      "Market 42: Shares converged in 38 iterations! Max. difference = 9.28e-06\n",
      "Market 43: Shares converged in 38 iterations! Max. difference = 9.84e-06\n",
      "Market 44: Shares converged in 38 iterations! Max. difference = 8.71e-06\n",
      "Market 45: Shares converged in 39 iterations! Max. difference = 7.84e-06\n",
      "Market 46: Shares converged in 37 iterations! Max. difference = 9.26e-06\n",
      "Market 47: Shares converged in 36 iterations! Max. difference = 9.01e-06\n",
      "Market 48: Shares converged in 37 iterations! Max. difference = 9.98e-06\n",
      "Market 49: Shares converged in 37 iterations! Max. difference = 8.40e-06\n",
      "Market 50: Shares converged in 38 iterations! Max. difference = 7.96e-06\n"
     ]
    },
    {
     "name": "stdout",
     "output_type": "stream",
     "text": [
      "Market 51: Shares converged in 39 iterations! Max. difference = 9.66e-06\n",
      "Market 52: Shares converged in 1 iterations! Max. difference = 0.00e+00\n",
      "Market 53: Shares converged in 38 iterations! Max. difference = 9.46e-06\n",
      "Market 54: Shares converged in 36 iterations! Max. difference = 9.29e-06\n",
      "Market 55: Shares converged in 38 iterations! Max. difference = 9.17e-06\n",
      "Market 56: Shares converged in 37 iterations! Max. difference = 8.41e-06\n",
      "Market 57: Shares converged in 36 iterations! Max. difference = 8.91e-06\n",
      "Market 58: Shares converged in 38 iterations! Max. difference = 8.46e-06\n",
      "Market 59: Shares converged in 38 iterations! Max. difference = 8.22e-06\n",
      "Market 60: Shares converged in 1 iterations! Max. difference = 1.11e-15\n",
      "Market 61: Shares converged in 38 iterations! Max. difference = 8.12e-06\n",
      "Market 62: Shares converged in 37 iterations! Max. difference = 8.75e-06\n",
      "Market 63: Shares converged in 37 iterations! Max. difference = 9.91e-06\n",
      "Market 64: Shares converged in 39 iterations! Max. difference = 7.91e-06\n",
      "Market 65: Shares converged in 38 iterations! Max. difference = 8.73e-06\n",
      "Market 66: Shares converged in 38 iterations! Max. difference = 8.16e-06\n",
      "Market 67: Shares converged in 41 iterations! Max. difference = 8.59e-06\n",
      "Market 68: Shares converged in 37 iterations! Max. difference = 9.74e-06\n",
      "Market 69: Shares converged in 37 iterations! Max. difference = 7.83e-06\n",
      "Market 70: Shares converged in 40 iterations! Max. difference = 8.41e-06\n",
      "Market 71: Shares converged in 37 iterations! Max. difference = 9.74e-06\n",
      "Market 72: Shares converged in 39 iterations! Max. difference = 8.35e-06\n",
      "Market 73: Shares converged in 40 iterations! Max. difference = 9.22e-06\n",
      "Market 74: Shares converged in 38 iterations! Max. difference = 9.85e-06\n",
      "Market 75: Shares converged in 37 iterations! Max. difference = 8.15e-06\n",
      "Market 76: Shares converged in 39 iterations! Max. difference = 8.61e-06\n",
      "Market 77: Shares converged in 1 iterations! Max. difference = 1.11e-15\n",
      "Market 78: Shares converged in 40 iterations! Max. difference = 9.93e-06\n",
      "Market 79: Shares converged in 37 iterations! Max. difference = 8.95e-06\n",
      "Market 80: Shares converged in 37 iterations! Max. difference = 9.16e-06\n",
      "Market 81: Shares converged in 38 iterations! Max. difference = 7.94e-06\n",
      "Market 82: Shares converged in 1 iterations! Max. difference = 0.00e+00\n",
      "Market 83: Shares converged in 39 iterations! Max. difference = 7.94e-06\n",
      "Market 84: Shares converged in 1 iterations! Max. difference = 0.00e+00\n",
      "Market 85: Shares converged in 38 iterations! Max. difference = 8.11e-06\n",
      "Market 86: Shares converged in 35 iterations! Max. difference = 9.26e-06\n",
      "Market 87: Shares converged in 1 iterations! Max. difference = 0.00e+00\n",
      "Market 88: Shares converged in 1 iterations! Max. difference = 0.00e+00\n",
      "Market 89: Shares converged in 1 iterations! Max. difference = 0.00e+00\n",
      "Market 90: Shares converged in 37 iterations! Max. difference = 7.98e-06\n",
      "Market 91: Shares converged in 36 iterations! Max. difference = 9.93e-06\n",
      "Market 92: Shares converged in 1 iterations! Max. difference = 0.00e+00\n",
      "Market 93: Shares converged in 39 iterations! Max. difference = 9.21e-06\n",
      "Market 94: Shares converged in 38 iterations! Max. difference = 8.21e-06\n",
      "Market 95: Shares converged in 38 iterations! Max. difference = 9.59e-06\n",
      "Market 96: Shares converged in 38 iterations! Max. difference = 8.43e-06\n",
      "Market 97: Shares converged in 37 iterations! Max. difference = 8.25e-06\n",
      "Market 98: Shares converged in 41 iterations! Max. difference = 8.25e-06\n",
      "Market 99: Shares converged in 37 iterations! Max. difference = 9.72e-06\n",
      "Market 100: Shares converged in 37 iterations! Max. difference = 7.76e-06\n",
      "Market 101: Shares converged in 39 iterations! Max. difference = 8.14e-06\n",
      "Market 102: Shares converged in 37 iterations! Max. difference = 8.55e-06\n",
      "Market 103: Shares converged in 41 iterations! Max. difference = 8.12e-06\n",
      "Market 104: Shares converged in 37 iterations! Max. difference = 7.94e-06\n",
      "Market 105: Shares converged in 38 iterations! Max. difference = 7.77e-06\n",
      "Market 106: Shares converged in 37 iterations! Max. difference = 9.64e-06\n",
      "Market 107: Shares converged in 40 iterations! Max. difference = 8.98e-06\n",
      "Market 108: Shares converged in 36 iterations! Max. difference = 9.10e-06\n",
      "Market 109: Shares converged in 37 iterations! Max. difference = 8.01e-06\n",
      "Market 110: Shares converged in 39 iterations! Max. difference = 7.99e-06\n",
      "Market 111: Shares converged in 1 iterations! Max. difference = 0.00e+00\n",
      "Market 112: Shares converged in 41 iterations! Max. difference = 8.01e-06\n",
      "Market 113: Shares converged in 40 iterations! Max. difference = 8.96e-06\n",
      "Market 114: Shares converged in 36 iterations! Max. difference = 8.93e-06\n",
      "Market 115: Shares converged in 39 iterations! Max. difference = 7.98e-06\n",
      "Market 116: Shares converged in 38 iterations! Max. difference = 8.41e-06\n",
      "Market 117: Shares converged in 39 iterations! Max. difference = 8.60e-06\n",
      "Market 118: Shares converged in 39 iterations! Max. difference = 9.96e-06\n",
      "Market 119: Shares converged in 38 iterations! Max. difference = 8.50e-06\n",
      "Market 120: Shares converged in 38 iterations! Max. difference = 7.97e-06\n",
      "Market 121: Shares converged in 37 iterations! Max. difference = 9.02e-06\n",
      "Market 122: Shares converged in 35 iterations! Max. difference = 9.21e-06\n",
      "Market 123: Shares converged in 37 iterations! Max. difference = 9.82e-06\n",
      "Market 124: Shares converged in 1 iterations! Max. difference = 0.00e+00\n",
      "Market 125: Shares converged in 40 iterations! Max. difference = 9.87e-06\n",
      "Market 126: Shares converged in 1 iterations! Max. difference = 0.00e+00\n",
      "Market 127: Shares converged in 36 iterations! Max. difference = 9.80e-06\n",
      "Market 128: Shares converged in 37 iterations! Max. difference = 8.29e-06\n",
      "Market 129: Shares converged in 1 iterations! Max. difference = 0.00e+00\n",
      "Market 130: Shares converged in 1 iterations! Max. difference = 0.00e+00\n",
      "Market 131: Shares converged in 38 iterations! Max. difference = 9.18e-06\n",
      "Market 132: Shares converged in 41 iterations! Max. difference = 7.77e-06\n",
      "Market 133: Shares converged in 42 iterations! Max. difference = 8.29e-06\n",
      "Market 134: Shares converged in 36 iterations! Max. difference = 8.21e-06\n",
      "Market 135: Shares converged in 37 iterations! Max. difference = 9.31e-06\n",
      "Market 136: Shares converged in 38 iterations! Max. difference = 8.37e-06\n",
      "Market 137: Shares converged in 39 iterations! Max. difference = 8.51e-06\n",
      "Market 138: Shares converged in 35 iterations! Max. difference = 8.90e-06\n",
      "Market 139: Shares converged in 36 iterations! Max. difference = 9.34e-06\n",
      "Market 140: Shares converged in 36 iterations! Max. difference = 7.84e-06\n",
      "Market 141: Shares converged in 35 iterations! Max. difference = 9.64e-06\n",
      "Market 142: Shares converged in 37 iterations! Max. difference = 8.42e-06\n",
      "Market 143: Shares converged in 36 iterations! Max. difference = 7.94e-06\n",
      "Market 144: Shares converged in 37 iterations! Max. difference = 7.94e-06\n",
      "Market 145: Shares converged in 40 iterations! Max. difference = 8.15e-06\n",
      "Market 146: Shares converged in 38 iterations! Max. difference = 8.36e-06\n",
      "Market 147: Shares converged in 38 iterations! Max. difference = 7.75e-06\n",
      "Market 148: Shares converged in 41 iterations! Max. difference = 8.77e-06\n",
      "Market 149: Shares converged in 38 iterations! Max. difference = 8.17e-06\n",
      "Market 150: Shares converged in 36 iterations! Max. difference = 8.44e-06\n",
      "Market 151: Shares converged in 37 iterations! Max. difference = 8.80e-06\n",
      "Market 152: Shares converged in 37 iterations! Max. difference = 8.76e-06\n",
      "Market 153: Shares converged in 41 iterations! Max. difference = 8.10e-06\n",
      "Market 154: Shares converged in 36 iterations! Max. difference = 9.96e-06\n",
      "Market 155: Shares converged in 39 iterations! Max. difference = 8.28e-06\n",
      "Market 156: Shares converged in 37 iterations! Max. difference = 7.96e-06\n",
      "Market 157: Shares converged in 37 iterations! Max. difference = 9.01e-06\n",
      "Market 158: Shares converged in 40 iterations! Max. difference = 7.77e-06\n",
      "Market 159: Shares converged in 37 iterations! Max. difference = 8.59e-06\n",
      "Market 160: Shares converged in 38 iterations! Max. difference = 8.14e-06\n",
      "Market 161: Shares converged in 40 iterations! Max. difference = 8.33e-06\n",
      "Market 162: Shares converged in 41 iterations! Max. difference = 8.53e-06\n",
      "Market 163: Shares converged in 1 iterations! Max. difference = 0.00e+00\n",
      "Market 164: Shares converged in 39 iterations! Max. difference = 8.17e-06\n",
      "Market 165: Shares converged in 1 iterations! Max. difference = 0.00e+00\n",
      "Market 166: Shares converged in 37 iterations! Max. difference = 8.76e-06\n",
      "Market 167: Shares converged in 1 iterations! Max. difference = 0.00e+00\n",
      "Market 168: Shares converged in 1 iterations! Max. difference = 0.00e+00\n",
      "Market 169: Shares converged in 38 iterations! Max. difference = 9.70e-06\n",
      "Market 170: Shares converged in 39 iterations! Max. difference = 9.41e-06\n",
      "Market 171: Shares converged in 38 iterations! Max. difference = 9.58e-06\n",
      "Market 172: Shares converged in 39 iterations! Max. difference = 9.33e-06\n",
      "Market 173: Shares converged in 37 iterations! Max. difference = 9.17e-06\n",
      "Market 174: Shares converged in 37 iterations! Max. difference = 8.50e-06\n",
      "Market 175: Shares converged in 39 iterations! Max. difference = 8.29e-06\n",
      "Market 176: Shares converged in 1 iterations! Max. difference = 0.00e+00\n",
      "Market 177: Shares converged in 1 iterations! Max. difference = 0.00e+00\n",
      "Market 178: Shares converged in 36 iterations! Max. difference = 8.90e-06\n",
      "Market 179: Shares converged in 36 iterations! Max. difference = 9.08e-06\n",
      "Market 180: Shares converged in 43 iterations! Max. difference = 9.45e-06\n",
      "Market 181: Shares converged in 38 iterations! Max. difference = 8.19e-06\n",
      "Market 182: Shares converged in 38 iterations! Max. difference = 9.23e-06\n",
      "Market 183: Shares converged in 1 iterations! Max. difference = 0.00e+00\n",
      "Market 184: Shares converged in 37 iterations! Max. difference = 9.96e-06\n",
      "Market 185: Shares converged in 38 iterations! Max. difference = 8.24e-06\n",
      "Market 186: Shares converged in 39 iterations! Max. difference = 8.05e-06\n",
      "Market 187: Shares converged in 37 iterations! Max. difference = 9.10e-06\n",
      "Market 188: Shares converged in 1 iterations! Max. difference = 0.00e+00\n",
      "Market 189: Shares converged in 38 iterations! Max. difference = 9.39e-06\n",
      "Market 190: Shares converged in 1 iterations! Max. difference = 0.00e+00\n",
      "Market 191: Shares converged in 40 iterations! Max. difference = 8.58e-06\n",
      "Market 192: Shares converged in 37 iterations! Max. difference = 7.91e-06\n",
      "Market 193: Shares converged in 36 iterations! Max. difference = 9.12e-06\n",
      "Market 194: Shares converged in 45 iterations! Max. difference = 9.56e-06\n",
      "Market 195: Shares converged in 37 iterations! Max. difference = 9.45e-06\n",
      "Market 196: Shares converged in 37 iterations! Max. difference = 9.26e-06\n",
      "Market 197: Shares converged in 37 iterations! Max. difference = 9.82e-06\n",
      "Market 198: Shares converged in 1 iterations! Max. difference = 0.00e+00\n",
      "Market 199: Shares converged in 35 iterations! Max. difference = 9.72e-06\n",
      "Market 200: Shares converged in 37 iterations! Max. difference = 9.26e-06\n",
      "Market 201: Shares converged in 38 iterations! Max. difference = 8.52e-06\n",
      "Market 202: Shares converged in 35 iterations! Max. difference = 9.83e-06\n",
      "Market 203: Shares converged in 38 iterations! Max. difference = 7.84e-06\n",
      "Market 204: Shares converged in 37 iterations! Max. difference = 8.56e-06\n",
      "Market 205: Shares converged in 38 iterations! Max. difference = 9.95e-06\n",
      "Market 206: Shares converged in 38 iterations! Max. difference = 9.37e-06\n",
      "Market 207: Shares converged in 38 iterations! Max. difference = 8.04e-06\n",
      "Market 208: Shares converged in 35 iterations! Max. difference = 8.96e-06\n",
      "Market 209: Shares converged in 36 iterations! Max. difference = 9.52e-06\n",
      "Market 210: Shares converged in 38 iterations! Max. difference = 7.84e-06\n",
      "Market 211: Shares converged in 37 iterations! Max. difference = 9.89e-06\n",
      "Market 212: Shares converged in 38 iterations! Max. difference = 9.23e-06\n",
      "Market 213: Shares converged in 1 iterations! Max. difference = 0.00e+00\n",
      "Market 214: Shares converged in 38 iterations! Max. difference = 7.82e-06\n",
      "Market 215: Shares converged in 37 iterations! Max. difference = 8.55e-06\n",
      "Market 216: Shares converged in 36 iterations! Max. difference = 9.44e-06\n",
      "Market 217: Shares converged in 37 iterations! Max. difference = 8.28e-06\n",
      "Market 218: Shares converged in 40 iterations! Max. difference = 8.29e-06\n",
      "Market 219: Shares converged in 38 iterations! Max. difference = 9.47e-06\n",
      "Market 220: Shares converged in 36 iterations! Max. difference = 9.47e-06\n",
      "Market 221: Shares converged in 37 iterations! Max. difference = 9.70e-06\n",
      "Market 222: Shares converged in 38 iterations! Max. difference = 9.97e-06\n",
      "Market 223: Shares converged in 38 iterations! Max. difference = 7.96e-06\n",
      "Market 224: Shares converged in 37 iterations! Max. difference = 8.01e-06\n",
      "Market 225: Shares converged in 37 iterations! Max. difference = 9.01e-06\n",
      "Market 226: Shares converged in 1 iterations! Max. difference = 1.11e-15\n",
      "Market 227: Shares converged in 1 iterations! Max. difference = 0.00e+00\n",
      "Market 228: Shares converged in 39 iterations! Max. difference = 8.33e-06\n",
      "Market 229: Shares converged in 37 iterations! Max. difference = 9.51e-06\n",
      "Market 230: Shares converged in 36 iterations! Max. difference = 9.60e-06\n",
      "Market 231: Shares converged in 36 iterations! Max. difference = 8.52e-06\n",
      "Market 232: Shares converged in 37 iterations! Max. difference = 7.98e-06\n",
      "Market 233: Shares converged in 35 iterations! Max. difference = 7.76e-06\n",
      "Market 234: Shares converged in 36 iterations! Max. difference = 9.13e-06\n",
      "Market 235: Shares converged in 39 iterations! Max. difference = 8.79e-06\n",
      "Market 236: Shares converged in 1 iterations! Max. difference = 1.11e-15\n",
      "Market 237: Shares converged in 38 iterations! Max. difference = 9.79e-06\n",
      "Market 238: Shares converged in 1 iterations! Max. difference = 0.00e+00\n",
      "Market 239: Shares converged in 37 iterations! Max. difference = 8.73e-06\n",
      "Market 240: Shares converged in 36 iterations! Max. difference = 9.49e-06\n",
      "Market 241: Shares converged in 38 iterations! Max. difference = 8.05e-06\n",
      "Market 242: Shares converged in 38 iterations! Max. difference = 9.85e-06\n",
      "Market 243: Shares converged in 38 iterations! Max. difference = 8.00e-06\n",
      "Market 244: Shares converged in 37 iterations! Max. difference = 8.19e-06\n",
      "Market 245: Shares converged in 45 iterations! Max. difference = 8.16e-06\n",
      "Market 246: Shares converged in 38 iterations! Max. difference = 8.38e-06\n",
      "Market 247: Shares converged in 35 iterations! Max. difference = 9.74e-06\n",
      "Market 248: Shares converged in 39 iterations! Max. difference = 7.97e-06\n",
      "Market 249: Shares converged in 38 iterations! Max. difference = 7.96e-06\n",
      "Market 250: Shares converged in 1 iterations! Max. difference = 0.00e+00\n",
      "Market 251: Shares converged in 37 iterations! Max. difference = 8.97e-06\n",
      "Market 252: Shares converged in 38 iterations! Max. difference = 7.82e-06\n",
      "Market 253: Shares converged in 39 iterations! Max. difference = 8.45e-06\n",
      "Market 254: Shares converged in 40 iterations! Max. difference = 8.81e-06\n",
      "Market 255: Shares converged in 36 iterations! Max. difference = 9.83e-06\n",
      "Market 256: Shares converged in 36 iterations! Max. difference = 9.81e-06\n",
      "Market 257: Shares converged in 37 iterations! Max. difference = 8.10e-06\n",
      "Market 258: Shares converged in 38 iterations! Max. difference = 9.44e-06\n",
      "Market 259: Shares converged in 36 iterations! Max. difference = 8.11e-06\n",
      "Market 260: Shares converged in 36 iterations! Max. difference = 9.94e-06\n",
      "Market 261: Shares converged in 36 iterations! Max. difference = 9.92e-06\n",
      "Market 262: Shares converged in 38 iterations! Max. difference = 8.19e-06\n",
      "Market 263: Shares converged in 38 iterations! Max. difference = 8.47e-06\n",
      "Market 264: Shares converged in 37 iterations! Max. difference = 9.34e-06\n",
      "Market 265: Shares converged in 35 iterations! Max. difference = 8.46e-06\n",
      "Market 266: Shares converged in 37 iterations! Max. difference = 7.78e-06\n",
      "Market 267: Shares converged in 37 iterations! Max. difference = 8.13e-06\n",
      "Market 268: Shares converged in 37 iterations! Max. difference = 8.13e-06\n",
      "Market 269: Shares converged in 35 iterations! Max. difference = 9.99e-06\n",
      "Market 270: Shares converged in 38 iterations! Max. difference = 9.41e-06\n",
      "Market 271: Shares converged in 40 iterations! Max. difference = 8.39e-06\n",
      "Market 272: Shares converged in 39 iterations! Max. difference = 9.58e-06\n",
      "Market 273: Shares converged in 36 iterations! Max. difference = 8.37e-06\n",
      "Market 274: Shares converged in 37 iterations! Max. difference = 8.65e-06\n",
      "Market 275: Shares converged in 36 iterations! Max. difference = 9.25e-06\n",
      "Market 276: Shares converged in 37 iterations! Max. difference = 9.54e-06\n",
      "Market 277: Shares converged in 36 iterations! Max. difference = 8.45e-06\n",
      "Market 278: Shares converged in 38 iterations! Max. difference = 8.15e-06\n",
      "Market 279: Shares converged in 38 iterations! Max. difference = 8.22e-06\n",
      "Market 280: Shares converged in 38 iterations! Max. difference = 9.80e-06\n",
      "Market 281: Shares converged in 36 iterations! Max. difference = 9.56e-06\n",
      "Market 282: Shares converged in 40 iterations! Max. difference = 8.54e-06\n",
      "Market 283: Shares converged in 1 iterations! Max. difference = 0.00e+00\n",
      "Market 284: Shares converged in 36 iterations! Max. difference = 8.88e-06\n",
      "Market 285: Shares converged in 38 iterations! Max. difference = 9.71e-06\n",
      "Market 286: Shares converged in 38 iterations! Max. difference = 9.87e-06\n",
      "Market 287: Shares converged in 1 iterations! Max. difference = 0.00e+00\n",
      "Market 288: Shares converged in 1 iterations! Max. difference = 0.00e+00\n",
      "Market 289: Shares converged in 41 iterations! Max. difference = 7.91e-06\n",
      "Market 290: Shares converged in 37 iterations! Max. difference = 9.00e-06\n",
      "Market 291: Shares converged in 35 iterations! Max. difference = 8.92e-06\n",
      "Market 292: Shares converged in 1 iterations! Max. difference = 0.00e+00\n",
      "Market 293: Shares converged in 37 iterations! Max. difference = 9.53e-06\n",
      "Market 294: Shares converged in 38 iterations! Max. difference = 7.67e-06\n",
      "Market 295: Shares converged in 37 iterations! Max. difference = 7.76e-06\n",
      "Market 296: Shares converged in 1 iterations! Max. difference = 0.00e+00\n",
      "Market 297: Shares converged in 39 iterations! Max. difference = 8.67e-06\n",
      "Market 298: Shares converged in 37 iterations! Max. difference = 9.66e-06\n",
      "Market 299: Shares converged in 34 iterations! Max. difference = 9.73e-06\n",
      "Market 300: Shares converged in 40 iterations! Max. difference = 8.35e-06\n",
      "Market 301: Shares converged in 36 iterations! Max. difference = 8.49e-06\n",
      "Market 302: Shares converged in 37 iterations! Max. difference = 8.62e-06\n",
      "Market 303: Shares converged in 36 iterations! Max. difference = 8.88e-06\n",
      "Market 304: Shares converged in 36 iterations! Max. difference = 8.22e-06\n",
      "Market 305: Shares converged in 37 iterations! Max. difference = 9.15e-06\n",
      "Market 306: Shares converged in 39 iterations! Max. difference = 8.23e-06\n",
      "Market 307: Shares converged in 1 iterations! Max. difference = 0.00e+00\n",
      "Market 308: Shares converged in 38 iterations! Max. difference = 8.80e-06\n",
      "Market 309: Shares converged in 36 iterations! Max. difference = 9.20e-06\n",
      "Market 310: Shares converged in 36 iterations! Max. difference = 9.15e-06\n",
      "Market 311: Shares converged in 37 iterations! Max. difference = 7.98e-06\n",
      "Market 312: Shares converged in 38 iterations! Max. difference = 8.45e-06\n",
      "Market 313: Shares converged in 38 iterations! Max. difference = 9.32e-06\n",
      "Market 314: Shares converged in 36 iterations! Max. difference = 8.10e-06\n",
      "Market 315: Shares converged in 39 iterations! Max. difference = 7.86e-06\n",
      "Market 316: Shares converged in 39 iterations! Max. difference = 9.87e-06\n",
      "Market 317: Shares converged in 1 iterations! Max. difference = 0.00e+00\n",
      "Market 318: Shares converged in 46 iterations! Max. difference = 8.21e-06\n",
      "Market 319: Shares converged in 36 iterations! Max. difference = 8.99e-06\n",
      "Market 320: Shares converged in 34 iterations! Max. difference = 9.52e-06\n",
      "Market 321: Shares converged in 40 iterations! Max. difference = 8.79e-06\n",
      "Market 322: Shares converged in 39 iterations! Max. difference = 7.94e-06\n",
      "Market 323: Shares converged in 38 iterations! Max. difference = 8.64e-06\n",
      "Market 324: Shares converged in 36 iterations! Max. difference = 8.88e-06\n",
      "Market 325: Shares converged in 37 iterations! Max. difference = 8.30e-06\n",
      "Market 326: Shares converged in 1 iterations! Max. difference = 0.00e+00\n",
      "Market 327: Shares converged in 1 iterations! Max. difference = 0.00e+00\n",
      "Market 328: Shares converged in 1 iterations! Max. difference = 0.00e+00\n",
      "Market 329: Shares converged in 1 iterations! Max. difference = 0.00e+00\n",
      "Market 330: Shares converged in 38 iterations! Max. difference = 7.85e-06\n",
      "Market 331: Shares converged in 38 iterations! Max. difference = 8.36e-06\n",
      "Market 332: Shares converged in 40 iterations! Max. difference = 8.34e-06\n",
      "Market 333: Shares converged in 39 iterations! Max. difference = 7.95e-06\n",
      "Market 334: Shares converged in 37 iterations! Max. difference = 9.99e-06\n",
      "Market 335: Shares converged in 36 iterations! Max. difference = 7.94e-06\n",
      "Market 336: Shares converged in 37 iterations! Max. difference = 8.52e-06\n",
      "Market 337: Shares converged in 1 iterations! Max. difference = 0.00e+00\n",
      "Market 338: Shares converged in 1 iterations! Max. difference = 0.00e+00\n",
      "Market 339: Shares converged in 35 iterations! Max. difference = 9.01e-06\n",
      "Market 340: Shares converged in 36 iterations! Max. difference = 9.54e-06\n",
      "Market 341: Shares converged in 38 iterations! Max. difference = 9.34e-06\n",
      "Market 342: Shares converged in 37 iterations! Max. difference = 9.74e-06\n",
      "Market 343: Shares converged in 37 iterations! Max. difference = 8.69e-06\n",
      "Market 344: Shares converged in 37 iterations! Max. difference = 9.68e-06\n",
      "Market 345: Shares converged in 37 iterations! Max. difference = 9.13e-06\n",
      "Market 346: Shares converged in 1 iterations! Max. difference = 0.00e+00\n",
      "Market 347: Shares converged in 39 iterations! Max. difference = 8.15e-06\n",
      "Market 348: Shares converged in 37 iterations! Max. difference = 9.34e-06\n",
      "Market 349: Shares converged in 36 iterations! Max. difference = 8.45e-06\n",
      "Market 350: Shares converged in 37 iterations! Max. difference = 8.72e-06\n",
      "Market 351: Shares converged in 38 iterations! Max. difference = 8.39e-06\n",
      "Market 352: Shares converged in 37 iterations! Max. difference = 8.84e-06\n",
      "Market 353: Shares converged in 36 iterations! Max. difference = 8.52e-06\n",
      "Market 354: Shares converged in 39 iterations! Max. difference = 8.38e-06\n",
      "Market 355: Shares converged in 37 iterations! Max. difference = 8.65e-06\n",
      "Market 356: Shares converged in 38 iterations! Max. difference = 9.03e-06\n",
      "Market 357: Shares converged in 38 iterations! Max. difference = 8.76e-06\n",
      "Market 358: Shares converged in 36 iterations! Max. difference = 9.23e-06\n",
      "Market 359: Shares converged in 38 iterations! Max. difference = 8.05e-06\n",
      "Market 360: Shares converged in 1 iterations! Max. difference = 0.00e+00\n",
      "Market 361: Shares converged in 37 iterations! Max. difference = 8.19e-06\n",
      "Market 362: Shares converged in 43 iterations! Max. difference = 8.35e-06\n",
      "Market 363: Shares converged in 1 iterations! Max. difference = 0.00e+00\n",
      "Market 364: Shares converged in 38 iterations! Max. difference = 8.46e-06\n",
      "Market 365: Shares converged in 1 iterations! Max. difference = 0.00e+00\n",
      "Market 366: Shares converged in 1 iterations! Max. difference = 0.00e+00\n",
      "Market 367: Shares converged in 37 iterations! Max. difference = 9.55e-06\n",
      "Market 368: Shares converged in 40 iterations! Max. difference = 8.89e-06\n",
      "Market 369: Shares converged in 38 iterations! Max. difference = 8.93e-06\n",
      "Market 370: Shares converged in 41 iterations! Max. difference = 8.31e-06\n",
      "Market 371: Shares converged in 1 iterations! Max. difference = 0.00e+00\n",
      "Market 372: Shares converged in 37 iterations! Max. difference = 8.52e-06\n",
      "Market 373: Shares converged in 38 iterations! Max. difference = 7.94e-06\n",
      "Market 374: Shares converged in 39 iterations! Max. difference = 9.04e-06\n",
      "Market 375: Shares converged in 36 iterations! Max. difference = 9.29e-06\n",
      "Market 376: Shares converged in 37 iterations! Max. difference = 9.92e-06\n",
      "Market 377: Shares converged in 1 iterations! Max. difference = 0.00e+00\n",
      "Market 378: Shares converged in 38 iterations! Max. difference = 9.03e-06\n",
      "Market 379: Shares converged in 37 iterations! Max. difference = 9.73e-06\n",
      "Market 380: Shares converged in 1 iterations! Max. difference = 0.00e+00\n",
      "Market 381: Shares converged in 38 iterations! Max. difference = 7.85e-06\n",
      "Market 382: Shares converged in 37 iterations! Max. difference = 9.73e-06\n",
      "Market 383: Shares converged in 37 iterations! Max. difference = 9.67e-06\n",
      "Market 384: Shares converged in 37 iterations! Max. difference = 8.01e-06\n",
      "Market 385: Shares converged in 37 iterations! Max. difference = 9.77e-06\n",
      "Market 386: Shares converged in 37 iterations! Max. difference = 8.01e-06\n",
      "Market 387: Shares converged in 39 iterations! Max. difference = 7.92e-06\n",
      "Market 388: Shares converged in 37 iterations! Max. difference = 9.61e-06\n",
      "Market 389: Shares converged in 1 iterations! Max. difference = 0.00e+00\n",
      "Market 390: Shares converged in 39 iterations! Max. difference = 9.09e-06\n",
      "Market 391: Shares converged in 38 iterations! Max. difference = 9.80e-06\n",
      "Market 392: Shares converged in 37 iterations! Max. difference = 8.54e-06\n",
      "Market 393: Shares converged in 1 iterations! Max. difference = 0.00e+00\n",
      "Market 394: Shares converged in 37 iterations! Max. difference = 8.42e-06\n",
      "Market 395: Shares converged in 38 iterations! Max. difference = 7.80e-06\n",
      "Market 396: Shares converged in 1 iterations! Max. difference = 0.00e+00\n",
      "Market 397: Shares converged in 35 iterations! Max. difference = 8.70e-06\n",
      "Market 398: Shares converged in 40 iterations! Max. difference = 9.13e-06\n",
      "Market 399: Shares converged in 1 iterations! Max. difference = 0.00e+00\n",
      "Market 400: Shares converged in 40 iterations! Max. difference = 9.08e-06\n",
      "Market 401: Shares converged in 36 iterations! Max. difference = 8.70e-06\n",
      "Market 402: Shares converged in 40 iterations! Max. difference = 9.38e-06\n",
      "Market 403: Shares converged in 40 iterations! Max. difference = 9.04e-06\n",
      "Market 404: Shares converged in 39 iterations! Max. difference = 8.92e-06\n",
      "Market 405: Shares converged in 1 iterations! Max. difference = 0.00e+00\n",
      "Market 406: Shares converged in 36 iterations! Max. difference = 8.11e-06\n",
      "Market 407: Shares converged in 37 iterations! Max. difference = 9.88e-06\n",
      "Market 408: Shares converged in 36 iterations! Max. difference = 8.96e-06\n",
      "Market 409: Shares converged in 1 iterations! Max. difference = 0.00e+00\n",
      "Market 410: Shares converged in 38 iterations! Max. difference = 8.20e-06\n",
      "Market 411: Shares converged in 36 iterations! Max. difference = 8.94e-06\n",
      "Market 412: Shares converged in 1 iterations! Max. difference = 0.00e+00\n",
      "Market 413: Shares converged in 37 iterations! Max. difference = 9.44e-06\n",
      "Market 414: Shares converged in 38 iterations! Max. difference = 8.41e-06\n",
      "Market 415: Shares converged in 38 iterations! Max. difference = 8.80e-06\n",
      "Market 416: Shares converged in 1 iterations! Max. difference = 1.11e-15\n",
      "Market 417: Shares converged in 37 iterations! Max. difference = 9.34e-06\n",
      "Market 418: Shares converged in 41 iterations! Max. difference = 7.94e-06\n",
      "Market 419: Shares converged in 39 iterations! Max. difference = 7.81e-06\n",
      "Market 420: Shares converged in 38 iterations! Max. difference = 9.17e-06\n",
      "Market 421: Shares converged in 37 iterations! Max. difference = 8.84e-06\n",
      "Market 422: Shares converged in 36 iterations! Max. difference = 8.48e-06\n",
      "Market 423: Shares converged in 40 iterations! Max. difference = 9.73e-06\n",
      "Market 424: Shares converged in 37 iterations! Max. difference = 8.83e-06\n",
      "Market 425: Shares converged in 37 iterations! Max. difference = 8.76e-06\n",
      "Market 426: Shares converged in 36 iterations! Max. difference = 9.91e-06\n",
      "Market 427: Shares converged in 36 iterations! Max. difference = 9.30e-06\n",
      "Market 428: Shares converged in 38 iterations! Max. difference = 9.34e-06\n",
      "Market 429: Shares converged in 37 iterations! Max. difference = 8.72e-06\n",
      "Market 430: Shares converged in 38 iterations! Max. difference = 8.79e-06\n",
      "Market 431: Shares converged in 34 iterations! Max. difference = 9.59e-06\n",
      "Market 432: Shares converged in 35 iterations! Max. difference = 9.68e-06\n",
      "Market 433: Shares converged in 1 iterations! Max. difference = 0.00e+00\n",
      "Market 434: Shares converged in 37 iterations! Max. difference = 8.31e-06\n",
      "Market 435: Shares converged in 1 iterations! Max. difference = 0.00e+00\n",
      "Market 436: Shares converged in 36 iterations! Max. difference = 9.08e-06\n",
      "Market 437: Shares converged in 38 iterations! Max. difference = 8.56e-06\n",
      "Market 438: Shares converged in 38 iterations! Max. difference = 8.82e-06\n",
      "Market 439: Shares converged in 39 iterations! Max. difference = 8.24e-06\n",
      "Market 440: Shares converged in 37 iterations! Max. difference = 9.49e-06\n",
      "Market 441: Shares converged in 38 iterations! Max. difference = 8.19e-06\n",
      "Market 442: Shares converged in 37 iterations! Max. difference = 7.62e-06\n",
      "Market 443: Shares converged in 39 iterations! Max. difference = 9.34e-06\n",
      "Market 444: Shares converged in 36 iterations! Max. difference = 9.56e-06\n",
      "Market 445: Shares converged in 33 iterations! Max. difference = 9.22e-06\n",
      "Market 446: Shares converged in 38 iterations! Max. difference = 7.88e-06\n",
      "Market 447: Shares converged in 36 iterations! Max. difference = 9.62e-06\n",
      "Market 448: Shares converged in 1 iterations! Max. difference = 0.00e+00\n",
      "Market 449: Shares converged in 42 iterations! Max. difference = 8.46e-06\n",
      "Market 450: Shares converged in 38 iterations! Max. difference = 8.95e-06\n",
      "Market 451: Shares converged in 36 iterations! Max. difference = 9.88e-06\n",
      "Market 452: Shares converged in 38 iterations! Max. difference = 8.44e-06\n",
      "Market 453: Shares converged in 37 iterations! Max. difference = 9.99e-06\n",
      "Market 454: Shares converged in 38 iterations! Max. difference = 9.43e-06\n",
      "Market 455: Shares converged in 37 iterations! Max. difference = 9.28e-06\n",
      "Market 456: Shares converged in 40 iterations! Max. difference = 8.46e-06\n",
      "Market 457: Shares converged in 37 iterations! Max. difference = 8.14e-06\n",
      "Market 458: Shares converged in 39 iterations! Max. difference = 8.50e-06\n",
      "Market 459: Shares converged in 1 iterations! Max. difference = 0.00e+00\n",
      "Market 460: Shares converged in 37 iterations! Max. difference = 8.91e-06\n",
      "Market 461: Shares converged in 38 iterations! Max. difference = 7.95e-06\n",
      "Market 462: Shares converged in 1 iterations! Max. difference = 0.00e+00\n",
      "Market 463: Shares converged in 37 iterations! Max. difference = 8.73e-06\n",
      "Market 464: Shares converged in 37 iterations! Max. difference = 8.15e-06\n",
      "Market 465: Shares converged in 39 iterations! Max. difference = 7.77e-06\n",
      "Market 466: Shares converged in 37 iterations! Max. difference = 8.05e-06\n",
      "Market 467: Shares converged in 41 iterations! Max. difference = 9.70e-06\n",
      "Market 468: Shares converged in 38 iterations! Max. difference = 7.88e-06\n",
      "Market 469: Shares converged in 36 iterations! Max. difference = 9.31e-06\n",
      "Market 470: Shares converged in 38 iterations! Max. difference = 9.17e-06\n",
      "Market 471: Shares converged in 38 iterations! Max. difference = 9.49e-06\n",
      "Market 472: Shares converged in 37 iterations! Max. difference = 9.06e-06\n",
      "Market 473: Shares converged in 1 iterations! Max. difference = 0.00e+00\n",
      "Market 474: Shares converged in 37 iterations! Max. difference = 8.58e-06\n",
      "Market 475: Shares converged in 36 iterations! Max. difference = 9.99e-06\n",
      "Market 476: Shares converged in 1 iterations! Max. difference = 0.00e+00\n",
      "Market 477: Shares converged in 1 iterations! Max. difference = 1.11e-15\n",
      "Market 478: Shares converged in 37 iterations! Max. difference = 7.83e-06\n",
      "Market 479: Shares converged in 37 iterations! Max. difference = 8.59e-06\n",
      "Market 480: Shares converged in 37 iterations! Max. difference = 9.82e-06\n",
      "Market 481: Shares converged in 42 iterations! Max. difference = 8.60e-06\n",
      "Market 482: Shares converged in 39 iterations! Max. difference = 9.38e-06\n",
      "Market 483: Shares converged in 38 iterations! Max. difference = 8.13e-06\n",
      "Market 484: Shares converged in 37 iterations! Max. difference = 9.68e-06\n",
      "Market 485: Shares converged in 37 iterations! Max. difference = 7.90e-06\n",
      "Market 486: Shares converged in 37 iterations! Max. difference = 9.51e-06\n",
      "Market 487: Shares converged in 40 iterations! Max. difference = 9.97e-06\n",
      "Market 488: Shares converged in 38 iterations! Max. difference = 8.13e-06\n",
      "Market 489: Shares converged in 41 iterations! Max. difference = 7.88e-06\n",
      "Market 490: Shares converged in 36 iterations! Max. difference = 9.75e-06\n",
      "Market 491: Shares converged in 37 iterations! Max. difference = 8.85e-06\n",
      "Market 492: Shares converged in 39 iterations! Max. difference = 7.98e-06\n",
      "Market 493: Shares converged in 36 iterations! Max. difference = 8.07e-06\n",
      "Market 494: Shares converged in 37 iterations! Max. difference = 9.97e-06\n",
      "Market 495: Shares converged in 1 iterations! Max. difference = 0.00e+00\n",
      "Market 496: Shares converged in 38 iterations! Max. difference = 9.40e-06\n",
      "Market 497: Shares converged in 37 iterations! Max. difference = 9.33e-06\n",
      "Market 498: Shares converged in 39 iterations! Max. difference = 9.92e-06\n",
      "Market 499: Shares converged in 38 iterations! Max. difference = 8.16e-06\n",
      "Market 500: Shares converged in 39 iterations! Max. difference = 9.46e-06\n",
      "Market 501: Shares converged in 38 iterations! Max. difference = 7.92e-06\n",
      "Market 502: Shares converged in 37 iterations! Max. difference = 7.77e-06\n",
      "Market 503: Shares converged in 38 iterations! Max. difference = 8.47e-06\n",
      "Market 504: Shares converged in 1 iterations! Max. difference = 0.00e+00\n",
      "Market 505: Shares converged in 39 iterations! Max. difference = 7.92e-06\n",
      "Market 506: Shares converged in 38 iterations! Max. difference = 8.84e-06\n",
      "Market 507: Shares converged in 37 iterations! Max. difference = 8.04e-06\n",
      "Market 508: Shares converged in 37 iterations! Max. difference = 8.56e-06\n",
      "Market 509: Shares converged in 36 iterations! Max. difference = 9.95e-06\n",
      "Market 510: Shares converged in 1 iterations! Max. difference = 0.00e+00\n",
      "Market 511: Shares converged in 36 iterations! Max. difference = 8.45e-06\n",
      "Market 512: Shares converged in 37 iterations! Max. difference = 8.77e-06\n",
      "Market 513: Shares converged in 37 iterations! Max. difference = 7.90e-06\n",
      "Market 514: Shares converged in 37 iterations! Max. difference = 9.93e-06\n",
      "Market 515: Shares converged in 38 iterations! Max. difference = 9.44e-06\n",
      "Market 516: Shares converged in 39 iterations! Max. difference = 8.68e-06\n",
      "Market 517: Shares converged in 36 iterations! Max. difference = 9.95e-06\n",
      "Market 518: Shares converged in 37 iterations! Max. difference = 8.66e-06\n",
      "Market 519: Shares converged in 40 iterations! Max. difference = 8.70e-06\n",
      "Market 520: Shares converged in 1 iterations! Max. difference = 0.00e+00\n",
      "Market 521: Shares converged in 1 iterations! Max. difference = 0.00e+00\n",
      "Market 522: Shares converged in 38 iterations! Max. difference = 8.59e-06\n",
      "Market 523: Shares converged in 1 iterations! Max. difference = 0.00e+00\n",
      "Market 524: Shares converged in 1 iterations! Max. difference = 0.00e+00\n",
      "Market 525: Shares converged in 37 iterations! Max. difference = 8.85e-06\n",
      "Market 526: Shares converged in 39 iterations! Max. difference = 9.78e-06\n",
      "Market 527: Shares converged in 39 iterations! Max. difference = 7.99e-06\n",
      "Market 528: Shares converged in 36 iterations! Max. difference = 8.95e-06\n",
      "Market 529: Shares converged in 1 iterations! Max. difference = 0.00e+00\n",
      "Market 530: Shares converged in 42 iterations! Max. difference = 9.27e-06\n",
      "Market 531: Shares converged in 40 iterations! Max. difference = 9.95e-06\n",
      "Market 532: Shares converged in 39 iterations! Max. difference = 8.31e-06\n",
      "Market 533: Shares converged in 38 iterations! Max. difference = 9.15e-06\n",
      "Market 534: Shares converged in 1 iterations! Max. difference = 0.00e+00\n",
      "Market 535: Shares converged in 36 iterations! Max. difference = 9.89e-06\n",
      "Market 536: Shares converged in 35 iterations! Max. difference = 9.14e-06\n",
      "Market 537: Shares converged in 37 iterations! Max. difference = 9.73e-06\n",
      "Market 538: Shares converged in 36 iterations! Max. difference = 9.76e-06\n",
      "Market 539: Shares converged in 38 iterations! Max. difference = 8.60e-06\n",
      "Market 540: Shares converged in 38 iterations! Max. difference = 8.82e-06\n",
      "Market 541: Shares converged in 37 iterations! Max. difference = 9.79e-06\n",
      "Market 542: Shares converged in 37 iterations! Max. difference = 8.17e-06\n",
      "Market 543: Shares converged in 39 iterations! Max. difference = 9.34e-06\n",
      "Market 544: Shares converged in 38 iterations! Max. difference = 9.34e-06\n",
      "Market 545: Shares converged in 37 iterations! Max. difference = 8.87e-06\n",
      "Market 546: Shares converged in 36 iterations! Max. difference = 9.42e-06\n",
      "Market 547: Shares converged in 36 iterations! Max. difference = 8.18e-06\n",
      "Market 548: Shares converged in 36 iterations! Max. difference = 8.70e-06\n",
      "Market 549: Shares converged in 36 iterations! Max. difference = 9.70e-06\n",
      "Market 550: Shares converged in 38 iterations! Max. difference = 9.03e-06\n",
      "Market 551: Shares converged in 39 iterations! Max. difference = 8.23e-06\n",
      "Market 552: Shares converged in 38 iterations! Max. difference = 7.90e-06\n",
      "Market 553: Shares converged in 1 iterations! Max. difference = 0.00e+00\n",
      "Market 554: Shares converged in 39 iterations! Max. difference = 8.35e-06\n",
      "Market 555: Shares converged in 40 iterations! Max. difference = 9.65e-06\n",
      "Market 556: Shares converged in 39 iterations! Max. difference = 8.13e-06\n",
      "Market 557: Shares converged in 37 iterations! Max. difference = 9.01e-06\n",
      "Market 558: Shares converged in 37 iterations! Max. difference = 7.92e-06\n",
      "Market 559: Shares converged in 1 iterations! Max. difference = 0.00e+00\n",
      "Market 560: Shares converged in 38 iterations! Max. difference = 8.23e-06\n",
      "Market 561: Shares converged in 40 iterations! Max. difference = 8.37e-06\n",
      "Market 562: Shares converged in 38 iterations! Max. difference = 7.95e-06\n",
      "Market 563: Shares converged in 36 iterations! Max. difference = 7.79e-06\n",
      "Market 564: Shares converged in 37 iterations! Max. difference = 9.53e-06\n",
      "Market 565: Shares converged in 38 iterations! Max. difference = 9.59e-06\n",
      "Market 566: Shares converged in 37 iterations! Max. difference = 7.99e-06\n",
      "Market 567: Shares converged in 1 iterations! Max. difference = 0.00e+00\n",
      "Market 568: Shares converged in 1 iterations! Max. difference = 0.00e+00\n",
      "Market 569: Shares converged in 37 iterations! Max. difference = 8.09e-06\n",
      "Market 570: Shares converged in 36 iterations! Max. difference = 8.75e-06\n",
      "Market 571: Shares converged in 36 iterations! Max. difference = 9.10e-06\n",
      "Market 572: Shares converged in 36 iterations! Max. difference = 7.84e-06\n",
      "Market 573: Shares converged in 38 iterations! Max. difference = 9.84e-06\n",
      "Market 574: Shares converged in 39 iterations! Max. difference = 9.48e-06\n",
      "Market 575: Shares converged in 38 iterations! Max. difference = 7.98e-06\n",
      "Market 576: Shares converged in 37 iterations! Max. difference = 9.35e-06\n",
      "Market 577: Shares converged in 38 iterations! Max. difference = 9.90e-06\n",
      "Market 578: Shares converged in 37 iterations! Max. difference = 8.86e-06\n",
      "Market 579: Shares converged in 36 iterations! Max. difference = 9.12e-06\n",
      "Market 580: Shares converged in 43 iterations! Max. difference = 7.91e-06\n",
      "Market 581: Shares converged in 38 iterations! Max. difference = 7.80e-06\n",
      "Market 582: Shares converged in 37 iterations! Max. difference = 7.86e-06\n",
      "Market 583: Shares converged in 1 iterations! Max. difference = 0.00e+00\n",
      "Market 584: Shares converged in 41 iterations! Max. difference = 7.97e-06\n",
      "Market 585: Shares converged in 36 iterations! Max. difference = 8.58e-06\n",
      "Market 586: Shares converged in 36 iterations! Max. difference = 9.11e-06\n",
      "Market 587: Shares converged in 36 iterations! Max. difference = 8.52e-06\n",
      "Market 588: Shares converged in 36 iterations! Max. difference = 9.24e-06\n",
      "Market 589: Shares converged in 36 iterations! Max. difference = 9.64e-06\n",
      "Market 590: Shares converged in 37 iterations! Max. difference = 7.81e-06\n",
      "Market 591: Shares converged in 38 iterations! Max. difference = 8.04e-06\n",
      "Market 592: Shares converged in 37 iterations! Max. difference = 8.11e-06\n",
      "Market 593: Shares converged in 38 iterations! Max. difference = 9.18e-06\n",
      "Market 594: Shares converged in 39 iterations! Max. difference = 8.38e-06\n",
      "Market 595: Shares converged in 37 iterations! Max. difference = 9.73e-06\n",
      "Market 596: Shares converged in 37 iterations! Max. difference = 8.13e-06\n",
      "Market 597: Shares converged in 39 iterations! Max. difference = 8.15e-06\n",
      "Market 598: Shares converged in 38 iterations! Max. difference = 8.36e-06\n",
      "Market 599: Shares converged in 1 iterations! Max. difference = 0.00e+00\n",
      "Market 600: Shares converged in 37 iterations! Max. difference = 9.44e-06\n",
      "Market 601: Shares converged in 39 iterations! Max. difference = 8.35e-06\n",
      "Market 602: Shares converged in 36 iterations! Max. difference = 9.38e-06\n",
      "Market 603: Shares converged in 36 iterations! Max. difference = 9.74e-06\n",
      "Market 604: Shares converged in 1 iterations! Max. difference = 0.00e+00\n",
      "Market 605: Shares converged in 38 iterations! Max. difference = 8.57e-06\n",
      "Market 606: Shares converged in 1 iterations! Max. difference = 0.00e+00\n",
      "Market 607: Shares converged in 35 iterations! Max. difference = 9.48e-06\n",
      "Market 608: Shares converged in 1 iterations! Max. difference = 0.00e+00\n",
      "Market 609: Shares converged in 37 iterations! Max. difference = 8.72e-06\n",
      "Market 610: Shares converged in 38 iterations! Max. difference = 9.54e-06\n",
      "Market 611: Shares converged in 36 iterations! Max. difference = 9.50e-06\n",
      "Market 612: Shares converged in 1 iterations! Max. difference = 0.00e+00\n",
      "Market 613: Shares converged in 42 iterations! Max. difference = 8.41e-06\n",
      "Market 614: Shares converged in 38 iterations! Max. difference = 9.73e-06\n",
      "Market 615: Shares converged in 37 iterations! Max. difference = 8.11e-06\n",
      "Market 616: Shares converged in 37 iterations! Max. difference = 9.01e-06\n",
      "Market 617: Shares converged in 38 iterations! Max. difference = 8.52e-06\n",
      "Market 618: Shares converged in 37 iterations! Max. difference = 8.87e-06\n",
      "Market 619: Shares converged in 37 iterations! Max. difference = 8.15e-06\n",
      "Market 620: Shares converged in 39 iterations! Max. difference = 9.18e-06\n",
      "Market 621: Shares converged in 36 iterations! Max. difference = 8.29e-06\n",
      "Market 622: Shares converged in 37 iterations! Max. difference = 8.45e-06\n",
      "Market 623: Shares converged in 39 iterations! Max. difference = 8.90e-06\n",
      "Market 624: Shares converged in 36 iterations! Max. difference = 8.35e-06\n",
      "Market 625: Shares converged in 37 iterations! Max. difference = 9.80e-06\n",
      "Market 626: Shares converged in 37 iterations! Max. difference = 7.81e-06\n",
      "Market 627: Shares converged in 37 iterations! Max. difference = 8.44e-06\n",
      "Market 628: Shares converged in 36 iterations! Max. difference = 8.51e-06\n",
      "Market 629: Shares converged in 1 iterations! Max. difference = 0.00e+00\n",
      "Market 630: Shares converged in 38 iterations! Max. difference = 9.03e-06\n",
      "Market 631: Shares converged in 38 iterations! Max. difference = 8.15e-06\n",
      "Market 632: Shares converged in 36 iterations! Max. difference = 9.03e-06\n",
      "Market 633: Shares converged in 1 iterations! Max. difference = 0.00e+00\n",
      "Market 634: Shares converged in 37 iterations! Max. difference = 7.94e-06\n",
      "Market 635: Shares converged in 37 iterations! Max. difference = 8.05e-06\n",
      "Market 636: Shares converged in 38 iterations! Max. difference = 7.96e-06\n",
      "Market 637: Shares converged in 42 iterations! Max. difference = 8.42e-06\n",
      "Market 638: Shares converged in 36 iterations! Max. difference = 9.14e-06\n",
      "Market 639: Shares converged in 37 iterations! Max. difference = 9.97e-06\n",
      "Market 640: Shares converged in 36 iterations! Max. difference = 8.13e-06\n",
      "Market 641: Shares converged in 37 iterations! Max. difference = 8.89e-06\n",
      "Market 642: Shares converged in 37 iterations! Max. difference = 8.44e-06\n",
      "Market 643: Shares converged in 38 iterations! Max. difference = 9.00e-06\n",
      "Market 644: Shares converged in 36 iterations! Max. difference = 9.67e-06\n",
      "Market 645: Shares converged in 1 iterations! Max. difference = 1.11e-15\n",
      "Market 646: Shares converged in 38 iterations! Max. difference = 8.17e-06\n",
      "Market 647: Shares converged in 37 iterations! Max. difference = 9.89e-06\n",
      "Market 648: Shares converged in 39 iterations! Max. difference = 7.81e-06\n",
      "Market 649: Shares converged in 35 iterations! Max. difference = 7.99e-06\n",
      "Market 650: Shares converged in 1 iterations! Max. difference = 0.00e+00\n",
      "Market 651: Shares converged in 37 iterations! Max. difference = 7.90e-06\n",
      "Market 652: Shares converged in 39 iterations! Max. difference = 7.85e-06\n",
      "Market 653: Shares converged in 36 iterations! Max. difference = 9.49e-06\n",
      "Market 654: Shares converged in 36 iterations! Max. difference = 9.66e-06\n",
      "Market 655: Shares converged in 36 iterations! Max. difference = 8.22e-06\n",
      "Market 656: Shares converged in 37 iterations! Max. difference = 8.01e-06\n",
      "Market 657: Shares converged in 37 iterations! Max. difference = 7.88e-06\n",
      "Market 658: Shares converged in 38 iterations! Max. difference = 9.79e-06\n",
      "Market 659: Shares converged in 1 iterations! Max. difference = 0.00e+00\n",
      "Market 660: Shares converged in 40 iterations! Max. difference = 7.86e-06\n",
      "Market 661: Shares converged in 38 iterations! Max. difference = 9.22e-06\n",
      "Market 662: Shares converged in 36 iterations! Max. difference = 9.36e-06\n",
      "Market 663: Shares converged in 1 iterations! Max. difference = 0.00e+00\n",
      "Market 664: Shares converged in 39 iterations! Max. difference = 7.91e-06\n",
      "Market 665: Shares converged in 37 iterations! Max. difference = 9.32e-06\n",
      "Market 666: Shares converged in 36 iterations! Max. difference = 9.52e-06\n",
      "Market 667: Shares converged in 1 iterations! Max. difference = 0.00e+00\n",
      "Market 668: Shares converged in 36 iterations! Max. difference = 9.51e-06\n",
      "Market 669: Shares converged in 38 iterations! Max. difference = 8.31e-06\n",
      "Market 670: Shares converged in 36 iterations! Max. difference = 8.04e-06\n",
      "Market 671: Shares converged in 37 iterations! Max. difference = 8.83e-06\n",
      "Market 672: Shares converged in 38 iterations! Max. difference = 8.86e-06\n",
      "Market 673: Shares converged in 35 iterations! Max. difference = 9.81e-06\n",
      "Market 674: Shares converged in 36 iterations! Max. difference = 7.77e-06\n",
      "Market 675: Shares converged in 37 iterations! Max. difference = 9.06e-06\n",
      "Market 676: Shares converged in 1 iterations! Max. difference = 0.00e+00\n",
      "Market 677: Shares converged in 37 iterations! Max. difference = 8.86e-06\n",
      "Market 678: Shares converged in 37 iterations! Max. difference = 8.48e-06\n",
      "Market 679: Shares converged in 41 iterations! Max. difference = 9.41e-06\n",
      "Market 680: Shares converged in 37 iterations! Max. difference = 9.44e-06\n",
      "Market 681: Shares converged in 39 iterations! Max. difference = 7.86e-06\n",
      "Market 682: Shares converged in 37 iterations! Max. difference = 9.91e-06\n",
      "Market 683: Shares converged in 36 iterations! Max. difference = 8.33e-06\n",
      "Market 684: Shares converged in 37 iterations! Max. difference = 8.31e-06\n",
      "Market 685: Shares converged in 38 iterations! Max. difference = 8.32e-06\n",
      "Market 686: Shares converged in 37 iterations! Max. difference = 9.51e-06\n",
      "Market 687: Shares converged in 39 iterations! Max. difference = 9.11e-06\n",
      "Market 688: Shares converged in 37 iterations! Max. difference = 8.74e-06\n",
      "Market 689: Shares converged in 38 iterations! Max. difference = 9.29e-06\n",
      "Market 690: Shares converged in 36 iterations! Max. difference = 8.86e-06\n",
      "Market 691: Shares converged in 37 iterations! Max. difference = 7.94e-06\n",
      "Market 692: Shares converged in 38 iterations! Max. difference = 9.07e-06\n",
      "Market 693: Shares converged in 37 iterations! Max. difference = 8.59e-06\n",
      "Market 694: Shares converged in 38 iterations! Max. difference = 7.98e-06\n",
      "Market 695: Shares converged in 37 iterations! Max. difference = 9.94e-06\n",
      "Market 696: Shares converged in 35 iterations! Max. difference = 8.91e-06\n",
      "Market 697: Shares converged in 38 iterations! Max. difference = 8.61e-06\n",
      "Market 698: Shares converged in 37 iterations! Max. difference = 8.35e-06\n",
      "Market 699: Shares converged in 1 iterations! Max. difference = 0.00e+00\n",
      "Market 700: Shares converged in 1 iterations! Max. difference = 0.00e+00\n",
      "Market 701: Shares converged in 39 iterations! Max. difference = 8.94e-06\n",
      "Market 702: Shares converged in 36 iterations! Max. difference = 9.99e-06\n",
      "Market 703: Shares converged in 39 iterations! Max. difference = 9.23e-06\n",
      "Market 704: Shares converged in 37 iterations! Max. difference = 9.66e-06\n",
      "Market 705: Shares converged in 37 iterations! Max. difference = 9.59e-06\n",
      "Market 706: Shares converged in 40 iterations! Max. difference = 8.87e-06\n",
      "Market 707: Shares converged in 37 iterations! Max. difference = 8.96e-06\n",
      "Market 708: Shares converged in 41 iterations! Max. difference = 9.90e-06\n",
      "Market 709: Shares converged in 37 iterations! Max. difference = 8.54e-06\n",
      "Market 710: Shares converged in 38 iterations! Max. difference = 9.79e-06\n",
      "Market 711: Shares converged in 37 iterations! Max. difference = 8.32e-06\n",
      "Market 712: Shares converged in 38 iterations! Max. difference = 7.85e-06\n",
      "Market 713: Shares converged in 1 iterations! Max. difference = 0.00e+00\n",
      "Market 714: Shares converged in 38 iterations! Max. difference = 8.71e-06\n",
      "Market 715: Shares converged in 38 iterations! Max. difference = 9.63e-06\n",
      "Market 716: Shares converged in 38 iterations! Max. difference = 8.19e-06\n",
      "Market 717: Shares converged in 38 iterations! Max. difference = 7.89e-06\n",
      "Market 718: Shares converged in 39 iterations! Max. difference = 9.26e-06\n",
      "Market 719: Shares converged in 1 iterations! Max. difference = 1.11e-15\n",
      "Market 720: Shares converged in 38 iterations! Max. difference = 8.03e-06\n",
      "Market 721: Shares converged in 37 iterations! Max. difference = 9.98e-06\n",
      "Market 722: Shares converged in 39 iterations! Max. difference = 7.82e-06\n",
      "Market 723: Shares converged in 36 iterations! Max. difference = 8.20e-06\n",
      "Market 724: Shares converged in 39 iterations! Max. difference = 8.89e-06\n",
      "Market 725: Shares converged in 39 iterations! Max. difference = 8.14e-06\n",
      "Market 726: Shares converged in 41 iterations! Max. difference = 8.89e-06\n",
      "Market 727: Shares converged in 39 iterations! Max. difference = 7.90e-06\n",
      "Market 728: Shares converged in 38 iterations! Max. difference = 9.00e-06\n",
      "Market 729: Shares converged in 36 iterations! Max. difference = 9.41e-06\n",
      "Market 730: Shares converged in 37 iterations! Max. difference = 8.08e-06\n",
      "Market 731: Shares converged in 37 iterations! Max. difference = 8.10e-06\n",
      "Market 732: Shares converged in 38 iterations! Max. difference = 9.16e-06\n",
      "Market 733: Shares converged in 37 iterations! Max. difference = 7.81e-06\n",
      "Market 734: Shares converged in 38 iterations! Max. difference = 8.06e-06\n",
      "Market 735: Shares converged in 40 iterations! Max. difference = 9.30e-06\n",
      "Market 736: Shares converged in 37 iterations! Max. difference = 7.88e-06\n",
      "Market 737: Shares converged in 39 iterations! Max. difference = 9.07e-06\n",
      "Market 738: Shares converged in 37 iterations! Max. difference = 8.76e-06\n",
      "Market 739: Shares converged in 1 iterations! Max. difference = 0.00e+00\n",
      "Market 740: Shares converged in 38 iterations! Max. difference = 8.92e-06\n",
      "Market 741: Shares converged in 40 iterations! Max. difference = 8.16e-06\n",
      "Market 742: Shares converged in 36 iterations! Max. difference = 8.48e-06\n",
      "Market 743: Shares converged in 36 iterations! Max. difference = 9.53e-06\n",
      "Market 744: Shares converged in 39 iterations! Max. difference = 9.96e-06\n",
      "Market 745: Shares converged in 38 iterations! Max. difference = 7.86e-06\n",
      "Market 746: Shares converged in 1 iterations! Max. difference = 0.00e+00\n",
      "Market 747: Shares converged in 37 iterations! Max. difference = 8.46e-06\n",
      "Market 748: Shares converged in 36 iterations! Max. difference = 8.09e-06\n",
      "Market 749: Shares converged in 1 iterations! Max. difference = 0.00e+00\n",
      "Market 750: Shares converged in 38 iterations! Max. difference = 7.90e-06\n",
      "Market 751: Shares converged in 40 iterations! Max. difference = 8.04e-06\n",
      "Market 752: Shares converged in 37 iterations! Max. difference = 8.39e-06\n",
      "Market 753: Shares converged in 36 iterations! Max. difference = 8.22e-06\n",
      "Market 754: Shares converged in 40 iterations! Max. difference = 9.10e-06\n",
      "Market 755: Shares converged in 39 iterations! Max. difference = 7.80e-06\n",
      "Market 756: Shares converged in 43 iterations! Max. difference = 9.20e-06\n",
      "Market 757: Shares converged in 35 iterations! Max. difference = 9.62e-06\n",
      "Market 758: Shares converged in 41 iterations! Max. difference = 7.91e-06\n",
      "Market 759: Shares converged in 38 iterations! Max. difference = 8.62e-06\n",
      "Market 760: Shares converged in 37 iterations! Max. difference = 9.27e-06\n",
      "Market 761: Shares converged in 38 iterations! Max. difference = 9.73e-06\n",
      "Market 762: Shares converged in 38 iterations! Max. difference = 8.08e-06\n",
      "Market 763: Shares converged in 1 iterations! Max. difference = 1.11e-15\n",
      "Market 764: Shares converged in 1 iterations! Max. difference = 0.00e+00\n",
      "Market 765: Shares converged in 37 iterations! Max. difference = 9.27e-06\n",
      "Market 766: Shares converged in 1 iterations! Max. difference = 0.00e+00\n",
      "Market 767: Shares converged in 38 iterations! Max. difference = 9.98e-06\n",
      "Market 768: Shares converged in 37 iterations! Max. difference = 9.16e-06\n",
      "Market 769: Shares converged in 37 iterations! Max. difference = 9.57e-06\n",
      "Market 770: Shares converged in 37 iterations! Max. difference = 9.85e-06\n",
      "Market 771: Shares converged in 36 iterations! Max. difference = 9.62e-06\n",
      "Market 772: Shares converged in 38 iterations! Max. difference = 8.99e-06\n",
      "Market 773: Shares converged in 36 iterations! Max. difference = 8.04e-06\n",
      "Market 774: Shares converged in 1 iterations! Max. difference = 0.00e+00\n",
      "Market 775: Shares converged in 39 iterations! Max. difference = 8.74e-06\n",
      "Market 776: Shares converged in 38 iterations! Max. difference = 8.15e-06\n",
      "Market 777: Shares converged in 39 iterations! Max. difference = 8.24e-06\n",
      "Market 778: Shares converged in 38 iterations! Max. difference = 8.55e-06\n",
      "Market 779: Shares converged in 37 iterations! Max. difference = 9.98e-06\n",
      "Market 780: Shares converged in 1 iterations! Max. difference = 0.00e+00\n",
      "Market 781: Shares converged in 35 iterations! Max. difference = 8.13e-06\n",
      "Market 782: Shares converged in 36 iterations! Max. difference = 9.51e-06\n",
      "Market 783: Shares converged in 36 iterations! Max. difference = 7.83e-06\n",
      "Market 784: Shares converged in 40 iterations! Max. difference = 9.78e-06\n",
      "Market 785: Shares converged in 35 iterations! Max. difference = 9.86e-06\n",
      "Market 786: Shares converged in 38 iterations! Max. difference = 9.83e-06\n",
      "Market 787: Shares converged in 38 iterations! Max. difference = 9.14e-06\n",
      "Market 788: Shares converged in 39 iterations! Max. difference = 9.36e-06\n",
      "Market 789: Shares converged in 38 iterations! Max. difference = 8.98e-06\n",
      "Market 790: Shares converged in 1 iterations! Max. difference = 0.00e+00\n",
      "Market 791: Shares converged in 1 iterations! Max. difference = 0.00e+00\n",
      "Market 792: Shares converged in 38 iterations! Max. difference = 9.72e-06\n",
      "Market 793: Shares converged in 1 iterations! Max. difference = 1.11e-15\n",
      "Market 794: Shares converged in 36 iterations! Max. difference = 8.73e-06\n",
      "Market 795: Shares converged in 38 iterations! Max. difference = 7.99e-06\n",
      "Market 796: Shares converged in 39 iterations! Max. difference = 9.69e-06\n",
      "Market 797: Shares converged in 1 iterations! Max. difference = 0.00e+00\n",
      "Market 798: Shares converged in 36 iterations! Max. difference = 8.26e-06\n",
      "Market 799: Shares converged in 37 iterations! Max. difference = 9.38e-06\n",
      "Market 800: Shares converged in 37 iterations! Max. difference = 8.67e-06\n",
      "Market 801: Shares converged in 1 iterations! Max. difference = 0.00e+00\n",
      "Market 802: Shares converged in 37 iterations! Max. difference = 8.61e-06\n",
      "Market 803: Shares converged in 38 iterations! Max. difference = 8.29e-06\n",
      "Market 804: Shares converged in 41 iterations! Max. difference = 8.87e-06\n",
      "Market 805: Shares converged in 42 iterations! Max. difference = 8.65e-06\n",
      "Market 806: Shares converged in 36 iterations! Max. difference = 8.85e-06\n",
      "Market 807: Shares converged in 36 iterations! Max. difference = 9.13e-06\n",
      "Market 808: Shares converged in 36 iterations! Max. difference = 8.38e-06\n",
      "Market 809: Shares converged in 38 iterations! Max. difference = 8.96e-06\n",
      "Market 810: Shares converged in 37 iterations! Max. difference = 8.09e-06\n",
      "Market 811: Shares converged in 37 iterations! Max. difference = 8.35e-06\n",
      "Market 812: Shares converged in 1 iterations! Max. difference = 0.00e+00\n",
      "Market 813: Shares converged in 42 iterations! Max. difference = 8.41e-06\n",
      "Market 814: Shares converged in 38 iterations! Max. difference = 8.42e-06\n",
      "Market 815: Shares converged in 36 iterations! Max. difference = 9.06e-06\n",
      "Market 816: Shares converged in 38 iterations! Max. difference = 8.13e-06\n",
      "Market 817: Shares converged in 38 iterations! Max. difference = 9.43e-06\n",
      "Market 818: Shares converged in 36 iterations! Max. difference = 8.85e-06\n",
      "Market 819: Shares converged in 37 iterations! Max. difference = 7.98e-06\n",
      "Market 820: Shares converged in 38 iterations! Max. difference = 9.81e-06\n",
      "Market 821: Shares converged in 37 iterations! Max. difference = 7.99e-06\n",
      "Market 822: Shares converged in 36 iterations! Max. difference = 9.86e-06\n",
      "Market 823: Shares converged in 44 iterations! Max. difference = 8.78e-06\n",
      "Market 824: Shares converged in 37 iterations! Max. difference = 9.12e-06\n",
      "Market 825: Shares converged in 37 iterations! Max. difference = 8.80e-06\n",
      "Market 826: Shares converged in 38 iterations! Max. difference = 8.78e-06\n",
      "Market 827: Shares converged in 1 iterations! Max. difference = 0.00e+00\n",
      "Market 828: Shares converged in 38 iterations! Max. difference = 8.38e-06\n",
      "Market 829: Shares converged in 36 iterations! Max. difference = 9.21e-06\n",
      "Market 830: Shares converged in 38 iterations! Max. difference = 9.66e-06\n",
      "Market 831: Shares converged in 35 iterations! Max. difference = 9.29e-06\n",
      "Market 832: Shares converged in 38 iterations! Max. difference = 8.11e-06\n",
      "Market 833: Shares converged in 38 iterations! Max. difference = 9.57e-06\n",
      "Market 834: Shares converged in 37 iterations! Max. difference = 9.62e-06\n",
      "Market 835: Shares converged in 38 iterations! Max. difference = 8.84e-06\n",
      "Market 836: Shares converged in 1 iterations! Max. difference = 0.00e+00\n",
      "Market 837: Shares converged in 38 iterations! Max. difference = 7.74e-06\n",
      "Market 838: Shares converged in 38 iterations! Max. difference = 8.02e-06\n",
      "Market 839: Shares converged in 1 iterations! Max. difference = 0.00e+00\n",
      "Market 840: Shares converged in 1 iterations! Max. difference = 0.00e+00\n",
      "Market 841: Shares converged in 38 iterations! Max. difference = 9.01e-06\n",
      "Market 842: Shares converged in 37 iterations! Max. difference = 8.30e-06\n",
      "Market 843: Shares converged in 38 iterations! Max. difference = 9.88e-06\n",
      "Market 844: Shares converged in 37 iterations! Max. difference = 8.69e-06\n",
      "Market 845: Shares converged in 1 iterations! Max. difference = 0.00e+00\n",
      "Market 846: Shares converged in 39 iterations! Max. difference = 8.14e-06\n",
      "Market 847: Shares converged in 1 iterations! Max. difference = 0.00e+00\n",
      "Market 848: Shares converged in 37 iterations! Max. difference = 8.06e-06\n",
      "Market 849: Shares converged in 37 iterations! Max. difference = 9.37e-06\n",
      "Market 850: Shares converged in 37 iterations! Max. difference = 8.13e-06\n",
      "Market 851: Shares converged in 1 iterations! Max. difference = 0.00e+00\n",
      "Market 852: Shares converged in 38 iterations! Max. difference = 9.08e-06\n",
      "Market 853: Shares converged in 39 iterations! Max. difference = 8.44e-06\n",
      "Market 854: Shares converged in 41 iterations! Max. difference = 9.36e-06\n",
      "Market 855: Shares converged in 38 iterations! Max. difference = 9.52e-06\n",
      "Market 856: Shares converged in 42 iterations! Max. difference = 8.74e-06\n",
      "Market 857: Shares converged in 38 iterations! Max. difference = 8.82e-06\n",
      "Market 858: Shares converged in 37 iterations! Max. difference = 9.67e-06\n",
      "Market 859: Shares converged in 38 iterations! Max. difference = 8.37e-06\n",
      "Market 860: Shares converged in 37 iterations! Max. difference = 8.33e-06\n",
      "Market 861: Shares converged in 37 iterations! Max. difference = 8.96e-06\n",
      "Market 862: Shares converged in 36 iterations! Max. difference = 9.98e-06\n",
      "Market 863: Shares converged in 1 iterations! Max. difference = 0.00e+00\n",
      "Market 864: Shares converged in 41 iterations! Max. difference = 9.62e-06\n",
      "Market 865: Shares converged in 39 iterations! Max. difference = 7.93e-06\n",
      "Market 866: Shares converged in 37 iterations! Max. difference = 8.52e-06\n",
      "Market 867: Shares converged in 39 iterations! Max. difference = 9.06e-06\n",
      "Market 868: Shares converged in 1 iterations! Max. difference = 0.00e+00\n",
      "Market 869: Shares converged in 38 iterations! Max. difference = 8.53e-06\n",
      "Market 870: Shares converged in 38 iterations! Max. difference = 9.28e-06\n",
      "Market 871: Shares converged in 1 iterations! Max. difference = 0.00e+00\n",
      "Market 872: Shares converged in 1 iterations! Max. difference = 0.00e+00\n",
      "Market 873: Shares converged in 41 iterations! Max. difference = 9.38e-06\n",
      "Market 874: Shares converged in 38 iterations! Max. difference = 9.25e-06\n",
      "Market 875: Shares converged in 1 iterations! Max. difference = 0.00e+00\n",
      "Market 876: Shares converged in 1 iterations! Max. difference = 0.00e+00\n",
      "Market 877: Shares converged in 38 iterations! Max. difference = 8.29e-06\n",
      "Market 878: Shares converged in 39 iterations! Max. difference = 8.62e-06\n",
      "Market 879: Shares converged in 38 iterations! Max. difference = 8.40e-06\n",
      "Market 880: Shares converged in 37 iterations! Max. difference = 9.18e-06\n",
      "Market 881: Shares converged in 35 iterations! Max. difference = 8.73e-06\n",
      "Market 882: Shares converged in 38 iterations! Max. difference = 8.22e-06\n",
      "Market 883: Shares converged in 37 iterations! Max. difference = 8.20e-06\n",
      "Market 884: Shares converged in 37 iterations! Max. difference = 8.39e-06\n",
      "Market 885: Shares converged in 37 iterations! Max. difference = 8.52e-06\n",
      "Market 886: Shares converged in 41 iterations! Max. difference = 8.76e-06\n",
      "Market 887: Shares converged in 37 iterations! Max. difference = 9.40e-06\n",
      "Market 888: Shares converged in 37 iterations! Max. difference = 9.57e-06\n",
      "Market 889: Shares converged in 36 iterations! Max. difference = 8.66e-06\n",
      "Market 890: Shares converged in 36 iterations! Max. difference = 8.82e-06\n",
      "Market 891: Shares converged in 37 iterations! Max. difference = 8.13e-06\n",
      "Market 892: Shares converged in 38 iterations! Max. difference = 8.36e-06\n",
      "Market 893: Shares converged in 35 iterations! Max. difference = 9.77e-06\n",
      "Market 894: Shares converged in 36 iterations! Max. difference = 8.39e-06\n",
      "Market 895: Shares converged in 36 iterations! Max. difference = 9.48e-06\n",
      "Market 896: Shares converged in 39 iterations! Max. difference = 9.10e-06\n",
      "Market 897: Shares converged in 38 iterations! Max. difference = 8.26e-06\n",
      "Market 898: Shares converged in 39 iterations! Max. difference = 8.89e-06\n",
      "Market 899: Shares converged in 37 iterations! Max. difference = 8.19e-06\n",
      "Market 900: Shares converged in 37 iterations! Max. difference = 8.27e-06\n",
      "Market 901: Shares converged in 39 iterations! Max. difference = 7.74e-06\n",
      "Market 902: Shares converged in 35 iterations! Max. difference = 8.86e-06\n",
      "Market 903: Shares converged in 35 iterations! Max. difference = 9.61e-06\n",
      "Market 904: Shares converged in 36 iterations! Max. difference = 9.63e-06\n",
      "Market 905: Shares converged in 37 iterations! Max. difference = 9.64e-06\n",
      "Market 906: Shares converged in 35 iterations! Max. difference = 8.69e-06\n",
      "Market 907: Shares converged in 38 iterations! Max. difference = 8.35e-06\n",
      "Market 908: Shares converged in 38 iterations! Max. difference = 9.38e-06\n",
      "Market 909: Shares converged in 36 iterations! Max. difference = 8.81e-06\n",
      "Market 910: Shares converged in 37 iterations! Max. difference = 9.57e-06\n",
      "Market 911: Shares converged in 1 iterations! Max. difference = 0.00e+00\n",
      "Market 912: Shares converged in 1 iterations! Max. difference = 0.00e+00\n",
      "Market 913: Shares converged in 1 iterations! Max. difference = 0.00e+00\n",
      "Market 914: Shares converged in 38 iterations! Max. difference = 9.07e-06\n",
      "Market 915: Shares converged in 38 iterations! Max. difference = 9.07e-06\n",
      "Market 916: Shares converged in 36 iterations! Max. difference = 9.20e-06\n",
      "Market 917: Shares converged in 1 iterations! Max. difference = 0.00e+00\n",
      "Market 918: Shares converged in 38 iterations! Max. difference = 8.57e-06\n",
      "Market 919: Shares converged in 39 iterations! Max. difference = 9.29e-06\n",
      "Market 920: Shares converged in 37 iterations! Max. difference = 9.67e-06\n",
      "Market 921: Shares converged in 39 iterations! Max. difference = 8.00e-06\n",
      "Market 922: Shares converged in 39 iterations! Max. difference = 9.38e-06\n",
      "Market 923: Shares converged in 36 iterations! Max. difference = 9.17e-06\n",
      "Market 924: Shares converged in 38 iterations! Max. difference = 7.92e-06\n",
      "Market 925: Shares converged in 42 iterations! Max. difference = 8.39e-06\n",
      "Market 926: Shares converged in 37 iterations! Max. difference = 9.75e-06\n",
      "Market 927: Shares converged in 42 iterations! Max. difference = 9.53e-06\n",
      "Market 928: Shares converged in 37 iterations! Max. difference = 9.21e-06\n",
      "Market 929: Shares converged in 37 iterations! Max. difference = 9.94e-06\n",
      "Market 930: Shares converged in 37 iterations! Max. difference = 8.47e-06\n",
      "Market 931: Shares converged in 38 iterations! Max. difference = 8.79e-06\n",
      "Market 932: Shares converged in 1 iterations! Max. difference = 0.00e+00\n",
      "Market 933: Shares converged in 39 iterations! Max. difference = 8.35e-06\n",
      "Market 934: Shares converged in 1 iterations! Max. difference = 0.00e+00\n",
      "Market 935: Shares converged in 38 iterations! Max. difference = 9.19e-06\n",
      "Market 936: Shares converged in 39 iterations! Max. difference = 8.18e-06\n",
      "Market 937: Shares converged in 37 iterations! Max. difference = 9.84e-06\n",
      "Market 938: Shares converged in 1 iterations! Max. difference = 1.11e-15\n",
      "Market 939: Shares converged in 39 iterations! Max. difference = 7.83e-06\n",
      "Market 940: Shares converged in 37 iterations! Max. difference = 8.09e-06\n",
      "Market 941: Shares converged in 37 iterations! Max. difference = 9.30e-06\n",
      "Market 942: Shares converged in 36 iterations! Max. difference = 7.93e-06\n",
      "Market 943: Shares converged in 37 iterations! Max. difference = 8.78e-06\n",
      "Market 944: Shares converged in 39 iterations! Max. difference = 7.94e-06\n",
      "Market 945: Shares converged in 38 iterations! Max. difference = 9.59e-06\n",
      "Market 946: Shares converged in 37 iterations! Max. difference = 8.75e-06\n",
      "Market 947: Shares converged in 40 iterations! Max. difference = 9.63e-06\n",
      "Market 948: Shares converged in 38 iterations! Max. difference = 9.84e-06\n",
      "Market 949: Shares converged in 42 iterations! Max. difference = 9.73e-06\n",
      "Market 950: Shares converged in 37 iterations! Max. difference = 9.26e-06\n",
      "Market 951: Shares converged in 40 iterations! Max. difference = 9.94e-06\n",
      "Market 952: Shares converged in 39 iterations! Max. difference = 9.55e-06\n",
      "Market 953: Shares converged in 1 iterations! Max. difference = 1.11e-15\n",
      "Market 954: Shares converged in 39 iterations! Max. difference = 9.61e-06\n",
      "Market 955: Shares converged in 38 iterations! Max. difference = 8.79e-06\n",
      "Market 956: Shares converged in 39 iterations! Max. difference = 8.54e-06\n",
      "Market 957: Shares converged in 35 iterations! Max. difference = 9.68e-06\n",
      "Market 958: Shares converged in 36 iterations! Max. difference = 9.39e-06\n",
      "Market 959: Shares converged in 38 iterations! Max. difference = 7.77e-06\n",
      "Market 960: Shares converged in 37 iterations! Max. difference = 9.36e-06\n",
      "Market 961: Shares converged in 37 iterations! Max. difference = 8.53e-06\n",
      "Market 962: Shares converged in 36 iterations! Max. difference = 9.11e-06\n",
      "Market 963: Shares converged in 36 iterations! Max. difference = 8.93e-06\n",
      "Market 964: Shares converged in 43 iterations! Max. difference = 7.91e-06\n",
      "Market 965: Shares converged in 1 iterations! Max. difference = 0.00e+00\n",
      "Market 966: Shares converged in 37 iterations! Max. difference = 7.83e-06\n",
      "Market 967: Shares converged in 37 iterations! Max. difference = 8.63e-06\n",
      "Market 968: Shares converged in 1 iterations! Max. difference = 0.00e+00\n",
      "Market 969: Shares converged in 39 iterations! Max. difference = 8.00e-06\n",
      "Market 970: Shares converged in 38 iterations! Max. difference = 7.93e-06\n",
      "Market 971: Shares converged in 37 iterations! Max. difference = 8.60e-06\n",
      "Market 972: Shares converged in 43 iterations! Max. difference = 9.81e-06\n",
      "Market 973: Shares converged in 37 iterations! Max. difference = 9.82e-06\n",
      "Market 974: Shares converged in 40 iterations! Max. difference = 8.89e-06\n",
      "Market 975: Shares converged in 37 iterations! Max. difference = 7.99e-06\n",
      "Market 976: Shares converged in 37 iterations! Max. difference = 8.98e-06\n",
      "Market 977: Shares converged in 38 iterations! Max. difference = 8.06e-06\n",
      "Market 978: Shares converged in 38 iterations! Max. difference = 8.87e-06\n",
      "Market 979: Shares converged in 42 iterations! Max. difference = 7.83e-06\n",
      "Market 980: Shares converged in 38 iterations! Max. difference = 7.92e-06\n",
      "Market 981: Shares converged in 37 iterations! Max. difference = 9.82e-06\n",
      "Market 982: Shares converged in 37 iterations! Max. difference = 8.91e-06\n",
      "Market 983: Shares converged in 37 iterations! Max. difference = 9.61e-06\n",
      "Market 984: Shares converged in 39 iterations! Max. difference = 9.39e-06\n",
      "Market 985: Shares converged in 36 iterations! Max. difference = 8.93e-06\n",
      "Market 986: Shares converged in 40 iterations! Max. difference = 8.32e-06\n",
      "Market 987: Shares converged in 1 iterations! Max. difference = 0.00e+00\n",
      "Market 988: Shares converged in 1 iterations! Max. difference = 0.00e+00\n",
      "Market 989: Shares converged in 37 iterations! Max. difference = 9.23e-06\n",
      "Market 990: Shares converged in 36 iterations! Max. difference = 8.10e-06\n",
      "Market 991: Shares converged in 1 iterations! Max. difference = 0.00e+00\n",
      "Market 992: Shares converged in 1 iterations! Max. difference = 1.11e-15\n",
      "Market 993: Shares converged in 35 iterations! Max. difference = 8.12e-06\n",
      "Market 994: Shares converged in 36 iterations! Max. difference = 7.97e-06\n",
      "Market 995: Shares converged in 1 iterations! Max. difference = 0.00e+00\n",
      "Market 996: Shares converged in 37 iterations! Max. difference = 9.30e-06\n",
      "Market 997: Shares converged in 1 iterations! Max. difference = 0.00e+00\n",
      "Market 998: Shares converged in 1 iterations! Max. difference = 0.00e+00\n",
      "Market 999: Shares converged in 38 iterations! Max. difference = 8.42e-06\n",
      "Market 1000: Shares converged in 37 iterations! Max. difference = 9.01e-06\n",
      "Equilibrium computation completed for all 1000 markets!\n",
      "Simulation completed.\n"
     ]
    }
   ],
   "source": [
    "# ----------------------------------------------------------------------------------------------------------------------------------------------------------------------------------------------------------------------------------------------\n",
    "# Run the simulation \n",
    "# ----------------------------------------------------------------------------------------------------------------------------------------------------------------------------------------------------------------------------------------------\n",
    "params = set_par()\n",
    "model = sect_eqlib(params)\n",
    "z_ij = model[\"z_ij\"]\n",
    "Mj = model[\"Mj\"]\n",
    "w_ij = model[\"w_ij\"]\n",
    "s_ij = model[\"s_ij\"]\n",
    "eps_ij = model[\"eps_ij\"]\n",
    "mu_ij = model[\"mu_ij\"]\n",
    "n_ij = model[\"n_ij\"]\n",
    "k_ij = model[\"k_ij\"]\n",
    "y_ij = model[\"y_ij\"]\n",
    "\n",
    "print(\"Simulation completed.\")"
   ]
  },
  {
   "cell_type": "markdown",
   "id": "ddc4f379",
   "metadata": {},
   "source": [
    "## Plot Steady-State Objects"
   ]
  },
  {
   "cell_type": "markdown",
   "id": "dada8cf1",
   "metadata": {},
   "source": [
    "#### 1. Wages ($w_{ij}$), Wage-Bill Share ($s_{ij}$), Labor Supply Elasticity ($\\epsilon_{ij}$) and Wage Markdown ($\\mu_{ij}$) against percentiles of productivity ($z_{ij}$)"
   ]
  },
  {
   "cell_type": "code",
   "execution_count": 8,
   "id": "5998d4c7-0d65-4f4e-8dc2-7a5a4d63e73e",
   "metadata": {},
   "outputs": [
    {
     "name": "stdout",
     "output_type": "stream",
     "text": [
      "Plotting data prepared.\n"
     ]
    },
    {
     "data": {
      "application/vnd.plotly.v1+json": {
       "config": {
        "plotlyServerURL": "https://plot.ly"
       },
       "data": [
        {
         "marker": {
          "color": "blue"
         },
         "mode": "lines+markers",
         "name": "Single-firm market",
         "showlegend": true,
         "type": "scatter",
         "x": [
          1
         ],
         "xaxis": "x",
         "y": [
          21899.231631576728
         ],
         "yaxis": "y"
        },
        {
         "marker": {
          "color": "blue"
         },
         "mode": "lines+markers",
         "name": "Single-firm market",
         "showlegend": false,
         "type": "scatter",
         "x": [
          1
         ],
         "xaxis": "x2",
         "y": [
          1
         ],
         "yaxis": "y2"
        },
        {
         "marker": {
          "color": "blue"
         },
         "mode": "lines+markers",
         "name": "Single-firm market",
         "showlegend": false,
         "type": "scatter",
         "x": [
          1
         ],
         "xaxis": "x3",
         "y": [
          0.7599999999999999
         ],
         "yaxis": "y3"
        },
        {
         "marker": {
          "color": "blue"
         },
         "mode": "lines+markers",
         "name": "Single-firm market",
         "showlegend": false,
         "type": "scatter",
         "x": [
          1
         ],
         "xaxis": "x4",
         "y": [
          0.4318181818181818
         ],
         "yaxis": "y4"
        },
        {
         "marker": {
          "color": "red"
         },
         "mode": "lines+markers",
         "name": "Multi-firm market",
         "showlegend": false,
         "type": "scatter",
         "x": {
          "bdata": "AQIDBAU=",
          "dtype": "i1"
         },
         "xaxis": "x",
         "y": {
          "bdata": "Jl2gJZU90UDKB5q/8JfSQDUSxJ/yc9pAlejiQuqY3EAocG/sK7fdQA==",
          "dtype": "f8"
         },
         "yaxis": "y"
        },
        {
         "marker": {
          "color": "red"
         },
         "mode": "lines+markers",
         "name": "Multi-firm market",
         "showlegend": false,
         "type": "scatter",
         "x": {
          "bdata": "AQIDBAU=",
          "dtype": "i1"
         },
         "xaxis": "x2",
         "y": {
          "bdata": "Qqn/XaS4jj+GoDhEb/iVPx14ol8fNL0/bcUoCeMgxT/JDPrhWlfJPw==",
          "dtype": "f8"
         },
         "yaxis": "y2"
        },
        {
         "marker": {
          "color": "red"
         },
         "mode": "lines+markers",
         "name": "Multi-firm market",
         "showlegend": false,
         "type": "scatter",
         "x": {
          "bdata": "AQIDBAU=",
          "dtype": "i1"
         },
         "xaxis": "x3",
         "y": {
          "bdata": "wkWPDAdCDEAa10drJJkLQEw8Dv5HrARAE/5gY+4pAkC1SKWwGtgAQA==",
          "dtype": "f8"
         },
         "yaxis": "y3"
        },
        {
         "marker": {
          "color": "red"
         },
         "mode": "lines+markers",
         "name": "Multi-firm market",
         "showlegend": false,
         "type": "scatter",
         "x": {
          "bdata": "AQIDBAU=",
          "dtype": "i1"
         },
         "xaxis": "x4",
         "y": {
          "bdata": "vO1XWIHw6D/2HW43As/oP2MnhwJdEuc/f49DGyo35j/nbSm/HbLlPw==",
          "dtype": "f8"
         },
         "yaxis": "y4"
        }
       ],
       "layout": {
        "annotations": [
         {
          "font": {
           "size": 16
          },
          "showarrow": false,
          "text": "Wages (w_ij)",
          "x": 0.225,
          "xanchor": "center",
          "xref": "paper",
          "y": 1,
          "yanchor": "bottom",
          "yref": "paper"
         },
         {
          "font": {
           "size": 16
          },
          "showarrow": false,
          "text": "Wage-Bill Share (s_ij)",
          "x": 0.775,
          "xanchor": "center",
          "xref": "paper",
          "y": 1,
          "yanchor": "bottom",
          "yref": "paper"
         },
         {
          "font": {
           "size": 16
          },
          "showarrow": false,
          "text": "Labor Elasticity (eps_ij)",
          "x": 0.225,
          "xanchor": "center",
          "xref": "paper",
          "y": 0.375,
          "yanchor": "bottom",
          "yref": "paper"
         },
         {
          "font": {
           "size": 16
          },
          "showarrow": false,
          "text": "Markdown (mu_ij)",
          "x": 0.775,
          "xanchor": "center",
          "xref": "paper",
          "y": 0.375,
          "yanchor": "bottom",
          "yref": "paper"
         },
         {
          "showarrow": false,
          "text": "η/(η+1)",
          "x": 0,
          "xanchor": "left",
          "xref": "x4 domain",
          "y": 0.7890295358649789,
          "yanchor": "top",
          "yref": "y4"
         },
         {
          "showarrow": false,
          "text": "θ/(θ+1)",
          "x": 1,
          "xanchor": "right",
          "xref": "x4 domain",
          "y": 0.4318181818181818,
          "yanchor": "top",
          "yref": "y4"
         }
        ],
        "height": 800,
        "shapes": [
         {
          "line": {
           "color": "black",
           "dash": "dash"
          },
          "type": "line",
          "x0": 0,
          "x1": 1,
          "xref": "x4 domain",
          "y0": 0.7890295358649789,
          "y1": 0.7890295358649789,
          "yref": "y4"
         },
         {
          "line": {
           "color": "gray",
           "dash": "dash"
          },
          "type": "line",
          "x0": 0,
          "x1": 1,
          "xref": "x4 domain",
          "y0": 0.4318181818181818,
          "y1": 0.4318181818181818,
          "yref": "y4"
         }
        ],
        "template": {
         "data": {
          "bar": [
           {
            "error_x": {
             "color": "#2a3f5f"
            },
            "error_y": {
             "color": "#2a3f5f"
            },
            "marker": {
             "line": {
              "color": "#E5ECF6",
              "width": 0.5
             },
             "pattern": {
              "fillmode": "overlay",
              "size": 10,
              "solidity": 0.2
             }
            },
            "type": "bar"
           }
          ],
          "barpolar": [
           {
            "marker": {
             "line": {
              "color": "#E5ECF6",
              "width": 0.5
             },
             "pattern": {
              "fillmode": "overlay",
              "size": 10,
              "solidity": 0.2
             }
            },
            "type": "barpolar"
           }
          ],
          "carpet": [
           {
            "aaxis": {
             "endlinecolor": "#2a3f5f",
             "gridcolor": "white",
             "linecolor": "white",
             "minorgridcolor": "white",
             "startlinecolor": "#2a3f5f"
            },
            "baxis": {
             "endlinecolor": "#2a3f5f",
             "gridcolor": "white",
             "linecolor": "white",
             "minorgridcolor": "white",
             "startlinecolor": "#2a3f5f"
            },
            "type": "carpet"
           }
          ],
          "choropleth": [
           {
            "colorbar": {
             "outlinewidth": 0,
             "ticks": ""
            },
            "type": "choropleth"
           }
          ],
          "contour": [
           {
            "colorbar": {
             "outlinewidth": 0,
             "ticks": ""
            },
            "colorscale": [
             [
              0,
              "#0d0887"
             ],
             [
              0.1111111111111111,
              "#46039f"
             ],
             [
              0.2222222222222222,
              "#7201a8"
             ],
             [
              0.3333333333333333,
              "#9c179e"
             ],
             [
              0.4444444444444444,
              "#bd3786"
             ],
             [
              0.5555555555555556,
              "#d8576b"
             ],
             [
              0.6666666666666666,
              "#ed7953"
             ],
             [
              0.7777777777777778,
              "#fb9f3a"
             ],
             [
              0.8888888888888888,
              "#fdca26"
             ],
             [
              1,
              "#f0f921"
             ]
            ],
            "type": "contour"
           }
          ],
          "contourcarpet": [
           {
            "colorbar": {
             "outlinewidth": 0,
             "ticks": ""
            },
            "type": "contourcarpet"
           }
          ],
          "heatmap": [
           {
            "colorbar": {
             "outlinewidth": 0,
             "ticks": ""
            },
            "colorscale": [
             [
              0,
              "#0d0887"
             ],
             [
              0.1111111111111111,
              "#46039f"
             ],
             [
              0.2222222222222222,
              "#7201a8"
             ],
             [
              0.3333333333333333,
              "#9c179e"
             ],
             [
              0.4444444444444444,
              "#bd3786"
             ],
             [
              0.5555555555555556,
              "#d8576b"
             ],
             [
              0.6666666666666666,
              "#ed7953"
             ],
             [
              0.7777777777777778,
              "#fb9f3a"
             ],
             [
              0.8888888888888888,
              "#fdca26"
             ],
             [
              1,
              "#f0f921"
             ]
            ],
            "type": "heatmap"
           }
          ],
          "histogram": [
           {
            "marker": {
             "pattern": {
              "fillmode": "overlay",
              "size": 10,
              "solidity": 0.2
             }
            },
            "type": "histogram"
           }
          ],
          "histogram2d": [
           {
            "colorbar": {
             "outlinewidth": 0,
             "ticks": ""
            },
            "colorscale": [
             [
              0,
              "#0d0887"
             ],
             [
              0.1111111111111111,
              "#46039f"
             ],
             [
              0.2222222222222222,
              "#7201a8"
             ],
             [
              0.3333333333333333,
              "#9c179e"
             ],
             [
              0.4444444444444444,
              "#bd3786"
             ],
             [
              0.5555555555555556,
              "#d8576b"
             ],
             [
              0.6666666666666666,
              "#ed7953"
             ],
             [
              0.7777777777777778,
              "#fb9f3a"
             ],
             [
              0.8888888888888888,
              "#fdca26"
             ],
             [
              1,
              "#f0f921"
             ]
            ],
            "type": "histogram2d"
           }
          ],
          "histogram2dcontour": [
           {
            "colorbar": {
             "outlinewidth": 0,
             "ticks": ""
            },
            "colorscale": [
             [
              0,
              "#0d0887"
             ],
             [
              0.1111111111111111,
              "#46039f"
             ],
             [
              0.2222222222222222,
              "#7201a8"
             ],
             [
              0.3333333333333333,
              "#9c179e"
             ],
             [
              0.4444444444444444,
              "#bd3786"
             ],
             [
              0.5555555555555556,
              "#d8576b"
             ],
             [
              0.6666666666666666,
              "#ed7953"
             ],
             [
              0.7777777777777778,
              "#fb9f3a"
             ],
             [
              0.8888888888888888,
              "#fdca26"
             ],
             [
              1,
              "#f0f921"
             ]
            ],
            "type": "histogram2dcontour"
           }
          ],
          "mesh3d": [
           {
            "colorbar": {
             "outlinewidth": 0,
             "ticks": ""
            },
            "type": "mesh3d"
           }
          ],
          "parcoords": [
           {
            "line": {
             "colorbar": {
              "outlinewidth": 0,
              "ticks": ""
             }
            },
            "type": "parcoords"
           }
          ],
          "pie": [
           {
            "automargin": true,
            "type": "pie"
           }
          ],
          "scatter": [
           {
            "fillpattern": {
             "fillmode": "overlay",
             "size": 10,
             "solidity": 0.2
            },
            "type": "scatter"
           }
          ],
          "scatter3d": [
           {
            "line": {
             "colorbar": {
              "outlinewidth": 0,
              "ticks": ""
             }
            },
            "marker": {
             "colorbar": {
              "outlinewidth": 0,
              "ticks": ""
             }
            },
            "type": "scatter3d"
           }
          ],
          "scattercarpet": [
           {
            "marker": {
             "colorbar": {
              "outlinewidth": 0,
              "ticks": ""
             }
            },
            "type": "scattercarpet"
           }
          ],
          "scattergeo": [
           {
            "marker": {
             "colorbar": {
              "outlinewidth": 0,
              "ticks": ""
             }
            },
            "type": "scattergeo"
           }
          ],
          "scattergl": [
           {
            "marker": {
             "colorbar": {
              "outlinewidth": 0,
              "ticks": ""
             }
            },
            "type": "scattergl"
           }
          ],
          "scattermap": [
           {
            "marker": {
             "colorbar": {
              "outlinewidth": 0,
              "ticks": ""
             }
            },
            "type": "scattermap"
           }
          ],
          "scattermapbox": [
           {
            "marker": {
             "colorbar": {
              "outlinewidth": 0,
              "ticks": ""
             }
            },
            "type": "scattermapbox"
           }
          ],
          "scatterpolar": [
           {
            "marker": {
             "colorbar": {
              "outlinewidth": 0,
              "ticks": ""
             }
            },
            "type": "scatterpolar"
           }
          ],
          "scatterpolargl": [
           {
            "marker": {
             "colorbar": {
              "outlinewidth": 0,
              "ticks": ""
             }
            },
            "type": "scatterpolargl"
           }
          ],
          "scatterternary": [
           {
            "marker": {
             "colorbar": {
              "outlinewidth": 0,
              "ticks": ""
             }
            },
            "type": "scatterternary"
           }
          ],
          "surface": [
           {
            "colorbar": {
             "outlinewidth": 0,
             "ticks": ""
            },
            "colorscale": [
             [
              0,
              "#0d0887"
             ],
             [
              0.1111111111111111,
              "#46039f"
             ],
             [
              0.2222222222222222,
              "#7201a8"
             ],
             [
              0.3333333333333333,
              "#9c179e"
             ],
             [
              0.4444444444444444,
              "#bd3786"
             ],
             [
              0.5555555555555556,
              "#d8576b"
             ],
             [
              0.6666666666666666,
              "#ed7953"
             ],
             [
              0.7777777777777778,
              "#fb9f3a"
             ],
             [
              0.8888888888888888,
              "#fdca26"
             ],
             [
              1,
              "#f0f921"
             ]
            ],
            "type": "surface"
           }
          ],
          "table": [
           {
            "cells": {
             "fill": {
              "color": "#EBF0F8"
             },
             "line": {
              "color": "white"
             }
            },
            "header": {
             "fill": {
              "color": "#C8D4E3"
             },
             "line": {
              "color": "white"
             }
            },
            "type": "table"
           }
          ]
         },
         "layout": {
          "annotationdefaults": {
           "arrowcolor": "#2a3f5f",
           "arrowhead": 0,
           "arrowwidth": 1
          },
          "autotypenumbers": "strict",
          "coloraxis": {
           "colorbar": {
            "outlinewidth": 0,
            "ticks": ""
           }
          },
          "colorscale": {
           "diverging": [
            [
             0,
             "#8e0152"
            ],
            [
             0.1,
             "#c51b7d"
            ],
            [
             0.2,
             "#de77ae"
            ],
            [
             0.3,
             "#f1b6da"
            ],
            [
             0.4,
             "#fde0ef"
            ],
            [
             0.5,
             "#f7f7f7"
            ],
            [
             0.6,
             "#e6f5d0"
            ],
            [
             0.7,
             "#b8e186"
            ],
            [
             0.8,
             "#7fbc41"
            ],
            [
             0.9,
             "#4d9221"
            ],
            [
             1,
             "#276419"
            ]
           ],
           "sequential": [
            [
             0,
             "#0d0887"
            ],
            [
             0.1111111111111111,
             "#46039f"
            ],
            [
             0.2222222222222222,
             "#7201a8"
            ],
            [
             0.3333333333333333,
             "#9c179e"
            ],
            [
             0.4444444444444444,
             "#bd3786"
            ],
            [
             0.5555555555555556,
             "#d8576b"
            ],
            [
             0.6666666666666666,
             "#ed7953"
            ],
            [
             0.7777777777777778,
             "#fb9f3a"
            ],
            [
             0.8888888888888888,
             "#fdca26"
            ],
            [
             1,
             "#f0f921"
            ]
           ],
           "sequentialminus": [
            [
             0,
             "#0d0887"
            ],
            [
             0.1111111111111111,
             "#46039f"
            ],
            [
             0.2222222222222222,
             "#7201a8"
            ],
            [
             0.3333333333333333,
             "#9c179e"
            ],
            [
             0.4444444444444444,
             "#bd3786"
            ],
            [
             0.5555555555555556,
             "#d8576b"
            ],
            [
             0.6666666666666666,
             "#ed7953"
            ],
            [
             0.7777777777777778,
             "#fb9f3a"
            ],
            [
             0.8888888888888888,
             "#fdca26"
            ],
            [
             1,
             "#f0f921"
            ]
           ]
          },
          "colorway": [
           "#636efa",
           "#EF553B",
           "#00cc96",
           "#ab63fa",
           "#FFA15A",
           "#19d3f3",
           "#FF6692",
           "#B6E880",
           "#FF97FF",
           "#FECB52"
          ],
          "font": {
           "color": "#2a3f5f"
          },
          "geo": {
           "bgcolor": "white",
           "lakecolor": "white",
           "landcolor": "#E5ECF6",
           "showlakes": true,
           "showland": true,
           "subunitcolor": "white"
          },
          "hoverlabel": {
           "align": "left"
          },
          "hovermode": "closest",
          "mapbox": {
           "style": "light"
          },
          "paper_bgcolor": "white",
          "plot_bgcolor": "#E5ECF6",
          "polar": {
           "angularaxis": {
            "gridcolor": "white",
            "linecolor": "white",
            "ticks": ""
           },
           "bgcolor": "#E5ECF6",
           "radialaxis": {
            "gridcolor": "white",
            "linecolor": "white",
            "ticks": ""
           }
          },
          "scene": {
           "xaxis": {
            "backgroundcolor": "#E5ECF6",
            "gridcolor": "white",
            "gridwidth": 2,
            "linecolor": "white",
            "showbackground": true,
            "ticks": "",
            "zerolinecolor": "white"
           },
           "yaxis": {
            "backgroundcolor": "#E5ECF6",
            "gridcolor": "white",
            "gridwidth": 2,
            "linecolor": "white",
            "showbackground": true,
            "ticks": "",
            "zerolinecolor": "white"
           },
           "zaxis": {
            "backgroundcolor": "#E5ECF6",
            "gridcolor": "white",
            "gridwidth": 2,
            "linecolor": "white",
            "showbackground": true,
            "ticks": "",
            "zerolinecolor": "white"
           }
          },
          "shapedefaults": {
           "line": {
            "color": "#2a3f5f"
           }
          },
          "ternary": {
           "aaxis": {
            "gridcolor": "white",
            "linecolor": "white",
            "ticks": ""
           },
           "baxis": {
            "gridcolor": "white",
            "linecolor": "white",
            "ticks": ""
           },
           "bgcolor": "#E5ECF6",
           "caxis": {
            "gridcolor": "white",
            "linecolor": "white",
            "ticks": ""
           }
          },
          "title": {
           "x": 0.05
          },
          "xaxis": {
           "automargin": true,
           "gridcolor": "white",
           "linecolor": "white",
           "ticks": "",
           "title": {
            "standoff": 15
           },
           "zerolinecolor": "white",
           "zerolinewidth": 2
          },
          "yaxis": {
           "automargin": true,
           "gridcolor": "white",
           "linecolor": "white",
           "ticks": "",
           "title": {
            "standoff": 15
           },
           "zerolinecolor": "white",
           "zerolinewidth": 2
          }
         }
        },
        "title": {
         "text": "Sectoral Equilibrium Metrics by Productivity Percentile"
        },
        "width": 1000,
        "xaxis": {
         "anchor": "y",
         "domain": [
          0,
          0.45
         ],
         "ticktext": [
          "10th",
          "25th",
          "50th",
          "75th",
          "90th"
         ],
         "tickvals": [
          1,
          2,
          3,
          4,
          5
         ],
         "title": {
          "text": "Productivity Percentiles"
         }
        },
        "xaxis2": {
         "anchor": "y2",
         "domain": [
          0.55,
          1
         ],
         "ticktext": [
          "10th",
          "25th",
          "50th",
          "75th",
          "90th"
         ],
         "tickvals": [
          1,
          2,
          3,
          4,
          5
         ],
         "title": {
          "text": "Productivity Percentiles"
         }
        },
        "xaxis3": {
         "anchor": "y3",
         "domain": [
          0,
          0.45
         ],
         "ticktext": [
          "10th",
          "25th",
          "50th",
          "75th",
          "90th"
         ],
         "tickvals": [
          1,
          2,
          3,
          4,
          5
         ],
         "title": {
          "text": "Productivity Percentiles"
         }
        },
        "xaxis4": {
         "anchor": "y4",
         "domain": [
          0.55,
          1
         ],
         "ticktext": [
          "10th",
          "25th",
          "50th",
          "75th",
          "90th"
         ],
         "tickvals": [
          1,
          2,
          3,
          4,
          5
         ],
         "title": {
          "text": "Productivity Percentiles"
         }
        },
        "yaxis": {
         "anchor": "x",
         "domain": [
          0.625,
          1
         ],
         "title": {
          "text": "Wages"
         }
        },
        "yaxis2": {
         "anchor": "x2",
         "domain": [
          0.625,
          1
         ],
         "title": {
          "text": "Wage-Bill Share"
         }
        },
        "yaxis3": {
         "anchor": "x3",
         "domain": [
          0,
          0.375
         ],
         "title": {
          "text": "Labor Elasticity"
         }
        },
        "yaxis4": {
         "anchor": "x4",
         "domain": [
          0,
          0.375
         ],
         "title": {
          "text": "Markdown"
         }
        }
       }
      }
     },
     "metadata": {},
     "output_type": "display_data"
    }
   ],
   "source": [
    "# ----------------------------------------------------------------------------------------------------------------------------------------------------------------------------------------------------------------------------------------------\n",
    "# Prepare data for plotting\n",
    "# ----------------------------------------------------------------------------------------------------------------------------------------------------------------------------------------------------------------------------------------------\n",
    "eta = params[\"eta\"]\n",
    "theta = params[\"theta\"]\n",
    "mu_eta_ref = eta / (eta + 1)\n",
    "mu_theta_ref = theta / (theta + 1)\n",
    "\n",
    "J = params[\"J\"]\n",
    "\n",
    "# Find a market with exactly one firm and one with 10 active firms.\n",
    "market_with_one_firm = next((j for j in range(J) if np.count_nonzero(z_ij[:, j] > 0) == 1), None)\n",
    "market_with_multiple_firms = next((j for j in range(J) if np.count_nonzero(z_ij[:, j] > 0) == 10), None)\n",
    "\n",
    "if market_with_one_firm is None or market_with_multiple_firms is None:\n",
    "    raise ValueError(\"Required markets (one with exactly 1 firm and one with 10 firms) not found.\")\n",
    "\n",
    "selected_markets = [market_with_one_firm, market_with_multiple_firms]\n",
    "market_labels = [\"Single-firm market\", \"Multi-firm market\"]\n",
    "colors = [\"blue\", \"red\"]\n",
    "\n",
    "percentile_labels = [\"10th\", \"25th\", \"50th\", \"75th\", \"90th\"]\n",
    "x_positions = np.arange(1, len(percentile_labels)+1)\n",
    "\n",
    "def compute_percentiles(z_values, y_values):\n",
    "    # Compute quantile thresholds (10th, 25th, 50th, 75th, 90th)\n",
    "    qs = np.percentile(z_values, [10, 25, 50, 75, 90])\n",
    "    # For each quantile, find the index where z_value is closest to the quantile threshold\n",
    "    indices = [np.argmin(np.abs(z_values - q)) for q in qs]\n",
    "    y_percentiles = y_values[indices]\n",
    "    return y_percentiles\n",
    "\n",
    "print(\"Plotting data prepared.\")\n",
    "\n",
    "# -----------------------------\n",
    "# Create a 2x2 subplot figure using Plotly\n",
    "# -----------------------------\n",
    "fig = make_subplots(rows=2, cols=2,\n",
    "                    subplot_titles=(\"Wages (w_ij)\", \"Wage-Bill Share (s_ij)\",\n",
    "                                    \"Labor Elasticity (eps_ij)\", \"Markdown (mu_ij)\"))\n",
    "\n",
    "for idx, j in enumerate(selected_markets):\n",
    "    m = Mj[j]\n",
    "    if m == 1:\n",
    "        xs = [x_positions[0]]\n",
    "        s_vals = [s_ij[0, j]]\n",
    "        w_vals = [w_ij[0, j]]\n",
    "        eps_vals = [eps_ij[0, j]]\n",
    "        mu_vals = [mu_ij[0, j]]\n",
    "    else:\n",
    "        z_values = z_ij[:m, j]\n",
    "        xs = x_positions\n",
    "        s_vals = compute_percentiles(z_values, s_ij[:m, j])\n",
    "        w_vals = compute_percentiles(z_values, w_ij[:m, j])\n",
    "        eps_vals = compute_percentiles(z_values, eps_ij[:m, j])\n",
    "        mu_vals = compute_percentiles(z_values, mu_ij[:m, j])\n",
    "    \n",
    "    fig.add_trace(go.Scatter(x=xs, y=w_vals, mode='lines+markers',\n",
    "                             name=market_labels[idx], marker_color=colors[idx],\n",
    "                             showlegend=(idx==0)), row=1, col=1)\n",
    "    fig.add_trace(go.Scatter(x=xs, y=s_vals, mode='lines+markers',\n",
    "                             name=market_labels[idx], marker_color=colors[idx],\n",
    "                             showlegend=False), row=1, col=2)\n",
    "    fig.add_trace(go.Scatter(x=xs, y=eps_vals, mode='lines+markers',\n",
    "                             name=market_labels[idx], marker_color=colors[idx],\n",
    "                             showlegend=False), row=2, col=1)\n",
    "    fig.add_trace(go.Scatter(x=xs, y=mu_vals, mode='lines+markers',\n",
    "                             name=market_labels[idx], marker_color=colors[idx],\n",
    "                             showlegend=False), row=2, col=2)\n",
    "\n",
    "# Add horizontal dashed lines to the markdown subplot.\n",
    "fig.add_hline(y=mu_eta_ref, line=dict(dash=\"dash\", color=\"black\"),\n",
    "              row=2, col=2, annotation_text=\"η/(η+1)\", annotation_position=\"bottom left\")\n",
    "fig.add_hline(y=mu_theta_ref, line=dict(dash=\"dash\", color=\"gray\"),\n",
    "              row=2, col=2, annotation_text=\"θ/(θ+1)\", annotation_position=\"bottom right\")\n",
    "\n",
    "fig.update_xaxes(title_text=\"Productivity Percentiles\", tickvals=list(x_positions),\n",
    "                 ticktext=percentile_labels)\n",
    "fig.update_yaxes(title_text=\"Wages\", row=1, col=1)\n",
    "fig.update_yaxes(title_text=\"Wage-Bill Share\", row=1, col=2)\n",
    "fig.update_yaxes(title_text=\"Labor Elasticity\", row=2, col=1)\n",
    "fig.update_yaxes(title_text=\"Markdown\", row=2, col=2)\n",
    "\n",
    "fig.update_layout(height=800, width=1000, title_text=\"Sectoral Equilibrium Metrics by Productivity Percentile\")\n",
    "\n",
    "fig.show()"
   ]
  },
  {
   "cell_type": "markdown",
   "id": "e46074b2",
   "metadata": {},
   "source": [
    "#### Relationship Between Productivity, Wages, and Labor Market Power\n",
    "\n",
    "- More productive firms pay higher wages and capture a larger share of wage bills in their markets.\n",
    "- A larger wage-bill share reduces labor supply elasticity to the firm, increasing its market presence.\n",
    "- Lower labor supply elasticity enhances monopsony power, leading to lower markdowns i.e., higher labor market power since $w_{ij} = \\mu_{ij} MRPL_{ij}$\n",
    "\n",
    "- Firms operating in single-market environments exhibit the highest monopsony power, consistent with classic models.\n"
   ]
  },
  {
   "cell_type": "markdown",
   "id": "addab20d",
   "metadata": {},
   "source": [
    "#### 2. Firm-Size Distribution "
   ]
  },
  {
   "cell_type": "code",
   "execution_count": 9,
   "id": "8a1e5f9d-5348-4d38-84ef-77696d6b1d7c",
   "metadata": {},
   "outputs": [
    {
     "data": {
      "application/vnd.plotly.v1+json": {
       "config": {
        "plotlyServerURL": "https://plot.ly"
       },
       "data": [
        {
         "nbinsx": 100,
         "type": "histogram",
         "x": {
          "bdata": "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",
          "dtype": "f8"
         }
        }
       ],
       "layout": {
        "template": {
         "data": {
          "bar": [
           {
            "error_x": {
             "color": "#2a3f5f"
            },
            "error_y": {
             "color": "#2a3f5f"
            },
            "marker": {
             "line": {
              "color": "#E5ECF6",
              "width": 0.5
             },
             "pattern": {
              "fillmode": "overlay",
              "size": 10,
              "solidity": 0.2
             }
            },
            "type": "bar"
           }
          ],
          "barpolar": [
           {
            "marker": {
             "line": {
              "color": "#E5ECF6",
              "width": 0.5
             },
             "pattern": {
              "fillmode": "overlay",
              "size": 10,
              "solidity": 0.2
             }
            },
            "type": "barpolar"
           }
          ],
          "carpet": [
           {
            "aaxis": {
             "endlinecolor": "#2a3f5f",
             "gridcolor": "white",
             "linecolor": "white",
             "minorgridcolor": "white",
             "startlinecolor": "#2a3f5f"
            },
            "baxis": {
             "endlinecolor": "#2a3f5f",
             "gridcolor": "white",
             "linecolor": "white",
             "minorgridcolor": "white",
             "startlinecolor": "#2a3f5f"
            },
            "type": "carpet"
           }
          ],
          "choropleth": [
           {
            "colorbar": {
             "outlinewidth": 0,
             "ticks": ""
            },
            "type": "choropleth"
           }
          ],
          "contour": [
           {
            "colorbar": {
             "outlinewidth": 0,
             "ticks": ""
            },
            "colorscale": [
             [
              0,
              "#0d0887"
             ],
             [
              0.1111111111111111,
              "#46039f"
             ],
             [
              0.2222222222222222,
              "#7201a8"
             ],
             [
              0.3333333333333333,
              "#9c179e"
             ],
             [
              0.4444444444444444,
              "#bd3786"
             ],
             [
              0.5555555555555556,
              "#d8576b"
             ],
             [
              0.6666666666666666,
              "#ed7953"
             ],
             [
              0.7777777777777778,
              "#fb9f3a"
             ],
             [
              0.8888888888888888,
              "#fdca26"
             ],
             [
              1,
              "#f0f921"
             ]
            ],
            "type": "contour"
           }
          ],
          "contourcarpet": [
           {
            "colorbar": {
             "outlinewidth": 0,
             "ticks": ""
            },
            "type": "contourcarpet"
           }
          ],
          "heatmap": [
           {
            "colorbar": {
             "outlinewidth": 0,
             "ticks": ""
            },
            "colorscale": [
             [
              0,
              "#0d0887"
             ],
             [
              0.1111111111111111,
              "#46039f"
             ],
             [
              0.2222222222222222,
              "#7201a8"
             ],
             [
              0.3333333333333333,
              "#9c179e"
             ],
             [
              0.4444444444444444,
              "#bd3786"
             ],
             [
              0.5555555555555556,
              "#d8576b"
             ],
             [
              0.6666666666666666,
              "#ed7953"
             ],
             [
              0.7777777777777778,
              "#fb9f3a"
             ],
             [
              0.8888888888888888,
              "#fdca26"
             ],
             [
              1,
              "#f0f921"
             ]
            ],
            "type": "heatmap"
           }
          ],
          "histogram": [
           {
            "marker": {
             "pattern": {
              "fillmode": "overlay",
              "size": 10,
              "solidity": 0.2
             }
            },
            "type": "histogram"
           }
          ],
          "histogram2d": [
           {
            "colorbar": {
             "outlinewidth": 0,
             "ticks": ""
            },
            "colorscale": [
             [
              0,
              "#0d0887"
             ],
             [
              0.1111111111111111,
              "#46039f"
             ],
             [
              0.2222222222222222,
              "#7201a8"
             ],
             [
              0.3333333333333333,
              "#9c179e"
             ],
             [
              0.4444444444444444,
              "#bd3786"
             ],
             [
              0.5555555555555556,
              "#d8576b"
             ],
             [
              0.6666666666666666,
              "#ed7953"
             ],
             [
              0.7777777777777778,
              "#fb9f3a"
             ],
             [
              0.8888888888888888,
              "#fdca26"
             ],
             [
              1,
              "#f0f921"
             ]
            ],
            "type": "histogram2d"
           }
          ],
          "histogram2dcontour": [
           {
            "colorbar": {
             "outlinewidth": 0,
             "ticks": ""
            },
            "colorscale": [
             [
              0,
              "#0d0887"
             ],
             [
              0.1111111111111111,
              "#46039f"
             ],
             [
              0.2222222222222222,
              "#7201a8"
             ],
             [
              0.3333333333333333,
              "#9c179e"
             ],
             [
              0.4444444444444444,
              "#bd3786"
             ],
             [
              0.5555555555555556,
              "#d8576b"
             ],
             [
              0.6666666666666666,
              "#ed7953"
             ],
             [
              0.7777777777777778,
              "#fb9f3a"
             ],
             [
              0.8888888888888888,
              "#fdca26"
             ],
             [
              1,
              "#f0f921"
             ]
            ],
            "type": "histogram2dcontour"
           }
          ],
          "mesh3d": [
           {
            "colorbar": {
             "outlinewidth": 0,
             "ticks": ""
            },
            "type": "mesh3d"
           }
          ],
          "parcoords": [
           {
            "line": {
             "colorbar": {
              "outlinewidth": 0,
              "ticks": ""
             }
            },
            "type": "parcoords"
           }
          ],
          "pie": [
           {
            "automargin": true,
            "type": "pie"
           }
          ],
          "scatter": [
           {
            "fillpattern": {
             "fillmode": "overlay",
             "size": 10,
             "solidity": 0.2
            },
            "type": "scatter"
           }
          ],
          "scatter3d": [
           {
            "line": {
             "colorbar": {
              "outlinewidth": 0,
              "ticks": ""
             }
            },
            "marker": {
             "colorbar": {
              "outlinewidth": 0,
              "ticks": ""
             }
            },
            "type": "scatter3d"
           }
          ],
          "scattercarpet": [
           {
            "marker": {
             "colorbar": {
              "outlinewidth": 0,
              "ticks": ""
             }
            },
            "type": "scattercarpet"
           }
          ],
          "scattergeo": [
           {
            "marker": {
             "colorbar": {
              "outlinewidth": 0,
              "ticks": ""
             }
            },
            "type": "scattergeo"
           }
          ],
          "scattergl": [
           {
            "marker": {
             "colorbar": {
              "outlinewidth": 0,
              "ticks": ""
             }
            },
            "type": "scattergl"
           }
          ],
          "scattermap": [
           {
            "marker": {
             "colorbar": {
              "outlinewidth": 0,
              "ticks": ""
             }
            },
            "type": "scattermap"
           }
          ],
          "scattermapbox": [
           {
            "marker": {
             "colorbar": {
              "outlinewidth": 0,
              "ticks": ""
             }
            },
            "type": "scattermapbox"
           }
          ],
          "scatterpolar": [
           {
            "marker": {
             "colorbar": {
              "outlinewidth": 0,
              "ticks": ""
             }
            },
            "type": "scatterpolar"
           }
          ],
          "scatterpolargl": [
           {
            "marker": {
             "colorbar": {
              "outlinewidth": 0,
              "ticks": ""
             }
            },
            "type": "scatterpolargl"
           }
          ],
          "scatterternary": [
           {
            "marker": {
             "colorbar": {
              "outlinewidth": 0,
              "ticks": ""
             }
            },
            "type": "scatterternary"
           }
          ],
          "surface": [
           {
            "colorbar": {
             "outlinewidth": 0,
             "ticks": ""
            },
            "colorscale": [
             [
              0,
              "#0d0887"
             ],
             [
              0.1111111111111111,
              "#46039f"
             ],
             [
              0.2222222222222222,
              "#7201a8"
             ],
             [
              0.3333333333333333,
              "#9c179e"
             ],
             [
              0.4444444444444444,
              "#bd3786"
             ],
             [
              0.5555555555555556,
              "#d8576b"
             ],
             [
              0.6666666666666666,
              "#ed7953"
             ],
             [
              0.7777777777777778,
              "#fb9f3a"
             ],
             [
              0.8888888888888888,
              "#fdca26"
             ],
             [
              1,
              "#f0f921"
             ]
            ],
            "type": "surface"
           }
          ],
          "table": [
           {
            "cells": {
             "fill": {
              "color": "#EBF0F8"
             },
             "line": {
              "color": "white"
             }
            },
            "header": {
             "fill": {
              "color": "#C8D4E3"
             },
             "line": {
              "color": "white"
             }
            },
            "type": "table"
           }
          ]
         },
         "layout": {
          "annotationdefaults": {
           "arrowcolor": "#2a3f5f",
           "arrowhead": 0,
           "arrowwidth": 1
          },
          "autotypenumbers": "strict",
          "coloraxis": {
           "colorbar": {
            "outlinewidth": 0,
            "ticks": ""
           }
          },
          "colorscale": {
           "diverging": [
            [
             0,
             "#8e0152"
            ],
            [
             0.1,
             "#c51b7d"
            ],
            [
             0.2,
             "#de77ae"
            ],
            [
             0.3,
             "#f1b6da"
            ],
            [
             0.4,
             "#fde0ef"
            ],
            [
             0.5,
             "#f7f7f7"
            ],
            [
             0.6,
             "#e6f5d0"
            ],
            [
             0.7,
             "#b8e186"
            ],
            [
             0.8,
             "#7fbc41"
            ],
            [
             0.9,
             "#4d9221"
            ],
            [
             1,
             "#276419"
            ]
           ],
           "sequential": [
            [
             0,
             "#0d0887"
            ],
            [
             0.1111111111111111,
             "#46039f"
            ],
            [
             0.2222222222222222,
             "#7201a8"
            ],
            [
             0.3333333333333333,
             "#9c179e"
            ],
            [
             0.4444444444444444,
             "#bd3786"
            ],
            [
             0.5555555555555556,
             "#d8576b"
            ],
            [
             0.6666666666666666,
             "#ed7953"
            ],
            [
             0.7777777777777778,
             "#fb9f3a"
            ],
            [
             0.8888888888888888,
             "#fdca26"
            ],
            [
             1,
             "#f0f921"
            ]
           ],
           "sequentialminus": [
            [
             0,
             "#0d0887"
            ],
            [
             0.1111111111111111,
             "#46039f"
            ],
            [
             0.2222222222222222,
             "#7201a8"
            ],
            [
             0.3333333333333333,
             "#9c179e"
            ],
            [
             0.4444444444444444,
             "#bd3786"
            ],
            [
             0.5555555555555556,
             "#d8576b"
            ],
            [
             0.6666666666666666,
             "#ed7953"
            ],
            [
             0.7777777777777778,
             "#fb9f3a"
            ],
            [
             0.8888888888888888,
             "#fdca26"
            ],
            [
             1,
             "#f0f921"
            ]
           ]
          },
          "colorway": [
           "#636efa",
           "#EF553B",
           "#00cc96",
           "#ab63fa",
           "#FFA15A",
           "#19d3f3",
           "#FF6692",
           "#B6E880",
           "#FF97FF",
           "#FECB52"
          ],
          "font": {
           "color": "#2a3f5f"
          },
          "geo": {
           "bgcolor": "white",
           "lakecolor": "white",
           "landcolor": "#E5ECF6",
           "showlakes": true,
           "showland": true,
           "subunitcolor": "white"
          },
          "hoverlabel": {
           "align": "left"
          },
          "hovermode": "closest",
          "mapbox": {
           "style": "light"
          },
          "paper_bgcolor": "white",
          "plot_bgcolor": "#E5ECF6",
          "polar": {
           "angularaxis": {
            "gridcolor": "white",
            "linecolor": "white",
            "ticks": ""
           },
           "bgcolor": "#E5ECF6",
           "radialaxis": {
            "gridcolor": "white",
            "linecolor": "white",
            "ticks": ""
           }
          },
          "scene": {
           "xaxis": {
            "backgroundcolor": "#E5ECF6",
            "gridcolor": "white",
            "gridwidth": 2,
            "linecolor": "white",
            "showbackground": true,
            "ticks": "",
            "zerolinecolor": "white"
           },
           "yaxis": {
            "backgroundcolor": "#E5ECF6",
            "gridcolor": "white",
            "gridwidth": 2,
            "linecolor": "white",
            "showbackground": true,
            "ticks": "",
            "zerolinecolor": "white"
           },
           "zaxis": {
            "backgroundcolor": "#E5ECF6",
            "gridcolor": "white",
            "gridwidth": 2,
            "linecolor": "white",
            "showbackground": true,
            "ticks": "",
            "zerolinecolor": "white"
           }
          },
          "shapedefaults": {
           "line": {
            "color": "#2a3f5f"
           }
          },
          "ternary": {
           "aaxis": {
            "gridcolor": "white",
            "linecolor": "white",
            "ticks": ""
           },
           "baxis": {
            "gridcolor": "white",
            "linecolor": "white",
            "ticks": ""
           },
           "bgcolor": "#E5ECF6",
           "caxis": {
            "gridcolor": "white",
            "linecolor": "white",
            "ticks": ""
           }
          },
          "title": {
           "x": 0.05
          },
          "xaxis": {
           "automargin": true,
           "gridcolor": "white",
           "linecolor": "white",
           "ticks": "",
           "title": {
            "standoff": 15
           },
           "zerolinecolor": "white",
           "zerolinewidth": 2
          },
          "yaxis": {
           "automargin": true,
           "gridcolor": "white",
           "linecolor": "white",
           "ticks": "",
           "title": {
            "standoff": 15
           },
           "zerolinecolor": "white",
           "zerolinewidth": 2
          }
         }
        },
        "title": {
         "text": "Firm-Size Distribution"
        },
        "xaxis": {
         "title": {
          "text": "Employment (n_ij)"
         }
        },
        "yaxis": {
         "title": {
          "text": "Frequency"
         }
        }
       }
      }
     },
     "metadata": {},
     "output_type": "display_data"
    }
   ],
   "source": [
    "# -----------------------------\n",
    "# Create histogram of employment (n_ij)\n",
    "# -----------------------------\n",
    "active_n_ij = n_ij[n_ij > 0].flatten()\n",
    "hist_fig = go.Figure(data=[go.Histogram(x=active_n_ij, nbinsx=100)])\n",
    "hist_fig.update_layout(title_text=\"Firm-Size Distribution\",\n",
    "                         xaxis_title=\"Employment (n_ij)\",\n",
    "                         yaxis_title=\"Frequency\")\n",
    "hist_fig.show()"
   ]
  },
  {
   "cell_type": "markdown",
   "id": "bd46ca67",
   "metadata": {},
   "source": [
    "The model also generates a realistic firm-size distribution, where the average firm-size can be tweaked to match the data."
   ]
  },
  {
   "cell_type": "markdown",
   "id": "73f6498c",
   "metadata": {},
   "source": [
    "## Regression"
   ]
  },
  {
   "cell_type": "markdown",
   "id": "cf3d8696",
   "metadata": {},
   "source": [
    "#### A simple OLS regression: $w_{ij} = \\beta_0 + \\beta_1 \\mu_{ij} + \\epsilon_{ij}$"
   ]
  },
  {
   "cell_type": "code",
   "execution_count": 10,
   "id": "c6734df1",
   "metadata": {},
   "outputs": [
    {
     "name": "stdout",
     "output_type": "stream",
     "text": [
      "                            OLS Regression Results                            \n",
      "==============================================================================\n",
      "Dep. Variable:                      y   R-squared:                       0.655\n",
      "Model:                            OLS   Adj. R-squared:                  0.655\n",
      "Method:                 Least Squares   F-statistic:                 1.900e+05\n",
      "Date:                Fri, 28 Feb 2025   Prob (F-statistic):               0.00\n",
      "Time:                        20:33:06   Log-Likelihood:            -1.0774e+06\n",
      "No. Observations:              100000   AIC:                         2.155e+06\n",
      "Df Residuals:                   99998   BIC:                         2.155e+06\n",
      "Df Model:                           1                                         \n",
      "Covariance Type:            nonrobust                                         \n",
      "==============================================================================\n",
      "                 coef    std err          t      P>|t|      [0.025      0.975]\n",
      "------------------------------------------------------------------------------\n",
      "const        289.4063     43.780      6.610      0.000     203.597     375.215\n",
      "x1          4.474e+04    102.645    435.855      0.000    4.45e+04    4.49e+04\n",
      "==============================================================================\n",
      "Omnibus:                    66615.631   Durbin-Watson:                   2.001\n",
      "Prob(Omnibus):                  0.000   Jarque-Bera (JB):          1589795.684\n",
      "Skew:                           2.863   Prob(JB):                         0.00\n",
      "Kurtosis:                      21.675   Cond. No.                         2.98\n",
      "==============================================================================\n",
      "\n",
      "Notes:\n",
      "[1] Standard Errors assume that the covariance matrix of the errors is correctly specified.\n"
     ]
    }
   ],
   "source": [
    "\n",
    "import numpy as np\n",
    "import statsmodels.api as sm\n",
    "\n",
    "# Extract w_ij and mu_ij from the model dictionary\n",
    "w_ij = model[\"w_ij\"].flatten()  # Flatten to 1D array\n",
    "mu_ij = model[\"mu_ij\"].flatten()  # Flatten to 1D array\n",
    "\n",
    "# Remove NaN or infinite values if any\n",
    "valid_indices = np.isfinite(w_ij) & np.isfinite(mu_ij)\n",
    "w_ij_clean = w_ij[valid_indices]\n",
    "mu_ij_clean = mu_ij[valid_indices]\n",
    "\n",
    "# Add a constant term for the regression (intercept)\n",
    "mu_ij_clean = sm.add_constant(mu_ij_clean)\n",
    "\n",
    "# Run the regression\n",
    "regression_model = sm.OLS(w_ij_clean, mu_ij_clean).fit()\n",
    "\n",
    "# Display the regression results\n",
    "print(regression_model.summary())\n"
   ]
  },
  {
   "cell_type": "markdown",
   "id": "6a2a8bd0",
   "metadata": {},
   "source": [
    "This reveals a positive correlation, as expected. Thus, labor monopsony power (inverse of $\\mu_{ij}$) originating from higher productivity (structually from the model) leads to a decline in wages."
   ]
  }
 ],
 "metadata": {
  "kernelspec": {
   "display_name": "Python 3",
   "language": "python",
   "name": "python3"
  },
  "language_info": {
   "codemirror_mode": {
    "name": "ipython",
    "version": 3
   },
   "file_extension": ".py",
   "mimetype": "text/x-python",
   "name": "python",
   "nbconvert_exporter": "python",
   "pygments_lexer": "ipython3",
   "version": "3.12.8"
  }
 },
 "nbformat": 4,
 "nbformat_minor": 5
}
