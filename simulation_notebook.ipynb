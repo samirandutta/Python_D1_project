{
 "cells": [
  {
   "cell_type": "code",
   "execution_count": 1,
   "id": "b1cf77bd-c89d-41f3-a3f2-d9b2e6a0c2ed",
   "metadata": {
    "tags": []
   },
   "outputs": [],
   "source": [
    "%matplotlib inline\n",
    "# Author: Samiran Dutta\n",
    "# Date: 28.02.25\n",
    "\n",
    "# This code replicates the model in 'Labor Market Power' by Berger et al. (2022)\n",
    "# ..with new model visualisations (not in the original paper) + simple OLS estimation of how wage markdown affects wages from model generated data\n",
    "# Research question: How do labor market imperfections affect wages? In particular, what are the origins and role of labor monopsony power in determining wages? "
   ]
  },
  {
   "cell_type": "markdown",
   "id": "c21f706d",
   "metadata": {},
   "source": [
    "## Packages"
   ]
  },
  {
   "cell_type": "code",
   "execution_count": 2,
   "id": "a1d8156c-9ea0-47ee-bd9b-1630a06b8b06",
   "metadata": {},
   "outputs": [
    {
     "name": "stdout",
     "output_type": "stream",
     "text": [
      "Imports completed.\n"
     ]
    }
   ],
   "source": [
    "import numpy as np\n",
    "from scipy.stats import pareto\n",
    "import math\n",
    "\n",
    "# Use JupyterDash for inline dashboards\n",
    "from jupyter_dash import JupyterDash\n",
    "from dash import dcc, html\n",
    "from dash.dependencies import Input, Output\n",
    "from plotly.subplots import make_subplots\n",
    "import plotly.graph_objects as go\n",
    "\n",
    "print(\"Imports completed.\")"
   ]
  },
  {
   "cell_type": "markdown",
   "id": "6d5c87aa",
   "metadata": {},
   "source": [
    "## Functions"
   ]
  },
  {
   "cell_type": "markdown",
   "id": "0fc323f3",
   "metadata": {},
   "source": [
    "### 1. Define Parameters"
   ]
  },
  {
   "cell_type": "code",
   "execution_count": 3,
   "id": "9b3d3a8b",
   "metadata": {},
   "outputs": [],
   "source": [
    "# ----------------------------------------------------------------------------------------------------------------------------------------------------------------------------------------------------------------------------------------------\n",
    "# Set parameters \n",
    "# ----------------------------------------------------------------------------------------------------------------------------------------------------------------------------------------------------------------------------------------------\n",
    "def set_par(phi=0.50, alpha=0.987, beta=1/1.04, delta=0.1, eta=3.74, theta=0.76,\n",
    "            J=1000, min_ij=1, max_ij=100, upsilon=0.20, gamma=0.818):\n",
    "    R = (1/beta) - 1 + delta  # equilibrium capital steady‐state condition\n",
    "    return {\"phi\": phi, \"alpha\": alpha, \"beta\": beta, \"delta\": delta,\n",
    "            \"eta\": eta, \"theta\": theta, \"R\": R, \"J\": J,\n",
    "            \"min_ij\": min_ij, \"max_ij\": max_ij, \"upsilon\": upsilon, \"gamma\": gamma}"
   ]
  },
  {
   "cell_type": "markdown",
   "id": "ee6f05d0",
   "metadata": {},
   "source": [
    "### 2. Generate Number of Firms (for all i in each j = 1,...,J)"
   ]
  },
  {
   "cell_type": "code",
   "execution_count": 4,
   "id": "d935b30f-f64f-4e38-b3aa-b657e9d2a5cf",
   "metadata": {},
   "outputs": [],
   "source": [
    "# ----------------------------------------------------------------------------------------------------------------------------------------------------------------------------------------------------------------------------------------------\n",
    "# Generate number of firms in each market \n",
    "# ----------------------------------------------------------------------------------------------------------------------------------------------------------------------------------------------------------------------------------------------\n",
    "def gen_firms(params):\n",
    "    J = params[\"J\"]\n",
    "    max_ij = params[\"max_ij\"]\n",
    "    Mj = np.zeros(J, dtype=int)\n",
    "    prob_1_firm = 0.15  # 15% of markets have exactly 1 firm\n",
    "    shape = 0.67\n",
    "    scale = 5.7\n",
    "    location = 2\n",
    "    for j in range(J):\n",
    "        if np.random.rand() < prob_1_firm:\n",
    "            Mj[j] = 1\n",
    "        else:\n",
    "            # draw from a Pareto and shift by location; then take ceiling\n",
    "            sample = math.ceil(pareto.rvs(shape, scale=scale) + location)\n",
    "            Mj[j] = int(min(max_ij, max(1, sample)))\n",
    "    Mj_max = Mj.max()\n",
    "    return Mj, Mj_max"
   ]
  },
  {
   "cell_type": "markdown",
   "id": "b8731a9e",
   "metadata": {},
   "source": [
    "### 3. Generate Firm-level Productivity; drawn from a Pareto Distribution"
   ]
  },
  {
   "cell_type": "code",
   "execution_count": 5,
   "id": "f9e3dfd5",
   "metadata": {},
   "outputs": [],
   "source": [
    "# ----------------------------------------------------------------------------------------------------------------------------------------------------------------------------------------------------------------------------------------------\n",
    "# Generate firm-level productivities \n",
    "# ----------------------------------------------------------------------------------------------------------------------------------------------------------------------------------------------------------------------------------------------\n",
    "def gen_productivity(params):\n",
    "    J = params[\"J\"]\n",
    "    gamma = params[\"gamma\"]\n",
    "    alpha = params[\"alpha\"]\n",
    "    R = params[\"R\"]\n",
    "    Mj, Mj_max = gen_firms(params)\n",
    "    \n",
    "    # Initialize arrays (shape: (Mj_max, J))\n",
    "    z_ij_notilde = np.zeros((Mj_max, J))\n",
    "    z_ij = np.zeros((Mj_max, J))\n",
    "    xi = 0.5  # standard deviation for the underlying normal\n",
    "\n",
    "    # Use np.random.lognormal (mean and sigma are for the underlying normal)\n",
    "    for j in range(J):\n",
    "        m = Mj[j]\n",
    "        if m > 0:\n",
    "            z_ij_notilde[:m, j] = np.random.lognormal(mean=1, sigma=xi, size=m)\n",
    "    \n",
    "    # Compute the scaling factor and adjust productivity draws\n",
    "    factor = (1 - (1 - gamma)*alpha) * ((alpha*(1-gamma))/R)**((alpha*(1-gamma))/(1 - alpha*(1-gamma)))\n",
    "    z_ij = factor * np.power(z_ij_notilde, 1/(1 - alpha*(1-gamma)))\n",
    "    \n",
    "    return {\"Mj\": Mj, \"Mj_max\": Mj_max, \"z_ij\": z_ij, \"z_ij_notilde\": z_ij_notilde}"
   ]
  },
  {
   "cell_type": "markdown",
   "id": "b9373981",
   "metadata": {},
   "source": [
    "### 4. Steady-State Model (Wage-Bill Share Convergence) "
   ]
  },
  {
   "cell_type": "code",
   "execution_count": 6,
   "id": "465297ea",
   "metadata": {},
   "outputs": [
    {
     "name": "stdout",
     "output_type": "stream",
     "text": [
      "Function definitions loaded.\n"
     ]
    }
   ],
   "source": [
    "# ----------------------------------------------------------------------------------------------------------------------------------------------------------------------------------------------------------------------------------------------\n",
    "# Solve the model \n",
    "# ----------------------------------------------------------------------------------------------------------------------------------------------------------------------------------------------------------------------------------------------\n",
    "def sect_eqlib(params):\n",
    "    alpha = params[\"alpha\"]\n",
    "    beta = params[\"beta\"]\n",
    "    R = params[\"R\"]\n",
    "    eta = params[\"eta\"]\n",
    "    theta = params[\"theta\"]\n",
    "    J = params[\"J\"]\n",
    "    upsilon = params[\"upsilon\"]\n",
    "    phi = params[\"phi\"]\n",
    "    gamma = params[\"gamma\"]\n",
    "    \n",
    "    prod = gen_productivity(params)\n",
    "    Mj = prod[\"Mj\"]\n",
    "    Mj_max = prod[\"Mj_max\"]\n",
    "    z_ij = prod[\"z_ij\"]\n",
    "    z_ij_notilde = prod[\"z_ij_notilde\"]\n",
    "    \n",
    "    # Initialize matrices for wages, markdown, shares, and labor elasticity.\n",
    "    what_ij = np.zeros((Mj_max, J))\n",
    "    mu_ij   = np.zeros((Mj_max, J))\n",
    "    s_ij    = np.zeros((Mj_max, J))\n",
    "    eps_ij  = np.zeros((Mj_max, J))\n",
    "    \n",
    "    max_iter = 1000\n",
    "    alpha_tilde = 0.984\n",
    "    \n",
    "    for j in range(J):\n",
    "        m = Mj[j]\n",
    "        if m == 0:\n",
    "            continue\n",
    "        z_i = z_ij[:m, j]\n",
    "        w_i = np.zeros(m)\n",
    "        mu_i = np.zeros(m)\n",
    "        eps_i = np.zeros(m)\n",
    "        # initial guess for shares: proportional to productivity\n",
    "        s_i = z_i / np.sum(z_i)\n",
    "        iter_count = 0\n",
    "        while iter_count <= max_iter:\n",
    "            iter_count += 1\n",
    "            eps_i = 1.0 / (s_i/theta + (1 - s_i)/eta)\n",
    "            mu_i = eps_i / (eps_i + 1)\n",
    "            a1 = 1.0 / (1 + (1 - alpha_tilde)*theta)\n",
    "            a2 = -(1 - alpha_tilde)*(eta - theta) / (eta + 1)\n",
    "            w_i = np.power(mu_i * alpha_tilde * z_i * np.power(s_i, a2), a1)\n",
    "            W_j = np.power(np.sum(np.power(w_i, eta+1)), 1/(eta+1))\n",
    "            s_i_new = np.power(w_i / W_j, eta+1)\n",
    "            dist_S = np.max(np.abs(s_i_new - s_i))\n",
    "            if dist_S < 1e-5:\n",
    "                print(f\"Market {j+1}: Shares converged in {iter_count} iterations! Max. difference = {dist_S:.2e}\")\n",
    "                break\n",
    "            s_i = upsilon * s_i_new + (1 - upsilon) * s_i\n",
    "            s_i = s_i / np.sum(s_i)\n",
    "        # Store market-specific results into the full matrices\n",
    "        what_ij[:m, j] = w_i\n",
    "        mu_ij[:m, j]   = mu_i\n",
    "        s_ij[:m, j]    = s_i\n",
    "        eps_ij[:m, j]  = eps_i\n",
    "\n",
    "    # Compute sectoral wage indices\n",
    "    what_j = np.array([np.power(np.sum(np.power(what_ij[:Mj[j], j], eta+1)), 1/(eta+1)) for j in range(J)])\n",
    "    What = np.power(np.sum(np.power(what_j, eta+1)), 1/(eta+1))\n",
    "    \n",
    "    # Compute nhat_ij with appropriate broadcasting\n",
    "    nhat_ij = np.power(what_ij / what_j[None, :], eta) * np.power(what_j / What, theta)[None, :] * (What**phi)\n",
    "    \n",
    "    AveFirmSizehat_model = np.sum(nhat_ij) / np.sum(Mj)\n",
    "    AveEarningshat_model = np.sum(what_ij * nhat_ij) / np.sum(nhat_ij)\n",
    "    \n",
    "    # Data targets\n",
    "    AveFirmSize_data = 10\n",
    "    AveEarnings_data = 65000\n",
    "    \n",
    "    phi_tilde = (AveFirmSize_data / AveFirmSizehat_model) / ((AveEarnings_data / AveEarningshat_model)**phi)\n",
    "    Z_tilde = (phi_tilde**(1 - alpha_tilde)) * ((AveEarnings_data / AveEarningshat_model)**(1 + (1 - alpha_tilde)*phi)) \\\n",
    "              * (What** (-(1 - alpha_tilde)*(theta - phi)))\n",
    "    \n",
    "    # Scale up objects\n",
    "    omega = Z_tilde / (phi_tilde**(1 - alpha))\n",
    "    W = np.power(omega, 1/(1+(1-alpha)*phi)) * np.power(What, (1+(1-alpha)*theta)/(1+(1-alpha)*phi))\n",
    "    w_ij = np.power(omega, 1/(1+(1-alpha)*theta)) * np.power(W, ((1-alpha)*(theta-phi))/(1+(1-alpha)*theta)) * what_ij\n",
    "    w_j = np.array([np.power(np.sum(np.power(w_ij[:Mj[j], j], eta+1)), 1/(eta+1)) for j in range(J)])\n",
    "    n_ij = phi_tilde * np.power(w_ij / w_j[None, :], eta) * np.power(w_j / W, theta)[None, :] * (W**phi)\n",
    "    n_j = np.array([np.power(np.sum(np.power(n_ij[:Mj[j], j], (eta+1)/eta)), eta/(eta+1)) for j in range(J)])\n",
    "    N = np.power(np.sum(np.power(n_j, (theta+1)/theta)), theta/(theta+1))\n",
    "    lshare_ij = alpha_tilde * mu_ij\n",
    "    Z_bar = Z_tilde**(1 - (1-gamma)*alpha)\n",
    "    k_ij = np.power(((1 - gamma) * alpha * z_ij * Z_bar / R), 1/(1 - (1-gamma)*alpha)) \\\n",
    "           * np.power(n_ij, (gamma * alpha)/(1 - (1-gamma)*alpha))\n",
    "    y_ij = Z_bar * z_ij_notilde * np.power(np.power(k_ij, 1-gamma) * np.power(n_ij, gamma), alpha)\n",
    "    pi_ij = y_ij - w_ij * n_ij - R * k_ij\n",
    "\n",
    "    AveFirmSizehat_model = np.sum(n_ij) / np.sum(Mj)\n",
    "    AveEarningshat_model = np.sum(w_ij * n_ij) / np.sum(n_ij)\n",
    "    print(f\"Equilibrium computation completed for all {J} markets!\")\n",
    "    \n",
    "    return {\"Z_bar\": Z_bar, \"pi_ij\": pi_ij, \"z_ij\": z_ij, \"y_ij\": y_ij, \"w_ij\": w_ij,\n",
    "            \"n_ij\": n_ij, \"k_ij\": k_ij, \"s_ij\": s_ij, \"mu_ij\": mu_ij, \"eps_ij\": eps_ij,\n",
    "            \"lshare_ij\": lshare_ij, \"Mj\": Mj, \"N\": N,\n",
    "            \"AveFirmSizehat_model\": AveFirmSizehat_model, \"AveEarningshat_model\": AveEarningshat_model}\n",
    "\n",
    "print(\"Function definitions loaded.\")"
   ]
  },
  {
   "cell_type": "markdown",
   "id": "89e30a85",
   "metadata": {},
   "source": [
    "## Run Simulation "
   ]
  },
  {
   "cell_type": "code",
   "execution_count": 7,
   "id": "2667308a-d728-4a45-8dd2-b0f35940e3a2",
   "metadata": {},
   "outputs": [
    {
     "name": "stdout",
     "output_type": "stream",
     "text": [
      "Market 1: Shares converged in 1 iterations! Max. difference = 0.00e+00\n",
      "Market 2: Shares converged in 39 iterations! Max. difference = 8.90e-06\n",
      "Market 3: Shares converged in 1 iterations! Max. difference = 0.00e+00\n",
      "Market 4: Shares converged in 35 iterations! Max. difference = 9.94e-06\n",
      "Market 5: Shares converged in 36 iterations! Max. difference = 8.97e-06\n",
      "Market 6: Shares converged in 36 iterations! Max. difference = 9.89e-06\n",
      "Market 7: Shares converged in 42 iterations! Max. difference = 8.63e-06\n",
      "Market 8: Shares converged in 35 iterations! Max. difference = 7.85e-06\n",
      "Market 9: Shares converged in 37 iterations! Max. difference = 8.68e-06\n",
      "Market 10: Shares converged in 37 iterations! Max. difference = 8.53e-06\n",
      "Market 11: Shares converged in 39 iterations! Max. difference = 8.86e-06\n",
      "Market 12: Shares converged in 1 iterations! Max. difference = 0.00e+00\n",
      "Market 13: Shares converged in 37 iterations! Max. difference = 8.78e-06\n",
      "Market 14: Shares converged in 39 iterations! Max. difference = 8.97e-06\n",
      "Market 15: Shares converged in 1 iterations! Max. difference = 0.00e+00\n",
      "Market 16: Shares converged in 38 iterations! Max. difference = 8.14e-06\n",
      "Market 17: Shares converged in 1 iterations! Max. difference = 0.00e+00\n",
      "Market 18: Shares converged in 1 iterations! Max. difference = 0.00e+00\n",
      "Market 19: Shares converged in 41 iterations! Max. difference = 7.98e-06\n",
      "Market 20: Shares converged in 1 iterations! Max. difference = 0.00e+00\n",
      "Market 21: Shares converged in 37 iterations! Max. difference = 8.25e-06\n",
      "Market 22: Shares converged in 37 iterations! Max. difference = 9.09e-06\n",
      "Market 23: Shares converged in 1 iterations! Max. difference = 0.00e+00\n",
      "Market 24: Shares converged in 36 iterations! Max. difference = 8.88e-06\n",
      "Market 25: Shares converged in 37 iterations! Max. difference = 9.47e-06\n",
      "Market 26: Shares converged in 38 iterations! Max. difference = 7.81e-06\n",
      "Market 27: Shares converged in 37 iterations! Max. difference = 7.99e-06\n",
      "Market 28: Shares converged in 43 iterations! Max. difference = 8.80e-06\n",
      "Market 29: Shares converged in 37 iterations! Max. difference = 9.06e-06\n",
      "Market 30: Shares converged in 38 iterations! Max. difference = 8.51e-06\n",
      "Market 31: Shares converged in 36 iterations! Max. difference = 9.44e-06\n",
      "Market 32: Shares converged in 1 iterations! Max. difference = 1.11e-15\n",
      "Market 33: Shares converged in 40 iterations! Max. difference = 7.97e-06\n",
      "Market 34: Shares converged in 37 iterations! Max. difference = 8.18e-06\n",
      "Market 35: Shares converged in 38 iterations! Max. difference = 8.31e-06\n",
      "Market 36: Shares converged in 37 iterations! Max. difference = 7.79e-06\n",
      "Market 37: Shares converged in 38 iterations! Max. difference = 7.93e-06\n",
      "Market 38: Shares converged in 38 iterations! Max. difference = 8.10e-06\n",
      "Market 39: Shares converged in 42 iterations! Max. difference = 8.53e-06\n",
      "Market 40: Shares converged in 38 iterations! Max. difference = 8.08e-06\n",
      "Market 41: Shares converged in 37 iterations! Max. difference = 8.29e-06\n",
      "Market 42: Shares converged in 37 iterations! Max. difference = 9.03e-06\n",
      "Market 43: Shares converged in 35 iterations! Max. difference = 8.60e-06\n",
      "Market 44: Shares converged in 37 iterations! Max. difference = 9.90e-06\n",
      "Market 45: Shares converged in 38 iterations! Max. difference = 7.81e-06\n",
      "Market 46: Shares converged in 36 iterations! Max. difference = 8.97e-06\n",
      "Market 47: Shares converged in 36 iterations! Max. difference = 8.86e-06\n",
      "Market 48: Shares converged in 1 iterations! Max. difference = 0.00e+00\n",
      "Market 49: Shares converged in 37 iterations! Max. difference = 8.95e-06\n",
      "Market 50: Shares converged in 39 iterations! Max. difference = 8.92e-06\n",
      "Market 51: Shares converged in 37 iterations! Max. difference = 9.42e-06\n",
      "Market 52: Shares converged in 37 iterations! Max. difference = 9.73e-06\n",
      "Market 53: Shares converged in 37 iterations! Max. difference = 8.77e-06\n",
      "Market 54: Shares converged in 37 iterations! Max. difference = 9.14e-06\n",
      "Market 55: Shares converged in 39 iterations! Max. difference = 8.36e-06\n",
      "Market 56: Shares converged in 39 iterations! Max. difference = 9.13e-06\n",
      "Market 57: Shares converged in 37 iterations! Max. difference = 9.48e-06\n",
      "Market 58: Shares converged in 36 iterations! Max. difference = 9.85e-06\n",
      "Market 59: Shares converged in 38 iterations! Max. difference = 8.69e-06\n",
      "Market 60: Shares converged in 36 iterations! Max. difference = 9.04e-06\n",
      "Market 61: Shares converged in 37 iterations! Max. difference = 8.53e-06\n",
      "Market 62: Shares converged in 1 iterations! Max. difference = 0.00e+00\n",
      "Market 63: Shares converged in 38 iterations! Max. difference = 8.18e-06\n",
      "Market 64: Shares converged in 37 iterations! Max. difference = 9.10e-06\n",
      "Market 65: Shares converged in 36 iterations! Max. difference = 8.29e-06\n",
      "Market 66: Shares converged in 38 iterations! Max. difference = 9.90e-06\n",
      "Market 67: Shares converged in 38 iterations! Max. difference = 7.86e-06\n",
      "Market 68: Shares converged in 36 iterations! Max. difference = 9.33e-06\n",
      "Market 69: Shares converged in 37 iterations! Max. difference = 8.94e-06\n",
      "Market 70: Shares converged in 37 iterations! Max. difference = 9.86e-06\n",
      "Market 71: Shares converged in 36 iterations! Max. difference = 9.49e-06\n",
      "Market 72: Shares converged in 40 iterations! Max. difference = 9.15e-06\n",
      "Market 73: Shares converged in 38 iterations! Max. difference = 8.70e-06\n",
      "Market 74: Shares converged in 38 iterations! Max. difference = 8.64e-06\n",
      "Market 75: Shares converged in 37 iterations! Max. difference = 8.53e-06\n",
      "Market 76: Shares converged in 38 iterations! Max. difference = 8.65e-06\n",
      "Market 77: Shares converged in 1 iterations! Max. difference = 0.00e+00\n",
      "Market 78: Shares converged in 38 iterations! Max. difference = 7.83e-06\n",
      "Market 79: Shares converged in 36 iterations! Max. difference = 9.47e-06\n",
      "Market 80: Shares converged in 38 iterations! Max. difference = 7.82e-06\n",
      "Market 81: Shares converged in 38 iterations! Max. difference = 9.51e-06\n",
      "Market 82: Shares converged in 37 iterations! Max. difference = 9.21e-06\n",
      "Market 83: Shares converged in 36 iterations! Max. difference = 9.28e-06\n",
      "Market 84: Shares converged in 39 iterations! Max. difference = 9.90e-06\n",
      "Market 85: Shares converged in 39 iterations! Max. difference = 8.35e-06\n",
      "Market 86: Shares converged in 1 iterations! Max. difference = 0.00e+00\n",
      "Market 87: Shares converged in 41 iterations! Max. difference = 8.09e-06\n",
      "Market 88: Shares converged in 40 iterations! Max. difference = 9.75e-06\n",
      "Market 89: Shares converged in 37 iterations! Max. difference = 8.52e-06\n",
      "Market 90: Shares converged in 38 iterations! Max. difference = 9.00e-06\n",
      "Market 91: Shares converged in 38 iterations! Max. difference = 9.75e-06\n",
      "Market 92: Shares converged in 40 iterations! Max. difference = 7.77e-06\n",
      "Market 93: Shares converged in 1 iterations! Max. difference = 0.00e+00\n",
      "Market 94: Shares converged in 40 iterations! Max. difference = 8.30e-06\n",
      "Market 95: Shares converged in 38 iterations! Max. difference = 8.44e-06\n",
      "Market 96: Shares converged in 39 iterations! Max. difference = 9.37e-06\n",
      "Market 97: Shares converged in 39 iterations! Max. difference = 8.18e-06\n",
      "Market 98: Shares converged in 37 iterations! Max. difference = 8.25e-06\n",
      "Market 99: Shares converged in 35 iterations! Max. difference = 9.35e-06\n",
      "Market 100: Shares converged in 1 iterations! Max. difference = 0.00e+00\n",
      "Market 101: Shares converged in 39 iterations! Max. difference = 9.76e-06\n",
      "Market 102: Shares converged in 1 iterations! Max. difference = 0.00e+00\n",
      "Market 103: Shares converged in 38 iterations! Max. difference = 8.40e-06\n",
      "Market 104: Shares converged in 41 iterations! Max. difference = 9.91e-06\n",
      "Market 105: Shares converged in 37 iterations! Max. difference = 8.86e-06\n",
      "Market 106: Shares converged in 37 iterations! Max. difference = 9.67e-06\n",
      "Market 107: Shares converged in 37 iterations! Max. difference = 8.41e-06\n",
      "Market 108: Shares converged in 40 iterations! Max. difference = 8.51e-06\n",
      "Market 109: Shares converged in 38 iterations! Max. difference = 8.76e-06\n",
      "Market 110: Shares converged in 37 iterations! Max. difference = 8.08e-06\n",
      "Market 111: Shares converged in 38 iterations! Max. difference = 9.80e-06\n",
      "Market 112: Shares converged in 38 iterations! Max. difference = 8.79e-06\n",
      "Market 113: Shares converged in 37 iterations! Max. difference = 9.42e-06\n",
      "Market 114: Shares converged in 36 iterations! Max. difference = 9.09e-06\n",
      "Market 115: Shares converged in 36 iterations! Max. difference = 9.02e-06\n",
      "Market 116: Shares converged in 35 iterations! Max. difference = 9.02e-06\n",
      "Market 117: Shares converged in 38 iterations! Max. difference = 7.84e-06\n",
      "Market 118: Shares converged in 37 iterations! Max. difference = 9.07e-06\n",
      "Market 119: Shares converged in 1 iterations! Max. difference = 0.00e+00\n",
      "Market 120: Shares converged in 39 iterations! Max. difference = 9.60e-06\n",
      "Market 121: Shares converged in 37 iterations! Max. difference = 8.40e-06\n",
      "Market 122: Shares converged in 37 iterations! Max. difference = 9.84e-06\n",
      "Market 123: Shares converged in 37 iterations! Max. difference = 9.18e-06\n",
      "Market 124: Shares converged in 39 iterations! Max. difference = 8.14e-06\n",
      "Market 125: Shares converged in 37 iterations! Max. difference = 9.37e-06\n",
      "Market 126: Shares converged in 37 iterations! Max. difference = 9.01e-06\n",
      "Market 127: Shares converged in 40 iterations! Max. difference = 8.45e-06\n",
      "Market 128: Shares converged in 36 iterations! Max. difference = 8.74e-06\n",
      "Market 129: Shares converged in 37 iterations! Max. difference = 8.27e-06\n",
      "Market 130: Shares converged in 38 iterations! Max. difference = 9.19e-06\n",
      "Market 131: Shares converged in 37 iterations! Max. difference = 7.96e-06\n",
      "Market 132: Shares converged in 37 iterations! Max. difference = 8.52e-06\n",
      "Market 133: Shares converged in 39 iterations! Max. difference = 7.77e-06\n",
      "Market 134: Shares converged in 1 iterations! Max. difference = 0.00e+00\n",
      "Market 135: Shares converged in 38 iterations! Max. difference = 8.66e-06\n",
      "Market 136: Shares converged in 1 iterations! Max. difference = 0.00e+00\n",
      "Market 137: Shares converged in 1 iterations! Max. difference = 0.00e+00\n",
      "Market 138: Shares converged in 36 iterations! Max. difference = 9.30e-06\n",
      "Market 139: Shares converged in 38 iterations! Max. difference = 9.90e-06\n",
      "Market 140: Shares converged in 36 iterations! Max. difference = 8.05e-06\n",
      "Market 141: Shares converged in 37 iterations! Max. difference = 8.49e-06\n",
      "Market 142: Shares converged in 1 iterations! Max. difference = 0.00e+00\n",
      "Market 143: Shares converged in 37 iterations! Max. difference = 9.03e-06\n",
      "Market 144: Shares converged in 41 iterations! Max. difference = 8.60e-06\n",
      "Market 145: Shares converged in 42 iterations! Max. difference = 8.40e-06\n",
      "Market 146: Shares converged in 1 iterations! Max. difference = 0.00e+00\n",
      "Market 147: Shares converged in 38 iterations! Max. difference = 7.81e-06\n",
      "Market 148: Shares converged in 1 iterations! Max. difference = 0.00e+00\n",
      "Market 149: Shares converged in 37 iterations! Max. difference = 8.41e-06\n",
      "Market 150: Shares converged in 36 iterations! Max. difference = 9.41e-06\n",
      "Market 151: Shares converged in 38 iterations! Max. difference = 9.87e-06\n",
      "Market 152: Shares converged in 39 iterations! Max. difference = 8.79e-06\n",
      "Market 153: Shares converged in 1 iterations! Max. difference = 0.00e+00\n",
      "Market 154: Shares converged in 39 iterations! Max. difference = 9.90e-06\n",
      "Market 155: Shares converged in 40 iterations! Max. difference = 8.43e-06\n",
      "Market 156: Shares converged in 36 iterations! Max. difference = 8.06e-06\n",
      "Market 157: Shares converged in 1 iterations! Max. difference = 0.00e+00\n",
      "Market 158: Shares converged in 36 iterations! Max. difference = 9.87e-06\n",
      "Market 159: Shares converged in 38 iterations! Max. difference = 8.70e-06\n",
      "Market 160: Shares converged in 43 iterations! Max. difference = 9.27e-06\n",
      "Market 161: Shares converged in 36 iterations! Max. difference = 9.42e-06\n",
      "Market 162: Shares converged in 1 iterations! Max. difference = 0.00e+00\n",
      "Market 163: Shares converged in 1 iterations! Max. difference = 1.11e-15\n",
      "Market 164: Shares converged in 39 iterations! Max. difference = 8.81e-06\n",
      "Market 165: Shares converged in 38 iterations! Max. difference = 8.68e-06\n",
      "Market 166: Shares converged in 37 iterations! Max. difference = 8.67e-06\n",
      "Market 167: Shares converged in 38 iterations! Max. difference = 7.95e-06\n",
      "Market 168: Shares converged in 37 iterations! Max. difference = 9.56e-06\n",
      "Market 169: Shares converged in 41 iterations! Max. difference = 7.95e-06\n",
      "Market 170: Shares converged in 38 iterations! Max. difference = 8.88e-06\n",
      "Market 171: Shares converged in 1 iterations! Max. difference = 0.00e+00\n",
      "Market 172: Shares converged in 37 iterations! Max. difference = 8.95e-06\n",
      "Market 173: Shares converged in 36 iterations! Max. difference = 8.16e-06\n",
      "Market 174: Shares converged in 1 iterations! Max. difference = 0.00e+00\n",
      "Market 175: Shares converged in 36 iterations! Max. difference = 9.71e-06\n",
      "Market 176: Shares converged in 1 iterations! Max. difference = 0.00e+00\n",
      "Market 177: Shares converged in 1 iterations! Max. difference = 0.00e+00\n",
      "Market 178: Shares converged in 36 iterations! Max. difference = 9.47e-06\n",
      "Market 179: Shares converged in 36 iterations! Max. difference = 7.93e-06\n",
      "Market 180: Shares converged in 1 iterations! Max. difference = 0.00e+00\n",
      "Market 181: Shares converged in 40 iterations! Max. difference = 9.53e-06\n",
      "Market 182: Shares converged in 38 iterations! Max. difference = 9.75e-06\n",
      "Market 183: Shares converged in 39 iterations! Max. difference = 9.46e-06\n",
      "Market 184: Shares converged in 38 iterations! Max. difference = 8.57e-06\n",
      "Market 185: Shares converged in 37 iterations! Max. difference = 9.87e-06\n",
      "Market 186: Shares converged in 37 iterations! Max. difference = 8.52e-06\n",
      "Market 187: Shares converged in 36 iterations! Max. difference = 9.78e-06\n",
      "Market 188: Shares converged in 40 iterations! Max. difference = 8.12e-06\n",
      "Market 189: Shares converged in 42 iterations! Max. difference = 9.48e-06\n",
      "Market 190: Shares converged in 38 iterations! Max. difference = 8.42e-06\n",
      "Market 191: Shares converged in 37 iterations! Max. difference = 9.25e-06\n",
      "Market 192: Shares converged in 37 iterations! Max. difference = 9.39e-06\n",
      "Market 193: Shares converged in 36 iterations! Max. difference = 9.96e-06\n",
      "Market 194: Shares converged in 40 iterations! Max. difference = 8.72e-06\n",
      "Market 195: Shares converged in 1 iterations! Max. difference = 0.00e+00\n",
      "Market 196: Shares converged in 1 iterations! Max. difference = 0.00e+00\n",
      "Market 197: Shares converged in 37 iterations! Max. difference = 9.35e-06\n",
      "Market 198: Shares converged in 37 iterations! Max. difference = 9.45e-06\n",
      "Market 199: Shares converged in 1 iterations! Max. difference = 0.00e+00\n",
      "Market 200: Shares converged in 38 iterations! Max. difference = 8.93e-06\n",
      "Market 201: Shares converged in 40 iterations! Max. difference = 8.79e-06\n",
      "Market 202: Shares converged in 37 iterations! Max. difference = 8.40e-06\n",
      "Market 203: Shares converged in 50 iterations! Max. difference = 8.77e-06\n",
      "Market 204: Shares converged in 36 iterations! Max. difference = 8.19e-06\n",
      "Market 205: Shares converged in 37 iterations! Max. difference = 9.86e-06\n",
      "Market 206: Shares converged in 38 iterations! Max. difference = 9.04e-06\n",
      "Market 207: Shares converged in 37 iterations! Max. difference = 7.96e-06\n",
      "Market 208: Shares converged in 40 iterations! Max. difference = 9.12e-06\n",
      "Market 209: Shares converged in 36 iterations! Max. difference = 9.01e-06\n",
      "Market 210: Shares converged in 37 iterations! Max. difference = 9.09e-06\n",
      "Market 211: Shares converged in 36 iterations! Max. difference = 9.55e-06\n",
      "Market 212: Shares converged in 37 iterations! Max. difference = 9.35e-06\n",
      "Market 213: Shares converged in 1 iterations! Max. difference = 0.00e+00\n",
      "Market 214: Shares converged in 1 iterations! Max. difference = 0.00e+00\n",
      "Market 215: Shares converged in 37 iterations! Max. difference = 9.80e-06\n",
      "Market 216: Shares converged in 1 iterations! Max. difference = 0.00e+00\n",
      "Market 217: Shares converged in 37 iterations! Max. difference = 8.48e-06\n",
      "Market 218: Shares converged in 37 iterations! Max. difference = 9.44e-06\n",
      "Market 219: Shares converged in 1 iterations! Max. difference = 0.00e+00\n",
      "Market 220: Shares converged in 35 iterations! Max. difference = 9.18e-06\n",
      "Market 221: Shares converged in 40 iterations! Max. difference = 7.85e-06\n",
      "Market 222: Shares converged in 38 iterations! Max. difference = 9.00e-06\n",
      "Market 223: Shares converged in 38 iterations! Max. difference = 8.58e-06\n"
     ]
    },
    {
     "name": "stdout",
     "output_type": "stream",
     "text": [
      "Market 224: Shares converged in 38 iterations! Max. difference = 8.45e-06\n",
      "Market 225: Shares converged in 38 iterations! Max. difference = 7.86e-06\n",
      "Market 226: Shares converged in 38 iterations! Max. difference = 7.92e-06\n",
      "Market 227: Shares converged in 38 iterations! Max. difference = 8.11e-06\n",
      "Market 228: Shares converged in 36 iterations! Max. difference = 9.05e-06\n",
      "Market 229: Shares converged in 40 iterations! Max. difference = 9.63e-06\n",
      "Market 230: Shares converged in 37 iterations! Max. difference = 8.40e-06\n",
      "Market 231: Shares converged in 39 iterations! Max. difference = 8.83e-06\n",
      "Market 232: Shares converged in 37 iterations! Max. difference = 9.00e-06\n",
      "Market 233: Shares converged in 34 iterations! Max. difference = 9.94e-06\n",
      "Market 234: Shares converged in 39 iterations! Max. difference = 7.96e-06\n",
      "Market 235: Shares converged in 1 iterations! Max. difference = 0.00e+00\n",
      "Market 236: Shares converged in 40 iterations! Max. difference = 8.16e-06\n",
      "Market 237: Shares converged in 36 iterations! Max. difference = 9.02e-06\n",
      "Market 238: Shares converged in 40 iterations! Max. difference = 8.49e-06\n",
      "Market 239: Shares converged in 37 iterations! Max. difference = 7.81e-06\n",
      "Market 240: Shares converged in 37 iterations! Max. difference = 9.98e-06\n",
      "Market 241: Shares converged in 37 iterations! Max. difference = 9.12e-06\n",
      "Market 242: Shares converged in 36 iterations! Max. difference = 9.03e-06\n",
      "Market 243: Shares converged in 39 iterations! Max. difference = 9.08e-06\n",
      "Market 244: Shares converged in 37 iterations! Max. difference = 9.56e-06\n",
      "Market 245: Shares converged in 38 iterations! Max. difference = 8.01e-06\n",
      "Market 246: Shares converged in 1 iterations! Max. difference = 0.00e+00\n",
      "Market 247: Shares converged in 38 iterations! Max. difference = 8.59e-06\n",
      "Market 248: Shares converged in 38 iterations! Max. difference = 7.98e-06\n",
      "Market 249: Shares converged in 37 iterations! Max. difference = 9.11e-06\n",
      "Market 250: Shares converged in 1 iterations! Max. difference = 0.00e+00\n",
      "Market 251: Shares converged in 37 iterations! Max. difference = 9.98e-06\n",
      "Market 252: Shares converged in 41 iterations! Max. difference = 8.08e-06\n",
      "Market 253: Shares converged in 37 iterations! Max. difference = 8.76e-06\n",
      "Market 254: Shares converged in 39 iterations! Max. difference = 9.74e-06\n",
      "Market 255: Shares converged in 1 iterations! Max. difference = 0.00e+00\n",
      "Market 256: Shares converged in 37 iterations! Max. difference = 9.63e-06\n",
      "Market 257: Shares converged in 43 iterations! Max. difference = 9.83e-06\n",
      "Market 258: Shares converged in 37 iterations! Max. difference = 8.88e-06\n",
      "Market 259: Shares converged in 36 iterations! Max. difference = 9.15e-06\n",
      "Market 260: Shares converged in 36 iterations! Max. difference = 9.68e-06\n",
      "Market 261: Shares converged in 37 iterations! Max. difference = 7.99e-06\n",
      "Market 262: Shares converged in 38 iterations! Max. difference = 8.65e-06\n",
      "Market 263: Shares converged in 40 iterations! Max. difference = 8.82e-06\n",
      "Market 264: Shares converged in 38 iterations! Max. difference = 8.13e-06\n",
      "Market 265: Shares converged in 1 iterations! Max. difference = 0.00e+00\n",
      "Market 266: Shares converged in 40 iterations! Max. difference = 9.60e-06\n",
      "Market 267: Shares converged in 1 iterations! Max. difference = 0.00e+00\n",
      "Market 268: Shares converged in 37 iterations! Max. difference = 9.80e-06\n",
      "Market 269: Shares converged in 36 iterations! Max. difference = 9.15e-06\n",
      "Market 270: Shares converged in 39 iterations! Max. difference = 8.25e-06\n",
      "Market 271: Shares converged in 39 iterations! Max. difference = 9.33e-06\n",
      "Market 272: Shares converged in 36 iterations! Max. difference = 8.84e-06\n",
      "Market 273: Shares converged in 37 iterations! Max. difference = 9.88e-06\n",
      "Market 274: Shares converged in 38 iterations! Max. difference = 9.44e-06\n",
      "Market 275: Shares converged in 1 iterations! Max. difference = 0.00e+00\n",
      "Market 276: Shares converged in 37 iterations! Max. difference = 8.85e-06\n",
      "Market 277: Shares converged in 37 iterations! Max. difference = 8.88e-06\n",
      "Market 278: Shares converged in 35 iterations! Max. difference = 8.75e-06\n",
      "Market 279: Shares converged in 38 iterations! Max. difference = 8.95e-06\n",
      "Market 280: Shares converged in 40 iterations! Max. difference = 8.03e-06\n",
      "Market 281: Shares converged in 37 iterations! Max. difference = 8.11e-06\n",
      "Market 282: Shares converged in 35 iterations! Max. difference = 8.76e-06\n",
      "Market 283: Shares converged in 39 iterations! Max. difference = 9.36e-06\n",
      "Market 284: Shares converged in 40 iterations! Max. difference = 8.65e-06\n",
      "Market 285: Shares converged in 38 iterations! Max. difference = 8.96e-06\n",
      "Market 286: Shares converged in 40 iterations! Max. difference = 9.40e-06\n",
      "Market 287: Shares converged in 1 iterations! Max. difference = 0.00e+00\n",
      "Market 288: Shares converged in 42 iterations! Max. difference = 8.24e-06\n",
      "Market 289: Shares converged in 36 iterations! Max. difference = 8.98e-06\n",
      "Market 290: Shares converged in 36 iterations! Max. difference = 8.27e-06\n",
      "Market 291: Shares converged in 38 iterations! Max. difference = 8.59e-06\n",
      "Market 292: Shares converged in 37 iterations! Max. difference = 8.43e-06\n",
      "Market 293: Shares converged in 36 iterations! Max. difference = 9.23e-06\n",
      "Market 294: Shares converged in 36 iterations! Max. difference = 9.78e-06\n",
      "Market 295: Shares converged in 37 iterations! Max. difference = 9.88e-06\n",
      "Market 296: Shares converged in 38 iterations! Max. difference = 9.49e-06\n",
      "Market 297: Shares converged in 44 iterations! Max. difference = 8.07e-06\n",
      "Market 298: Shares converged in 37 iterations! Max. difference = 8.24e-06\n",
      "Market 299: Shares converged in 37 iterations! Max. difference = 8.25e-06\n",
      "Market 300: Shares converged in 38 iterations! Max. difference = 8.02e-06\n",
      "Market 301: Shares converged in 37 iterations! Max. difference = 8.22e-06\n",
      "Market 302: Shares converged in 39 iterations! Max. difference = 7.94e-06\n",
      "Market 303: Shares converged in 39 iterations! Max. difference = 9.12e-06\n",
      "Market 304: Shares converged in 39 iterations! Max. difference = 9.77e-06\n",
      "Market 305: Shares converged in 35 iterations! Max. difference = 8.81e-06\n",
      "Market 306: Shares converged in 1 iterations! Max. difference = 0.00e+00\n",
      "Market 307: Shares converged in 37 iterations! Max. difference = 9.32e-06\n",
      "Market 308: Shares converged in 37 iterations! Max. difference = 8.55e-06\n",
      "Market 309: Shares converged in 37 iterations! Max. difference = 8.82e-06\n",
      "Market 310: Shares converged in 37 iterations! Max. difference = 7.96e-06\n",
      "Market 311: Shares converged in 38 iterations! Max. difference = 8.23e-06\n",
      "Market 312: Shares converged in 1 iterations! Max. difference = 0.00e+00\n",
      "Market 313: Shares converged in 41 iterations! Max. difference = 8.72e-06\n",
      "Market 314: Shares converged in 1 iterations! Max. difference = 0.00e+00\n",
      "Market 315: Shares converged in 36 iterations! Max. difference = 9.57e-06\n",
      "Market 316: Shares converged in 41 iterations! Max. difference = 8.29e-06\n",
      "Market 317: Shares converged in 38 iterations! Max. difference = 7.98e-06\n",
      "Market 318: Shares converged in 39 iterations! Max. difference = 9.15e-06\n",
      "Market 319: Shares converged in 1 iterations! Max. difference = 0.00e+00\n",
      "Market 320: Shares converged in 37 iterations! Max. difference = 7.95e-06\n",
      "Market 321: Shares converged in 1 iterations! Max. difference = 0.00e+00\n",
      "Market 322: Shares converged in 38 iterations! Max. difference = 8.24e-06\n",
      "Market 323: Shares converged in 39 iterations! Max. difference = 7.85e-06\n",
      "Market 324: Shares converged in 40 iterations! Max. difference = 8.79e-06\n",
      "Market 325: Shares converged in 39 iterations! Max. difference = 9.26e-06\n",
      "Market 326: Shares converged in 1 iterations! Max. difference = 0.00e+00\n",
      "Market 327: Shares converged in 41 iterations! Max. difference = 8.24e-06\n",
      "Market 328: Shares converged in 37 iterations! Max. difference = 8.78e-06\n",
      "Market 329: Shares converged in 36 iterations! Max. difference = 9.88e-06\n",
      "Market 330: Shares converged in 37 iterations! Max. difference = 8.80e-06\n",
      "Market 331: Shares converged in 39 iterations! Max. difference = 8.19e-06\n",
      "Market 332: Shares converged in 1 iterations! Max. difference = 0.00e+00\n",
      "Market 333: Shares converged in 1 iterations! Max. difference = 0.00e+00\n",
      "Market 334: Shares converged in 38 iterations! Max. difference = 7.89e-06\n",
      "Market 335: Shares converged in 1 iterations! Max. difference = 0.00e+00\n",
      "Market 336: Shares converged in 37 iterations! Max. difference = 9.47e-06\n",
      "Market 337: Shares converged in 37 iterations! Max. difference = 8.67e-06\n",
      "Market 338: Shares converged in 37 iterations! Max. difference = 8.63e-06\n",
      "Market 339: Shares converged in 39 iterations! Max. difference = 7.89e-06\n",
      "Market 340: Shares converged in 37 iterations! Max. difference = 8.05e-06\n",
      "Market 341: Shares converged in 38 iterations! Max. difference = 8.60e-06\n",
      "Market 342: Shares converged in 37 iterations! Max. difference = 9.86e-06\n",
      "Market 343: Shares converged in 1 iterations! Max. difference = 0.00e+00\n",
      "Market 344: Shares converged in 39 iterations! Max. difference = 8.30e-06\n",
      "Market 345: Shares converged in 36 iterations! Max. difference = 8.04e-06\n",
      "Market 346: Shares converged in 36 iterations! Max. difference = 9.33e-06\n",
      "Market 347: Shares converged in 1 iterations! Max. difference = 1.11e-15\n",
      "Market 348: Shares converged in 38 iterations! Max. difference = 8.48e-06\n",
      "Market 349: Shares converged in 44 iterations! Max. difference = 9.00e-06\n",
      "Market 350: Shares converged in 1 iterations! Max. difference = 0.00e+00\n",
      "Market 351: Shares converged in 40 iterations! Max. difference = 9.28e-06\n",
      "Market 352: Shares converged in 37 iterations! Max. difference = 9.94e-06\n",
      "Market 353: Shares converged in 37 iterations! Max. difference = 9.54e-06\n",
      "Market 354: Shares converged in 38 iterations! Max. difference = 8.49e-06\n",
      "Market 355: Shares converged in 38 iterations! Max. difference = 8.07e-06\n",
      "Market 356: Shares converged in 38 iterations! Max. difference = 9.24e-06\n",
      "Market 357: Shares converged in 36 iterations! Max. difference = 9.92e-06\n",
      "Market 358: Shares converged in 37 iterations! Max. difference = 9.89e-06\n",
      "Market 359: Shares converged in 37 iterations! Max. difference = 9.09e-06\n",
      "Market 360: Shares converged in 38 iterations! Max. difference = 7.95e-06\n",
      "Market 361: Shares converged in 1 iterations! Max. difference = 1.11e-15\n",
      "Market 362: Shares converged in 37 iterations! Max. difference = 8.35e-06\n",
      "Market 363: Shares converged in 1 iterations! Max. difference = 0.00e+00\n",
      "Market 364: Shares converged in 1 iterations! Max. difference = 0.00e+00\n",
      "Market 365: Shares converged in 39 iterations! Max. difference = 9.45e-06\n",
      "Market 366: Shares converged in 37 iterations! Max. difference = 9.10e-06\n",
      "Market 367: Shares converged in 38 iterations! Max. difference = 8.69e-06\n",
      "Market 368: Shares converged in 38 iterations! Max. difference = 9.54e-06\n",
      "Market 369: Shares converged in 1 iterations! Max. difference = 0.00e+00\n",
      "Market 370: Shares converged in 37 iterations! Max. difference = 7.75e-06\n",
      "Market 371: Shares converged in 37 iterations! Max. difference = 8.80e-06\n",
      "Market 372: Shares converged in 43 iterations! Max. difference = 8.46e-06\n",
      "Market 373: Shares converged in 37 iterations! Max. difference = 9.26e-06\n",
      "Market 374: Shares converged in 37 iterations! Max. difference = 9.51e-06\n",
      "Market 375: Shares converged in 38 iterations! Max. difference = 8.90e-06\n",
      "Market 376: Shares converged in 36 iterations! Max. difference = 7.82e-06\n",
      "Market 377: Shares converged in 36 iterations! Max. difference = 9.98e-06\n",
      "Market 378: Shares converged in 41 iterations! Max. difference = 8.86e-06\n",
      "Market 379: Shares converged in 38 iterations! Max. difference = 8.50e-06\n",
      "Market 380: Shares converged in 39 iterations! Max. difference = 9.19e-06\n",
      "Market 381: Shares converged in 36 iterations! Max. difference = 8.11e-06\n",
      "Market 382: Shares converged in 37 iterations! Max. difference = 9.14e-06\n",
      "Market 383: Shares converged in 38 iterations! Max. difference = 9.83e-06\n",
      "Market 384: Shares converged in 38 iterations! Max. difference = 8.71e-06\n",
      "Market 385: Shares converged in 37 iterations! Max. difference = 8.03e-06\n",
      "Market 386: Shares converged in 37 iterations! Max. difference = 8.96e-06\n",
      "Market 387: Shares converged in 1 iterations! Max. difference = 0.00e+00\n",
      "Market 388: Shares converged in 45 iterations! Max. difference = 9.03e-06\n",
      "Market 389: Shares converged in 38 iterations! Max. difference = 9.58e-06\n",
      "Market 390: Shares converged in 37 iterations! Max. difference = 8.81e-06\n",
      "Market 391: Shares converged in 37 iterations! Max. difference = 9.17e-06\n",
      "Market 392: Shares converged in 37 iterations! Max. difference = 9.11e-06\n",
      "Market 393: Shares converged in 37 iterations! Max. difference = 9.85e-06\n",
      "Market 394: Shares converged in 37 iterations! Max. difference = 8.96e-06\n",
      "Market 395: Shares converged in 1 iterations! Max. difference = 0.00e+00\n",
      "Market 396: Shares converged in 38 iterations! Max. difference = 9.31e-06\n",
      "Market 397: Shares converged in 1 iterations! Max. difference = 0.00e+00\n",
      "Market 398: Shares converged in 37 iterations! Max. difference = 8.55e-06\n",
      "Market 399: Shares converged in 36 iterations! Max. difference = 8.91e-06\n",
      "Market 400: Shares converged in 37 iterations! Max. difference = 9.68e-06\n",
      "Market 401: Shares converged in 37 iterations! Max. difference = 9.58e-06\n",
      "Market 402: Shares converged in 37 iterations! Max. difference = 8.97e-06\n",
      "Market 403: Shares converged in 38 iterations! Max. difference = 9.48e-06\n",
      "Market 404: Shares converged in 38 iterations! Max. difference = 8.27e-06\n",
      "Market 405: Shares converged in 41 iterations! Max. difference = 9.64e-06\n",
      "Market 406: Shares converged in 37 iterations! Max. difference = 9.15e-06\n",
      "Market 407: Shares converged in 40 iterations! Max. difference = 9.70e-06\n",
      "Market 408: Shares converged in 1 iterations! Max. difference = 0.00e+00\n",
      "Market 409: Shares converged in 1 iterations! Max. difference = 0.00e+00\n",
      "Market 410: Shares converged in 38 iterations! Max. difference = 8.51e-06\n",
      "Market 411: Shares converged in 39 iterations! Max. difference = 7.89e-06\n",
      "Market 412: Shares converged in 39 iterations! Max. difference = 9.83e-06\n",
      "Market 413: Shares converged in 39 iterations! Max. difference = 9.33e-06\n",
      "Market 414: Shares converged in 39 iterations! Max. difference = 8.37e-06\n",
      "Market 415: Shares converged in 37 iterations! Max. difference = 9.56e-06\n",
      "Market 416: Shares converged in 35 iterations! Max. difference = 9.49e-06\n",
      "Market 417: Shares converged in 40 iterations! Max. difference = 8.12e-06\n",
      "Market 418: Shares converged in 37 iterations! Max. difference = 8.65e-06\n",
      "Market 419: Shares converged in 39 iterations! Max. difference = 9.46e-06\n",
      "Market 420: Shares converged in 37 iterations! Max. difference = 9.72e-06\n",
      "Market 421: Shares converged in 38 iterations! Max. difference = 8.36e-06\n",
      "Market 422: Shares converged in 36 iterations! Max. difference = 9.76e-06\n",
      "Market 423: Shares converged in 37 iterations! Max. difference = 9.96e-06\n",
      "Market 424: Shares converged in 38 iterations! Max. difference = 9.06e-06\n",
      "Market 425: Shares converged in 37 iterations! Max. difference = 9.30e-06\n",
      "Market 426: Shares converged in 36 iterations! Max. difference = 9.52e-06\n",
      "Market 427: Shares converged in 38 iterations! Max. difference = 8.36e-06\n",
      "Market 428: Shares converged in 37 iterations! Max. difference = 8.46e-06\n",
      "Market 429: Shares converged in 38 iterations! Max. difference = 8.09e-06\n",
      "Market 430: Shares converged in 40 iterations! Max. difference = 9.63e-06\n",
      "Market 431: Shares converged in 38 iterations! Max. difference = 9.83e-06\n",
      "Market 432: Shares converged in 37 iterations! Max. difference = 8.35e-06\n",
      "Market 433: Shares converged in 38 iterations! Max. difference = 8.88e-06\n",
      "Market 434: Shares converged in 1 iterations! Max. difference = 0.00e+00\n",
      "Market 435: Shares converged in 38 iterations! Max. difference = 8.70e-06\n",
      "Market 436: Shares converged in 38 iterations! Max. difference = 8.40e-06\n",
      "Market 437: Shares converged in 37 iterations! Max. difference = 9.79e-06\n",
      "Market 438: Shares converged in 37 iterations! Max. difference = 8.00e-06\n",
      "Market 439: Shares converged in 41 iterations! Max. difference = 8.82e-06\n",
      "Market 440: Shares converged in 36 iterations! Max. difference = 8.69e-06\n",
      "Market 441: Shares converged in 38 iterations! Max. difference = 9.08e-06\n",
      "Market 442: Shares converged in 38 iterations! Max. difference = 8.52e-06\n",
      "Market 443: Shares converged in 38 iterations! Max. difference = 8.54e-06\n",
      "Market 444: Shares converged in 36 iterations! Max. difference = 9.56e-06\n",
      "Market 445: Shares converged in 42 iterations! Max. difference = 8.87e-06\n",
      "Market 446: Shares converged in 38 iterations! Max. difference = 9.45e-06\n",
      "Market 447: Shares converged in 37 iterations! Max. difference = 9.31e-06\n",
      "Market 448: Shares converged in 38 iterations! Max. difference = 1.00e-05\n",
      "Market 449: Shares converged in 38 iterations! Max. difference = 8.01e-06\n",
      "Market 450: Shares converged in 40 iterations! Max. difference = 8.00e-06\n",
      "Market 451: Shares converged in 43 iterations! Max. difference = 8.90e-06\n",
      "Market 452: Shares converged in 38 iterations! Max. difference = 8.76e-06\n",
      "Market 453: Shares converged in 39 iterations! Max. difference = 9.44e-06\n",
      "Market 454: Shares converged in 37 iterations! Max. difference = 9.40e-06\n",
      "Market 455: Shares converged in 40 iterations! Max. difference = 8.04e-06\n",
      "Market 456: Shares converged in 38 iterations! Max. difference = 8.38e-06\n",
      "Market 457: Shares converged in 38 iterations! Max. difference = 8.39e-06\n",
      "Market 458: Shares converged in 40 iterations! Max. difference = 7.82e-06\n",
      "Market 459: Shares converged in 37 iterations! Max. difference = 8.92e-06\n",
      "Market 460: Shares converged in 38 iterations! Max. difference = 9.71e-06\n",
      "Market 461: Shares converged in 36 iterations! Max. difference = 9.67e-06\n",
      "Market 462: Shares converged in 35 iterations! Max. difference = 9.60e-06\n",
      "Market 463: Shares converged in 40 iterations! Max. difference = 8.45e-06\n",
      "Market 464: Shares converged in 32 iterations! Max. difference = 8.48e-06\n",
      "Market 465: Shares converged in 37 iterations! Max. difference = 9.81e-06\n",
      "Market 466: Shares converged in 39 iterations! Max. difference = 9.20e-06\n",
      "Market 467: Shares converged in 36 iterations! Max. difference = 8.26e-06\n",
      "Market 468: Shares converged in 38 iterations! Max. difference = 8.11e-06\n",
      "Market 469: Shares converged in 38 iterations! Max. difference = 8.91e-06\n",
      "Market 470: Shares converged in 38 iterations! Max. difference = 8.06e-06\n",
      "Market 471: Shares converged in 38 iterations! Max. difference = 9.08e-06\n",
      "Market 472: Shares converged in 39 iterations! Max. difference = 9.08e-06\n",
      "Market 473: Shares converged in 1 iterations! Max. difference = 0.00e+00\n",
      "Market 474: Shares converged in 36 iterations! Max. difference = 9.68e-06\n",
      "Market 475: Shares converged in 36 iterations! Max. difference = 9.34e-06\n",
      "Market 476: Shares converged in 37 iterations! Max. difference = 8.84e-06\n",
      "Market 477: Shares converged in 1 iterations! Max. difference = 0.00e+00\n",
      "Market 478: Shares converged in 36 iterations! Max. difference = 8.69e-06\n",
      "Market 479: Shares converged in 35 iterations! Max. difference = 9.93e-06\n",
      "Market 480: Shares converged in 1 iterations! Max. difference = 0.00e+00\n",
      "Market 481: Shares converged in 36 iterations! Max. difference = 9.96e-06\n",
      "Market 482: Shares converged in 40 iterations! Max. difference = 8.81e-06\n",
      "Market 483: Shares converged in 1 iterations! Max. difference = 0.00e+00\n",
      "Market 484: Shares converged in 35 iterations! Max. difference = 9.90e-06\n",
      "Market 485: Shares converged in 37 iterations! Max. difference = 8.66e-06\n",
      "Market 486: Shares converged in 39 iterations! Max. difference = 7.98e-06\n",
      "Market 487: Shares converged in 1 iterations! Max. difference = 0.00e+00\n",
      "Market 488: Shares converged in 38 iterations! Max. difference = 9.68e-06\n",
      "Market 489: Shares converged in 38 iterations! Max. difference = 8.32e-06\n",
      "Market 490: Shares converged in 38 iterations! Max. difference = 7.81e-06\n",
      "Market 491: Shares converged in 38 iterations! Max. difference = 8.51e-06\n",
      "Market 492: Shares converged in 1 iterations! Max. difference = 0.00e+00\n",
      "Market 493: Shares converged in 37 iterations! Max. difference = 9.59e-06\n",
      "Market 494: Shares converged in 36 iterations! Max. difference = 9.27e-06\n",
      "Market 495: Shares converged in 35 iterations! Max. difference = 8.15e-06\n",
      "Market 496: Shares converged in 39 iterations! Max. difference = 8.69e-06\n",
      "Market 497: Shares converged in 36 iterations! Max. difference = 8.45e-06\n",
      "Market 498: Shares converged in 40 iterations! Max. difference = 9.49e-06\n",
      "Market 499: Shares converged in 36 iterations! Max. difference = 7.74e-06\n",
      "Market 500: Shares converged in 36 iterations! Max. difference = 9.84e-06\n",
      "Market 501: Shares converged in 39 iterations! Max. difference = 8.13e-06\n",
      "Market 502: Shares converged in 36 iterations! Max. difference = 9.29e-06\n",
      "Market 503: Shares converged in 1 iterations! Max. difference = 0.00e+00\n",
      "Market 504: Shares converged in 1 iterations! Max. difference = 0.00e+00\n",
      "Market 505: Shares converged in 39 iterations! Max. difference = 8.43e-06\n",
      "Market 506: Shares converged in 42 iterations! Max. difference = 8.72e-06\n",
      "Market 507: Shares converged in 36 iterations! Max. difference = 9.57e-06\n",
      "Market 508: Shares converged in 1 iterations! Max. difference = 5.55e-16\n",
      "Market 509: Shares converged in 37 iterations! Max. difference = 9.25e-06\n",
      "Market 510: Shares converged in 39 iterations! Max. difference = 9.57e-06\n",
      "Market 511: Shares converged in 38 iterations! Max. difference = 8.32e-06\n",
      "Market 512: Shares converged in 36 iterations! Max. difference = 8.09e-06\n",
      "Market 513: Shares converged in 43 iterations! Max. difference = 8.47e-06\n",
      "Market 514: Shares converged in 41 iterations! Max. difference = 8.89e-06\n",
      "Market 515: Shares converged in 38 iterations! Max. difference = 9.77e-06\n",
      "Market 516: Shares converged in 1 iterations! Max. difference = 0.00e+00\n",
      "Market 517: Shares converged in 37 iterations! Max. difference = 7.85e-06\n",
      "Market 518: Shares converged in 37 iterations! Max. difference = 9.07e-06\n",
      "Market 519: Shares converged in 37 iterations! Max. difference = 8.13e-06\n",
      "Market 520: Shares converged in 1 iterations! Max. difference = 0.00e+00\n",
      "Market 521: Shares converged in 38 iterations! Max. difference = 8.17e-06\n",
      "Market 522: Shares converged in 38 iterations! Max. difference = 8.32e-06\n",
      "Market 523: Shares converged in 1 iterations! Max. difference = 0.00e+00\n",
      "Market 524: Shares converged in 37 iterations! Max. difference = 8.65e-06\n",
      "Market 525: Shares converged in 41 iterations! Max. difference = 9.35e-06\n",
      "Market 526: Shares converged in 38 iterations! Max. difference = 7.90e-06\n",
      "Market 527: Shares converged in 40 iterations! Max. difference = 8.48e-06\n",
      "Market 528: Shares converged in 39 iterations! Max. difference = 9.89e-06\n",
      "Market 529: Shares converged in 1 iterations! Max. difference = 0.00e+00\n",
      "Market 530: Shares converged in 36 iterations! Max. difference = 8.50e-06\n",
      "Market 531: Shares converged in 40 iterations! Max. difference = 8.41e-06\n",
      "Market 532: Shares converged in 36 iterations! Max. difference = 9.44e-06\n",
      "Market 533: Shares converged in 40 iterations! Max. difference = 8.63e-06\n",
      "Market 534: Shares converged in 1 iterations! Max. difference = 0.00e+00\n",
      "Market 535: Shares converged in 40 iterations! Max. difference = 9.17e-06\n",
      "Market 536: Shares converged in 38 iterations! Max. difference = 9.11e-06\n",
      "Market 537: Shares converged in 36 iterations! Max. difference = 9.70e-06\n",
      "Market 538: Shares converged in 36 iterations! Max. difference = 9.15e-06\n",
      "Market 539: Shares converged in 1 iterations! Max. difference = 0.00e+00\n",
      "Market 540: Shares converged in 36 iterations! Max. difference = 8.94e-06\n",
      "Market 541: Shares converged in 41 iterations! Max. difference = 9.87e-06\n",
      "Market 542: Shares converged in 37 iterations! Max. difference = 8.25e-06\n",
      "Market 543: Shares converged in 37 iterations! Max. difference = 8.24e-06\n",
      "Market 544: Shares converged in 38 iterations! Max. difference = 9.11e-06\n",
      "Market 545: Shares converged in 36 iterations! Max. difference = 9.89e-06\n",
      "Market 546: Shares converged in 37 iterations! Max. difference = 8.01e-06\n",
      "Market 547: Shares converged in 37 iterations! Max. difference = 9.56e-06\n",
      "Market 548: Shares converged in 37 iterations! Max. difference = 9.52e-06\n",
      "Market 549: Shares converged in 38 iterations! Max. difference = 9.92e-06\n",
      "Market 550: Shares converged in 36 iterations! Max. difference = 9.21e-06\n",
      "Market 551: Shares converged in 36 iterations! Max. difference = 9.15e-06\n",
      "Market 552: Shares converged in 38 iterations! Max. difference = 8.29e-06\n",
      "Market 553: Shares converged in 40 iterations! Max. difference = 8.26e-06\n",
      "Market 554: Shares converged in 37 iterations! Max. difference = 8.35e-06\n",
      "Market 555: Shares converged in 39 iterations! Max. difference = 9.62e-06\n",
      "Market 556: Shares converged in 37 iterations! Max. difference = 9.23e-06\n",
      "Market 557: Shares converged in 37 iterations! Max. difference = 8.80e-06\n",
      "Market 558: Shares converged in 39 iterations! Max. difference = 9.38e-06\n",
      "Market 559: Shares converged in 39 iterations! Max. difference = 8.27e-06\n",
      "Market 560: Shares converged in 44 iterations! Max. difference = 9.32e-06\n",
      "Market 561: Shares converged in 37 iterations! Max. difference = 9.51e-06\n",
      "Market 562: Shares converged in 38 iterations! Max. difference = 9.55e-06\n",
      "Market 563: Shares converged in 36 iterations! Max. difference = 9.92e-06\n",
      "Market 564: Shares converged in 41 iterations! Max. difference = 9.41e-06\n",
      "Market 565: Shares converged in 38 iterations! Max. difference = 8.85e-06\n",
      "Market 566: Shares converged in 37 iterations! Max. difference = 8.41e-06\n",
      "Market 567: Shares converged in 40 iterations! Max. difference = 8.01e-06\n",
      "Market 568: Shares converged in 1 iterations! Max. difference = 0.00e+00\n",
      "Market 569: Shares converged in 38 iterations! Max. difference = 7.89e-06\n",
      "Market 570: Shares converged in 37 iterations! Max. difference = 9.14e-06\n",
      "Market 571: Shares converged in 41 iterations! Max. difference = 7.80e-06\n",
      "Market 572: Shares converged in 35 iterations! Max. difference = 9.91e-06\n",
      "Market 573: Shares converged in 39 iterations! Max. difference = 9.37e-06\n",
      "Market 574: Shares converged in 1 iterations! Max. difference = 0.00e+00\n",
      "Market 575: Shares converged in 40 iterations! Max. difference = 7.89e-06\n",
      "Market 576: Shares converged in 37 iterations! Max. difference = 8.79e-06\n",
      "Market 577: Shares converged in 37 iterations! Max. difference = 9.39e-06\n",
      "Market 578: Shares converged in 38 iterations! Max. difference = 8.78e-06\n",
      "Market 579: Shares converged in 38 iterations! Max. difference = 9.08e-06\n",
      "Market 580: Shares converged in 36 iterations! Max. difference = 9.60e-06\n",
      "Market 581: Shares converged in 39 iterations! Max. difference = 9.59e-06\n",
      "Market 582: Shares converged in 1 iterations! Max. difference = 0.00e+00\n",
      "Market 583: Shares converged in 1 iterations! Max. difference = 0.00e+00\n",
      "Market 584: Shares converged in 36 iterations! Max. difference = 9.94e-06\n",
      "Market 585: Shares converged in 1 iterations! Max. difference = 0.00e+00\n",
      "Market 586: Shares converged in 38 iterations! Max. difference = 8.15e-06\n",
      "Market 587: Shares converged in 1 iterations! Max. difference = 0.00e+00\n",
      "Market 588: Shares converged in 37 iterations! Max. difference = 9.18e-06\n",
      "Market 589: Shares converged in 37 iterations! Max. difference = 9.17e-06\n",
      "Market 590: Shares converged in 36 iterations! Max. difference = 8.61e-06\n",
      "Market 591: Shares converged in 36 iterations! Max. difference = 8.35e-06\n",
      "Market 592: Shares converged in 36 iterations! Max. difference = 9.03e-06\n",
      "Market 593: Shares converged in 38 iterations! Max. difference = 7.96e-06\n",
      "Market 594: Shares converged in 1 iterations! Max. difference = 0.00e+00\n",
      "Market 595: Shares converged in 37 iterations! Max. difference = 8.13e-06\n",
      "Market 596: Shares converged in 38 iterations! Max. difference = 8.83e-06\n",
      "Market 597: Shares converged in 1 iterations! Max. difference = 0.00e+00\n",
      "Market 598: Shares converged in 36 iterations! Max. difference = 9.51e-06\n",
      "Market 599: Shares converged in 38 iterations! Max. difference = 9.50e-06\n",
      "Market 600: Shares converged in 36 iterations! Max. difference = 9.26e-06\n",
      "Market 601: Shares converged in 40 iterations! Max. difference = 8.18e-06\n",
      "Market 602: Shares converged in 37 iterations! Max. difference = 9.60e-06\n",
      "Market 603: Shares converged in 38 iterations! Max. difference = 8.78e-06\n",
      "Market 604: Shares converged in 36 iterations! Max. difference = 8.50e-06\n",
      "Market 605: Shares converged in 35 iterations! Max. difference = 7.97e-06\n",
      "Market 606: Shares converged in 36 iterations! Max. difference = 8.78e-06\n",
      "Market 607: Shares converged in 37 iterations! Max. difference = 9.00e-06\n",
      "Market 608: Shares converged in 36 iterations! Max. difference = 8.97e-06\n",
      "Market 609: Shares converged in 37 iterations! Max. difference = 8.72e-06\n",
      "Market 610: Shares converged in 37 iterations! Max. difference = 9.53e-06\n",
      "Market 611: Shares converged in 37 iterations! Max. difference = 9.69e-06\n",
      "Market 612: Shares converged in 37 iterations! Max. difference = 8.75e-06\n",
      "Market 613: Shares converged in 38 iterations! Max. difference = 9.17e-06\n",
      "Market 614: Shares converged in 39 iterations! Max. difference = 9.89e-06\n",
      "Market 615: Shares converged in 36 iterations! Max. difference = 9.89e-06\n",
      "Market 616: Shares converged in 39 iterations! Max. difference = 7.98e-06\n",
      "Market 617: Shares converged in 37 iterations! Max. difference = 9.26e-06\n",
      "Market 618: Shares converged in 39 iterations! Max. difference = 8.34e-06\n",
      "Market 619: Shares converged in 37 iterations! Max. difference = 8.55e-06\n",
      "Market 620: Shares converged in 38 iterations! Max. difference = 8.73e-06\n",
      "Market 621: Shares converged in 1 iterations! Max. difference = 0.00e+00\n",
      "Market 622: Shares converged in 41 iterations! Max. difference = 7.96e-06\n",
      "Market 623: Shares converged in 39 iterations! Max. difference = 9.85e-06\n",
      "Market 624: Shares converged in 37 iterations! Max. difference = 9.32e-06\n",
      "Market 625: Shares converged in 38 iterations! Max. difference = 9.76e-06\n",
      "Market 626: Shares converged in 37 iterations! Max. difference = 8.48e-06\n",
      "Market 627: Shares converged in 37 iterations! Max. difference = 9.19e-06\n",
      "Market 628: Shares converged in 39 iterations! Max. difference = 7.98e-06\n",
      "Market 629: Shares converged in 38 iterations! Max. difference = 9.31e-06\n",
      "Market 630: Shares converged in 36 iterations! Max. difference = 7.93e-06\n",
      "Market 631: Shares converged in 35 iterations! Max. difference = 8.77e-06\n",
      "Market 632: Shares converged in 38 iterations! Max. difference = 8.35e-06\n",
      "Market 633: Shares converged in 40 iterations! Max. difference = 9.08e-06\n",
      "Market 634: Shares converged in 36 iterations! Max. difference = 7.89e-06\n",
      "Market 635: Shares converged in 39 iterations! Max. difference = 8.10e-06\n",
      "Market 636: Shares converged in 38 iterations! Max. difference = 8.23e-06\n",
      "Market 637: Shares converged in 37 iterations! Max. difference = 8.30e-06\n",
      "Market 638: Shares converged in 38 iterations! Max. difference = 8.02e-06\n",
      "Market 639: Shares converged in 37 iterations! Max. difference = 9.05e-06\n",
      "Market 640: Shares converged in 36 iterations! Max. difference = 7.83e-06\n",
      "Market 641: Shares converged in 36 iterations! Max. difference = 8.77e-06\n",
      "Market 642: Shares converged in 38 iterations! Max. difference = 8.81e-06\n",
      "Market 643: Shares converged in 1 iterations! Max. difference = 1.11e-15\n",
      "Market 644: Shares converged in 38 iterations! Max. difference = 8.42e-06\n",
      "Market 645: Shares converged in 38 iterations! Max. difference = 7.90e-06\n",
      "Market 646: Shares converged in 41 iterations! Max. difference = 8.17e-06\n",
      "Market 647: Shares converged in 40 iterations! Max. difference = 8.37e-06\n",
      "Market 648: Shares converged in 36 iterations! Max. difference = 8.83e-06\n",
      "Market 649: Shares converged in 38 iterations! Max. difference = 9.20e-06\n",
      "Market 650: Shares converged in 36 iterations! Max. difference = 8.86e-06\n",
      "Market 651: Shares converged in 38 iterations! Max. difference = 8.12e-06\n",
      "Market 652: Shares converged in 37 iterations! Max. difference = 8.37e-06\n",
      "Market 653: Shares converged in 40 iterations! Max. difference = 8.19e-06\n",
      "Market 654: Shares converged in 36 iterations! Max. difference = 9.59e-06\n",
      "Market 655: Shares converged in 1 iterations! Max. difference = 0.00e+00\n",
      "Market 656: Shares converged in 38 iterations! Max. difference = 9.59e-06\n",
      "Market 657: Shares converged in 37 iterations! Max. difference = 8.26e-06\n",
      "Market 658: Shares converged in 37 iterations! Max. difference = 8.26e-06\n",
      "Market 659: Shares converged in 41 iterations! Max. difference = 7.84e-06\n",
      "Market 660: Shares converged in 35 iterations! Max. difference = 8.48e-06\n",
      "Market 661: Shares converged in 36 iterations! Max. difference = 8.04e-06\n",
      "Market 662: Shares converged in 36 iterations! Max. difference = 8.32e-06\n",
      "Market 663: Shares converged in 35 iterations! Max. difference = 9.42e-06\n",
      "Market 664: Shares converged in 40 iterations! Max. difference = 7.87e-06\n",
      "Market 665: Shares converged in 42 iterations! Max. difference = 9.29e-06\n",
      "Market 666: Shares converged in 38 iterations! Max. difference = 8.21e-06\n",
      "Market 667: Shares converged in 38 iterations! Max. difference = 9.49e-06\n",
      "Market 668: Shares converged in 36 iterations! Max. difference = 8.20e-06\n",
      "Market 669: Shares converged in 38 iterations! Max. difference = 9.22e-06\n",
      "Market 670: Shares converged in 38 iterations! Max. difference = 9.38e-06\n",
      "Market 671: Shares converged in 36 iterations! Max. difference = 9.29e-06\n",
      "Market 672: Shares converged in 1 iterations! Max. difference = 0.00e+00\n",
      "Market 673: Shares converged in 38 iterations! Max. difference = 8.68e-06\n",
      "Market 674: Shares converged in 37 iterations! Max. difference = 8.91e-06\n",
      "Market 675: Shares converged in 38 iterations! Max. difference = 8.61e-06\n",
      "Market 676: Shares converged in 37 iterations! Max. difference = 8.36e-06\n",
      "Market 677: Shares converged in 40 iterations! Max. difference = 9.85e-06\n",
      "Market 678: Shares converged in 40 iterations! Max. difference = 7.87e-06\n",
      "Market 679: Shares converged in 42 iterations! Max. difference = 7.96e-06\n",
      "Market 680: Shares converged in 36 iterations! Max. difference = 9.26e-06\n",
      "Market 681: Shares converged in 39 iterations! Max. difference = 8.02e-06\n",
      "Market 682: Shares converged in 1 iterations! Max. difference = 0.00e+00\n",
      "Market 683: Shares converged in 38 iterations! Max. difference = 9.39e-06\n",
      "Market 684: Shares converged in 43 iterations! Max. difference = 8.74e-06\n",
      "Market 685: Shares converged in 37 iterations! Max. difference = 9.52e-06\n",
      "Market 686: Shares converged in 37 iterations! Max. difference = 8.93e-06\n",
      "Market 687: Shares converged in 1 iterations! Max. difference = 1.11e-15\n",
      "Market 688: Shares converged in 37 iterations! Max. difference = 9.45e-06\n",
      "Market 689: Shares converged in 36 iterations! Max. difference = 9.87e-06\n",
      "Market 690: Shares converged in 39 iterations! Max. difference = 8.60e-06\n",
      "Market 691: Shares converged in 39 iterations! Max. difference = 8.15e-06\n",
      "Market 692: Shares converged in 37 iterations! Max. difference = 8.38e-06\n",
      "Market 693: Shares converged in 1 iterations! Max. difference = 0.00e+00\n",
      "Market 694: Shares converged in 36 iterations! Max. difference = 9.68e-06\n",
      "Market 695: Shares converged in 37 iterations! Max. difference = 9.28e-06\n",
      "Market 696: Shares converged in 40 iterations! Max. difference = 8.68e-06\n",
      "Market 697: Shares converged in 39 iterations! Max. difference = 9.17e-06\n",
      "Market 698: Shares converged in 36 iterations! Max. difference = 7.88e-06\n",
      "Market 699: Shares converged in 1 iterations! Max. difference = 0.00e+00\n",
      "Market 700: Shares converged in 38 iterations! Max. difference = 8.97e-06\n",
      "Market 701: Shares converged in 37 iterations! Max. difference = 8.39e-06\n",
      "Market 702: Shares converged in 38 iterations! Max. difference = 9.43e-06\n",
      "Market 703: Shares converged in 36 iterations! Max. difference = 9.47e-06\n",
      "Market 704: Shares converged in 37 iterations! Max. difference = 9.72e-06\n",
      "Market 705: Shares converged in 42 iterations! Max. difference = 7.73e-06\n",
      "Market 706: Shares converged in 36 iterations! Max. difference = 8.08e-06\n",
      "Market 707: Shares converged in 1 iterations! Max. difference = 0.00e+00\n",
      "Market 708: Shares converged in 35 iterations! Max. difference = 9.85e-06\n",
      "Market 709: Shares converged in 36 iterations! Max. difference = 9.47e-06\n",
      "Market 710: Shares converged in 40 iterations! Max. difference = 8.41e-06\n",
      "Market 711: Shares converged in 36 iterations! Max. difference = 8.05e-06\n",
      "Market 712: Shares converged in 38 iterations! Max. difference = 9.39e-06\n",
      "Market 713: Shares converged in 1 iterations! Max. difference = 0.00e+00\n",
      "Market 714: Shares converged in 38 iterations! Max. difference = 7.88e-06\n",
      "Market 715: Shares converged in 39 iterations! Max. difference = 9.74e-06\n",
      "Market 716: Shares converged in 38 iterations! Max. difference = 8.48e-06\n",
      "Market 717: Shares converged in 41 iterations! Max. difference = 8.79e-06\n",
      "Market 718: Shares converged in 38 iterations! Max. difference = 9.86e-06\n",
      "Market 719: Shares converged in 38 iterations! Max. difference = 9.73e-06\n",
      "Market 720: Shares converged in 37 iterations! Max. difference = 9.89e-06\n",
      "Market 721: Shares converged in 37 iterations! Max. difference = 8.82e-06\n",
      "Market 722: Shares converged in 37 iterations! Max. difference = 7.88e-06\n",
      "Market 723: Shares converged in 38 iterations! Max. difference = 8.10e-06\n",
      "Market 724: Shares converged in 37 iterations! Max. difference = 9.59e-06\n",
      "Market 725: Shares converged in 38 iterations! Max. difference = 8.03e-06\n",
      "Market 726: Shares converged in 35 iterations! Max. difference = 8.73e-06\n",
      "Market 727: Shares converged in 37 iterations! Max. difference = 8.90e-06\n",
      "Market 728: Shares converged in 37 iterations! Max. difference = 8.84e-06\n",
      "Market 729: Shares converged in 36 iterations! Max. difference = 8.91e-06\n",
      "Market 730: Shares converged in 38 iterations! Max. difference = 8.63e-06\n",
      "Market 731: Shares converged in 39 iterations! Max. difference = 9.82e-06\n",
      "Market 732: Shares converged in 40 iterations! Max. difference = 8.45e-06\n",
      "Market 733: Shares converged in 38 iterations! Max. difference = 8.18e-06\n",
      "Market 734: Shares converged in 35 iterations! Max. difference = 9.60e-06\n",
      "Market 735: Shares converged in 38 iterations! Max. difference = 8.65e-06\n",
      "Market 736: Shares converged in 41 iterations! Max. difference = 7.99e-06\n",
      "Market 737: Shares converged in 37 iterations! Max. difference = 9.53e-06\n",
      "Market 738: Shares converged in 38 iterations! Max. difference = 8.13e-06\n",
      "Market 739: Shares converged in 37 iterations! Max. difference = 9.15e-06\n",
      "Market 740: Shares converged in 38 iterations! Max. difference = 9.72e-06\n",
      "Market 741: Shares converged in 38 iterations! Max. difference = 9.00e-06\n",
      "Market 742: Shares converged in 37 iterations! Max. difference = 8.43e-06\n",
      "Market 743: Shares converged in 37 iterations! Max. difference = 8.94e-06\n",
      "Market 744: Shares converged in 37 iterations! Max. difference = 8.81e-06\n",
      "Market 745: Shares converged in 1 iterations! Max. difference = 0.00e+00\n",
      "Market 746: Shares converged in 36 iterations! Max. difference = 8.73e-06\n",
      "Market 747: Shares converged in 37 iterations! Max. difference = 8.07e-06\n",
      "Market 748: Shares converged in 1 iterations! Max. difference = 0.00e+00\n",
      "Market 749: Shares converged in 37 iterations! Max. difference = 8.25e-06\n",
      "Market 750: Shares converged in 39 iterations! Max. difference = 8.03e-06\n",
      "Market 751: Shares converged in 1 iterations! Max. difference = 0.00e+00\n",
      "Market 752: Shares converged in 37 iterations! Max. difference = 9.99e-06\n",
      "Market 753: Shares converged in 37 iterations! Max. difference = 8.10e-06\n",
      "Market 754: Shares converged in 36 iterations! Max. difference = 9.52e-06\n",
      "Market 755: Shares converged in 38 iterations! Max. difference = 8.07e-06\n",
      "Market 756: Shares converged in 37 iterations! Max. difference = 7.91e-06\n",
      "Market 757: Shares converged in 1 iterations! Max. difference = 0.00e+00\n",
      "Market 758: Shares converged in 36 iterations! Max. difference = 9.92e-06\n",
      "Market 759: Shares converged in 44 iterations! Max. difference = 8.77e-06\n",
      "Market 760: Shares converged in 37 iterations! Max. difference = 9.25e-06\n",
      "Market 761: Shares converged in 37 iterations! Max. difference = 9.64e-06\n",
      "Market 762: Shares converged in 40 iterations! Max. difference = 8.55e-06\n",
      "Market 763: Shares converged in 1 iterations! Max. difference = 1.11e-15\n",
      "Market 764: Shares converged in 1 iterations! Max. difference = 0.00e+00\n",
      "Market 765: Shares converged in 37 iterations! Max. difference = 9.85e-06\n",
      "Market 766: Shares converged in 38 iterations! Max. difference = 9.13e-06\n",
      "Market 767: Shares converged in 38 iterations! Max. difference = 8.16e-06\n",
      "Market 768: Shares converged in 38 iterations! Max. difference = 8.11e-06\n",
      "Market 769: Shares converged in 37 iterations! Max. difference = 8.52e-06\n",
      "Market 770: Shares converged in 37 iterations! Max. difference = 8.94e-06\n",
      "Market 771: Shares converged in 35 iterations! Max. difference = 9.09e-06\n",
      "Market 772: Shares converged in 36 iterations! Max. difference = 9.62e-06\n",
      "Market 773: Shares converged in 41 iterations! Max. difference = 8.53e-06\n",
      "Market 774: Shares converged in 36 iterations! Max. difference = 9.30e-06\n",
      "Market 775: Shares converged in 36 iterations! Max. difference = 8.52e-06\n",
      "Market 776: Shares converged in 43 iterations! Max. difference = 7.97e-06\n",
      "Market 777: Shares converged in 37 iterations! Max. difference = 8.77e-06\n",
      "Market 778: Shares converged in 36 iterations! Max. difference = 9.52e-06\n",
      "Market 779: Shares converged in 37 iterations! Max. difference = 9.26e-06\n",
      "Market 780: Shares converged in 39 iterations! Max. difference = 9.04e-06\n",
      "Market 781: Shares converged in 36 iterations! Max. difference = 8.94e-06\n",
      "Market 782: Shares converged in 36 iterations! Max. difference = 7.99e-06\n",
      "Market 783: Shares converged in 37 iterations! Max. difference = 9.44e-06\n",
      "Market 784: Shares converged in 37 iterations! Max. difference = 9.77e-06\n",
      "Market 785: Shares converged in 39 iterations! Max. difference = 8.13e-06\n",
      "Market 786: Shares converged in 35 iterations! Max. difference = 9.81e-06\n",
      "Market 787: Shares converged in 40 iterations! Max. difference = 8.05e-06\n",
      "Market 788: Shares converged in 35 iterations! Max. difference = 9.96e-06\n",
      "Market 789: Shares converged in 39 iterations! Max. difference = 9.78e-06\n",
      "Market 790: Shares converged in 37 iterations! Max. difference = 9.03e-06\n",
      "Market 791: Shares converged in 1 iterations! Max. difference = 0.00e+00\n",
      "Market 792: Shares converged in 37 iterations! Max. difference = 8.00e-06\n",
      "Market 793: Shares converged in 38 iterations! Max. difference = 8.07e-06\n",
      "Market 794: Shares converged in 36 iterations! Max. difference = 8.52e-06\n",
      "Market 795: Shares converged in 1 iterations! Max. difference = 0.00e+00\n",
      "Market 796: Shares converged in 39 iterations! Max. difference = 8.00e-06\n",
      "Market 797: Shares converged in 40 iterations! Max. difference = 8.35e-06\n",
      "Market 798: Shares converged in 36 iterations! Max. difference = 8.42e-06\n",
      "Market 799: Shares converged in 36 iterations! Max. difference = 9.86e-06\n",
      "Market 800: Shares converged in 1 iterations! Max. difference = 0.00e+00\n",
      "Market 801: Shares converged in 36 iterations! Max. difference = 9.84e-06\n",
      "Market 802: Shares converged in 1 iterations! Max. difference = 0.00e+00\n",
      "Market 803: Shares converged in 37 iterations! Max. difference = 9.85e-06\n",
      "Market 804: Shares converged in 37 iterations! Max. difference = 9.79e-06\n",
      "Market 805: Shares converged in 37 iterations! Max. difference = 9.47e-06\n",
      "Market 806: Shares converged in 1 iterations! Max. difference = 0.00e+00\n",
      "Market 807: Shares converged in 37 iterations! Max. difference = 9.34e-06\n",
      "Market 808: Shares converged in 40 iterations! Max. difference = 9.91e-06\n",
      "Market 809: Shares converged in 43 iterations! Max. difference = 9.31e-06\n",
      "Market 810: Shares converged in 1 iterations! Max. difference = 0.00e+00\n",
      "Market 811: Shares converged in 1 iterations! Max. difference = 0.00e+00\n",
      "Market 812: Shares converged in 38 iterations! Max. difference = 8.15e-06\n",
      "Market 813: Shares converged in 37 iterations! Max. difference = 8.63e-06\n",
      "Market 814: Shares converged in 38 iterations! Max. difference = 9.78e-06\n",
      "Market 815: Shares converged in 38 iterations! Max. difference = 8.18e-06\n",
      "Market 816: Shares converged in 41 iterations! Max. difference = 8.06e-06\n",
      "Market 817: Shares converged in 37 iterations! Max. difference = 8.92e-06\n",
      "Market 818: Shares converged in 37 iterations! Max. difference = 8.91e-06\n",
      "Market 819: Shares converged in 38 iterations! Max. difference = 8.03e-06\n",
      "Market 820: Shares converged in 37 iterations! Max. difference = 8.80e-06\n",
      "Market 821: Shares converged in 37 iterations! Max. difference = 9.02e-06\n",
      "Market 822: Shares converged in 1 iterations! Max. difference = 0.00e+00\n",
      "Market 823: Shares converged in 1 iterations! Max. difference = 0.00e+00\n",
      "Market 824: Shares converged in 37 iterations! Max. difference = 8.31e-06\n",
      "Market 825: Shares converged in 41 iterations! Max. difference = 7.84e-06\n",
      "Market 826: Shares converged in 38 iterations! Max. difference = 7.94e-06\n",
      "Market 827: Shares converged in 44 iterations! Max. difference = 7.99e-06\n",
      "Market 828: Shares converged in 39 iterations! Max. difference = 9.63e-06\n",
      "Market 829: Shares converged in 37 iterations! Max. difference = 8.75e-06\n",
      "Market 830: Shares converged in 40 iterations! Max. difference = 7.97e-06\n",
      "Market 831: Shares converged in 1 iterations! Max. difference = 0.00e+00\n",
      "Market 832: Shares converged in 1 iterations! Max. difference = 0.00e+00\n",
      "Market 833: Shares converged in 37 iterations! Max. difference = 8.92e-06\n",
      "Market 834: Shares converged in 38 iterations! Max. difference = 8.75e-06\n",
      "Market 835: Shares converged in 37 iterations! Max. difference = 8.47e-06\n",
      "Market 836: Shares converged in 1 iterations! Max. difference = 0.00e+00\n",
      "Market 837: Shares converged in 1 iterations! Max. difference = 0.00e+00\n",
      "Market 838: Shares converged in 40 iterations! Max. difference = 9.26e-06\n",
      "Market 839: Shares converged in 1 iterations! Max. difference = 9.99e-16\n",
      "Market 840: Shares converged in 1 iterations! Max. difference = 0.00e+00\n",
      "Market 841: Shares converged in 36 iterations! Max. difference = 9.77e-06\n",
      "Market 842: Shares converged in 37 iterations! Max. difference = 9.41e-06\n",
      "Market 843: Shares converged in 1 iterations! Max. difference = 0.00e+00\n",
      "Market 844: Shares converged in 40 iterations! Max. difference = 8.83e-06\n",
      "Market 845: Shares converged in 1 iterations! Max. difference = 0.00e+00\n",
      "Market 846: Shares converged in 36 iterations! Max. difference = 9.57e-06\n",
      "Market 847: Shares converged in 36 iterations! Max. difference = 9.47e-06\n",
      "Market 848: Shares converged in 37 iterations! Max. difference = 8.42e-06\n",
      "Market 849: Shares converged in 38 iterations! Max. difference = 8.10e-06\n",
      "Market 850: Shares converged in 36 iterations! Max. difference = 9.77e-06\n",
      "Market 851: Shares converged in 1 iterations! Max. difference = 0.00e+00\n",
      "Market 852: Shares converged in 37 iterations! Max. difference = 8.41e-06\n",
      "Market 853: Shares converged in 36 iterations! Max. difference = 8.73e-06\n",
      "Market 854: Shares converged in 38 iterations! Max. difference = 8.30e-06\n",
      "Market 855: Shares converged in 37 iterations! Max. difference = 9.67e-06\n",
      "Market 856: Shares converged in 39 iterations! Max. difference = 7.91e-06\n",
      "Market 857: Shares converged in 37 iterations! Max. difference = 9.44e-06\n",
      "Market 858: Shares converged in 36 iterations! Max. difference = 7.97e-06\n",
      "Market 859: Shares converged in 39 iterations! Max. difference = 9.77e-06\n",
      "Market 860: Shares converged in 37 iterations! Max. difference = 9.89e-06\n",
      "Market 861: Shares converged in 1 iterations! Max. difference = 0.00e+00\n",
      "Market 862: Shares converged in 38 iterations! Max. difference = 8.82e-06\n",
      "Market 863: Shares converged in 38 iterations! Max. difference = 9.68e-06\n",
      "Market 864: Shares converged in 40 iterations! Max. difference = 8.78e-06\n",
      "Market 865: Shares converged in 37 iterations! Max. difference = 8.02e-06\n",
      "Market 866: Shares converged in 38 iterations! Max. difference = 8.04e-06\n",
      "Market 867: Shares converged in 37 iterations! Max. difference = 8.27e-06\n",
      "Market 868: Shares converged in 38 iterations! Max. difference = 8.73e-06\n",
      "Market 869: Shares converged in 37 iterations! Max. difference = 7.92e-06\n",
      "Market 870: Shares converged in 40 iterations! Max. difference = 9.82e-06\n",
      "Market 871: Shares converged in 36 iterations! Max. difference = 8.35e-06\n",
      "Market 872: Shares converged in 36 iterations! Max. difference = 8.99e-06\n",
      "Market 873: Shares converged in 38 iterations! Max. difference = 9.42e-06\n",
      "Market 874: Shares converged in 42 iterations! Max. difference = 8.18e-06\n",
      "Market 875: Shares converged in 38 iterations! Max. difference = 9.17e-06\n",
      "Market 876: Shares converged in 1 iterations! Max. difference = 0.00e+00\n",
      "Market 877: Shares converged in 37 iterations! Max. difference = 8.77e-06\n",
      "Market 878: Shares converged in 1 iterations! Max. difference = 0.00e+00\n",
      "Market 879: Shares converged in 36 iterations! Max. difference = 9.06e-06\n",
      "Market 880: Shares converged in 37 iterations! Max. difference = 8.80e-06\n",
      "Market 881: Shares converged in 39 iterations! Max. difference = 8.24e-06\n",
      "Market 882: Shares converged in 42 iterations! Max. difference = 9.39e-06\n",
      "Market 883: Shares converged in 37 iterations! Max. difference = 8.71e-06\n",
      "Market 884: Shares converged in 36 iterations! Max. difference = 8.18e-06\n",
      "Market 885: Shares converged in 38 iterations! Max. difference = 7.88e-06\n",
      "Market 886: Shares converged in 37 iterations! Max. difference = 8.37e-06\n",
      "Market 887: Shares converged in 39 iterations! Max. difference = 7.98e-06\n",
      "Market 888: Shares converged in 36 iterations! Max. difference = 9.93e-06\n",
      "Market 889: Shares converged in 35 iterations! Max. difference = 8.76e-06\n",
      "Market 890: Shares converged in 1 iterations! Max. difference = 0.00e+00\n",
      "Market 891: Shares converged in 1 iterations! Max. difference = 0.00e+00\n",
      "Market 892: Shares converged in 1 iterations! Max. difference = 0.00e+00\n",
      "Market 893: Shares converged in 37 iterations! Max. difference = 9.32e-06\n",
      "Market 894: Shares converged in 37 iterations! Max. difference = 9.12e-06\n",
      "Market 895: Shares converged in 37 iterations! Max. difference = 9.74e-06\n",
      "Market 896: Shares converged in 39 iterations! Max. difference = 9.08e-06\n",
      "Market 897: Shares converged in 37 iterations! Max. difference = 9.76e-06\n",
      "Market 898: Shares converged in 37 iterations! Max. difference = 8.44e-06\n",
      "Market 899: Shares converged in 36 iterations! Max. difference = 9.35e-06\n",
      "Market 900: Shares converged in 38 iterations! Max. difference = 9.78e-06\n",
      "Market 901: Shares converged in 37 iterations! Max. difference = 8.09e-06\n",
      "Market 902: Shares converged in 37 iterations! Max. difference = 7.99e-06\n",
      "Market 903: Shares converged in 36 iterations! Max. difference = 9.90e-06\n",
      "Market 904: Shares converged in 36 iterations! Max. difference = 9.53e-06\n",
      "Market 905: Shares converged in 38 iterations! Max. difference = 8.34e-06\n",
      "Market 906: Shares converged in 36 iterations! Max. difference = 9.99e-06\n",
      "Market 907: Shares converged in 40 iterations! Max. difference = 8.78e-06\n",
      "Market 908: Shares converged in 37 iterations! Max. difference = 8.00e-06\n",
      "Market 909: Shares converged in 40 iterations! Max. difference = 7.99e-06\n",
      "Market 910: Shares converged in 37 iterations! Max. difference = 9.12e-06\n",
      "Market 911: Shares converged in 37 iterations! Max. difference = 7.93e-06\n",
      "Market 912: Shares converged in 38 iterations! Max. difference = 7.96e-06\n",
      "Market 913: Shares converged in 38 iterations! Max. difference = 9.22e-06\n",
      "Market 914: Shares converged in 38 iterations! Max. difference = 8.14e-06\n",
      "Market 915: Shares converged in 36 iterations! Max. difference = 8.44e-06\n",
      "Market 916: Shares converged in 37 iterations! Max. difference = 9.37e-06\n",
      "Market 917: Shares converged in 1 iterations! Max. difference = 0.00e+00\n",
      "Market 918: Shares converged in 36 iterations! Max. difference = 7.95e-06\n",
      "Market 919: Shares converged in 36 iterations! Max. difference = 8.28e-06\n",
      "Market 920: Shares converged in 37 iterations! Max. difference = 9.78e-06\n",
      "Market 921: Shares converged in 38 iterations! Max. difference = 9.39e-06\n",
      "Market 922: Shares converged in 38 iterations! Max. difference = 8.13e-06\n",
      "Market 923: Shares converged in 38 iterations! Max. difference = 8.08e-06\n",
      "Market 924: Shares converged in 38 iterations! Max. difference = 8.42e-06\n",
      "Market 925: Shares converged in 36 iterations! Max. difference = 9.71e-06\n",
      "Market 926: Shares converged in 37 iterations! Max. difference = 9.88e-06\n",
      "Market 927: Shares converged in 37 iterations! Max. difference = 7.78e-06\n",
      "Market 928: Shares converged in 38 iterations! Max. difference = 8.15e-06\n",
      "Market 929: Shares converged in 36 iterations! Max. difference = 9.34e-06\n",
      "Market 930: Shares converged in 1 iterations! Max. difference = 0.00e+00\n",
      "Market 931: Shares converged in 37 iterations! Max. difference = 8.31e-06\n",
      "Market 932: Shares converged in 1 iterations! Max. difference = 1.11e-15\n",
      "Market 933: Shares converged in 37 iterations! Max. difference = 9.50e-06\n",
      "Market 934: Shares converged in 36 iterations! Max. difference = 9.33e-06\n",
      "Market 935: Shares converged in 38 iterations! Max. difference = 9.48e-06\n",
      "Market 936: Shares converged in 1 iterations! Max. difference = 0.00e+00\n",
      "Market 937: Shares converged in 42 iterations! Max. difference = 8.51e-06\n",
      "Market 938: Shares converged in 37 iterations! Max. difference = 8.98e-06\n",
      "Market 939: Shares converged in 39 iterations! Max. difference = 8.74e-06\n",
      "Market 940: Shares converged in 42 iterations! Max. difference = 9.96e-06\n",
      "Market 941: Shares converged in 36 iterations! Max. difference = 9.90e-06\n",
      "Market 942: Shares converged in 41 iterations! Max. difference = 9.11e-06\n",
      "Market 943: Shares converged in 38 iterations! Max. difference = 9.10e-06\n",
      "Market 944: Shares converged in 38 iterations! Max. difference = 8.80e-06\n",
      "Market 945: Shares converged in 40 iterations! Max. difference = 8.69e-06\n",
      "Market 946: Shares converged in 38 iterations! Max. difference = 9.71e-06\n",
      "Market 947: Shares converged in 1 iterations! Max. difference = 0.00e+00\n",
      "Market 948: Shares converged in 38 iterations! Max. difference = 8.06e-06\n",
      "Market 949: Shares converged in 37 iterations! Max. difference = 8.67e-06\n",
      "Market 950: Shares converged in 36 iterations! Max. difference = 9.79e-06\n",
      "Market 951: Shares converged in 36 iterations! Max. difference = 8.30e-06\n",
      "Market 952: Shares converged in 36 iterations! Max. difference = 7.71e-06\n",
      "Market 953: Shares converged in 38 iterations! Max. difference = 7.98e-06\n",
      "Market 954: Shares converged in 1 iterations! Max. difference = 0.00e+00\n",
      "Market 955: Shares converged in 36 iterations! Max. difference = 8.80e-06\n",
      "Market 956: Shares converged in 38 iterations! Max. difference = 8.18e-06\n",
      "Market 957: Shares converged in 37 iterations! Max. difference = 9.16e-06\n",
      "Market 958: Shares converged in 38 iterations! Max. difference = 7.92e-06\n",
      "Market 959: Shares converged in 38 iterations! Max. difference = 9.82e-06\n",
      "Market 960: Shares converged in 36 iterations! Max. difference = 9.50e-06\n",
      "Market 961: Shares converged in 1 iterations! Max. difference = 1.11e-15\n",
      "Market 962: Shares converged in 37 iterations! Max. difference = 9.15e-06\n",
      "Market 963: Shares converged in 40 iterations! Max. difference = 7.90e-06\n",
      "Market 964: Shares converged in 1 iterations! Max. difference = 0.00e+00\n",
      "Market 965: Shares converged in 38 iterations! Max. difference = 9.38e-06\n",
      "Market 966: Shares converged in 37 iterations! Max. difference = 8.48e-06\n",
      "Market 967: Shares converged in 37 iterations! Max. difference = 8.93e-06\n",
      "Market 968: Shares converged in 35 iterations! Max. difference = 9.25e-06\n",
      "Market 969: Shares converged in 36 iterations! Max. difference = 8.24e-06\n",
      "Market 970: Shares converged in 39 iterations! Max. difference = 8.74e-06\n",
      "Market 971: Shares converged in 38 iterations! Max. difference = 8.30e-06\n",
      "Market 972: Shares converged in 38 iterations! Max. difference = 8.73e-06\n",
      "Market 973: Shares converged in 1 iterations! Max. difference = 0.00e+00\n",
      "Market 974: Shares converged in 37 iterations! Max. difference = 7.97e-06\n",
      "Market 975: Shares converged in 39 iterations! Max. difference = 7.96e-06\n",
      "Market 976: Shares converged in 36 iterations! Max. difference = 9.75e-06\n",
      "Market 977: Shares converged in 37 iterations! Max. difference = 8.55e-06\n",
      "Market 978: Shares converged in 36 iterations! Max. difference = 8.05e-06\n",
      "Market 979: Shares converged in 37 iterations! Max. difference = 9.80e-06\n",
      "Market 980: Shares converged in 36 iterations! Max. difference = 9.46e-06\n",
      "Market 981: Shares converged in 38 iterations! Max. difference = 7.88e-06\n",
      "Market 982: Shares converged in 36 iterations! Max. difference = 9.63e-06\n",
      "Market 983: Shares converged in 36 iterations! Max. difference = 8.54e-06\n",
      "Market 984: Shares converged in 1 iterations! Max. difference = 0.00e+00\n",
      "Market 985: Shares converged in 37 iterations! Max. difference = 7.85e-06\n",
      "Market 986: Shares converged in 1 iterations! Max. difference = 1.11e-15\n",
      "Market 987: Shares converged in 38 iterations! Max. difference = 9.37e-06\n",
      "Market 988: Shares converged in 37 iterations! Max. difference = 8.13e-06\n",
      "Market 989: Shares converged in 37 iterations! Max. difference = 9.48e-06\n",
      "Market 990: Shares converged in 37 iterations! Max. difference = 8.10e-06\n",
      "Market 991: Shares converged in 35 iterations! Max. difference = 9.12e-06\n",
      "Market 992: Shares converged in 35 iterations! Max. difference = 9.27e-06\n",
      "Market 993: Shares converged in 38 iterations! Max. difference = 9.62e-06\n",
      "Market 994: Shares converged in 37 iterations! Max. difference = 8.58e-06\n",
      "Market 995: Shares converged in 35 iterations! Max. difference = 9.28e-06\n",
      "Market 996: Shares converged in 36 iterations! Max. difference = 8.41e-06\n",
      "Market 997: Shares converged in 1 iterations! Max. difference = 0.00e+00\n",
      "Market 998: Shares converged in 37 iterations! Max. difference = 8.63e-06\n",
      "Market 999: Shares converged in 37 iterations! Max. difference = 9.09e-06\n",
      "Market 1000: Shares converged in 41 iterations! Max. difference = 9.01e-06\n",
      "Equilibrium computation completed for all 1000 markets!\n",
      "Simulation completed.\n"
     ]
    }
   ],
   "source": [
    "# ----------------------------------------------------------------------------------------------------------------------------------------------------------------------------------------------------------------------------------------------\n",
    "# Run the simulation \n",
    "# ----------------------------------------------------------------------------------------------------------------------------------------------------------------------------------------------------------------------------------------------\n",
    "params = set_par()\n",
    "model = sect_eqlib(params)\n",
    "z_ij = model[\"z_ij\"]\n",
    "Mj = model[\"Mj\"]\n",
    "w_ij = model[\"w_ij\"]\n",
    "s_ij = model[\"s_ij\"]\n",
    "eps_ij = model[\"eps_ij\"]\n",
    "mu_ij = model[\"mu_ij\"]\n",
    "n_ij = model[\"n_ij\"]\n",
    "k_ij = model[\"k_ij\"]\n",
    "y_ij = model[\"y_ij\"]\n",
    "\n",
    "print(\"Simulation completed.\")"
   ]
  },
  {
   "cell_type": "markdown",
   "id": "ddc4f379",
   "metadata": {},
   "source": [
    "## Plot Steady-State Objects"
   ]
  },
  {
   "cell_type": "markdown",
   "id": "dada8cf1",
   "metadata": {},
   "source": [
    "#### 1. Wages ($w_{ij}$), Wage-Bill Share ($s_{ij}$), Labor Supply Elasticity ($\\epsilon_{ij}$) and Wage Markdown ($\\mu_{ij}$) against percentiles of productivity ($z_{ij}$)"
   ]
  },
  {
   "cell_type": "code",
   "execution_count": 8,
   "id": "5998d4c7-0d65-4f4e-8dc2-7a5a4d63e73e",
   "metadata": {},
   "outputs": [
    {
     "name": "stdout",
     "output_type": "stream",
     "text": [
      "Plotting data prepared.\n"
     ]
    },
    {
     "data": {
      "application/vnd.plotly.v1+json": {
       "config": {
        "plotlyServerURL": "https://plot.ly"
       },
       "data": [
        {
         "marker": {
          "color": "blue"
         },
         "mode": "lines+markers",
         "name": "Single-firm market",
         "showlegend": true,
         "type": "scatter",
         "x": [
          1
         ],
         "xaxis": "x",
         "y": [
          12639.891805936262
         ],
         "yaxis": "y"
        },
        {
         "marker": {
          "color": "blue"
         },
         "mode": "lines+markers",
         "name": "Single-firm market",
         "showlegend": false,
         "type": "scatter",
         "x": [
          1
         ],
         "xaxis": "x2",
         "y": [
          1
         ],
         "yaxis": "y2"
        },
        {
         "marker": {
          "color": "blue"
         },
         "mode": "lines+markers",
         "name": "Single-firm market",
         "showlegend": false,
         "type": "scatter",
         "x": [
          1
         ],
         "xaxis": "x3",
         "y": [
          0.7599999999999999
         ],
         "yaxis": "y3"
        },
        {
         "marker": {
          "color": "blue"
         },
         "mode": "lines+markers",
         "name": "Single-firm market",
         "showlegend": false,
         "type": "scatter",
         "x": [
          1
         ],
         "xaxis": "x4",
         "y": [
          0.4318181818181818
         ],
         "yaxis": "y4"
        },
        {
         "marker": {
          "color": "red"
         },
         "mode": "lines+markers",
         "name": "Multi-firm market",
         "showlegend": false,
         "type": "scatter",
         "x": {
          "bdata": "AQIDBAU=",
          "dtype": "i1"
         },
         "xaxis": "x",
         "y": {
          "bdata": "FbZR2ayiwEDD1WkAxdDJQKnbsx54eNdAeuaYG17y3UB7UOpYLofiQA==",
          "dtype": "f8"
         },
         "yaxis": "y"
        },
        {
         "marker": {
          "color": "red"
         },
         "mode": "lines+markers",
         "name": "Multi-firm market",
         "showlegend": false,
         "type": "scatter",
         "x": {
          "bdata": "AQIDBAU=",
          "dtype": "i1"
         },
         "xaxis": "x2",
         "y": {
          "bdata": "0CWPf+Y9Mj+vFsFte/RhP08RYesCBqM/OliUgK0wvj9WtrOgZrfUPw==",
          "dtype": "f8"
         },
         "yaxis": "y2"
        },
        {
         "marker": {
          "color": "red"
         },
         "mode": "lines+markers",
         "name": "Multi-firm market",
         "showlegend": false,
         "type": "scatter",
         "x": {
          "bdata": "AQIDBAU=",
          "dtype": "i1"
         },
         "xaxis": "x3",
         "y": {
          "bdata": "qQIiXSvjDUAezbAoQaoNQFGfPqSFHQpA1X71Ipl1BECRNRQAy176Pw==",
          "dtype": "f8"
         },
         "yaxis": "y3"
        },
        {
         "marker": {
          "color": "red"
         },
         "mode": "lines+markers",
         "name": "Multi-firm market",
         "showlegend": false,
         "type": "scatter",
         "x": {
          "bdata": "AQIDBAU=",
          "dtype": "i1"
         },
         "xaxis": "x4",
         "y": {
          "bdata": "H+uq8j0+6T/8mcQlCDTpP41AR3r8fug/FxqFSjUB5z8WGnDhgurjPw==",
          "dtype": "f8"
         },
         "yaxis": "y4"
        }
       ],
       "layout": {
        "annotations": [
         {
          "font": {
           "size": 16
          },
          "showarrow": false,
          "text": "Wages (w_ij)",
          "x": 0.225,
          "xanchor": "center",
          "xref": "paper",
          "y": 1,
          "yanchor": "bottom",
          "yref": "paper"
         },
         {
          "font": {
           "size": 16
          },
          "showarrow": false,
          "text": "Wage-Bill Share (s_ij)",
          "x": 0.775,
          "xanchor": "center",
          "xref": "paper",
          "y": 1,
          "yanchor": "bottom",
          "yref": "paper"
         },
         {
          "font": {
           "size": 16
          },
          "showarrow": false,
          "text": "Labor Elasticity (eps_ij)",
          "x": 0.225,
          "xanchor": "center",
          "xref": "paper",
          "y": 0.375,
          "yanchor": "bottom",
          "yref": "paper"
         },
         {
          "font": {
           "size": 16
          },
          "showarrow": false,
          "text": "Markdown (mu_ij)",
          "x": 0.775,
          "xanchor": "center",
          "xref": "paper",
          "y": 0.375,
          "yanchor": "bottom",
          "yref": "paper"
         },
         {
          "showarrow": false,
          "text": "η/(η+1)",
          "x": 0,
          "xanchor": "left",
          "xref": "x4 domain",
          "y": 0.7890295358649789,
          "yanchor": "top",
          "yref": "y4"
         },
         {
          "showarrow": false,
          "text": "θ/(θ+1)",
          "x": 1,
          "xanchor": "right",
          "xref": "x4 domain",
          "y": 0.4318181818181818,
          "yanchor": "top",
          "yref": "y4"
         }
        ],
        "height": 800,
        "shapes": [
         {
          "line": {
           "color": "black",
           "dash": "dash"
          },
          "type": "line",
          "x0": 0,
          "x1": 1,
          "xref": "x4 domain",
          "y0": 0.7890295358649789,
          "y1": 0.7890295358649789,
          "yref": "y4"
         },
         {
          "line": {
           "color": "gray",
           "dash": "dash"
          },
          "type": "line",
          "x0": 0,
          "x1": 1,
          "xref": "x4 domain",
          "y0": 0.4318181818181818,
          "y1": 0.4318181818181818,
          "yref": "y4"
         }
        ],
        "template": {
         "data": {
          "bar": [
           {
            "error_x": {
             "color": "#2a3f5f"
            },
            "error_y": {
             "color": "#2a3f5f"
            },
            "marker": {
             "line": {
              "color": "#E5ECF6",
              "width": 0.5
             },
             "pattern": {
              "fillmode": "overlay",
              "size": 10,
              "solidity": 0.2
             }
            },
            "type": "bar"
           }
          ],
          "barpolar": [
           {
            "marker": {
             "line": {
              "color": "#E5ECF6",
              "width": 0.5
             },
             "pattern": {
              "fillmode": "overlay",
              "size": 10,
              "solidity": 0.2
             }
            },
            "type": "barpolar"
           }
          ],
          "carpet": [
           {
            "aaxis": {
             "endlinecolor": "#2a3f5f",
             "gridcolor": "white",
             "linecolor": "white",
             "minorgridcolor": "white",
             "startlinecolor": "#2a3f5f"
            },
            "baxis": {
             "endlinecolor": "#2a3f5f",
             "gridcolor": "white",
             "linecolor": "white",
             "minorgridcolor": "white",
             "startlinecolor": "#2a3f5f"
            },
            "type": "carpet"
           }
          ],
          "choropleth": [
           {
            "colorbar": {
             "outlinewidth": 0,
             "ticks": ""
            },
            "type": "choropleth"
           }
          ],
          "contour": [
           {
            "colorbar": {
             "outlinewidth": 0,
             "ticks": ""
            },
            "colorscale": [
             [
              0,
              "#0d0887"
             ],
             [
              0.1111111111111111,
              "#46039f"
             ],
             [
              0.2222222222222222,
              "#7201a8"
             ],
             [
              0.3333333333333333,
              "#9c179e"
             ],
             [
              0.4444444444444444,
              "#bd3786"
             ],
             [
              0.5555555555555556,
              "#d8576b"
             ],
             [
              0.6666666666666666,
              "#ed7953"
             ],
             [
              0.7777777777777778,
              "#fb9f3a"
             ],
             [
              0.8888888888888888,
              "#fdca26"
             ],
             [
              1,
              "#f0f921"
             ]
            ],
            "type": "contour"
           }
          ],
          "contourcarpet": [
           {
            "colorbar": {
             "outlinewidth": 0,
             "ticks": ""
            },
            "type": "contourcarpet"
           }
          ],
          "heatmap": [
           {
            "colorbar": {
             "outlinewidth": 0,
             "ticks": ""
            },
            "colorscale": [
             [
              0,
              "#0d0887"
             ],
             [
              0.1111111111111111,
              "#46039f"
             ],
             [
              0.2222222222222222,
              "#7201a8"
             ],
             [
              0.3333333333333333,
              "#9c179e"
             ],
             [
              0.4444444444444444,
              "#bd3786"
             ],
             [
              0.5555555555555556,
              "#d8576b"
             ],
             [
              0.6666666666666666,
              "#ed7953"
             ],
             [
              0.7777777777777778,
              "#fb9f3a"
             ],
             [
              0.8888888888888888,
              "#fdca26"
             ],
             [
              1,
              "#f0f921"
             ]
            ],
            "type": "heatmap"
           }
          ],
          "histogram": [
           {
            "marker": {
             "pattern": {
              "fillmode": "overlay",
              "size": 10,
              "solidity": 0.2
             }
            },
            "type": "histogram"
           }
          ],
          "histogram2d": [
           {
            "colorbar": {
             "outlinewidth": 0,
             "ticks": ""
            },
            "colorscale": [
             [
              0,
              "#0d0887"
             ],
             [
              0.1111111111111111,
              "#46039f"
             ],
             [
              0.2222222222222222,
              "#7201a8"
             ],
             [
              0.3333333333333333,
              "#9c179e"
             ],
             [
              0.4444444444444444,
              "#bd3786"
             ],
             [
              0.5555555555555556,
              "#d8576b"
             ],
             [
              0.6666666666666666,
              "#ed7953"
             ],
             [
              0.7777777777777778,
              "#fb9f3a"
             ],
             [
              0.8888888888888888,
              "#fdca26"
             ],
             [
              1,
              "#f0f921"
             ]
            ],
            "type": "histogram2d"
           }
          ],
          "histogram2dcontour": [
           {
            "colorbar": {
             "outlinewidth": 0,
             "ticks": ""
            },
            "colorscale": [
             [
              0,
              "#0d0887"
             ],
             [
              0.1111111111111111,
              "#46039f"
             ],
             [
              0.2222222222222222,
              "#7201a8"
             ],
             [
              0.3333333333333333,
              "#9c179e"
             ],
             [
              0.4444444444444444,
              "#bd3786"
             ],
             [
              0.5555555555555556,
              "#d8576b"
             ],
             [
              0.6666666666666666,
              "#ed7953"
             ],
             [
              0.7777777777777778,
              "#fb9f3a"
             ],
             [
              0.8888888888888888,
              "#fdca26"
             ],
             [
              1,
              "#f0f921"
             ]
            ],
            "type": "histogram2dcontour"
           }
          ],
          "mesh3d": [
           {
            "colorbar": {
             "outlinewidth": 0,
             "ticks": ""
            },
            "type": "mesh3d"
           }
          ],
          "parcoords": [
           {
            "line": {
             "colorbar": {
              "outlinewidth": 0,
              "ticks": ""
             }
            },
            "type": "parcoords"
           }
          ],
          "pie": [
           {
            "automargin": true,
            "type": "pie"
           }
          ],
          "scatter": [
           {
            "fillpattern": {
             "fillmode": "overlay",
             "size": 10,
             "solidity": 0.2
            },
            "type": "scatter"
           }
          ],
          "scatter3d": [
           {
            "line": {
             "colorbar": {
              "outlinewidth": 0,
              "ticks": ""
             }
            },
            "marker": {
             "colorbar": {
              "outlinewidth": 0,
              "ticks": ""
             }
            },
            "type": "scatter3d"
           }
          ],
          "scattercarpet": [
           {
            "marker": {
             "colorbar": {
              "outlinewidth": 0,
              "ticks": ""
             }
            },
            "type": "scattercarpet"
           }
          ],
          "scattergeo": [
           {
            "marker": {
             "colorbar": {
              "outlinewidth": 0,
              "ticks": ""
             }
            },
            "type": "scattergeo"
           }
          ],
          "scattergl": [
           {
            "marker": {
             "colorbar": {
              "outlinewidth": 0,
              "ticks": ""
             }
            },
            "type": "scattergl"
           }
          ],
          "scattermap": [
           {
            "marker": {
             "colorbar": {
              "outlinewidth": 0,
              "ticks": ""
             }
            },
            "type": "scattermap"
           }
          ],
          "scattermapbox": [
           {
            "marker": {
             "colorbar": {
              "outlinewidth": 0,
              "ticks": ""
             }
            },
            "type": "scattermapbox"
           }
          ],
          "scatterpolar": [
           {
            "marker": {
             "colorbar": {
              "outlinewidth": 0,
              "ticks": ""
             }
            },
            "type": "scatterpolar"
           }
          ],
          "scatterpolargl": [
           {
            "marker": {
             "colorbar": {
              "outlinewidth": 0,
              "ticks": ""
             }
            },
            "type": "scatterpolargl"
           }
          ],
          "scatterternary": [
           {
            "marker": {
             "colorbar": {
              "outlinewidth": 0,
              "ticks": ""
             }
            },
            "type": "scatterternary"
           }
          ],
          "surface": [
           {
            "colorbar": {
             "outlinewidth": 0,
             "ticks": ""
            },
            "colorscale": [
             [
              0,
              "#0d0887"
             ],
             [
              0.1111111111111111,
              "#46039f"
             ],
             [
              0.2222222222222222,
              "#7201a8"
             ],
             [
              0.3333333333333333,
              "#9c179e"
             ],
             [
              0.4444444444444444,
              "#bd3786"
             ],
             [
              0.5555555555555556,
              "#d8576b"
             ],
             [
              0.6666666666666666,
              "#ed7953"
             ],
             [
              0.7777777777777778,
              "#fb9f3a"
             ],
             [
              0.8888888888888888,
              "#fdca26"
             ],
             [
              1,
              "#f0f921"
             ]
            ],
            "type": "surface"
           }
          ],
          "table": [
           {
            "cells": {
             "fill": {
              "color": "#EBF0F8"
             },
             "line": {
              "color": "white"
             }
            },
            "header": {
             "fill": {
              "color": "#C8D4E3"
             },
             "line": {
              "color": "white"
             }
            },
            "type": "table"
           }
          ]
         },
         "layout": {
          "annotationdefaults": {
           "arrowcolor": "#2a3f5f",
           "arrowhead": 0,
           "arrowwidth": 1
          },
          "autotypenumbers": "strict",
          "coloraxis": {
           "colorbar": {
            "outlinewidth": 0,
            "ticks": ""
           }
          },
          "colorscale": {
           "diverging": [
            [
             0,
             "#8e0152"
            ],
            [
             0.1,
             "#c51b7d"
            ],
            [
             0.2,
             "#de77ae"
            ],
            [
             0.3,
             "#f1b6da"
            ],
            [
             0.4,
             "#fde0ef"
            ],
            [
             0.5,
             "#f7f7f7"
            ],
            [
             0.6,
             "#e6f5d0"
            ],
            [
             0.7,
             "#b8e186"
            ],
            [
             0.8,
             "#7fbc41"
            ],
            [
             0.9,
             "#4d9221"
            ],
            [
             1,
             "#276419"
            ]
           ],
           "sequential": [
            [
             0,
             "#0d0887"
            ],
            [
             0.1111111111111111,
             "#46039f"
            ],
            [
             0.2222222222222222,
             "#7201a8"
            ],
            [
             0.3333333333333333,
             "#9c179e"
            ],
            [
             0.4444444444444444,
             "#bd3786"
            ],
            [
             0.5555555555555556,
             "#d8576b"
            ],
            [
             0.6666666666666666,
             "#ed7953"
            ],
            [
             0.7777777777777778,
             "#fb9f3a"
            ],
            [
             0.8888888888888888,
             "#fdca26"
            ],
            [
             1,
             "#f0f921"
            ]
           ],
           "sequentialminus": [
            [
             0,
             "#0d0887"
            ],
            [
             0.1111111111111111,
             "#46039f"
            ],
            [
             0.2222222222222222,
             "#7201a8"
            ],
            [
             0.3333333333333333,
             "#9c179e"
            ],
            [
             0.4444444444444444,
             "#bd3786"
            ],
            [
             0.5555555555555556,
             "#d8576b"
            ],
            [
             0.6666666666666666,
             "#ed7953"
            ],
            [
             0.7777777777777778,
             "#fb9f3a"
            ],
            [
             0.8888888888888888,
             "#fdca26"
            ],
            [
             1,
             "#f0f921"
            ]
           ]
          },
          "colorway": [
           "#636efa",
           "#EF553B",
           "#00cc96",
           "#ab63fa",
           "#FFA15A",
           "#19d3f3",
           "#FF6692",
           "#B6E880",
           "#FF97FF",
           "#FECB52"
          ],
          "font": {
           "color": "#2a3f5f"
          },
          "geo": {
           "bgcolor": "white",
           "lakecolor": "white",
           "landcolor": "#E5ECF6",
           "showlakes": true,
           "showland": true,
           "subunitcolor": "white"
          },
          "hoverlabel": {
           "align": "left"
          },
          "hovermode": "closest",
          "mapbox": {
           "style": "light"
          },
          "paper_bgcolor": "white",
          "plot_bgcolor": "#E5ECF6",
          "polar": {
           "angularaxis": {
            "gridcolor": "white",
            "linecolor": "white",
            "ticks": ""
           },
           "bgcolor": "#E5ECF6",
           "radialaxis": {
            "gridcolor": "white",
            "linecolor": "white",
            "ticks": ""
           }
          },
          "scene": {
           "xaxis": {
            "backgroundcolor": "#E5ECF6",
            "gridcolor": "white",
            "gridwidth": 2,
            "linecolor": "white",
            "showbackground": true,
            "ticks": "",
            "zerolinecolor": "white"
           },
           "yaxis": {
            "backgroundcolor": "#E5ECF6",
            "gridcolor": "white",
            "gridwidth": 2,
            "linecolor": "white",
            "showbackground": true,
            "ticks": "",
            "zerolinecolor": "white"
           },
           "zaxis": {
            "backgroundcolor": "#E5ECF6",
            "gridcolor": "white",
            "gridwidth": 2,
            "linecolor": "white",
            "showbackground": true,
            "ticks": "",
            "zerolinecolor": "white"
           }
          },
          "shapedefaults": {
           "line": {
            "color": "#2a3f5f"
           }
          },
          "ternary": {
           "aaxis": {
            "gridcolor": "white",
            "linecolor": "white",
            "ticks": ""
           },
           "baxis": {
            "gridcolor": "white",
            "linecolor": "white",
            "ticks": ""
           },
           "bgcolor": "#E5ECF6",
           "caxis": {
            "gridcolor": "white",
            "linecolor": "white",
            "ticks": ""
           }
          },
          "title": {
           "x": 0.05
          },
          "xaxis": {
           "automargin": true,
           "gridcolor": "white",
           "linecolor": "white",
           "ticks": "",
           "title": {
            "standoff": 15
           },
           "zerolinecolor": "white",
           "zerolinewidth": 2
          },
          "yaxis": {
           "automargin": true,
           "gridcolor": "white",
           "linecolor": "white",
           "ticks": "",
           "title": {
            "standoff": 15
           },
           "zerolinecolor": "white",
           "zerolinewidth": 2
          }
         }
        },
        "title": {
         "text": "Sectoral Equilibrium Metrics by Productivity Percentile"
        },
        "width": 1000,
        "xaxis": {
         "anchor": "y",
         "domain": [
          0,
          0.45
         ],
         "ticktext": [
          "10th",
          "25th",
          "50th",
          "75th",
          "90th"
         ],
         "tickvals": [
          1,
          2,
          3,
          4,
          5
         ],
         "title": {
          "text": "Productivity Percentiles"
         }
        },
        "xaxis2": {
         "anchor": "y2",
         "domain": [
          0.55,
          1
         ],
         "ticktext": [
          "10th",
          "25th",
          "50th",
          "75th",
          "90th"
         ],
         "tickvals": [
          1,
          2,
          3,
          4,
          5
         ],
         "title": {
          "text": "Productivity Percentiles"
         }
        },
        "xaxis3": {
         "anchor": "y3",
         "domain": [
          0,
          0.45
         ],
         "ticktext": [
          "10th",
          "25th",
          "50th",
          "75th",
          "90th"
         ],
         "tickvals": [
          1,
          2,
          3,
          4,
          5
         ],
         "title": {
          "text": "Productivity Percentiles"
         }
        },
        "xaxis4": {
         "anchor": "y4",
         "domain": [
          0.55,
          1
         ],
         "ticktext": [
          "10th",
          "25th",
          "50th",
          "75th",
          "90th"
         ],
         "tickvals": [
          1,
          2,
          3,
          4,
          5
         ],
         "title": {
          "text": "Productivity Percentiles"
         }
        },
        "yaxis": {
         "anchor": "x",
         "domain": [
          0.625,
          1
         ],
         "title": {
          "text": "Wages"
         }
        },
        "yaxis2": {
         "anchor": "x2",
         "domain": [
          0.625,
          1
         ],
         "title": {
          "text": "Wage-Bill Share"
         }
        },
        "yaxis3": {
         "anchor": "x3",
         "domain": [
          0,
          0.375
         ],
         "title": {
          "text": "Labor Elasticity"
         }
        },
        "yaxis4": {
         "anchor": "x4",
         "domain": [
          0,
          0.375
         ],
         "title": {
          "text": "Markdown"
         }
        }
       }
      }
     },
     "metadata": {},
     "output_type": "display_data"
    }
   ],
   "source": [
    "# ----------------------------------------------------------------------------------------------------------------------------------------------------------------------------------------------------------------------------------------------\n",
    "# Prepare data for plotting\n",
    "# ----------------------------------------------------------------------------------------------------------------------------------------------------------------------------------------------------------------------------------------------\n",
    "eta = params[\"eta\"]\n",
    "theta = params[\"theta\"]\n",
    "mu_eta_ref = eta / (eta + 1)\n",
    "mu_theta_ref = theta / (theta + 1)\n",
    "\n",
    "J = params[\"J\"]\n",
    "\n",
    "# Find a market with exactly one firm and one with 10 active firms.\n",
    "market_with_one_firm = next((j for j in range(J) if np.count_nonzero(z_ij[:, j] > 0) == 1), None)\n",
    "market_with_multiple_firms = next((j for j in range(J) if np.count_nonzero(z_ij[:, j] > 0) == 10), None)\n",
    "\n",
    "if market_with_one_firm is None or market_with_multiple_firms is None:\n",
    "    raise ValueError(\"Required markets (one with exactly 1 firm and one with 10 firms) not found.\")\n",
    "\n",
    "selected_markets = [market_with_one_firm, market_with_multiple_firms]\n",
    "market_labels = [\"Single-firm market\", \"Multi-firm market\"]\n",
    "colors = [\"blue\", \"red\"]\n",
    "\n",
    "percentile_labels = [\"10th\", \"25th\", \"50th\", \"75th\", \"90th\"]\n",
    "x_positions = np.arange(1, len(percentile_labels)+1)\n",
    "\n",
    "def compute_percentiles(z_values, y_values):\n",
    "    # Compute quantile thresholds (10th, 25th, 50th, 75th, 90th)\n",
    "    qs = np.percentile(z_values, [10, 25, 50, 75, 90])\n",
    "    # For each quantile, find the index where z_value is closest to the quantile threshold\n",
    "    indices = [np.argmin(np.abs(z_values - q)) for q in qs]\n",
    "    y_percentiles = y_values[indices]\n",
    "    return y_percentiles\n",
    "\n",
    "print(\"Plotting data prepared.\")\n",
    "\n",
    "# -----------------------------\n",
    "# Create a 2x2 subplot figure using Plotly\n",
    "# -----------------------------\n",
    "fig = make_subplots(rows=2, cols=2,\n",
    "                    subplot_titles=(\"Wages (w_ij)\", \"Wage-Bill Share (s_ij)\",\n",
    "                                    \"Labor Elasticity (eps_ij)\", \"Markdown (mu_ij)\"))\n",
    "\n",
    "for idx, j in enumerate(selected_markets):\n",
    "    m = Mj[j]\n",
    "    if m == 1:\n",
    "        xs = [x_positions[0]]\n",
    "        s_vals = [s_ij[0, j]]\n",
    "        w_vals = [w_ij[0, j]]\n",
    "        eps_vals = [eps_ij[0, j]]\n",
    "        mu_vals = [mu_ij[0, j]]\n",
    "    else:\n",
    "        z_values = z_ij[:m, j]\n",
    "        xs = x_positions\n",
    "        s_vals = compute_percentiles(z_values, s_ij[:m, j])\n",
    "        w_vals = compute_percentiles(z_values, w_ij[:m, j])\n",
    "        eps_vals = compute_percentiles(z_values, eps_ij[:m, j])\n",
    "        mu_vals = compute_percentiles(z_values, mu_ij[:m, j])\n",
    "    \n",
    "    fig.add_trace(go.Scatter(x=xs, y=w_vals, mode='lines+markers',\n",
    "                             name=market_labels[idx], marker_color=colors[idx],\n",
    "                             showlegend=(idx==0)), row=1, col=1)\n",
    "    fig.add_trace(go.Scatter(x=xs, y=s_vals, mode='lines+markers',\n",
    "                             name=market_labels[idx], marker_color=colors[idx],\n",
    "                             showlegend=False), row=1, col=2)\n",
    "    fig.add_trace(go.Scatter(x=xs, y=eps_vals, mode='lines+markers',\n",
    "                             name=market_labels[idx], marker_color=colors[idx],\n",
    "                             showlegend=False), row=2, col=1)\n",
    "    fig.add_trace(go.Scatter(x=xs, y=mu_vals, mode='lines+markers',\n",
    "                             name=market_labels[idx], marker_color=colors[idx],\n",
    "                             showlegend=False), row=2, col=2)\n",
    "\n",
    "# Add horizontal dashed lines to the markdown subplot.\n",
    "fig.add_hline(y=mu_eta_ref, line=dict(dash=\"dash\", color=\"black\"),\n",
    "              row=2, col=2, annotation_text=\"η/(η+1)\", annotation_position=\"bottom left\")\n",
    "fig.add_hline(y=mu_theta_ref, line=dict(dash=\"dash\", color=\"gray\"),\n",
    "              row=2, col=2, annotation_text=\"θ/(θ+1)\", annotation_position=\"bottom right\")\n",
    "\n",
    "fig.update_xaxes(title_text=\"Productivity Percentiles\", tickvals=list(x_positions),\n",
    "                 ticktext=percentile_labels)\n",
    "fig.update_yaxes(title_text=\"Wages\", row=1, col=1)\n",
    "fig.update_yaxes(title_text=\"Wage-Bill Share\", row=1, col=2)\n",
    "fig.update_yaxes(title_text=\"Labor Elasticity\", row=2, col=1)\n",
    "fig.update_yaxes(title_text=\"Markdown\", row=2, col=2)\n",
    "\n",
    "fig.update_layout(height=800, width=1000, title_text=\"Sectoral Equilibrium Metrics by Productivity Percentile\")\n",
    "\n",
    "fig.show()"
   ]
  },
  {
   "cell_type": "markdown",
   "id": "e46074b2",
   "metadata": {},
   "source": [
    "#### Relationship Between Productivity, Wages, and Labor Market Power\n",
    "\n",
    "- More productive firms pay higher wages and capture a larger share of wage bills in their markets.\n",
    "- A larger wage-bill share reduces labor supply elasticity to the firm, increasing its market presence.\n",
    "- Lower labor supply elasticity enhances monopsony power, leading to lower markdowns i.e., higher labor market power since $w_{ij} = \\mu_{ij} MRPL_{ij}$\n",
    "\n",
    "- Firms operating in single-market environments exhibit the highest monopsony power, consistent with classic models.\n"
   ]
  },
  {
   "cell_type": "markdown",
   "id": "addab20d",
   "metadata": {},
   "source": [
    "#### 2. Firm-Size Distribution "
   ]
  },
  {
   "cell_type": "code",
   "execution_count": 9,
   "id": "8a1e5f9d-5348-4d38-84ef-77696d6b1d7c",
   "metadata": {},
   "outputs": [
    {
     "data": {
      "application/vnd.plotly.v1+json": {
       "config": {
        "plotlyServerURL": "https://plot.ly"
       },
       "data": [
        {
         "nbinsx": 100,
         "type": "histogram",
         "x": {
          "bdata": "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",
          "dtype": "f8"
         }
        }
       ],
       "layout": {
        "template": {
         "data": {
          "bar": [
           {
            "error_x": {
             "color": "#2a3f5f"
            },
            "error_y": {
             "color": "#2a3f5f"
            },
            "marker": {
             "line": {
              "color": "#E5ECF6",
              "width": 0.5
             },
             "pattern": {
              "fillmode": "overlay",
              "size": 10,
              "solidity": 0.2
             }
            },
            "type": "bar"
           }
          ],
          "barpolar": [
           {
            "marker": {
             "line": {
              "color": "#E5ECF6",
              "width": 0.5
             },
             "pattern": {
              "fillmode": "overlay",
              "size": 10,
              "solidity": 0.2
             }
            },
            "type": "barpolar"
           }
          ],
          "carpet": [
           {
            "aaxis": {
             "endlinecolor": "#2a3f5f",
             "gridcolor": "white",
             "linecolor": "white",
             "minorgridcolor": "white",
             "startlinecolor": "#2a3f5f"
            },
            "baxis": {
             "endlinecolor": "#2a3f5f",
             "gridcolor": "white",
             "linecolor": "white",
             "minorgridcolor": "white",
             "startlinecolor": "#2a3f5f"
            },
            "type": "carpet"
           }
          ],
          "choropleth": [
           {
            "colorbar": {
             "outlinewidth": 0,
             "ticks": ""
            },
            "type": "choropleth"
           }
          ],
          "contour": [
           {
            "colorbar": {
             "outlinewidth": 0,
             "ticks": ""
            },
            "colorscale": [
             [
              0,
              "#0d0887"
             ],
             [
              0.1111111111111111,
              "#46039f"
             ],
             [
              0.2222222222222222,
              "#7201a8"
             ],
             [
              0.3333333333333333,
              "#9c179e"
             ],
             [
              0.4444444444444444,
              "#bd3786"
             ],
             [
              0.5555555555555556,
              "#d8576b"
             ],
             [
              0.6666666666666666,
              "#ed7953"
             ],
             [
              0.7777777777777778,
              "#fb9f3a"
             ],
             [
              0.8888888888888888,
              "#fdca26"
             ],
             [
              1,
              "#f0f921"
             ]
            ],
            "type": "contour"
           }
          ],
          "contourcarpet": [
           {
            "colorbar": {
             "outlinewidth": 0,
             "ticks": ""
            },
            "type": "contourcarpet"
           }
          ],
          "heatmap": [
           {
            "colorbar": {
             "outlinewidth": 0,
             "ticks": ""
            },
            "colorscale": [
             [
              0,
              "#0d0887"
             ],
             [
              0.1111111111111111,
              "#46039f"
             ],
             [
              0.2222222222222222,
              "#7201a8"
             ],
             [
              0.3333333333333333,
              "#9c179e"
             ],
             [
              0.4444444444444444,
              "#bd3786"
             ],
             [
              0.5555555555555556,
              "#d8576b"
             ],
             [
              0.6666666666666666,
              "#ed7953"
             ],
             [
              0.7777777777777778,
              "#fb9f3a"
             ],
             [
              0.8888888888888888,
              "#fdca26"
             ],
             [
              1,
              "#f0f921"
             ]
            ],
            "type": "heatmap"
           }
          ],
          "histogram": [
           {
            "marker": {
             "pattern": {
              "fillmode": "overlay",
              "size": 10,
              "solidity": 0.2
             }
            },
            "type": "histogram"
           }
          ],
          "histogram2d": [
           {
            "colorbar": {
             "outlinewidth": 0,
             "ticks": ""
            },
            "colorscale": [
             [
              0,
              "#0d0887"
             ],
             [
              0.1111111111111111,
              "#46039f"
             ],
             [
              0.2222222222222222,
              "#7201a8"
             ],
             [
              0.3333333333333333,
              "#9c179e"
             ],
             [
              0.4444444444444444,
              "#bd3786"
             ],
             [
              0.5555555555555556,
              "#d8576b"
             ],
             [
              0.6666666666666666,
              "#ed7953"
             ],
             [
              0.7777777777777778,
              "#fb9f3a"
             ],
             [
              0.8888888888888888,
              "#fdca26"
             ],
             [
              1,
              "#f0f921"
             ]
            ],
            "type": "histogram2d"
           }
          ],
          "histogram2dcontour": [
           {
            "colorbar": {
             "outlinewidth": 0,
             "ticks": ""
            },
            "colorscale": [
             [
              0,
              "#0d0887"
             ],
             [
              0.1111111111111111,
              "#46039f"
             ],
             [
              0.2222222222222222,
              "#7201a8"
             ],
             [
              0.3333333333333333,
              "#9c179e"
             ],
             [
              0.4444444444444444,
              "#bd3786"
             ],
             [
              0.5555555555555556,
              "#d8576b"
             ],
             [
              0.6666666666666666,
              "#ed7953"
             ],
             [
              0.7777777777777778,
              "#fb9f3a"
             ],
             [
              0.8888888888888888,
              "#fdca26"
             ],
             [
              1,
              "#f0f921"
             ]
            ],
            "type": "histogram2dcontour"
           }
          ],
          "mesh3d": [
           {
            "colorbar": {
             "outlinewidth": 0,
             "ticks": ""
            },
            "type": "mesh3d"
           }
          ],
          "parcoords": [
           {
            "line": {
             "colorbar": {
              "outlinewidth": 0,
              "ticks": ""
             }
            },
            "type": "parcoords"
           }
          ],
          "pie": [
           {
            "automargin": true,
            "type": "pie"
           }
          ],
          "scatter": [
           {
            "fillpattern": {
             "fillmode": "overlay",
             "size": 10,
             "solidity": 0.2
            },
            "type": "scatter"
           }
          ],
          "scatter3d": [
           {
            "line": {
             "colorbar": {
              "outlinewidth": 0,
              "ticks": ""
             }
            },
            "marker": {
             "colorbar": {
              "outlinewidth": 0,
              "ticks": ""
             }
            },
            "type": "scatter3d"
           }
          ],
          "scattercarpet": [
           {
            "marker": {
             "colorbar": {
              "outlinewidth": 0,
              "ticks": ""
             }
            },
            "type": "scattercarpet"
           }
          ],
          "scattergeo": [
           {
            "marker": {
             "colorbar": {
              "outlinewidth": 0,
              "ticks": ""
             }
            },
            "type": "scattergeo"
           }
          ],
          "scattergl": [
           {
            "marker": {
             "colorbar": {
              "outlinewidth": 0,
              "ticks": ""
             }
            },
            "type": "scattergl"
           }
          ],
          "scattermap": [
           {
            "marker": {
             "colorbar": {
              "outlinewidth": 0,
              "ticks": ""
             }
            },
            "type": "scattermap"
           }
          ],
          "scattermapbox": [
           {
            "marker": {
             "colorbar": {
              "outlinewidth": 0,
              "ticks": ""
             }
            },
            "type": "scattermapbox"
           }
          ],
          "scatterpolar": [
           {
            "marker": {
             "colorbar": {
              "outlinewidth": 0,
              "ticks": ""
             }
            },
            "type": "scatterpolar"
           }
          ],
          "scatterpolargl": [
           {
            "marker": {
             "colorbar": {
              "outlinewidth": 0,
              "ticks": ""
             }
            },
            "type": "scatterpolargl"
           }
          ],
          "scatterternary": [
           {
            "marker": {
             "colorbar": {
              "outlinewidth": 0,
              "ticks": ""
             }
            },
            "type": "scatterternary"
           }
          ],
          "surface": [
           {
            "colorbar": {
             "outlinewidth": 0,
             "ticks": ""
            },
            "colorscale": [
             [
              0,
              "#0d0887"
             ],
             [
              0.1111111111111111,
              "#46039f"
             ],
             [
              0.2222222222222222,
              "#7201a8"
             ],
             [
              0.3333333333333333,
              "#9c179e"
             ],
             [
              0.4444444444444444,
              "#bd3786"
             ],
             [
              0.5555555555555556,
              "#d8576b"
             ],
             [
              0.6666666666666666,
              "#ed7953"
             ],
             [
              0.7777777777777778,
              "#fb9f3a"
             ],
             [
              0.8888888888888888,
              "#fdca26"
             ],
             [
              1,
              "#f0f921"
             ]
            ],
            "type": "surface"
           }
          ],
          "table": [
           {
            "cells": {
             "fill": {
              "color": "#EBF0F8"
             },
             "line": {
              "color": "white"
             }
            },
            "header": {
             "fill": {
              "color": "#C8D4E3"
             },
             "line": {
              "color": "white"
             }
            },
            "type": "table"
           }
          ]
         },
         "layout": {
          "annotationdefaults": {
           "arrowcolor": "#2a3f5f",
           "arrowhead": 0,
           "arrowwidth": 1
          },
          "autotypenumbers": "strict",
          "coloraxis": {
           "colorbar": {
            "outlinewidth": 0,
            "ticks": ""
           }
          },
          "colorscale": {
           "diverging": [
            [
             0,
             "#8e0152"
            ],
            [
             0.1,
             "#c51b7d"
            ],
            [
             0.2,
             "#de77ae"
            ],
            [
             0.3,
             "#f1b6da"
            ],
            [
             0.4,
             "#fde0ef"
            ],
            [
             0.5,
             "#f7f7f7"
            ],
            [
             0.6,
             "#e6f5d0"
            ],
            [
             0.7,
             "#b8e186"
            ],
            [
             0.8,
             "#7fbc41"
            ],
            [
             0.9,
             "#4d9221"
            ],
            [
             1,
             "#276419"
            ]
           ],
           "sequential": [
            [
             0,
             "#0d0887"
            ],
            [
             0.1111111111111111,
             "#46039f"
            ],
            [
             0.2222222222222222,
             "#7201a8"
            ],
            [
             0.3333333333333333,
             "#9c179e"
            ],
            [
             0.4444444444444444,
             "#bd3786"
            ],
            [
             0.5555555555555556,
             "#d8576b"
            ],
            [
             0.6666666666666666,
             "#ed7953"
            ],
            [
             0.7777777777777778,
             "#fb9f3a"
            ],
            [
             0.8888888888888888,
             "#fdca26"
            ],
            [
             1,
             "#f0f921"
            ]
           ],
           "sequentialminus": [
            [
             0,
             "#0d0887"
            ],
            [
             0.1111111111111111,
             "#46039f"
            ],
            [
             0.2222222222222222,
             "#7201a8"
            ],
            [
             0.3333333333333333,
             "#9c179e"
            ],
            [
             0.4444444444444444,
             "#bd3786"
            ],
            [
             0.5555555555555556,
             "#d8576b"
            ],
            [
             0.6666666666666666,
             "#ed7953"
            ],
            [
             0.7777777777777778,
             "#fb9f3a"
            ],
            [
             0.8888888888888888,
             "#fdca26"
            ],
            [
             1,
             "#f0f921"
            ]
           ]
          },
          "colorway": [
           "#636efa",
           "#EF553B",
           "#00cc96",
           "#ab63fa",
           "#FFA15A",
           "#19d3f3",
           "#FF6692",
           "#B6E880",
           "#FF97FF",
           "#FECB52"
          ],
          "font": {
           "color": "#2a3f5f"
          },
          "geo": {
           "bgcolor": "white",
           "lakecolor": "white",
           "landcolor": "#E5ECF6",
           "showlakes": true,
           "showland": true,
           "subunitcolor": "white"
          },
          "hoverlabel": {
           "align": "left"
          },
          "hovermode": "closest",
          "mapbox": {
           "style": "light"
          },
          "paper_bgcolor": "white",
          "plot_bgcolor": "#E5ECF6",
          "polar": {
           "angularaxis": {
            "gridcolor": "white",
            "linecolor": "white",
            "ticks": ""
           },
           "bgcolor": "#E5ECF6",
           "radialaxis": {
            "gridcolor": "white",
            "linecolor": "white",
            "ticks": ""
           }
          },
          "scene": {
           "xaxis": {
            "backgroundcolor": "#E5ECF6",
            "gridcolor": "white",
            "gridwidth": 2,
            "linecolor": "white",
            "showbackground": true,
            "ticks": "",
            "zerolinecolor": "white"
           },
           "yaxis": {
            "backgroundcolor": "#E5ECF6",
            "gridcolor": "white",
            "gridwidth": 2,
            "linecolor": "white",
            "showbackground": true,
            "ticks": "",
            "zerolinecolor": "white"
           },
           "zaxis": {
            "backgroundcolor": "#E5ECF6",
            "gridcolor": "white",
            "gridwidth": 2,
            "linecolor": "white",
            "showbackground": true,
            "ticks": "",
            "zerolinecolor": "white"
           }
          },
          "shapedefaults": {
           "line": {
            "color": "#2a3f5f"
           }
          },
          "ternary": {
           "aaxis": {
            "gridcolor": "white",
            "linecolor": "white",
            "ticks": ""
           },
           "baxis": {
            "gridcolor": "white",
            "linecolor": "white",
            "ticks": ""
           },
           "bgcolor": "#E5ECF6",
           "caxis": {
            "gridcolor": "white",
            "linecolor": "white",
            "ticks": ""
           }
          },
          "title": {
           "x": 0.05
          },
          "xaxis": {
           "automargin": true,
           "gridcolor": "white",
           "linecolor": "white",
           "ticks": "",
           "title": {
            "standoff": 15
           },
           "zerolinecolor": "white",
           "zerolinewidth": 2
          },
          "yaxis": {
           "automargin": true,
           "gridcolor": "white",
           "linecolor": "white",
           "ticks": "",
           "title": {
            "standoff": 15
           },
           "zerolinecolor": "white",
           "zerolinewidth": 2
          }
         }
        },
        "title": {
         "text": "Firm-Size Distribution"
        },
        "xaxis": {
         "title": {
          "text": "Employment (n_ij)"
         }
        },
        "yaxis": {
         "title": {
          "text": "Frequency"
         }
        }
       }
      }
     },
     "metadata": {},
     "output_type": "display_data"
    }
   ],
   "source": [
    "# -----------------------------\n",
    "# Create histogram of employment (n_ij)\n",
    "# -----------------------------\n",
    "active_n_ij = n_ij[n_ij > 0].flatten()\n",
    "hist_fig = go.Figure(data=[go.Histogram(x=active_n_ij, nbinsx=100)])\n",
    "hist_fig.update_layout(title_text=\"Firm-Size Distribution\",\n",
    "                         xaxis_title=\"Employment (n_ij)\",\n",
    "                         yaxis_title=\"Frequency\")\n",
    "hist_fig.show()"
   ]
  },
  {
   "cell_type": "markdown",
   "id": "bd46ca67",
   "metadata": {},
   "source": [
    "The model also generates a realistic firm-size distribution, where the average firm-size can be tweaked to match the data."
   ]
  },
  {
   "cell_type": "markdown",
   "id": "73f6498c",
   "metadata": {},
   "source": [
    "## Regression"
   ]
  },
  {
   "cell_type": "markdown",
   "id": "cf3d8696",
   "metadata": {},
   "source": [
    "#### A simple OLS regression: $w_{ij} = \\beta_0 + \\beta_1 \\mu_{ij} + \\epsilon_{ij}$"
   ]
  },
  {
   "cell_type": "code",
   "execution_count": 10,
   "id": "c6734df1",
   "metadata": {},
   "outputs": [
    {
     "name": "stdout",
     "output_type": "stream",
     "text": [
      "                            OLS Regression Results                            \n",
      "==============================================================================\n",
      "Dep. Variable:                      y   R-squared:                       0.657\n",
      "Model:                            OLS   Adj. R-squared:                  0.657\n",
      "Method:                 Least Squares   F-statistic:                 1.912e+05\n",
      "Date:                Fri, 28 Feb 2025   Prob (F-statistic):               0.00\n",
      "Time:                        20:46:36   Log-Likelihood:            -1.0758e+06\n",
      "No. Observations:              100000   AIC:                         2.152e+06\n",
      "Df Residuals:                   99998   BIC:                         2.152e+06\n",
      "Df Model:                           1                                         \n",
      "Covariance Type:            nonrobust                                         \n",
      "==============================================================================\n",
      "                 coef    std err          t      P>|t|      [0.025      0.975]\n",
      "------------------------------------------------------------------------------\n",
      "const        279.8637     42.731      6.549      0.000     196.111     363.617\n",
      "x1          4.476e+04    102.366    437.286      0.000    4.46e+04     4.5e+04\n",
      "==============================================================================\n",
      "Omnibus:                    75270.802   Durbin-Watson:                   1.993\n",
      "Prob(Omnibus):                  0.000   Jarque-Bera (JB):          3133069.133\n",
      "Skew:                           3.222   Prob(JB):                         0.00\n",
      "Kurtosis:                      29.653   Cond. No.                         3.01\n",
      "==============================================================================\n",
      "\n",
      "Notes:\n",
      "[1] Standard Errors assume that the covariance matrix of the errors is correctly specified.\n"
     ]
    }
   ],
   "source": [
    "\n",
    "import numpy as np\n",
    "import statsmodels.api as sm\n",
    "\n",
    "# Extract w_ij and mu_ij from the model dictionary\n",
    "w_ij = model[\"w_ij\"].flatten()  # Flatten to 1D array\n",
    "mu_ij = model[\"mu_ij\"].flatten()  # Flatten to 1D array\n",
    "\n",
    "# Remove NaN or infinite values if any\n",
    "valid_indices = np.isfinite(w_ij) & np.isfinite(mu_ij)\n",
    "w_ij_clean = w_ij[valid_indices]\n",
    "mu_ij_clean = mu_ij[valid_indices]\n",
    "\n",
    "# Add a constant term for the regression (intercept)\n",
    "mu_ij_clean = sm.add_constant(mu_ij_clean)\n",
    "\n",
    "# Run the regression\n",
    "regression_model = sm.OLS(w_ij_clean, mu_ij_clean).fit()\n",
    "\n",
    "# Display the regression results\n",
    "print(regression_model.summary())\n"
   ]
  },
  {
   "cell_type": "markdown",
   "id": "6a2a8bd0",
   "metadata": {},
   "source": [
    "This reveals a positive correlation, as expected. Thus, labor monopsony power (inverse of $\\mu_{ij}$) originating from higher productivity (structually from the model) leads to a decline in wages."
   ]
  }
 ],
 "metadata": {
  "kernelspec": {
   "display_name": "Python 3",
   "language": "python",
   "name": "python3"
  },
  "language_info": {
   "codemirror_mode": {
    "name": "ipython",
    "version": 3
   },
   "file_extension": ".py",
   "mimetype": "text/x-python",
   "name": "python",
   "nbconvert_exporter": "python",
   "pygments_lexer": "ipython3",
   "version": "3.12.8"
  }
 },
 "nbformat": 4,
 "nbformat_minor": 5
}
